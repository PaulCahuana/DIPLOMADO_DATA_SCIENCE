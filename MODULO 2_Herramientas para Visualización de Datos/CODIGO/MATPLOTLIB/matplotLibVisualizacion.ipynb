{
 "cells": [
  {
   "cell_type": "code",
   "execution_count": 7,
   "metadata": {},
   "outputs": [],
   "source": [
    "# Imports necesarios\n",
    "import numpy as np\n",
    "import pandas as pd\n",
    "import matplotlib.pyplot as plt"
   ]
  },
  {
   "cell_type": "code",
   "execution_count": 8,
   "metadata": {},
   "outputs": [
    {
     "name": "stdout",
     "output_type": "stream",
     "text": [
      "     surname     team    position  minutes  shots  passes  tackles  saves\n",
      "0     Abdoun  Algeria  midfielder       16      0       6        0      0\n",
      "1    Belhadj  Algeria    defender      270      1     146        8      0\n",
      "2  Boudebouz  Algeria  midfielder       74      3      28        1      0\n",
      "3  Bougherra  Algeria    defender      270      1      89       11      0\n",
      "4   Chaouchi  Algeria  goalkeeper       90      0      17        0      2\n"
     ]
    }
   ],
   "source": [
    "df=pd.read_excel(\"T09-DB-Players.xlsx\")\n",
    "#excel_data_df = pandas.read_excel('records.xlsx', sheet_name='Employees')\n",
    "\n",
    "# print whole sheet data\n",
    "print(df.head())\n"
   ]
  },
  {
   "cell_type": "code",
   "execution_count": 9,
   "metadata": {},
   "outputs": [],
   "source": [
    "column1= df[[\"surname\",\"shots\"]]"
   ]
  },
  {
   "cell_type": "code",
   "execution_count": 10,
   "metadata": {},
   "outputs": [
    {
     "data": {
      "text/html": [
       "<div>\n",
       "<style scoped>\n",
       "    .dataframe tbody tr th:only-of-type {\n",
       "        vertical-align: middle;\n",
       "    }\n",
       "\n",
       "    .dataframe tbody tr th {\n",
       "        vertical-align: top;\n",
       "    }\n",
       "\n",
       "    .dataframe thead th {\n",
       "        text-align: right;\n",
       "    }\n",
       "</style>\n",
       "<table border=\"1\" class=\"dataframe\">\n",
       "  <thead>\n",
       "    <tr style=\"text-align: right;\">\n",
       "      <th></th>\n",
       "      <th>minutes</th>\n",
       "      <th>shots</th>\n",
       "      <th>passes</th>\n",
       "      <th>tackles</th>\n",
       "      <th>saves</th>\n",
       "    </tr>\n",
       "    <tr>\n",
       "      <th>team</th>\n",
       "      <th></th>\n",
       "      <th></th>\n",
       "      <th></th>\n",
       "      <th></th>\n",
       "      <th></th>\n",
       "    </tr>\n",
       "  </thead>\n",
       "  <tbody>\n",
       "    <tr>\n",
       "      <td>Algeria</td>\n",
       "      <td>164.000000</td>\n",
       "      <td>1.722222</td>\n",
       "      <td>61.055556</td>\n",
       "      <td>3.333333</td>\n",
       "      <td>0.777778</td>\n",
       "    </tr>\n",
       "    <tr>\n",
       "      <td>Argentina</td>\n",
       "      <td>247.500000</td>\n",
       "      <td>3.450000</td>\n",
       "      <td>130.700000</td>\n",
       "      <td>5.700000</td>\n",
       "      <td>0.500000</td>\n",
       "    </tr>\n",
       "    <tr>\n",
       "      <td>Australia</td>\n",
       "      <td>151.052632</td>\n",
       "      <td>1.526316</td>\n",
       "      <td>60.526316</td>\n",
       "      <td>2.263158</td>\n",
       "      <td>0.684211</td>\n",
       "    </tr>\n",
       "    <tr>\n",
       "      <td>Brazil</td>\n",
       "      <td>259.526316</td>\n",
       "      <td>3.736842</td>\n",
       "      <td>126.052632</td>\n",
       "      <td>5.578947</td>\n",
       "      <td>0.526316</td>\n",
       "    </tr>\n",
       "    <tr>\n",
       "      <td>Cameroon</td>\n",
       "      <td>148.500000</td>\n",
       "      <td>1.750000</td>\n",
       "      <td>67.200000</td>\n",
       "      <td>2.500000</td>\n",
       "      <td>0.450000</td>\n",
       "    </tr>\n",
       "  </tbody>\n",
       "</table>\n",
       "</div>"
      ],
      "text/plain": [
       "              minutes     shots      passes   tackles     saves\n",
       "team                                                           \n",
       "Algeria    164.000000  1.722222   61.055556  3.333333  0.777778\n",
       "Argentina  247.500000  3.450000  130.700000  5.700000  0.500000\n",
       "Australia  151.052632  1.526316   60.526316  2.263158  0.684211\n",
       "Brazil     259.526316  3.736842  126.052632  5.578947  0.526316\n",
       "Cameroon   148.500000  1.750000   67.200000  2.500000  0.450000"
      ]
     },
     "execution_count": 10,
     "metadata": {},
     "output_type": "execute_result"
    }
   ],
   "source": [
    "grouped_data = df.groupby(['team']).mean()\n",
    "grouped_data.head()"
   ]
  },
  {
   "cell_type": "code",
   "execution_count": 11,
   "metadata": {},
   "outputs": [
    {
     "data": {
      "text/plain": [
       "array(['Algeria', 'Argentina', 'Australia', 'Brazil', 'Cameroon', 'Chile',\n",
       "       'Denmark', 'England', 'France', 'Germany', 'Ghana', 'Greece',\n",
       "       'Honduras', 'Italy', 'Ivory Coast', 'Japan', 'Mexico',\n",
       "       'Netherlands', 'New Zealand', 'Nigeria', 'North Korea', 'Paraguay',\n",
       "       'Portugal', 'Serbia', 'Slovakia', 'Slovenia', 'South Africa',\n",
       "       'South Korea', 'Spain', 'Switzerland', 'Uruguay', 'USA'],\n",
       "      dtype=object)"
      ]
     },
     "execution_count": 11,
     "metadata": {},
     "output_type": "execute_result"
    }
   ],
   "source": [
    "df[\"team\"].unique()"
   ]
  },
  {
   "cell_type": "code",
   "execution_count": 30,
   "metadata": {},
   "outputs": [
    {
     "data": {
      "image/png": "[encoded data removed]",
      "text/plain": [
       "<Figure size 432x288 with 1 Axes>"
      ]
     },
     "metadata": {
      "needs_background": "light"
     },
     "output_type": "display_data"
    }
   ],
   "source": [
    "#ESTA SOLUCIÓN ES PÉSIMA, NO SE DISTINGUE LOS CATEGORIAS\n",
    "df.groupby('team')['shots'].nunique().plot(kind='bar')\n",
    "plt.show()\n"
   ]
  },
  {
   "cell_type": "code",
   "execution_count": 41,
   "metadata": {},
   "outputs": [
    {
     "data": {
      "image/png": "[encoded data removed]",
      "text/plain": [
       "<Figure size 432x288 with 1 Axes>"
      ]
     },
     "metadata": {
      "needs_background": "light"
     },
     "output_type": "display_data"
    }
   ],
   "source": [
    "#import matplotlib._color_data as mcd\n",
    "#my_colors= mcd.CSS4_COLORS\n",
    "\n",
    "#ESTA SOLUCIÓN ES BUENA, SE LOGRA DISTINGUIR LAS CATEGORIAS, \n",
    "#EN ESTE CASO, NOMBRES\n",
    "my_colors = ['red','blue','green','black','pink','orange','purple','brown','m','darkgreen','gold','crimson','y','maroon','navy','r','chocolate']\n",
    "#tomaremos los primeros 200 datos\n",
    "df[:200].groupby('team')['shots'].nunique().plot(kind='bar', color= my_colors)\n",
    "plt.show()\n",
    "\n"
   ]
  },
  {
   "cell_type": "code",
   "execution_count": 34,
   "metadata": {},
   "outputs": [
    {
     "data": {
      "image/png": "[encoded data removed]",
      "text/plain": [
       "<Figure size 360x360 with 1 Axes>"
      ]
     },
     "metadata": {},
     "output_type": "display_data"
    }
   ],
   "source": [
    "\n",
    "plot = df.groupby('position')['shots'].nunique().plot.pie(y='shots', figsize=(5, 5))"
   ]
  },
  {
   "cell_type": "code",
   "execution_count": 35,
   "metadata": {},
   "outputs": [
    {
     "data": {
      "image/png": "[encoded data removed]",
      "text/plain": [
       "<Figure size 360x360 with 1 Axes>"
      ]
     },
     "metadata": {},
     "output_type": "display_data"
    }
   ],
   "source": [
    "colors = ['turquoise', 'cyan', 'skyblue', 'b']\n",
    "plot = df.groupby('position')['shots'].nunique().plot.pie(y='shots', figsize=(5, 5),colors=colors)"
   ]
  },
  {
   "cell_type": "code",
   "execution_count": null,
   "metadata": {},
   "outputs": [],
   "source": []
  },
  {
   "cell_type": "code",
   "execution_count": null,
   "metadata": {},
   "outputs": [],
   "source": []
  },
  {
   "cell_type": "code",
   "execution_count": null,
   "metadata": {},
   "outputs": [],
   "source": []
  },
  {
   "cell_type": "code",
   "execution_count": null,
   "metadata": {},
   "outputs": [],
   "source": []
  },
  {
   "cell_type": "code",
   "execution_count": null,
   "metadata": {},
   "outputs": [],
   "source": []
  },
  {
   "cell_type": "code",
   "execution_count": null,
   "metadata": {},
   "outputs": [],
   "source": []
  },
  {
   "cell_type": "code",
   "execution_count": null,
   "metadata": {},
   "outputs": [],
   "source": []
  },
  {
   "cell_type": "code",
   "execution_count": null,
   "metadata": {},
   "outputs": [],
   "source": []
  },
  {
   "cell_type": "code",
   "execution_count": null,
   "metadata": {},
   "outputs": [],
   "source": []
  },
  {
   "cell_type": "code",
   "execution_count": null,
   "metadata": {},
   "outputs": [],
   "source": []
  },
  {
   "cell_type": "code",
   "execution_count": null,
   "metadata": {},
   "outputs": [],
   "source": []
  }
 ],
 "metadata": {
  "kernelspec": {
   "display_name": "Python 3",
   "language": "python",
   "name": "python3"
  },
  "language_info": {
   "codemirror_mode": {
    "name": "ipython",
    "version": 3
   },
   "file_extension": ".py",
   "mimetype": "text/x-python",
   "name": "python",
   "nbconvert_exporter": "python",
   "pygments_lexer": "ipython3",
   "version": "3.7.4"
  }
 },
 "nbformat": 4,
 "nbformat_minor": 4
}
