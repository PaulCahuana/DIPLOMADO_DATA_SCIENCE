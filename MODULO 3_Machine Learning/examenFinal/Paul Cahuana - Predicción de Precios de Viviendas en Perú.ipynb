{
 "cells": [
  {
   "cell_type": "markdown",
   "metadata": {
    "colab_type": "text",
    "id": "FCtzaBbUOus4"
   },
   "source": [
    "# Tarea: Predicción de Precios de Viviendas en Perú\n",
    "\n",
    "**Nombres y Apellidos:** *JASON PAUL CAHUANA NINA*\n",
    "\n",
    "## Motivación\n",
    "\n",
    "En este mini-proyecto desarrollaremos y evaluaremos el rendimiento y la potencia predictiva de un modelo entrenado y probado sobre datos referentes al mercado inmobiliario de Perú.\n",
    "Una vez conseguido un buen ajuste, utilizaremos este modelo para predecir el precio de viviendas en ese área.\n",
    "Un modelo así sería muy valioso para una agencia inmobiliaria que pudiera hacer uso de la información proporcionada diariamente.\n",
    "\n",
    "## Kaggle\n",
    "\n",
    "--no disponible--\n",
    "\n",
    "## Calificación\n",
    "\n",
    "La nota final del trabajo está basada en el puntaje total obtenido en este notebook y esta dividido de la siguiente manera:\n",
    "\n",
    "- Dataset  (6 puntos)\n",
    "- Análisis Exploratorio de Datos (EDA) (6 puntos)\n",
    "- Preparación de Datos (9 Puntos)\n",
    "- Modelado (17 Puntos)\n",
    "\n",
    "\n",
    "El total de puntos es $38$ $+$ $2$ puntos adicionales que se darán aquellos que participen activamente en el [foro de discusión](https://www.kaggle.com/c/reservas-de-hotel/discussion) de la competencia, ya sea preguntando sus dudas y/o ayudando a resolver dudas de otros. La escala de notas finales está dada a continuación:\n",
    "\n",
    "|Puntaje| Nota |\n",
    "|-------|-----|\n",
    "|30 - 40| A |\n",
    "|20 - 29| B |\n",
    "|10 - 19| C |\n",
    "| < 10 | D |\n",
    "\n",
    "Aprueban los que obtienen una nota mínima de B.\n"
   ]
  },
  {
   "cell_type": "markdown",
   "metadata": {
    "colab_type": "text",
    "id": "yHuKJBfz4JUU"
   },
   "source": [
    "## Importación de Librerías\n",
    "\n",
    "Importe las librerías que usará en este ejercicio."
   ]
  },
  {
   "cell_type": "code",
   "execution_count": 1,
   "metadata": {
    "colab": {},
    "colab_type": "code",
    "id": "wDt31-H94AA1"
   },
   "outputs": [],
   "source": [
    "# TODO: Importar librerías para manipulación, visualización, \n",
    "#       preprocesamiento y modelado de datos\n",
    "import numpy as np\n",
    "import pandas as pd"
   ]
  },
  {
   "cell_type": "markdown",
   "metadata": {
    "colab_type": "text",
    "id": "UJ3donf4UKA0"
   },
   "source": [
    "## Dataset (6 Puntos)\n",
    "\n",
    "El conjunto de datos contiene información de Precios de Viviendas que se obtienen desde `https://urbania.pe/buscar/venta-de-casas`.\n",
    "\n",
    "El conjuntos deberá obtenerse usando el notebook `Scrapping_Urbania_venta.ipynb` \n",
    "\n",
    "### Descripción de Características\n",
    "\n",
    "Describa las característcas seleccionadas:\n",
    "\n",
    "|Nombre| Descripción |\n",
    "|-------|-----|\n"
   ]
  },
  {
   "cell_type": "code",
   "execution_count": 2,
   "metadata": {
    "colab": {},
    "colab_type": "code",
    "id": "G6qe2QSo4qu5"
   },
   "outputs": [],
   "source": [
    "#TODO: Cargue el conjunto de datos y muestre 8 registros\n",
    "# Si esta usando colab puede cargar los datos desde |su drive o subir\n",
    "# el archivo y descomprimirlo con el comando !unzip archivo.zip\n",
    "\n",
    "data = pd.read_csv(\"datasetUrbania3.csv\")\n",
    "#data.head()\n"
   ]
  },
  {
   "cell_type": "markdown",
   "metadata": {
    "colab_type": "text",
    "id": "tPGqKBhE6Czv"
   },
   "source": [
    "Muestre información de cada característica, incluyendo el tipo de dato y cantidad de registros."
   ]
  },
  {
   "cell_type": "code",
   "execution_count": 3,
   "metadata": {
    "colab": {},
    "colab_type": "code",
    "id": "tv3kmEjO6PdG"
   },
   "outputs": [
    {
     "data": {
      "text/plain": [
       "Unnamed: 0        int64\n",
       "l_tag            object\n",
       "title            object\n",
       "address          object\n",
       "place            object\n",
       "price1           object\n",
       "price2          float64\n",
       "description      object\n",
       "url              object\n",
       "mainfeatures     object\n",
       "dtype: object"
      ]
     },
     "execution_count": 3,
     "metadata": {},
     "output_type": "execute_result"
    }
   ],
   "source": [
    "#TODO: Mostrar información de cada característica\n",
    "data.dtypes"
   ]
  },
  {
   "cell_type": "code",
   "execution_count": 4,
   "metadata": {},
   "outputs": [
    {
     "data": {
      "text/plain": [
       "(4875, 10)"
      ]
     },
     "execution_count": 4,
     "metadata": {},
     "output_type": "execute_result"
    }
   ],
   "source": [
    "data.shape"
   ]
  },
  {
   "cell_type": "markdown",
   "metadata": {
    "colab_type": "text",
    "id": "ugo4WFKt6xzs"
   },
   "source": [
    "**¿Con qué tipos de datos estamos trabajando?**\n",
    "\n",
    "*estamos rtabajando datos de tipo object, es decir de string, solo uno tenemos que es un float*\n",
    "\n"
   ]
  },
  {
   "cell_type": "markdown",
   "metadata": {
    "colab_type": "text",
    "id": "da3DReCJR65Y"
   },
   "source": [
    "### Valores Faltantes\n",
    "\n",
    "Verifique si existen valores faltantes, para ello muestre una lista de todas características y el número de valores faltantes."
   ]
  },
  {
   "cell_type": "code",
   "execution_count": 5,
   "metadata": {
    "colab": {},
    "colab_type": "code",
    "id": "20zTFXuNQ7aJ"
   },
   "outputs": [
    {
     "data": {
      "text/plain": [
       "Unnamed: 0         0\n",
       "l_tag           4111\n",
       "title              0\n",
       "address            0\n",
       "place              0\n",
       "price1            46\n",
       "price2          4875\n",
       "description        0\n",
       "url                0\n",
       "mainfeatures       0\n",
       "dtype: int64"
      ]
     },
     "execution_count": 5,
     "metadata": {},
     "output_type": "execute_result"
    }
   ],
   "source": [
    "# TODO: Revisar si existen valores NaN\n",
    "data.isnull().sum()"
   ]
  },
  {
   "cell_type": "markdown",
   "metadata": {
    "colab_type": "text",
    "id": "_X6EzBiBSIsD"
   },
   "source": [
    "**¿Hay características con valores faltantes (NaN)? Si es así, indique los nombres de las características y su cantidad.**\n",
    "\n",
    "*l_tag, price 1 y price2*"
   ]
  },
  {
   "cell_type": "markdown",
   "metadata": {
    "colab_type": "text",
    "id": "_sg9R0B7StBq"
   },
   "source": [
    "En caso de haber valores faltantes, reemplácelos con valores válidos para su posterior análisis."
   ]
  },
  {
   "cell_type": "code",
   "execution_count": 4,
   "metadata": {},
   "outputs": [
    {
     "data": {
      "text/html": [
       "<div>\n",
       "<style scoped>\n",
       "    .dataframe tbody tr th:only-of-type {\n",
       "        vertical-align: middle;\n",
       "    }\n",
       "\n",
       "    .dataframe tbody tr th {\n",
       "        vertical-align: top;\n",
       "    }\n",
       "\n",
       "    .dataframe thead th {\n",
       "        text-align: right;\n",
       "    }\n",
       "</style>\n",
       "<table border=\"1\" class=\"dataframe\">\n",
       "  <thead>\n",
       "    <tr style=\"text-align: right;\">\n",
       "      <th></th>\n",
       "      <th>Unnamed: 0</th>\n",
       "      <th>l_tag</th>\n",
       "      <th>title</th>\n",
       "      <th>address</th>\n",
       "      <th>place</th>\n",
       "      <th>price1</th>\n",
       "      <th>price2</th>\n",
       "      <th>description</th>\n",
       "      <th>url</th>\n",
       "      <th>mainfeatures</th>\n",
       "    </tr>\n",
       "  </thead>\n",
       "  <tbody>\n",
       "    <tr>\n",
       "      <th>0</th>\n",
       "      <td>0</td>\n",
       "      <td>Proyecto</td>\n",
       "      <td>San Ildefonso de Ica</td>\n",
       "      <td>Av. Cuatro con calle 10 - Mz ED lote 34, \\n\\t\\...</td>\n",
       "      <td>La Tinguiña, Ica</td>\n",
       "      <td>S/ 85,700</td>\n",
       "      <td>NaN</td>\n",
       "      <td>Disfruta la comodidad de vivir en tu casa prop...</td>\n",
       "      <td>/inmueble/proyecto-san-ildefonso-de-ica-ica-la...</td>\n",
       "      <td>57 \\n\\t\\t\\t\\t\\t\\t\\n\\t\\t\\t\\t\\t\\t\\tunidades,2 do...</td>\n",
       "    </tr>\n",
       "    <tr>\n",
       "      <th>1</th>\n",
       "      <td>1</td>\n",
       "      <td>Super destacado</td>\n",
       "      <td>Vendo Casa Urb. Santa Patricia 1ra Etapa – La ...</td>\n",
       "      <td>Jr. Lima 156, \\n\\t\\t\\t\\t\\t\\t\\t\\t Santa Patrici...</td>\n",
       "      <td>Santa Patricia, La Molina</td>\n",
       "      <td>S/ 1,582,875</td>\n",
       "      <td>NaN</td>\n",
       "      <td>Vendo casa amplia en plena esquina de 160m2 A....</td>\n",
       "      <td>/inmueble/venta-de-casa-en-santa-patricia-la-m...</td>\n",
       "      <td>240 m² totales,240 m² techados,4 Dormitorios,3...</td>\n",
       "    </tr>\n",
       "    <tr>\n",
       "      <th>2</th>\n",
       "      <td>2</td>\n",
       "      <td>Super destacado</td>\n",
       "      <td>Venta de Casa en El Sol de La Molina</td>\n",
       "      <td>La Fontana, La Molina</td>\n",
       "      <td>La Fontana, La Molina</td>\n",
       "      <td>S/ 4,050,400</td>\n",
       "      <td>NaN</td>\n",
       "      <td>Vendo casa en urb. La fontana – la molina Tien...</td>\n",
       "      <td>/inmueble/venta-de-casa-en-la-fontana-la-molin...</td>\n",
       "      <td>1050 m² totales,300 m² techados,0 Dormitorios,...</td>\n",
       "    </tr>\n",
       "    <tr>\n",
       "      <th>3</th>\n",
       "      <td>3</td>\n",
       "      <td>Super destacado</td>\n",
       "      <td>Rebajada! Venta de Casa en San Isidro</td>\n",
       "      <td>Corpac, San Isidro</td>\n",
       "      <td>Corpac, San Isidro</td>\n",
       "      <td>S/ 2,822,000</td>\n",
       "      <td>NaN</td>\n",
       "      <td>Rebajada!! Hermosa casa en esquina, remodelada...</td>\n",
       "      <td>/inmueble/venta-de-casa-en-corpac-san-isidro-5...</td>\n",
       "      <td>450 m² totales,450 m² techados,5 Dormitorios,5...</td>\n",
       "    </tr>\n",
       "    <tr>\n",
       "      <th>4</th>\n",
       "      <td>4</td>\n",
       "      <td>Super destacado</td>\n",
       "      <td>Venta de Casa en Santiago de Surco</td>\n",
       "      <td>Santa Rosa De Surco, Santiago de Surco</td>\n",
       "      <td>Santa Rosa De Surco, Santiago de Surco</td>\n",
       "      <td>S/ 1,261,600</td>\n",
       "      <td>NaN</td>\n",
       "      <td>Se remata casa en Surco por motivos de viaje c...</td>\n",
       "      <td>/inmueble/venta-de-casa-en-santa-rosa-de-surco...</td>\n",
       "      <td>300 m² totales,181 m² techados,4 Dormitorios,3...</td>\n",
       "    </tr>\n",
       "  </tbody>\n",
       "</table>\n",
       "</div>"
      ],
      "text/plain": [
       "   Unnamed: 0            l_tag  \\\n",
       "0           0         Proyecto   \n",
       "1           1  Super destacado   \n",
       "2           2  Super destacado   \n",
       "3           3  Super destacado   \n",
       "4           4  Super destacado   \n",
       "\n",
       "                                               title  \\\n",
       "0                               San Ildefonso de Ica   \n",
       "1  Vendo Casa Urb. Santa Patricia 1ra Etapa – La ...   \n",
       "2               Venta de Casa en El Sol de La Molina   \n",
       "3              Rebajada! Venta de Casa en San Isidro   \n",
       "4                 Venta de Casa en Santiago de Surco   \n",
       "\n",
       "                                             address  \\\n",
       "0  Av. Cuatro con calle 10 - Mz ED lote 34, \\n\\t\\...   \n",
       "1  Jr. Lima 156, \\n\\t\\t\\t\\t\\t\\t\\t\\t Santa Patrici...   \n",
       "2                              La Fontana, La Molina   \n",
       "3                                 Corpac, San Isidro   \n",
       "4             Santa Rosa De Surco, Santiago de Surco   \n",
       "\n",
       "                                     place        price1  price2  \\\n",
       "0                         La Tinguiña, Ica     S/ 85,700     NaN   \n",
       "1                Santa Patricia, La Molina  S/ 1,582,875     NaN   \n",
       "2                    La Fontana, La Molina  S/ 4,050,400     NaN   \n",
       "3                       Corpac, San Isidro  S/ 2,822,000     NaN   \n",
       "4   Santa Rosa De Surco, Santiago de Surco  S/ 1,261,600     NaN   \n",
       "\n",
       "                                         description  \\\n",
       "0  Disfruta la comodidad de vivir en tu casa prop...   \n",
       "1  Vendo casa amplia en plena esquina de 160m2 A....   \n",
       "2  Vendo casa en urb. La fontana – la molina Tien...   \n",
       "3  Rebajada!! Hermosa casa en esquina, remodelada...   \n",
       "4  Se remata casa en Surco por motivos de viaje c...   \n",
       "\n",
       "                                                 url  \\\n",
       "0  /inmueble/proyecto-san-ildefonso-de-ica-ica-la...   \n",
       "1  /inmueble/venta-de-casa-en-santa-patricia-la-m...   \n",
       "2  /inmueble/venta-de-casa-en-la-fontana-la-molin...   \n",
       "3  /inmueble/venta-de-casa-en-corpac-san-isidro-5...   \n",
       "4  /inmueble/venta-de-casa-en-santa-rosa-de-surco...   \n",
       "\n",
       "                                        mainfeatures  \n",
       "0  57 \\n\\t\\t\\t\\t\\t\\t\\n\\t\\t\\t\\t\\t\\t\\tunidades,2 do...  \n",
       "1  240 m² totales,240 m² techados,4 Dormitorios,3...  \n",
       "2  1050 m² totales,300 m² techados,0 Dormitorios,...  \n",
       "3  450 m² totales,450 m² techados,5 Dormitorios,5...  \n",
       "4  300 m² totales,181 m² techados,4 Dormitorios,3...  "
      ]
     },
     "execution_count": 4,
     "metadata": {},
     "output_type": "execute_result"
    }
   ],
   "source": [
    "data = data.dropna(axis=0, subset=['price1']) #elimnamos todas las  filas vacias de la columna \"price1\"\n",
    "#remodificamos los indices\n",
    "data=data.reset_index(drop=True)\n",
    "data.head()"
   ]
  },
  {
   "cell_type": "code",
   "execution_count": 5,
   "metadata": {},
   "outputs": [],
   "source": [
    "data['price1']=data['price1'].str.replace('S/','')\n",
    "#data.head()"
   ]
  },
  {
   "cell_type": "code",
   "execution_count": 6,
   "metadata": {},
   "outputs": [],
   "source": [
    "dftem=data\n",
    "for i in range(data.shape[0]):\n",
    "    dftem.loc[i, 'price1'] = dftem['price1'][i][:-4]\n",
    "    "
   ]
  },
  {
   "cell_type": "code",
   "execution_count": 7,
   "metadata": {},
   "outputs": [
    {
     "data": {
      "text/plain": [
       "0              85\n",
       "1           1,582\n",
       "2           4,050\n",
       "3           2,822\n",
       "4           1,261\n",
       "          ...    \n",
       "4824    USD 1,850\n",
       "4825      USD 750\n",
       "4826        3,652\n",
       "4827    USD 1,400\n",
       "4828    USD 1,450\n",
       "Name: price1, Length: 4829, dtype: object"
      ]
     },
     "execution_count": 7,
     "metadata": {},
     "output_type": "execute_result"
    }
   ],
   "source": [
    "data['price1']"
   ]
  },
  {
   "cell_type": "code",
   "execution_count": 9,
   "metadata": {},
   "outputs": [
    {
     "name": "stderr",
     "output_type": "stream",
     "text": [
      "D:\\ANACONDA\\lib\\site-packages\\ipykernel_launcher.py:3: SettingWithCopyWarning: \n",
      "A value is trying to be set on a copy of a slice from a DataFrame\n",
      "\n",
      "See the caveats in the documentation: https://pandas.pydata.org/pandas-docs/stable/user_guide/indexing.html#returning-a-view-versus-a-copy\n",
      "  This is separate from the ipykernel package so we can avoid doing imports until\n",
      "D:\\ANACONDA\\lib\\site-packages\\ipykernel_launcher.py:4: SettingWithCopyWarning: \n",
      "A value is trying to be set on a copy of a slice from a DataFrame\n",
      "\n",
      "See the caveats in the documentation: https://pandas.pydata.org/pandas-docs/stable/user_guide/indexing.html#returning-a-view-versus-a-copy\n",
      "  after removing the cwd from sys.path.\n",
      "D:\\ANACONDA\\lib\\site-packages\\ipykernel_launcher.py:7: SettingWithCopyWarning: \n",
      "A value is trying to be set on a copy of a slice from a DataFrame\n",
      "\n",
      "See the caveats in the documentation: https://pandas.pydata.org/pandas-docs/stable/user_guide/indexing.html#returning-a-view-versus-a-copy\n",
      "  import sys\n"
     ]
    }
   ],
   "source": [
    "for i in range(dftem.shape[0]):\n",
    "    if( \"USD\" in dftem['price1'][i]):\n",
    "        dftem['price1'][i]=dftem['price1'][i].replace('USD','') #quitamos los valores que  tienen \"usd\"\n",
    "        dftem['price1'][i]=dftem['price1'][i].replace(' ','') #quitamos los valores que  tienen \"usd\"\n",
    "        dftem['price1']=dftem['price1'].str.replace(',','') #quitamos la coma de nuestros valores de precio\n",
    "        valor=float(dftem['price1'][i])\n",
    "        dftem['price1'][i]=  str(valor*3.3)\n",
    "        #print (dftem['price1'][i])"
   ]
  },
  {
   "cell_type": "code",
   "execution_count": 22,
   "metadata": {},
   "outputs": [],
   "source": [
    "#elimnamos las filas que no son vacias pero no tienen datos\n",
    "for i in range(dftem.shape[0]):\n",
    "    #print(i , \"-\",dftem['price1'][i] )\n",
    "    if (len(str(dftem['price1'][i]))<=1):\n",
    "        dftem=dftem.drop([i],axis=0)\n",
    "        \n",
    "data = data.dropna(axis=0, subset=['price1']) #elimnamos todas las  filas vacias de la columna \"price1\"\n",
    "#remodificamos los indices\n",
    "data=data.reset_index(drop=True)\n"
   ]
  },
  {
   "cell_type": "code",
   "execution_count": null,
   "metadata": {},
   "outputs": [],
   "source": [
    "#dftem['price1'][i]=float(dftem['price1'][i])"
   ]
  },
  {
   "cell_type": "code",
   "execution_count": 23,
   "metadata": {},
   "outputs": [
    {
     "data": {
      "text/plain": [
       "(4813, 10)"
      ]
     },
     "execution_count": 23,
     "metadata": {},
     "output_type": "execute_result"
    }
   ],
   "source": [
    "       \n",
    "#data.isnull().sum() #vemos cuantos vacios hay\n",
    "\n",
    "dftem['price1']=dftem['price1'].astype('float')\n",
    "dftem.shape #vemos la dimension como varia"
   ]
  },
  {
   "cell_type": "code",
   "execution_count": 24,
   "metadata": {},
   "outputs": [],
   "source": [
    "data=dftem"
   ]
  },
  {
   "cell_type": "code",
   "execution_count": 25,
   "metadata": {},
   "outputs": [],
   "source": [
    "data=data.drop(['price2'],axis=1) #eliminamos la columna \"price 2 que no nos sirve ce nada\""
   ]
  },
  {
   "cell_type": "code",
   "execution_count": 26,
   "metadata": {},
   "outputs": [
    {
     "data": {
      "text/plain": [
       "Unnamed: 0         0\n",
       "l_tag           4056\n",
       "title              0\n",
       "address            0\n",
       "place              0\n",
       "price1             0\n",
       "description        0\n",
       "url                0\n",
       "mainfeatures       0\n",
       "dtype: int64"
      ]
     },
     "execution_count": 26,
     "metadata": {},
     "output_type": "execute_result"
    }
   ],
   "source": [
    "data.isnull().sum()"
   ]
  },
  {
   "cell_type": "code",
   "execution_count": 27,
   "metadata": {},
   "outputs": [
    {
     "data": {
      "text/plain": [
       " La Molina, Lima                   376\n",
       " Santiago de Surco, Lima           326\n",
       " La Planicie, La Molina            277\n",
       " San Isidro, Lima                  204\n",
       " El Sol De La Molina, La Molina    179\n",
       "                                  ... \n",
       " San Jorge, Santiago de Surco        1\n",
       " Manylsa, Ate Vitarte                1\n",
       " Huarupampa, Huaraz                  1\n",
       " Lunahuana, Cañete                   1\n",
       " La Virreyna, Santiago de Surco      1\n",
       "Name: place, Length: 592, dtype: int64"
      ]
     },
     "execution_count": 27,
     "metadata": {},
     "output_type": "execute_result"
    }
   ],
   "source": [
    "data['l_tag'].value_counts()\n",
    "data[\"l_tag\"].fillna(\"No Category\", inplace = True)\n",
    "data['l_tag'].value_counts()\n",
    "#veamos los lugares que tiene\n",
    "data['place'].value_counts()"
   ]
  },
  {
   "cell_type": "code",
   "execution_count": 28,
   "metadata": {},
   "outputs": [
    {
     "name": "stderr",
     "output_type": "stream",
     "text": [
      "D:\\ANACONDA\\lib\\site-packages\\ipykernel_launcher.py:2: FutureWarning: Columnar iteration over characters will be deprecated in future releases.\n",
      "  \n"
     ]
    }
   ],
   "source": [
    "df=data\n",
    "df['Distrito'], df['Ciudad'] = data['place'].str.split(',',1).str"
   ]
  },
  {
   "cell_type": "code",
   "execution_count": 29,
   "metadata": {},
   "outputs": [
    {
     "data": {
      "text/html": [
       "<div>\n",
       "<style scoped>\n",
       "    .dataframe tbody tr th:only-of-type {\n",
       "        vertical-align: middle;\n",
       "    }\n",
       "\n",
       "    .dataframe tbody tr th {\n",
       "        vertical-align: top;\n",
       "    }\n",
       "\n",
       "    .dataframe thead th {\n",
       "        text-align: right;\n",
       "    }\n",
       "</style>\n",
       "<table border=\"1\" class=\"dataframe\">\n",
       "  <thead>\n",
       "    <tr style=\"text-align: right;\">\n",
       "      <th></th>\n",
       "      <th>Unnamed: 0</th>\n",
       "      <th>l_tag</th>\n",
       "      <th>title</th>\n",
       "      <th>address</th>\n",
       "      <th>place</th>\n",
       "      <th>price1</th>\n",
       "      <th>description</th>\n",
       "      <th>url</th>\n",
       "      <th>mainfeatures</th>\n",
       "      <th>Distrito</th>\n",
       "      <th>Ciudad</th>\n",
       "    </tr>\n",
       "  </thead>\n",
       "  <tbody>\n",
       "    <tr>\n",
       "      <th>0</th>\n",
       "      <td>0</td>\n",
       "      <td>Proyecto</td>\n",
       "      <td>San Ildefonso de Ica</td>\n",
       "      <td>Av. Cuatro con calle 10 - Mz ED lote 34, \\n\\t\\...</td>\n",
       "      <td>La Tinguiña, Ica</td>\n",
       "      <td>85.0</td>\n",
       "      <td>Disfruta la comodidad de vivir en tu casa prop...</td>\n",
       "      <td>/inmueble/proyecto-san-ildefonso-de-ica-ica-la...</td>\n",
       "      <td>57 \\n\\t\\t\\t\\t\\t\\t\\n\\t\\t\\t\\t\\t\\t\\tunidades,2 do...</td>\n",
       "      <td>La Tinguiña</td>\n",
       "      <td>Ica</td>\n",
       "    </tr>\n",
       "    <tr>\n",
       "      <th>1</th>\n",
       "      <td>1</td>\n",
       "      <td>Super destacado</td>\n",
       "      <td>Vendo Casa Urb. Santa Patricia 1ra Etapa – La ...</td>\n",
       "      <td>Jr. Lima 156, \\n\\t\\t\\t\\t\\t\\t\\t\\t Santa Patrici...</td>\n",
       "      <td>Santa Patricia, La Molina</td>\n",
       "      <td>1582.0</td>\n",
       "      <td>Vendo casa amplia en plena esquina de 160m2 A....</td>\n",
       "      <td>/inmueble/venta-de-casa-en-santa-patricia-la-m...</td>\n",
       "      <td>240 m² totales,240 m² techados,4 Dormitorios,3...</td>\n",
       "      <td>Santa Patricia</td>\n",
       "      <td>La Molina</td>\n",
       "    </tr>\n",
       "    <tr>\n",
       "      <th>2</th>\n",
       "      <td>2</td>\n",
       "      <td>Super destacado</td>\n",
       "      <td>Venta de Casa en El Sol de La Molina</td>\n",
       "      <td>La Fontana, La Molina</td>\n",
       "      <td>La Fontana, La Molina</td>\n",
       "      <td>4050.0</td>\n",
       "      <td>Vendo casa en urb. La fontana – la molina Tien...</td>\n",
       "      <td>/inmueble/venta-de-casa-en-la-fontana-la-molin...</td>\n",
       "      <td>1050 m² totales,300 m² techados,0 Dormitorios,...</td>\n",
       "      <td>La Fontana</td>\n",
       "      <td>La Molina</td>\n",
       "    </tr>\n",
       "    <tr>\n",
       "      <th>3</th>\n",
       "      <td>3</td>\n",
       "      <td>Super destacado</td>\n",
       "      <td>Rebajada! Venta de Casa en San Isidro</td>\n",
       "      <td>Corpac, San Isidro</td>\n",
       "      <td>Corpac, San Isidro</td>\n",
       "      <td>2822.0</td>\n",
       "      <td>Rebajada!! Hermosa casa en esquina, remodelada...</td>\n",
       "      <td>/inmueble/venta-de-casa-en-corpac-san-isidro-5...</td>\n",
       "      <td>450 m² totales,450 m² techados,5 Dormitorios,5...</td>\n",
       "      <td>Corpac</td>\n",
       "      <td>San Isidro</td>\n",
       "    </tr>\n",
       "    <tr>\n",
       "      <th>4</th>\n",
       "      <td>4</td>\n",
       "      <td>Super destacado</td>\n",
       "      <td>Venta de Casa en Santiago de Surco</td>\n",
       "      <td>Santa Rosa De Surco, Santiago de Surco</td>\n",
       "      <td>Santa Rosa De Surco, Santiago de Surco</td>\n",
       "      <td>1261.0</td>\n",
       "      <td>Se remata casa en Surco por motivos de viaje c...</td>\n",
       "      <td>/inmueble/venta-de-casa-en-santa-rosa-de-surco...</td>\n",
       "      <td>300 m² totales,181 m² techados,4 Dormitorios,3...</td>\n",
       "      <td>Santa Rosa De Surco</td>\n",
       "      <td>Santiago de Surco</td>\n",
       "    </tr>\n",
       "  </tbody>\n",
       "</table>\n",
       "</div>"
      ],
      "text/plain": [
       "   Unnamed: 0            l_tag  \\\n",
       "0           0         Proyecto   \n",
       "1           1  Super destacado   \n",
       "2           2  Super destacado   \n",
       "3           3  Super destacado   \n",
       "4           4  Super destacado   \n",
       "\n",
       "                                               title  \\\n",
       "0                               San Ildefonso de Ica   \n",
       "1  Vendo Casa Urb. Santa Patricia 1ra Etapa – La ...   \n",
       "2               Venta de Casa en El Sol de La Molina   \n",
       "3              Rebajada! Venta de Casa en San Isidro   \n",
       "4                 Venta de Casa en Santiago de Surco   \n",
       "\n",
       "                                             address  \\\n",
       "0  Av. Cuatro con calle 10 - Mz ED lote 34, \\n\\t\\...   \n",
       "1  Jr. Lima 156, \\n\\t\\t\\t\\t\\t\\t\\t\\t Santa Patrici...   \n",
       "2                              La Fontana, La Molina   \n",
       "3                                 Corpac, San Isidro   \n",
       "4             Santa Rosa De Surco, Santiago de Surco   \n",
       "\n",
       "                                     place  price1  \\\n",
       "0                         La Tinguiña, Ica    85.0   \n",
       "1                Santa Patricia, La Molina  1582.0   \n",
       "2                    La Fontana, La Molina  4050.0   \n",
       "3                       Corpac, San Isidro  2822.0   \n",
       "4   Santa Rosa De Surco, Santiago de Surco  1261.0   \n",
       "\n",
       "                                         description  \\\n",
       "0  Disfruta la comodidad de vivir en tu casa prop...   \n",
       "1  Vendo casa amplia en plena esquina de 160m2 A....   \n",
       "2  Vendo casa en urb. La fontana – la molina Tien...   \n",
       "3  Rebajada!! Hermosa casa en esquina, remodelada...   \n",
       "4  Se remata casa en Surco por motivos de viaje c...   \n",
       "\n",
       "                                                 url  \\\n",
       "0  /inmueble/proyecto-san-ildefonso-de-ica-ica-la...   \n",
       "1  /inmueble/venta-de-casa-en-santa-patricia-la-m...   \n",
       "2  /inmueble/venta-de-casa-en-la-fontana-la-molin...   \n",
       "3  /inmueble/venta-de-casa-en-corpac-san-isidro-5...   \n",
       "4  /inmueble/venta-de-casa-en-santa-rosa-de-surco...   \n",
       "\n",
       "                                        mainfeatures              Distrito  \\\n",
       "0  57 \\n\\t\\t\\t\\t\\t\\t\\n\\t\\t\\t\\t\\t\\t\\tunidades,2 do...           La Tinguiña   \n",
       "1  240 m² totales,240 m² techados,4 Dormitorios,3...        Santa Patricia   \n",
       "2  1050 m² totales,300 m² techados,0 Dormitorios,...            La Fontana   \n",
       "3  450 m² totales,450 m² techados,5 Dormitorios,5...                Corpac   \n",
       "4  300 m² totales,181 m² techados,4 Dormitorios,3...   Santa Rosa De Surco   \n",
       "\n",
       "               Ciudad  \n",
       "0                 Ica  \n",
       "1           La Molina  \n",
       "2           La Molina  \n",
       "3          San Isidro  \n",
       "4   Santiago de Surco  "
      ]
     },
     "execution_count": 29,
     "metadata": {},
     "output_type": "execute_result"
    }
   ],
   "source": [
    "df.head()"
   ]
  },
  {
   "cell_type": "code",
   "execution_count": 30,
   "metadata": {},
   "outputs": [
    {
     "data": {
      "text/plain": [
       " La Molina              376\n",
       " Santiago de Surco      326\n",
       " La Planicie            278\n",
       " San Isidro             206\n",
       " El Sol De La Molina    179\n",
       "                       ... \n",
       " Santa Ana                1\n",
       " San Jorge                1\n",
       " Santa Isolina            1\n",
       " Chontabamba              1\n",
       " Chincha                  1\n",
       "Name: Distrito, Length: 546, dtype: int64"
      ]
     },
     "execution_count": 30,
     "metadata": {},
     "output_type": "execute_result"
    }
   ],
   "source": [
    "df['Distrito'].value_counts()"
   ]
  },
  {
   "cell_type": "code",
   "execution_count": 31,
   "metadata": {},
   "outputs": [
    {
     "data": {
      "text/html": [
       "<div>\n",
       "<style scoped>\n",
       "    .dataframe tbody tr th:only-of-type {\n",
       "        vertical-align: middle;\n",
       "    }\n",
       "\n",
       "    .dataframe tbody tr th {\n",
       "        vertical-align: top;\n",
       "    }\n",
       "\n",
       "    .dataframe thead th {\n",
       "        text-align: right;\n",
       "    }\n",
       "</style>\n",
       "<table border=\"1\" class=\"dataframe\">\n",
       "  <thead>\n",
       "    <tr style=\"text-align: right;\">\n",
       "      <th></th>\n",
       "      <th>departamento</th>\n",
       "      <th>provincia</th>\n",
       "      <th>distrito</th>\n",
       "    </tr>\n",
       "  </thead>\n",
       "  <tbody>\n",
       "    <tr>\n",
       "      <th>0</th>\n",
       "      <td>Amazonas</td>\n",
       "      <td>Chachapoyas</td>\n",
       "      <td>Chachapoyas</td>\n",
       "    </tr>\n",
       "    <tr>\n",
       "      <th>1</th>\n",
       "      <td>Amazonas</td>\n",
       "      <td>Chachapoyas</td>\n",
       "      <td>Asunción</td>\n",
       "    </tr>\n",
       "    <tr>\n",
       "      <th>2</th>\n",
       "      <td>Amazonas</td>\n",
       "      <td>Chachapoyas</td>\n",
       "      <td>Balsas</td>\n",
       "    </tr>\n",
       "    <tr>\n",
       "      <th>3</th>\n",
       "      <td>Amazonas</td>\n",
       "      <td>Chachapoyas</td>\n",
       "      <td>Cheto</td>\n",
       "    </tr>\n",
       "    <tr>\n",
       "      <th>4</th>\n",
       "      <td>Amazonas</td>\n",
       "      <td>Chachapoyas</td>\n",
       "      <td>Chiliquin</td>\n",
       "    </tr>\n",
       "  </tbody>\n",
       "</table>\n",
       "</div>"
      ],
      "text/plain": [
       "  departamento    provincia     distrito\n",
       "0     Amazonas  Chachapoyas  Chachapoyas\n",
       "1     Amazonas  Chachapoyas     Asunción\n",
       "2     Amazonas  Chachapoyas       Balsas\n",
       "3     Amazonas  Chachapoyas        Cheto\n",
       "4     Amazonas  Chachapoyas    Chiliquin"
      ]
     },
     "execution_count": 31,
     "metadata": {},
     "output_type": "execute_result"
    }
   ],
   "source": [
    "places=pd.read_csv(\"Departamento_Provincia_Distrito_Peru\")\n",
    "places.head()"
   ]
  },
  {
   "cell_type": "code",
   "execution_count": 32,
   "metadata": {},
   "outputs": [
    {
     "data": {
      "text/html": [
       "<div>\n",
       "<style scoped>\n",
       "    .dataframe tbody tr th:only-of-type {\n",
       "        vertical-align: middle;\n",
       "    }\n",
       "\n",
       "    .dataframe tbody tr th {\n",
       "        vertical-align: top;\n",
       "    }\n",
       "\n",
       "    .dataframe thead th {\n",
       "        text-align: right;\n",
       "    }\n",
       "</style>\n",
       "<table border=\"1\" class=\"dataframe\">\n",
       "  <thead>\n",
       "    <tr style=\"text-align: right;\">\n",
       "      <th></th>\n",
       "      <th>l_tag</th>\n",
       "      <th>title</th>\n",
       "      <th>place</th>\n",
       "      <th>price1</th>\n",
       "      <th>mainfeatures</th>\n",
       "      <th>Distrito</th>\n",
       "      <th>Ciudad</th>\n",
       "    </tr>\n",
       "  </thead>\n",
       "  <tbody>\n",
       "    <tr>\n",
       "      <th>0</th>\n",
       "      <td>Proyecto</td>\n",
       "      <td>San Ildefonso de Ica</td>\n",
       "      <td>La Tinguiña, Ica</td>\n",
       "      <td>85.0</td>\n",
       "      <td>57 \\n\\t\\t\\t\\t\\t\\t\\n\\t\\t\\t\\t\\t\\t\\tunidades,2 do...</td>\n",
       "      <td>La Tinguiña</td>\n",
       "      <td>Ica</td>\n",
       "    </tr>\n",
       "    <tr>\n",
       "      <th>1</th>\n",
       "      <td>Super destacado</td>\n",
       "      <td>Vendo Casa Urb. Santa Patricia 1ra Etapa – La ...</td>\n",
       "      <td>Santa Patricia, La Molina</td>\n",
       "      <td>1582.0</td>\n",
       "      <td>240 m² totales,240 m² techados,4 Dormitorios,3...</td>\n",
       "      <td>Santa Patricia</td>\n",
       "      <td>La Molina</td>\n",
       "    </tr>\n",
       "    <tr>\n",
       "      <th>2</th>\n",
       "      <td>Super destacado</td>\n",
       "      <td>Venta de Casa en El Sol de La Molina</td>\n",
       "      <td>La Fontana, La Molina</td>\n",
       "      <td>4050.0</td>\n",
       "      <td>1050 m² totales,300 m² techados,0 Dormitorios,...</td>\n",
       "      <td>La Fontana</td>\n",
       "      <td>La Molina</td>\n",
       "    </tr>\n",
       "    <tr>\n",
       "      <th>3</th>\n",
       "      <td>Super destacado</td>\n",
       "      <td>Rebajada! Venta de Casa en San Isidro</td>\n",
       "      <td>Corpac, San Isidro</td>\n",
       "      <td>2822.0</td>\n",
       "      <td>450 m² totales,450 m² techados,5 Dormitorios,5...</td>\n",
       "      <td>Corpac</td>\n",
       "      <td>San Isidro</td>\n",
       "    </tr>\n",
       "    <tr>\n",
       "      <th>4</th>\n",
       "      <td>Super destacado</td>\n",
       "      <td>Venta de Casa en Santiago de Surco</td>\n",
       "      <td>Santa Rosa De Surco, Santiago de Surco</td>\n",
       "      <td>1261.0</td>\n",
       "      <td>300 m² totales,181 m² techados,4 Dormitorios,3...</td>\n",
       "      <td>Santa Rosa De Surco</td>\n",
       "      <td>Santiago de Surco</td>\n",
       "    </tr>\n",
       "  </tbody>\n",
       "</table>\n",
       "</div>"
      ],
      "text/plain": [
       "             l_tag                                              title  \\\n",
       "0         Proyecto                               San Ildefonso de Ica   \n",
       "1  Super destacado  Vendo Casa Urb. Santa Patricia 1ra Etapa – La ...   \n",
       "2  Super destacado               Venta de Casa en El Sol de La Molina   \n",
       "3  Super destacado              Rebajada! Venta de Casa en San Isidro   \n",
       "4  Super destacado                 Venta de Casa en Santiago de Surco   \n",
       "\n",
       "                                     place  price1  \\\n",
       "0                         La Tinguiña, Ica    85.0   \n",
       "1                Santa Patricia, La Molina  1582.0   \n",
       "2                    La Fontana, La Molina  4050.0   \n",
       "3                       Corpac, San Isidro  2822.0   \n",
       "4   Santa Rosa De Surco, Santiago de Surco  1261.0   \n",
       "\n",
       "                                        mainfeatures              Distrito  \\\n",
       "0  57 \\n\\t\\t\\t\\t\\t\\t\\n\\t\\t\\t\\t\\t\\t\\tunidades,2 do...           La Tinguiña   \n",
       "1  240 m² totales,240 m² techados,4 Dormitorios,3...        Santa Patricia   \n",
       "2  1050 m² totales,300 m² techados,0 Dormitorios,...            La Fontana   \n",
       "3  450 m² totales,450 m² techados,5 Dormitorios,5...                Corpac   \n",
       "4  300 m² totales,181 m² techados,4 Dormitorios,3...   Santa Rosa De Surco   \n",
       "\n",
       "               Ciudad  \n",
       "0                 Ica  \n",
       "1           La Molina  \n",
       "2           La Molina  \n",
       "3          San Isidro  \n",
       "4   Santiago de Surco  "
      ]
     },
     "execution_count": 32,
     "metadata": {},
     "output_type": "execute_result"
    }
   ],
   "source": [
    "data=data.drop(['address'], axis=1) #eliminamos esta columna no tan importante\n",
    "data=data.drop(['Unnamed: 0'], axis=1) #eliminamos esta columna no tan importante\n",
    "data=data.drop(['url'], axis=1) #eliminamos esta columna no tan importante\n",
    "data=data.drop(['description'], axis=1) #eliminamos esta columna no tan importante\n",
    "data.head()"
   ]
  },
  {
   "cell_type": "code",
   "execution_count": 33,
   "metadata": {},
   "outputs": [
    {
     "data": {
      "text/plain": [
       "4813"
      ]
     },
     "execution_count": 33,
     "metadata": {},
     "output_type": "execute_result"
    }
   ],
   "source": [
    "data.shape[0]"
   ]
  },
  {
   "cell_type": "code",
   "execution_count": 34,
   "metadata": {},
   "outputs": [
    {
     "data": {
      "text/html": [
       "<div>\n",
       "<style scoped>\n",
       "    .dataframe tbody tr th:only-of-type {\n",
       "        vertical-align: middle;\n",
       "    }\n",
       "\n",
       "    .dataframe tbody tr th {\n",
       "        vertical-align: top;\n",
       "    }\n",
       "\n",
       "    .dataframe thead th {\n",
       "        text-align: right;\n",
       "    }\n",
       "</style>\n",
       "<table border=\"1\" class=\"dataframe\">\n",
       "  <thead>\n",
       "    <tr style=\"text-align: right;\">\n",
       "      <th></th>\n",
       "      <th>departamento</th>\n",
       "      <th>provincia</th>\n",
       "      <th>distrito</th>\n",
       "    </tr>\n",
       "  </thead>\n",
       "  <tbody>\n",
       "    <tr>\n",
       "      <th>0</th>\n",
       "      <td>NaN</td>\n",
       "      <td>NaN</td>\n",
       "      <td>NaN</td>\n",
       "    </tr>\n",
       "    <tr>\n",
       "      <th>1</th>\n",
       "      <td>NaN</td>\n",
       "      <td>NaN</td>\n",
       "      <td>NaN</td>\n",
       "    </tr>\n",
       "    <tr>\n",
       "      <th>2</th>\n",
       "      <td>NaN</td>\n",
       "      <td>NaN</td>\n",
       "      <td>NaN</td>\n",
       "    </tr>\n",
       "    <tr>\n",
       "      <th>3</th>\n",
       "      <td>NaN</td>\n",
       "      <td>NaN</td>\n",
       "      <td>NaN</td>\n",
       "    </tr>\n",
       "    <tr>\n",
       "      <th>4</th>\n",
       "      <td>NaN</td>\n",
       "      <td>NaN</td>\n",
       "      <td>NaN</td>\n",
       "    </tr>\n",
       "  </tbody>\n",
       "</table>\n",
       "</div>"
      ],
      "text/plain": [
       "   departamento  provincia  distrito\n",
       "0           NaN        NaN       NaN\n",
       "1           NaN        NaN       NaN\n",
       "2           NaN        NaN       NaN\n",
       "3           NaN        NaN       NaN\n",
       "4           NaN        NaN       NaN"
      ]
     },
     "execution_count": 34,
     "metadata": {},
     "output_type": "execute_result"
    }
   ],
   "source": [
    "#creamos nuestro dataframeTemplate\n",
    "#dfn = pd.DataFrame(index=range(data.shape[0],data.shape[1]),columns=['distrito', 'provincia', 'departamento'])\n",
    "#dfn = pd.DataFrame(columns=('distrito', 'provincia', 'departamento'))\n",
    "\n",
    "dummyarray = np.empty((data.shape[0],3))\n",
    "dummyarray[:] = np.nan\n",
    "\n",
    "dfn = pd.DataFrame(dummyarray)\n",
    "#dfn = pd.DataFrame(columns=('distrito', 'provincia', 'departamento'))\n",
    "dfn.columns=['departamento','provincia','distrito']\n",
    "dfn.shape\n",
    "dfn.head()"
   ]
  },
  {
   "cell_type": "code",
   "execution_count": 35,
   "metadata": {},
   "outputs": [
    {
     "data": {
      "text/plain": [
       "' Ica'"
      ]
     },
     "execution_count": 35,
     "metadata": {},
     "output_type": "execute_result"
    }
   ],
   "source": [
    "#hacemos la siguiente operación porque hay un espacio en blanco cuando empieza el texto\n",
    "data['Distrito']=data['Distrito'].map(lambda x: str(x)[1:])\n",
    "data['Distrito'][0]\n",
    "data['Ciudad'][0]#notamos que tiene el mismo error que la columna distrito"
   ]
  },
  {
   "cell_type": "code",
   "execution_count": 36,
   "metadata": {},
   "outputs": [
    {
     "data": {
      "text/plain": [
       "'Ica'"
      ]
     },
     "execution_count": 36,
     "metadata": {},
     "output_type": "execute_result"
    }
   ],
   "source": [
    "#hacemos la siguiente operación porque hay un espacio en blanco cuando empieza el texto\n",
    "data['Ciudad']=data['Ciudad'].map(lambda x: str(x)[1:])\n",
    "data['Ciudad'][0]\n",
    "#solucionamos ese problema"
   ]
  },
  {
   "cell_type": "code",
   "execution_count": 37,
   "metadata": {},
   "outputs": [
    {
     "data": {
      "text/html": [
       "<div>\n",
       "<style scoped>\n",
       "    .dataframe tbody tr th:only-of-type {\n",
       "        vertical-align: middle;\n",
       "    }\n",
       "\n",
       "    .dataframe tbody tr th {\n",
       "        vertical-align: top;\n",
       "    }\n",
       "\n",
       "    .dataframe thead th {\n",
       "        text-align: right;\n",
       "    }\n",
       "</style>\n",
       "<table border=\"1\" class=\"dataframe\">\n",
       "  <thead>\n",
       "    <tr style=\"text-align: right;\">\n",
       "      <th></th>\n",
       "      <th>departamento</th>\n",
       "      <th>provincia</th>\n",
       "      <th>distrito</th>\n",
       "    </tr>\n",
       "  </thead>\n",
       "  <tbody>\n",
       "    <tr>\n",
       "      <th>0</th>\n",
       "      <td>Amazonas</td>\n",
       "      <td>Chachapoyas</td>\n",
       "      <td>Chachapoyas</td>\n",
       "    </tr>\n",
       "    <tr>\n",
       "      <th>1</th>\n",
       "      <td>Amazonas</td>\n",
       "      <td>Chachapoyas</td>\n",
       "      <td>Asunción</td>\n",
       "    </tr>\n",
       "    <tr>\n",
       "      <th>2</th>\n",
       "      <td>Amazonas</td>\n",
       "      <td>Chachapoyas</td>\n",
       "      <td>Balsas</td>\n",
       "    </tr>\n",
       "    <tr>\n",
       "      <th>3</th>\n",
       "      <td>Amazonas</td>\n",
       "      <td>Chachapoyas</td>\n",
       "      <td>Cheto</td>\n",
       "    </tr>\n",
       "    <tr>\n",
       "      <th>4</th>\n",
       "      <td>Amazonas</td>\n",
       "      <td>Chachapoyas</td>\n",
       "      <td>Chiliquin</td>\n",
       "    </tr>\n",
       "  </tbody>\n",
       "</table>\n",
       "</div>"
      ],
      "text/plain": [
       "  departamento    provincia     distrito\n",
       "0     Amazonas  Chachapoyas  Chachapoyas\n",
       "1     Amazonas  Chachapoyas     Asunción\n",
       "2     Amazonas  Chachapoyas       Balsas\n",
       "3     Amazonas  Chachapoyas        Cheto\n",
       "4     Amazonas  Chachapoyas    Chiliquin"
      ]
     },
     "execution_count": 37,
     "metadata": {},
     "output_type": "execute_result"
    }
   ],
   "source": [
    "places.head()"
   ]
  },
  {
   "cell_type": "code",
   "execution_count": 38,
   "metadata": {},
   "outputs": [],
   "source": [
    "index=[]\n",
    "for i in range(data.shape[0]):\n",
    "    index.append(i)\n",
    "data=data.reindex(index) #modificamos los indices de la data "
   ]
  },
  {
   "cell_type": "code",
   "execution_count": 23,
   "metadata": {},
   "outputs": [],
   "source": [
    "#data.head()"
   ]
  },
  {
   "cell_type": "code",
   "execution_count": 39,
   "metadata": {},
   "outputs": [],
   "source": [
    "for i in range(data.shape[0]): #recorremos todas las filas\n",
    "    for d in range(places.shape[0]): #recorremos todas las filas de nuestro dataframe places\n",
    "               #### inciamos con  Distrito de nuestra \"data\"\n",
    "        #print(\"dato: \"+data['Distrito'][i]+ \" -- \"+ data['Ciudad'][i])\n",
    "        #print(\"places depto: \"+places['departamento'][d])\n",
    "        #print(\"entro\")\n",
    "        if (data['Distrito'][i]==places['distrito'][d]):\n",
    "            #dfn['distrito'][i]=places['distrito'][d]\n",
    "            dfn.loc[i, 'distrito'] = places['distrito'][d]\n",
    "            #print(\"entro1: \"+ \"data: \"+data['Distrito'][i]+ \" places: \"+ places['distrito'][d])\n",
    "            \n",
    "        if (data['Distrito'][i]==places['provincia'][d]):\n",
    "            #dfn['provincia'][i]=places['provincia'][d]\n",
    "            dfn.loc[i, 'provincia'] = places['provincia'][d]\n",
    "            #print(\"entro2: \"+ \"data: \"+data['Distrito'][i]+ \"places: \"+ places['provincia'][d])\n",
    "            \n",
    "        if (data['Distrito'][i]==places['departamento'][d]):\n",
    "            #dfn['departamento'][i]=places['departamento'][d]\n",
    "            dfn.loc[i, 'departamento'] = places['departamento'][d]\n",
    "            #print(\"entro3: \"+ \"data: \"+data['Distrito'][i]+ \"places: \"+ places['departamento'][d])\n",
    "             \n",
    "                #### inciamos con  Ciudad de nuestra \"data\"\n",
    "                \n",
    "        if (data['Ciudad'][i]==places['distrito'][d]):\n",
    "            #dfn['distrito'][i]=places['distrito'][d]\n",
    "            #print(\"entro1: \"+ \"data: \"+data['Ciudad'][i]+ \" places: \"+ places['distrito'][d])\n",
    "            dfn.loc[i, 'distrito'] = places['distrito'][d]\n",
    "            \n",
    "            \n",
    "        if (data['Ciudad'][i]==places['provincia'][d]):\n",
    "            #dfn['provincia'][i]=places['provincia'][d]\n",
    "            dfn.loc[i, 'provincia'] = places['provincia'][d]\n",
    "            #print(\"entro1: \"+ \"data: \"+data['Ciudad'][i]+ \"places: \"+ places['provincia'][d])\n",
    "            \n",
    "        if (data['Ciudad'][i]==places['departamento'][d]):\n",
    "            #dfn['departamento'][i]=places['departamento'][d]\n",
    "            dfn.loc[i, 'departamento'] = places['departamento'][d]\n",
    "            #print(\"entro1: \"+ \"data: \"+data['Ciudad'][i]+ \"places: \"+ places['departamento'][d])\n",
    "            \n",
    "        #print(\"i:\"+str(i)+\"  d: \"+str(d))\n",
    "        \n",
    "        \n",
    "        \n",
    "    "
   ]
  },
  {
   "cell_type": "code",
   "execution_count": 40,
   "metadata": {},
   "outputs": [
    {
     "data": {
      "text/html": [
       "<div>\n",
       "<style scoped>\n",
       "    .dataframe tbody tr th:only-of-type {\n",
       "        vertical-align: middle;\n",
       "    }\n",
       "\n",
       "    .dataframe tbody tr th {\n",
       "        vertical-align: top;\n",
       "    }\n",
       "\n",
       "    .dataframe thead th {\n",
       "        text-align: right;\n",
       "    }\n",
       "</style>\n",
       "<table border=\"1\" class=\"dataframe\">\n",
       "  <thead>\n",
       "    <tr style=\"text-align: right;\">\n",
       "      <th></th>\n",
       "      <th>departamento</th>\n",
       "      <th>provincia</th>\n",
       "      <th>distrito</th>\n",
       "    </tr>\n",
       "  </thead>\n",
       "  <tbody>\n",
       "    <tr>\n",
       "      <th>0</th>\n",
       "      <td>Ica</td>\n",
       "      <td>NaN</td>\n",
       "      <td>La Tinguiña</td>\n",
       "    </tr>\n",
       "    <tr>\n",
       "      <th>1</th>\n",
       "      <td>NaN</td>\n",
       "      <td>NaN</td>\n",
       "      <td>La Molina</td>\n",
       "    </tr>\n",
       "    <tr>\n",
       "      <th>2</th>\n",
       "      <td>NaN</td>\n",
       "      <td>NaN</td>\n",
       "      <td>La Molina</td>\n",
       "    </tr>\n",
       "    <tr>\n",
       "      <th>3</th>\n",
       "      <td>NaN</td>\n",
       "      <td>NaN</td>\n",
       "      <td>San Isidro</td>\n",
       "    </tr>\n",
       "    <tr>\n",
       "      <th>4</th>\n",
       "      <td>NaN</td>\n",
       "      <td>NaN</td>\n",
       "      <td>Santiago de Surco</td>\n",
       "    </tr>\n",
       "  </tbody>\n",
       "</table>\n",
       "</div>"
      ],
      "text/plain": [
       "  departamento provincia           distrito\n",
       "0          Ica       NaN        La Tinguiña\n",
       "1          NaN       NaN          La Molina\n",
       "2          NaN       NaN          La Molina\n",
       "3          NaN       NaN         San Isidro\n",
       "4          NaN       NaN  Santiago de Surco"
      ]
     },
     "execution_count": 40,
     "metadata": {},
     "output_type": "execute_result"
    }
   ],
   "source": [
    "dfn.head()"
   ]
  },
  {
   "cell_type": "code",
   "execution_count": 41,
   "metadata": {},
   "outputs": [
    {
     "data": {
      "text/plain": [
       "(4813, 3)"
      ]
     },
     "execution_count": 41,
     "metadata": {},
     "output_type": "execute_result"
    }
   ],
   "source": [
    "dfn.shape"
   ]
  },
  {
   "cell_type": "code",
   "execution_count": 42,
   "metadata": {},
   "outputs": [
    {
     "data": {
      "text/plain": [
       "(4813, 7)"
      ]
     },
     "execution_count": 42,
     "metadata": {},
     "output_type": "execute_result"
    }
   ],
   "source": [
    "data.shape"
   ]
  },
  {
   "cell_type": "code",
   "execution_count": 43,
   "metadata": {},
   "outputs": [],
   "source": [
    "##llenamos las provincias\n",
    "for i in range(dfn.shape[0]): #recorremos todas las filas\n",
    "    for d in range(places.shape[0]): #recorremos todas las filas de nuestro dataframe places\n",
    "               #### inciamos con  Distrito de nuestra \"data\"\n",
    "        #print(\"dato: \"+data['Distrito'][i]+ \" -- \"+ data['Ciudad'][i])\n",
    "        #print(\"places depto: \"+places['departamento'][d])\n",
    "        #print(\"entro\")\n",
    "        if (dfn['distrito'][i]==places['distrito'][d]):\n",
    "            #dfn['distrito'][i]=places['distrito'][d]\n",
    "            dfn.loc[i, 'provincia'] = places['provincia'][d]\n",
    "       "
   ]
  },
  {
   "cell_type": "code",
   "execution_count": 44,
   "metadata": {},
   "outputs": [],
   "source": [
    "##llenamos los departamentos\n",
    "for i in range(dfn.shape[0]): #recorremos todas las filas\n",
    "    for d in range(places.shape[0]): #recorremos todas las filas de nuestro dataframe places\n",
    "               #### inciamos con  Distrito de nuestra \"data\"\n",
    "        #print(\"dato: \"+data['Distrito'][i]+ \" -- \"+ data['Ciudad'][i])\n",
    "        #print(\"places depto: \"+places['departamento'][d])\n",
    "        #print(\"entro\")\n",
    "        if (dfn['provincia'][i]==places['provincia'][d]):\n",
    "            #dfn['distrito'][i]=places['distrito'][d]\n",
    "            dfn.loc[i, 'departamento'] = places['departamento'][d]"
   ]
  },
  {
   "cell_type": "code",
   "execution_count": 45,
   "metadata": {},
   "outputs": [
    {
     "data": {
      "text/plain": [
       "4717"
      ]
     },
     "execution_count": 45,
     "metadata": {},
     "output_type": "execute_result"
    }
   ],
   "source": [
    "#dfn.head()\n",
    "dfn['distrito'].value_counts().sum()"
   ]
  },
  {
   "cell_type": "code",
   "execution_count": 46,
   "metadata": {},
   "outputs": [
    {
     "data": {
      "text/plain": [
       "4717"
      ]
     },
     "execution_count": 46,
     "metadata": {},
     "output_type": "execute_result"
    }
   ],
   "source": [
    "dfn['departamento'].value_counts().sum()"
   ]
  },
  {
   "cell_type": "code",
   "execution_count": 47,
   "metadata": {},
   "outputs": [
    {
     "data": {
      "text/plain": [
       "4717"
      ]
     },
     "execution_count": 47,
     "metadata": {},
     "output_type": "execute_result"
    }
   ],
   "source": [
    "dfn['provincia'].value_counts().sum()"
   ]
  },
  {
   "cell_type": "code",
   "execution_count": null,
   "metadata": {},
   "outputs": [],
   "source": [
    "#juntamos los dos dataframes"
   ]
  },
  {
   "cell_type": "code",
   "execution_count": 48,
   "metadata": {},
   "outputs": [
    {
     "data": {
      "text/plain": [
       "(4813, 7)"
      ]
     },
     "execution_count": 48,
     "metadata": {},
     "output_type": "execute_result"
    }
   ],
   "source": [
    "data.shape"
   ]
  },
  {
   "cell_type": "code",
   "execution_count": 49,
   "metadata": {},
   "outputs": [],
   "source": [
    "result = pd.concat([data, dfn], axis=1, sort=False)"
   ]
  },
  {
   "cell_type": "code",
   "execution_count": 50,
   "metadata": {},
   "outputs": [
    {
     "data": {
      "text/html": [
       "<div>\n",
       "<style scoped>\n",
       "    .dataframe tbody tr th:only-of-type {\n",
       "        vertical-align: middle;\n",
       "    }\n",
       "\n",
       "    .dataframe tbody tr th {\n",
       "        vertical-align: top;\n",
       "    }\n",
       "\n",
       "    .dataframe thead th {\n",
       "        text-align: right;\n",
       "    }\n",
       "</style>\n",
       "<table border=\"1\" class=\"dataframe\">\n",
       "  <thead>\n",
       "    <tr style=\"text-align: right;\">\n",
       "      <th></th>\n",
       "      <th>l_tag</th>\n",
       "      <th>title</th>\n",
       "      <th>place</th>\n",
       "      <th>price1</th>\n",
       "      <th>mainfeatures</th>\n",
       "      <th>Distrito</th>\n",
       "      <th>Ciudad</th>\n",
       "      <th>departamento</th>\n",
       "      <th>provincia</th>\n",
       "      <th>distrito</th>\n",
       "    </tr>\n",
       "  </thead>\n",
       "  <tbody>\n",
       "    <tr>\n",
       "      <th>0</th>\n",
       "      <td>Proyecto</td>\n",
       "      <td>San Ildefonso de Ica</td>\n",
       "      <td>La Tinguiña, Ica</td>\n",
       "      <td>85.0</td>\n",
       "      <td>57 \\n\\t\\t\\t\\t\\t\\t\\n\\t\\t\\t\\t\\t\\t\\tunidades,2 do...</td>\n",
       "      <td>La Tinguiña</td>\n",
       "      <td>Ica</td>\n",
       "      <td>Ica</td>\n",
       "      <td>Ica</td>\n",
       "      <td>La Tinguiña</td>\n",
       "    </tr>\n",
       "    <tr>\n",
       "      <th>1</th>\n",
       "      <td>Super destacado</td>\n",
       "      <td>Vendo Casa Urb. Santa Patricia 1ra Etapa – La ...</td>\n",
       "      <td>Santa Patricia, La Molina</td>\n",
       "      <td>1582.0</td>\n",
       "      <td>240 m² totales,240 m² techados,4 Dormitorios,3...</td>\n",
       "      <td>Santa Patricia</td>\n",
       "      <td>La Molina</td>\n",
       "      <td>Lima</td>\n",
       "      <td>Lima</td>\n",
       "      <td>La Molina</td>\n",
       "    </tr>\n",
       "    <tr>\n",
       "      <th>2</th>\n",
       "      <td>Super destacado</td>\n",
       "      <td>Venta de Casa en El Sol de La Molina</td>\n",
       "      <td>La Fontana, La Molina</td>\n",
       "      <td>4050.0</td>\n",
       "      <td>1050 m² totales,300 m² techados,0 Dormitorios,...</td>\n",
       "      <td>La Fontana</td>\n",
       "      <td>La Molina</td>\n",
       "      <td>Lima</td>\n",
       "      <td>Lima</td>\n",
       "      <td>La Molina</td>\n",
       "    </tr>\n",
       "    <tr>\n",
       "      <th>3</th>\n",
       "      <td>Super destacado</td>\n",
       "      <td>Rebajada! Venta de Casa en San Isidro</td>\n",
       "      <td>Corpac, San Isidro</td>\n",
       "      <td>2822.0</td>\n",
       "      <td>450 m² totales,450 m² techados,5 Dormitorios,5...</td>\n",
       "      <td>Corpac</td>\n",
       "      <td>San Isidro</td>\n",
       "      <td>Lima</td>\n",
       "      <td>Lima</td>\n",
       "      <td>San Isidro</td>\n",
       "    </tr>\n",
       "    <tr>\n",
       "      <th>4</th>\n",
       "      <td>Super destacado</td>\n",
       "      <td>Venta de Casa en Santiago de Surco</td>\n",
       "      <td>Santa Rosa De Surco, Santiago de Surco</td>\n",
       "      <td>1261.0</td>\n",
       "      <td>300 m² totales,181 m² techados,4 Dormitorios,3...</td>\n",
       "      <td>Santa Rosa De Surco</td>\n",
       "      <td>Santiago de Surco</td>\n",
       "      <td>Lima</td>\n",
       "      <td>Lima</td>\n",
       "      <td>Santiago de Surco</td>\n",
       "    </tr>\n",
       "  </tbody>\n",
       "</table>\n",
       "</div>"
      ],
      "text/plain": [
       "             l_tag                                              title  \\\n",
       "0         Proyecto                               San Ildefonso de Ica   \n",
       "1  Super destacado  Vendo Casa Urb. Santa Patricia 1ra Etapa – La ...   \n",
       "2  Super destacado               Venta de Casa en El Sol de La Molina   \n",
       "3  Super destacado              Rebajada! Venta de Casa en San Isidro   \n",
       "4  Super destacado                 Venta de Casa en Santiago de Surco   \n",
       "\n",
       "                                     place  price1  \\\n",
       "0                         La Tinguiña, Ica    85.0   \n",
       "1                Santa Patricia, La Molina  1582.0   \n",
       "2                    La Fontana, La Molina  4050.0   \n",
       "3                       Corpac, San Isidro  2822.0   \n",
       "4   Santa Rosa De Surco, Santiago de Surco  1261.0   \n",
       "\n",
       "                                        mainfeatures             Distrito  \\\n",
       "0  57 \\n\\t\\t\\t\\t\\t\\t\\n\\t\\t\\t\\t\\t\\t\\tunidades,2 do...          La Tinguiña   \n",
       "1  240 m² totales,240 m² techados,4 Dormitorios,3...       Santa Patricia   \n",
       "2  1050 m² totales,300 m² techados,0 Dormitorios,...           La Fontana   \n",
       "3  450 m² totales,450 m² techados,5 Dormitorios,5...               Corpac   \n",
       "4  300 m² totales,181 m² techados,4 Dormitorios,3...  Santa Rosa De Surco   \n",
       "\n",
       "              Ciudad departamento provincia           distrito  \n",
       "0                Ica          Ica      Ica         La Tinguiña  \n",
       "1          La Molina         Lima     Lima           La Molina  \n",
       "2          La Molina         Lima     Lima           La Molina  \n",
       "3         San Isidro         Lima     Lima          San Isidro  \n",
       "4  Santiago de Surco         Lima     Lima   Santiago de Surco  "
      ]
     },
     "execution_count": 50,
     "metadata": {},
     "output_type": "execute_result"
    }
   ],
   "source": [
    "result.head()"
   ]
  },
  {
   "cell_type": "code",
   "execution_count": 51,
   "metadata": {},
   "outputs": [
    {
     "data": {
      "text/plain": [
       "(4813, 10)"
      ]
     },
     "execution_count": 51,
     "metadata": {},
     "output_type": "execute_result"
    }
   ],
   "source": [
    "result.shape"
   ]
  },
  {
   "cell_type": "code",
   "execution_count": 52,
   "metadata": {},
   "outputs": [
    {
     "data": {
      "text/html": [
       "<div>\n",
       "<style scoped>\n",
       "    .dataframe tbody tr th:only-of-type {\n",
       "        vertical-align: middle;\n",
       "    }\n",
       "\n",
       "    .dataframe tbody tr th {\n",
       "        vertical-align: top;\n",
       "    }\n",
       "\n",
       "    .dataframe thead th {\n",
       "        text-align: right;\n",
       "    }\n",
       "</style>\n",
       "<table border=\"1\" class=\"dataframe\">\n",
       "  <thead>\n",
       "    <tr style=\"text-align: right;\">\n",
       "      <th></th>\n",
       "      <th>l_tag</th>\n",
       "      <th>title</th>\n",
       "      <th>price1</th>\n",
       "      <th>mainfeatures</th>\n",
       "      <th>departamento</th>\n",
       "      <th>provincia</th>\n",
       "      <th>distrito</th>\n",
       "    </tr>\n",
       "  </thead>\n",
       "  <tbody>\n",
       "    <tr>\n",
       "      <th>0</th>\n",
       "      <td>Proyecto</td>\n",
       "      <td>San Ildefonso de Ica</td>\n",
       "      <td>85.0</td>\n",
       "      <td>57 \\n\\t\\t\\t\\t\\t\\t\\n\\t\\t\\t\\t\\t\\t\\tunidades,2 do...</td>\n",
       "      <td>Ica</td>\n",
       "      <td>Ica</td>\n",
       "      <td>La Tinguiña</td>\n",
       "    </tr>\n",
       "    <tr>\n",
       "      <th>1</th>\n",
       "      <td>Super destacado</td>\n",
       "      <td>Vendo Casa Urb. Santa Patricia 1ra Etapa – La ...</td>\n",
       "      <td>1582.0</td>\n",
       "      <td>240 m² totales,240 m² techados,4 Dormitorios,3...</td>\n",
       "      <td>Lima</td>\n",
       "      <td>Lima</td>\n",
       "      <td>La Molina</td>\n",
       "    </tr>\n",
       "    <tr>\n",
       "      <th>2</th>\n",
       "      <td>Super destacado</td>\n",
       "      <td>Venta de Casa en El Sol de La Molina</td>\n",
       "      <td>4050.0</td>\n",
       "      <td>1050 m² totales,300 m² techados,0 Dormitorios,...</td>\n",
       "      <td>Lima</td>\n",
       "      <td>Lima</td>\n",
       "      <td>La Molina</td>\n",
       "    </tr>\n",
       "    <tr>\n",
       "      <th>3</th>\n",
       "      <td>Super destacado</td>\n",
       "      <td>Rebajada! Venta de Casa en San Isidro</td>\n",
       "      <td>2822.0</td>\n",
       "      <td>450 m² totales,450 m² techados,5 Dormitorios,5...</td>\n",
       "      <td>Lima</td>\n",
       "      <td>Lima</td>\n",
       "      <td>San Isidro</td>\n",
       "    </tr>\n",
       "    <tr>\n",
       "      <th>4</th>\n",
       "      <td>Super destacado</td>\n",
       "      <td>Venta de Casa en Santiago de Surco</td>\n",
       "      <td>1261.0</td>\n",
       "      <td>300 m² totales,181 m² techados,4 Dormitorios,3...</td>\n",
       "      <td>Lima</td>\n",
       "      <td>Lima</td>\n",
       "      <td>Santiago de Surco</td>\n",
       "    </tr>\n",
       "  </tbody>\n",
       "</table>\n",
       "</div>"
      ],
      "text/plain": [
       "             l_tag                                              title  price1  \\\n",
       "0         Proyecto                               San Ildefonso de Ica    85.0   \n",
       "1  Super destacado  Vendo Casa Urb. Santa Patricia 1ra Etapa – La ...  1582.0   \n",
       "2  Super destacado               Venta de Casa en El Sol de La Molina  4050.0   \n",
       "3  Super destacado              Rebajada! Venta de Casa en San Isidro  2822.0   \n",
       "4  Super destacado                 Venta de Casa en Santiago de Surco  1261.0   \n",
       "\n",
       "                                        mainfeatures departamento provincia  \\\n",
       "0  57 \\n\\t\\t\\t\\t\\t\\t\\n\\t\\t\\t\\t\\t\\t\\tunidades,2 do...          Ica      Ica    \n",
       "1  240 m² totales,240 m² techados,4 Dormitorios,3...         Lima     Lima    \n",
       "2  1050 m² totales,300 m² techados,0 Dormitorios,...         Lima     Lima    \n",
       "3  450 m² totales,450 m² techados,5 Dormitorios,5...         Lima     Lima    \n",
       "4  300 m² totales,181 m² techados,4 Dormitorios,3...         Lima     Lima    \n",
       "\n",
       "            distrito  \n",
       "0        La Tinguiña  \n",
       "1          La Molina  \n",
       "2          La Molina  \n",
       "3         San Isidro  \n",
       "4  Santiago de Surco  "
      ]
     },
     "execution_count": 52,
     "metadata": {},
     "output_type": "execute_result"
    }
   ],
   "source": [
    "result=result.drop(['Distrito'], axis=1) #eliminamos esta columna con malos datos\n",
    "result=result.drop(['Ciudad'], axis=1) #eliminamos esta columna con malos datos\n",
    "result=result.drop(['place'], axis=1) #eliminamos esta columna que ya no nos sirve\n",
    "result.head()\n"
   ]
  },
  {
   "cell_type": "code",
   "execution_count": 53,
   "metadata": {},
   "outputs": [],
   "source": [
    "result=result.dropna()#ahora sí eliminamos todas las filas que estan vacias"
   ]
  },
  {
   "cell_type": "code",
   "execution_count": 54,
   "metadata": {},
   "outputs": [
    {
     "data": {
      "text/plain": [
       "(4717, 7)"
      ]
     },
     "execution_count": 54,
     "metadata": {},
     "output_type": "execute_result"
    }
   ],
   "source": [
    "result.shape"
   ]
  },
  {
   "cell_type": "code",
   "execution_count": 55,
   "metadata": {},
   "outputs": [],
   "source": [
    "result[\"price1\"]= pd.to_numeric(result[\"price1\"])"
   ]
  },
  {
   "cell_type": "code",
   "execution_count": 56,
   "metadata": {},
   "outputs": [
    {
     "data": {
      "text/html": [
       "<div>\n",
       "<style scoped>\n",
       "    .dataframe tbody tr th:only-of-type {\n",
       "        vertical-align: middle;\n",
       "    }\n",
       "\n",
       "    .dataframe tbody tr th {\n",
       "        vertical-align: top;\n",
       "    }\n",
       "\n",
       "    .dataframe thead th {\n",
       "        text-align: right;\n",
       "    }\n",
       "</style>\n",
       "<table border=\"1\" class=\"dataframe\">\n",
       "  <thead>\n",
       "    <tr style=\"text-align: right;\">\n",
       "      <th></th>\n",
       "      <th>l_tag</th>\n",
       "      <th>title</th>\n",
       "      <th>price1</th>\n",
       "      <th>mainfeatures</th>\n",
       "      <th>departamento</th>\n",
       "      <th>provincia</th>\n",
       "      <th>distrito</th>\n",
       "    </tr>\n",
       "  </thead>\n",
       "  <tbody>\n",
       "    <tr>\n",
       "      <th>0</th>\n",
       "      <td>Proyecto</td>\n",
       "      <td>San Ildefonso de Ica</td>\n",
       "      <td>85.0</td>\n",
       "      <td>57 \\n\\t\\t\\t\\t\\t\\t\\n\\t\\t\\t\\t\\t\\t\\tunidades,2 do...</td>\n",
       "      <td>Ica</td>\n",
       "      <td>Ica</td>\n",
       "      <td>La Tinguiña</td>\n",
       "    </tr>\n",
       "    <tr>\n",
       "      <th>1</th>\n",
       "      <td>Super destacado</td>\n",
       "      <td>Vendo Casa Urb. Santa Patricia 1ra Etapa – La ...</td>\n",
       "      <td>1582.0</td>\n",
       "      <td>240 m² totales,240 m² techados,4 Dormitorios,3...</td>\n",
       "      <td>Lima</td>\n",
       "      <td>Lima</td>\n",
       "      <td>La Molina</td>\n",
       "    </tr>\n",
       "    <tr>\n",
       "      <th>2</th>\n",
       "      <td>Super destacado</td>\n",
       "      <td>Venta de Casa en El Sol de La Molina</td>\n",
       "      <td>4050.0</td>\n",
       "      <td>1050 m² totales,300 m² techados,0 Dormitorios,...</td>\n",
       "      <td>Lima</td>\n",
       "      <td>Lima</td>\n",
       "      <td>La Molina</td>\n",
       "    </tr>\n",
       "    <tr>\n",
       "      <th>3</th>\n",
       "      <td>Super destacado</td>\n",
       "      <td>Rebajada! Venta de Casa en San Isidro</td>\n",
       "      <td>2822.0</td>\n",
       "      <td>450 m² totales,450 m² techados,5 Dormitorios,5...</td>\n",
       "      <td>Lima</td>\n",
       "      <td>Lima</td>\n",
       "      <td>San Isidro</td>\n",
       "    </tr>\n",
       "    <tr>\n",
       "      <th>4</th>\n",
       "      <td>Super destacado</td>\n",
       "      <td>Venta de Casa en Santiago de Surco</td>\n",
       "      <td>1261.0</td>\n",
       "      <td>300 m² totales,181 m² techados,4 Dormitorios,3...</td>\n",
       "      <td>Lima</td>\n",
       "      <td>Lima</td>\n",
       "      <td>Santiago de Surco</td>\n",
       "    </tr>\n",
       "  </tbody>\n",
       "</table>\n",
       "</div>"
      ],
      "text/plain": [
       "             l_tag                                              title  price1  \\\n",
       "0         Proyecto                               San Ildefonso de Ica    85.0   \n",
       "1  Super destacado  Vendo Casa Urb. Santa Patricia 1ra Etapa – La ...  1582.0   \n",
       "2  Super destacado               Venta de Casa en El Sol de La Molina  4050.0   \n",
       "3  Super destacado              Rebajada! Venta de Casa en San Isidro  2822.0   \n",
       "4  Super destacado                 Venta de Casa en Santiago de Surco  1261.0   \n",
       "\n",
       "                                        mainfeatures departamento provincia  \\\n",
       "0  57 \\n\\t\\t\\t\\t\\t\\t\\n\\t\\t\\t\\t\\t\\t\\tunidades,2 do...          Ica      Ica    \n",
       "1  240 m² totales,240 m² techados,4 Dormitorios,3...         Lima     Lima    \n",
       "2  1050 m² totales,300 m² techados,0 Dormitorios,...         Lima     Lima    \n",
       "3  450 m² totales,450 m² techados,5 Dormitorios,5...         Lima     Lima    \n",
       "4  300 m² totales,181 m² techados,4 Dormitorios,3...         Lima     Lima    \n",
       "\n",
       "            distrito  \n",
       "0        La Tinguiña  \n",
       "1          La Molina  \n",
       "2          La Molina  \n",
       "3         San Isidro  \n",
       "4  Santiago de Surco  "
      ]
     },
     "execution_count": 56,
     "metadata": {},
     "output_type": "execute_result"
    }
   ],
   "source": [
    "result.head()"
   ]
  },
  {
   "cell_type": "code",
   "execution_count": 57,
   "metadata": {},
   "outputs": [],
   "source": [
    "dft=result.dropna()"
   ]
  },
  {
   "cell_type": "code",
   "execution_count": 58,
   "metadata": {},
   "outputs": [
    {
     "data": {
      "text/html": [
       "<div>\n",
       "<style scoped>\n",
       "    .dataframe tbody tr th:only-of-type {\n",
       "        vertical-align: middle;\n",
       "    }\n",
       "\n",
       "    .dataframe tbody tr th {\n",
       "        vertical-align: top;\n",
       "    }\n",
       "\n",
       "    .dataframe thead th {\n",
       "        text-align: right;\n",
       "    }\n",
       "</style>\n",
       "<table border=\"1\" class=\"dataframe\">\n",
       "  <thead>\n",
       "    <tr style=\"text-align: right;\">\n",
       "      <th></th>\n",
       "      <th>l_tag</th>\n",
       "      <th>title</th>\n",
       "      <th>price1</th>\n",
       "      <th>mainfeatures</th>\n",
       "      <th>departamento</th>\n",
       "      <th>provincia</th>\n",
       "      <th>distrito</th>\n",
       "    </tr>\n",
       "  </thead>\n",
       "  <tbody>\n",
       "    <tr>\n",
       "      <th>0</th>\n",
       "      <td>Proyecto</td>\n",
       "      <td>San Ildefonso de Ica</td>\n",
       "      <td>85.0</td>\n",
       "      <td>57 \\n\\t\\t\\t\\t\\t\\t\\n\\t\\t\\t\\t\\t\\t\\tunidades,2 do...</td>\n",
       "      <td>Ica</td>\n",
       "      <td>Ica</td>\n",
       "      <td>La Tinguiña</td>\n",
       "    </tr>\n",
       "    <tr>\n",
       "      <th>1</th>\n",
       "      <td>Super destacado</td>\n",
       "      <td>Vendo Casa Urb. Santa Patricia 1ra Etapa – La ...</td>\n",
       "      <td>1582.0</td>\n",
       "      <td>240 m² totales,240 m² techados,4 Dormitorios,3...</td>\n",
       "      <td>Lima</td>\n",
       "      <td>Lima</td>\n",
       "      <td>La Molina</td>\n",
       "    </tr>\n",
       "    <tr>\n",
       "      <th>2</th>\n",
       "      <td>Super destacado</td>\n",
       "      <td>Venta de Casa en El Sol de La Molina</td>\n",
       "      <td>4050.0</td>\n",
       "      <td>1050 m² totales,300 m² techados,0 Dormitorios,...</td>\n",
       "      <td>Lima</td>\n",
       "      <td>Lima</td>\n",
       "      <td>La Molina</td>\n",
       "    </tr>\n",
       "    <tr>\n",
       "      <th>3</th>\n",
       "      <td>Super destacado</td>\n",
       "      <td>Rebajada! Venta de Casa en San Isidro</td>\n",
       "      <td>2822.0</td>\n",
       "      <td>450 m² totales,450 m² techados,5 Dormitorios,5...</td>\n",
       "      <td>Lima</td>\n",
       "      <td>Lima</td>\n",
       "      <td>San Isidro</td>\n",
       "    </tr>\n",
       "    <tr>\n",
       "      <th>4</th>\n",
       "      <td>Super destacado</td>\n",
       "      <td>Venta de Casa en Santiago de Surco</td>\n",
       "      <td>1261.0</td>\n",
       "      <td>300 m² totales,181 m² techados,4 Dormitorios,3...</td>\n",
       "      <td>Lima</td>\n",
       "      <td>Lima</td>\n",
       "      <td>Santiago de Surco</td>\n",
       "    </tr>\n",
       "  </tbody>\n",
       "</table>\n",
       "</div>"
      ],
      "text/plain": [
       "             l_tag                                              title  price1  \\\n",
       "0         Proyecto                               San Ildefonso de Ica    85.0   \n",
       "1  Super destacado  Vendo Casa Urb. Santa Patricia 1ra Etapa – La ...  1582.0   \n",
       "2  Super destacado               Venta de Casa en El Sol de La Molina  4050.0   \n",
       "3  Super destacado              Rebajada! Venta de Casa en San Isidro  2822.0   \n",
       "4  Super destacado                 Venta de Casa en Santiago de Surco  1261.0   \n",
       "\n",
       "                                        mainfeatures departamento provincia  \\\n",
       "0  57 \\n\\t\\t\\t\\t\\t\\t\\n\\t\\t\\t\\t\\t\\t\\tunidades,2 do...          Ica      Ica    \n",
       "1  240 m² totales,240 m² techados,4 Dormitorios,3...         Lima     Lima    \n",
       "2  1050 m² totales,300 m² techados,0 Dormitorios,...         Lima     Lima    \n",
       "3  450 m² totales,450 m² techados,5 Dormitorios,5...         Lima     Lima    \n",
       "4  300 m² totales,181 m² techados,4 Dormitorios,3...         Lima     Lima    \n",
       "\n",
       "            distrito  \n",
       "0        La Tinguiña  \n",
       "1          La Molina  \n",
       "2          La Molina  \n",
       "3         San Isidro  \n",
       "4  Santiago de Surco  "
      ]
     },
     "execution_count": 58,
     "metadata": {},
     "output_type": "execute_result"
    }
   ],
   "source": [
    "dft.head()"
   ]
  },
  {
   "cell_type": "code",
   "execution_count": 59,
   "metadata": {},
   "outputs": [],
   "source": [
    "index=[]\n",
    "for i in range(dft.shape[0]):\n",
    "    index.append(i)\n",
    "dft=dft.reindex(index) #modificamos los indices de la data "
   ]
  },
  {
   "cell_type": "code",
   "execution_count": 60,
   "metadata": {},
   "outputs": [
    {
     "data": {
      "text/html": [
       "<div>\n",
       "<style scoped>\n",
       "    .dataframe tbody tr th:only-of-type {\n",
       "        vertical-align: middle;\n",
       "    }\n",
       "\n",
       "    .dataframe tbody tr th {\n",
       "        vertical-align: top;\n",
       "    }\n",
       "\n",
       "    .dataframe thead th {\n",
       "        text-align: right;\n",
       "    }\n",
       "</style>\n",
       "<table border=\"1\" class=\"dataframe\">\n",
       "  <thead>\n",
       "    <tr style=\"text-align: right;\">\n",
       "      <th></th>\n",
       "      <th>l_tag</th>\n",
       "      <th>title</th>\n",
       "      <th>price1</th>\n",
       "      <th>mainfeatures</th>\n",
       "      <th>departamento</th>\n",
       "      <th>provincia</th>\n",
       "      <th>distrito</th>\n",
       "    </tr>\n",
       "  </thead>\n",
       "  <tbody>\n",
       "    <tr>\n",
       "      <th>0</th>\n",
       "      <td>Proyecto</td>\n",
       "      <td>San Ildefonso de Ica</td>\n",
       "      <td>85.0</td>\n",
       "      <td>57 \\n\\t\\t\\t\\t\\t\\t\\n\\t\\t\\t\\t\\t\\t\\tunidades,2 do...</td>\n",
       "      <td>Ica</td>\n",
       "      <td>Ica</td>\n",
       "      <td>La Tinguiña</td>\n",
       "    </tr>\n",
       "    <tr>\n",
       "      <th>1</th>\n",
       "      <td>Super destacado</td>\n",
       "      <td>Vendo Casa Urb. Santa Patricia 1ra Etapa – La ...</td>\n",
       "      <td>1582.0</td>\n",
       "      <td>240 m² totales,240 m² techados,4 Dormitorios,3...</td>\n",
       "      <td>Lima</td>\n",
       "      <td>Lima</td>\n",
       "      <td>La Molina</td>\n",
       "    </tr>\n",
       "    <tr>\n",
       "      <th>2</th>\n",
       "      <td>Super destacado</td>\n",
       "      <td>Venta de Casa en El Sol de La Molina</td>\n",
       "      <td>4050.0</td>\n",
       "      <td>1050 m² totales,300 m² techados,0 Dormitorios,...</td>\n",
       "      <td>Lima</td>\n",
       "      <td>Lima</td>\n",
       "      <td>La Molina</td>\n",
       "    </tr>\n",
       "    <tr>\n",
       "      <th>3</th>\n",
       "      <td>Super destacado</td>\n",
       "      <td>Rebajada! Venta de Casa en San Isidro</td>\n",
       "      <td>2822.0</td>\n",
       "      <td>450 m² totales,450 m² techados,5 Dormitorios,5...</td>\n",
       "      <td>Lima</td>\n",
       "      <td>Lima</td>\n",
       "      <td>San Isidro</td>\n",
       "    </tr>\n",
       "    <tr>\n",
       "      <th>4</th>\n",
       "      <td>Super destacado</td>\n",
       "      <td>Venta de Casa en Santiago de Surco</td>\n",
       "      <td>1261.0</td>\n",
       "      <td>300 m² totales,181 m² techados,4 Dormitorios,3...</td>\n",
       "      <td>Lima</td>\n",
       "      <td>Lima</td>\n",
       "      <td>Santiago de Surco</td>\n",
       "    </tr>\n",
       "  </tbody>\n",
       "</table>\n",
       "</div>"
      ],
      "text/plain": [
       "             l_tag                                              title  price1  \\\n",
       "0         Proyecto                               San Ildefonso de Ica    85.0   \n",
       "1  Super destacado  Vendo Casa Urb. Santa Patricia 1ra Etapa – La ...  1582.0   \n",
       "2  Super destacado               Venta de Casa en El Sol de La Molina  4050.0   \n",
       "3  Super destacado              Rebajada! Venta de Casa en San Isidro  2822.0   \n",
       "4  Super destacado                 Venta de Casa en Santiago de Surco  1261.0   \n",
       "\n",
       "                                        mainfeatures departamento provincia  \\\n",
       "0  57 \\n\\t\\t\\t\\t\\t\\t\\n\\t\\t\\t\\t\\t\\t\\tunidades,2 do...          Ica      Ica    \n",
       "1  240 m² totales,240 m² techados,4 Dormitorios,3...         Lima     Lima    \n",
       "2  1050 m² totales,300 m² techados,0 Dormitorios,...         Lima     Lima    \n",
       "3  450 m² totales,450 m² techados,5 Dormitorios,5...         Lima     Lima    \n",
       "4  300 m² totales,181 m² techados,4 Dormitorios,3...         Lima     Lima    \n",
       "\n",
       "            distrito  \n",
       "0        La Tinguiña  \n",
       "1          La Molina  \n",
       "2          La Molina  \n",
       "3         San Isidro  \n",
       "4  Santiago de Surco  "
      ]
     },
     "execution_count": 60,
     "metadata": {},
     "output_type": "execute_result"
    }
   ],
   "source": [
    "dft.head()"
   ]
  },
  {
   "cell_type": "code",
   "execution_count": 61,
   "metadata": {},
   "outputs": [
    {
     "name": "stderr",
     "output_type": "stream",
     "text": [
      "D:\\ANACONDA\\lib\\site-packages\\ipykernel_launcher.py:3: FutureWarning: Columnar iteration over characters will be deprecated in future releases.\n",
      "  This is separate from the ipykernel package so we can avoid doing imports until\n"
     ]
    },
    {
     "data": {
      "text/html": [
       "<div>\n",
       "<style scoped>\n",
       "    .dataframe tbody tr th:only-of-type {\n",
       "        vertical-align: middle;\n",
       "    }\n",
       "\n",
       "    .dataframe tbody tr th {\n",
       "        vertical-align: top;\n",
       "    }\n",
       "\n",
       "    .dataframe thead th {\n",
       "        text-align: right;\n",
       "    }\n",
       "</style>\n",
       "<table border=\"1\" class=\"dataframe\">\n",
       "  <thead>\n",
       "    <tr style=\"text-align: right;\">\n",
       "      <th></th>\n",
       "      <th>l_tag</th>\n",
       "      <th>title</th>\n",
       "      <th>price1</th>\n",
       "      <th>mainfeatures</th>\n",
       "      <th>departamento</th>\n",
       "      <th>provincia</th>\n",
       "      <th>distrito</th>\n",
       "      <th>metros</th>\n",
       "      <th>techados</th>\n",
       "      <th>dormitorios</th>\n",
       "      <th>baños</th>\n",
       "      <th>estacionamientos</th>\n",
       "    </tr>\n",
       "  </thead>\n",
       "  <tbody>\n",
       "    <tr>\n",
       "      <th>0</th>\n",
       "      <td>Proyecto</td>\n",
       "      <td>San Ildefonso de Ica</td>\n",
       "      <td>85.0</td>\n",
       "      <td>57 \\n\\t\\t\\t\\t\\t\\t\\n\\t\\t\\t\\t\\t\\t\\tunidades,2 do...</td>\n",
       "      <td>Ica</td>\n",
       "      <td>Ica</td>\n",
       "      <td>La Tinguiña</td>\n",
       "      <td>57 \\n\\t\\t\\t\\t\\t\\t\\n\\t\\t\\t\\t\\t\\t\\tunidades</td>\n",
       "      <td>2 dormitorios</td>\n",
       "      <td>30 \\n\\t\\t\\t\\t\\t\\t\\t\\n\\t\\t\\t\\t\\t\\t\\tm² techados</td>\n",
       "      <td>83 \\n\\t\\t\\t\\t\\t\\t\\t\\n\\t\\t\\t\\t\\t\\t\\tm² totales</td>\n",
       "      <td></td>\n",
       "    </tr>\n",
       "    <tr>\n",
       "      <th>1</th>\n",
       "      <td>Super destacado</td>\n",
       "      <td>Vendo Casa Urb. Santa Patricia 1ra Etapa – La ...</td>\n",
       "      <td>1582.0</td>\n",
       "      <td>240 m² totales,240 m² techados,4 Dormitorios,3...</td>\n",
       "      <td>Lima</td>\n",
       "      <td>Lima</td>\n",
       "      <td>La Molina</td>\n",
       "      <td>240 m² totales</td>\n",
       "      <td>240 m² techados</td>\n",
       "      <td>4 Dormitorios</td>\n",
       "      <td>3 Baños</td>\n",
       "      <td>1 Estacionamiento,</td>\n",
       "    </tr>\n",
       "    <tr>\n",
       "      <th>2</th>\n",
       "      <td>Super destacado</td>\n",
       "      <td>Venta de Casa en El Sol de La Molina</td>\n",
       "      <td>4050.0</td>\n",
       "      <td>1050 m² totales,300 m² techados,0 Dormitorios,...</td>\n",
       "      <td>Lima</td>\n",
       "      <td>Lima</td>\n",
       "      <td>La Molina</td>\n",
       "      <td>1050 m² totales</td>\n",
       "      <td>300 m² techados</td>\n",
       "      <td>0 Dormitorios</td>\n",
       "      <td>0 Baños</td>\n",
       "      <td></td>\n",
       "    </tr>\n",
       "    <tr>\n",
       "      <th>3</th>\n",
       "      <td>Super destacado</td>\n",
       "      <td>Rebajada! Venta de Casa en San Isidro</td>\n",
       "      <td>2822.0</td>\n",
       "      <td>450 m² totales,450 m² techados,5 Dormitorios,5...</td>\n",
       "      <td>Lima</td>\n",
       "      <td>Lima</td>\n",
       "      <td>San Isidro</td>\n",
       "      <td>450 m² totales</td>\n",
       "      <td>450 m² techados</td>\n",
       "      <td>5 Dormitorios</td>\n",
       "      <td>5 Baños</td>\n",
       "      <td>3 Estacionamientos,</td>\n",
       "    </tr>\n",
       "    <tr>\n",
       "      <th>4</th>\n",
       "      <td>Super destacado</td>\n",
       "      <td>Venta de Casa en Santiago de Surco</td>\n",
       "      <td>1261.0</td>\n",
       "      <td>300 m² totales,181 m² techados,4 Dormitorios,3...</td>\n",
       "      <td>Lima</td>\n",
       "      <td>Lima</td>\n",
       "      <td>Santiago de Surco</td>\n",
       "      <td>300 m² totales</td>\n",
       "      <td>181 m² techados</td>\n",
       "      <td>4 Dormitorios</td>\n",
       "      <td>3 Baños</td>\n",
       "      <td></td>\n",
       "    </tr>\n",
       "  </tbody>\n",
       "</table>\n",
       "</div>"
      ],
      "text/plain": [
       "             l_tag                                              title  price1  \\\n",
       "0         Proyecto                               San Ildefonso de Ica    85.0   \n",
       "1  Super destacado  Vendo Casa Urb. Santa Patricia 1ra Etapa – La ...  1582.0   \n",
       "2  Super destacado               Venta de Casa en El Sol de La Molina  4050.0   \n",
       "3  Super destacado              Rebajada! Venta de Casa en San Isidro  2822.0   \n",
       "4  Super destacado                 Venta de Casa en Santiago de Surco  1261.0   \n",
       "\n",
       "                                        mainfeatures departamento provincia  \\\n",
       "0  57 \\n\\t\\t\\t\\t\\t\\t\\n\\t\\t\\t\\t\\t\\t\\tunidades,2 do...          Ica      Ica    \n",
       "1  240 m² totales,240 m² techados,4 Dormitorios,3...         Lima     Lima    \n",
       "2  1050 m² totales,300 m² techados,0 Dormitorios,...         Lima     Lima    \n",
       "3  450 m² totales,450 m² techados,5 Dormitorios,5...         Lima     Lima    \n",
       "4  300 m² totales,181 m² techados,4 Dormitorios,3...         Lima     Lima    \n",
       "\n",
       "            distrito                                     metros  \\\n",
       "0        La Tinguiña  57 \\n\\t\\t\\t\\t\\t\\t\\n\\t\\t\\t\\t\\t\\t\\tunidades   \n",
       "1          La Molina                             240 m² totales   \n",
       "2          La Molina                            1050 m² totales   \n",
       "3         San Isidro                             450 m² totales   \n",
       "4  Santiago de Surco                             300 m² totales   \n",
       "\n",
       "          techados                                     dormitorios  \\\n",
       "0    2 dormitorios  30 \\n\\t\\t\\t\\t\\t\\t\\t\\n\\t\\t\\t\\t\\t\\t\\tm² techados   \n",
       "1  240 m² techados                                   4 Dormitorios   \n",
       "2  300 m² techados                                   0 Dormitorios   \n",
       "3  450 m² techados                                   5 Dormitorios   \n",
       "4  181 m² techados                                   4 Dormitorios   \n",
       "\n",
       "                                           baños     estacionamientos  \n",
       "0  83 \\n\\t\\t\\t\\t\\t\\t\\t\\n\\t\\t\\t\\t\\t\\t\\tm² totales                       \n",
       "1                                        3 Baños   1 Estacionamiento,  \n",
       "2                                        0 Baños                       \n",
       "3                                        5 Baños  3 Estacionamientos,  \n",
       "4                                        3 Baños                       "
      ]
     },
     "execution_count": 61,
     "metadata": {},
     "output_type": "execute_result"
    }
   ],
   "source": [
    "#result['mainfeatures']\n",
    "df=result\n",
    "df['metros'], df['techados'], df['dormitorios'] , df['baños'] , df['estacionamientos'] = result['mainfeatures'].str.split(',',4).str\n",
    "df.head()"
   ]
  },
  {
   "cell_type": "code",
   "execution_count": 62,
   "metadata": {},
   "outputs": [],
   "source": [
    "#df.index.values\n",
    "df=df.dropna()#eliminamos vacios"
   ]
  },
  {
   "cell_type": "code",
   "execution_count": 63,
   "metadata": {},
   "outputs": [
    {
     "data": {
      "text/html": [
       "<div>\n",
       "<style scoped>\n",
       "    .dataframe tbody tr th:only-of-type {\n",
       "        vertical-align: middle;\n",
       "    }\n",
       "\n",
       "    .dataframe tbody tr th {\n",
       "        vertical-align: top;\n",
       "    }\n",
       "\n",
       "    .dataframe thead th {\n",
       "        text-align: right;\n",
       "    }\n",
       "</style>\n",
       "<table border=\"1\" class=\"dataframe\">\n",
       "  <thead>\n",
       "    <tr style=\"text-align: right;\">\n",
       "      <th></th>\n",
       "      <th>l_tag</th>\n",
       "      <th>title</th>\n",
       "      <th>price1</th>\n",
       "      <th>mainfeatures</th>\n",
       "      <th>departamento</th>\n",
       "      <th>provincia</th>\n",
       "      <th>distrito</th>\n",
       "      <th>metros</th>\n",
       "      <th>techados</th>\n",
       "      <th>dormitorios</th>\n",
       "      <th>baños</th>\n",
       "      <th>estacionamientos</th>\n",
       "    </tr>\n",
       "  </thead>\n",
       "  <tbody>\n",
       "    <tr>\n",
       "      <th>0</th>\n",
       "      <td>Proyecto</td>\n",
       "      <td>San Ildefonso de Ica</td>\n",
       "      <td>85.0</td>\n",
       "      <td>57 \\n\\t\\t\\t\\t\\t\\t\\n\\t\\t\\t\\t\\t\\t\\tunidades,2 do...</td>\n",
       "      <td>Ica</td>\n",
       "      <td>Ica</td>\n",
       "      <td>La Tinguiña</td>\n",
       "      <td>57 \\n\\t\\t\\t\\t\\t\\t\\n\\t\\t\\t\\t\\t\\t\\tunidades</td>\n",
       "      <td>2 dormitorios</td>\n",
       "      <td>30 \\n\\t\\t\\t\\t\\t\\t\\t\\n\\t\\t\\t\\t\\t\\t\\tm² techados</td>\n",
       "      <td>83 \\n\\t\\t\\t\\t\\t\\t\\t\\n\\t\\t\\t\\t\\t\\t\\tm² totales</td>\n",
       "      <td></td>\n",
       "    </tr>\n",
       "    <tr>\n",
       "      <th>1</th>\n",
       "      <td>Super destacado</td>\n",
       "      <td>Vendo Casa Urb. Santa Patricia 1ra Etapa – La ...</td>\n",
       "      <td>1582.0</td>\n",
       "      <td>240 m² totales,240 m² techados,4 Dormitorios,3...</td>\n",
       "      <td>Lima</td>\n",
       "      <td>Lima</td>\n",
       "      <td>La Molina</td>\n",
       "      <td>240 m² totales</td>\n",
       "      <td>240 m² techados</td>\n",
       "      <td>4 Dormitorios</td>\n",
       "      <td>3 Baños</td>\n",
       "      <td>1 Estacionamiento,</td>\n",
       "    </tr>\n",
       "    <tr>\n",
       "      <th>2</th>\n",
       "      <td>Super destacado</td>\n",
       "      <td>Venta de Casa en El Sol de La Molina</td>\n",
       "      <td>4050.0</td>\n",
       "      <td>1050 m² totales,300 m² techados,0 Dormitorios,...</td>\n",
       "      <td>Lima</td>\n",
       "      <td>Lima</td>\n",
       "      <td>La Molina</td>\n",
       "      <td>1050 m² totales</td>\n",
       "      <td>300 m² techados</td>\n",
       "      <td>0 Dormitorios</td>\n",
       "      <td>0 Baños</td>\n",
       "      <td></td>\n",
       "    </tr>\n",
       "    <tr>\n",
       "      <th>3</th>\n",
       "      <td>Super destacado</td>\n",
       "      <td>Rebajada! Venta de Casa en San Isidro</td>\n",
       "      <td>2822.0</td>\n",
       "      <td>450 m² totales,450 m² techados,5 Dormitorios,5...</td>\n",
       "      <td>Lima</td>\n",
       "      <td>Lima</td>\n",
       "      <td>San Isidro</td>\n",
       "      <td>450 m² totales</td>\n",
       "      <td>450 m² techados</td>\n",
       "      <td>5 Dormitorios</td>\n",
       "      <td>5 Baños</td>\n",
       "      <td>3 Estacionamientos,</td>\n",
       "    </tr>\n",
       "    <tr>\n",
       "      <th>4</th>\n",
       "      <td>Super destacado</td>\n",
       "      <td>Venta de Casa en Santiago de Surco</td>\n",
       "      <td>1261.0</td>\n",
       "      <td>300 m² totales,181 m² techados,4 Dormitorios,3...</td>\n",
       "      <td>Lima</td>\n",
       "      <td>Lima</td>\n",
       "      <td>Santiago de Surco</td>\n",
       "      <td>300 m² totales</td>\n",
       "      <td>181 m² techados</td>\n",
       "      <td>4 Dormitorios</td>\n",
       "      <td>3 Baños</td>\n",
       "      <td></td>\n",
       "    </tr>\n",
       "  </tbody>\n",
       "</table>\n",
       "</div>"
      ],
      "text/plain": [
       "             l_tag                                              title  price1  \\\n",
       "0         Proyecto                               San Ildefonso de Ica    85.0   \n",
       "1  Super destacado  Vendo Casa Urb. Santa Patricia 1ra Etapa – La ...  1582.0   \n",
       "2  Super destacado               Venta de Casa en El Sol de La Molina  4050.0   \n",
       "3  Super destacado              Rebajada! Venta de Casa en San Isidro  2822.0   \n",
       "4  Super destacado                 Venta de Casa en Santiago de Surco  1261.0   \n",
       "\n",
       "                                        mainfeatures departamento provincia  \\\n",
       "0  57 \\n\\t\\t\\t\\t\\t\\t\\n\\t\\t\\t\\t\\t\\t\\tunidades,2 do...          Ica      Ica    \n",
       "1  240 m² totales,240 m² techados,4 Dormitorios,3...         Lima     Lima    \n",
       "2  1050 m² totales,300 m² techados,0 Dormitorios,...         Lima     Lima    \n",
       "3  450 m² totales,450 m² techados,5 Dormitorios,5...         Lima     Lima    \n",
       "4  300 m² totales,181 m² techados,4 Dormitorios,3...         Lima     Lima    \n",
       "\n",
       "            distrito                                     metros  \\\n",
       "0        La Tinguiña  57 \\n\\t\\t\\t\\t\\t\\t\\n\\t\\t\\t\\t\\t\\t\\tunidades   \n",
       "1          La Molina                             240 m² totales   \n",
       "2          La Molina                            1050 m² totales   \n",
       "3         San Isidro                             450 m² totales   \n",
       "4  Santiago de Surco                             300 m² totales   \n",
       "\n",
       "          techados                                     dormitorios  \\\n",
       "0    2 dormitorios  30 \\n\\t\\t\\t\\t\\t\\t\\t\\n\\t\\t\\t\\t\\t\\t\\tm² techados   \n",
       "1  240 m² techados                                   4 Dormitorios   \n",
       "2  300 m² techados                                   0 Dormitorios   \n",
       "3  450 m² techados                                   5 Dormitorios   \n",
       "4  181 m² techados                                   4 Dormitorios   \n",
       "\n",
       "                                           baños     estacionamientos  \n",
       "0  83 \\n\\t\\t\\t\\t\\t\\t\\t\\n\\t\\t\\t\\t\\t\\t\\tm² totales                       \n",
       "1                                        3 Baños   1 Estacionamiento,  \n",
       "2                                        0 Baños                       \n",
       "3                                        5 Baños  3 Estacionamientos,  \n",
       "4                                        3 Baños                       "
      ]
     },
     "execution_count": 63,
     "metadata": {},
     "output_type": "execute_result"
    }
   ],
   "source": [
    "df=df.reset_index(drop=True)\n",
    "df.head()"
   ]
  },
  {
   "cell_type": "code",
   "execution_count": 64,
   "metadata": {},
   "outputs": [
    {
     "name": "stderr",
     "output_type": "stream",
     "text": [
      "D:\\ANACONDA\\lib\\site-packages\\ipykernel_launcher.py:2: SettingWithCopyWarning: \n",
      "A value is trying to be set on a copy of a slice from a DataFrame\n",
      "\n",
      "See the caveats in the documentation: https://pandas.pydata.org/pandas-docs/stable/user_guide/indexing.html#returning-a-view-versus-a-copy\n",
      "  \n"
     ]
    }
   ],
   "source": [
    "for i in range(df.shape[0]):\n",
    "    df['metros'][i]=df['metros'][i].replace(\"m² totales\", \"\")"
   ]
  },
  {
   "cell_type": "code",
   "execution_count": 65,
   "metadata": {},
   "outputs": [],
   "source": [
    "df=df.drop(['mainfeatures'], axis=1) #eliminamos esta columna que ya tenemos segmentada"
   ]
  },
  {
   "cell_type": "code",
   "execution_count": 66,
   "metadata": {},
   "outputs": [
    {
     "data": {
      "text/html": [
       "<div>\n",
       "<style scoped>\n",
       "    .dataframe tbody tr th:only-of-type {\n",
       "        vertical-align: middle;\n",
       "    }\n",
       "\n",
       "    .dataframe tbody tr th {\n",
       "        vertical-align: top;\n",
       "    }\n",
       "\n",
       "    .dataframe thead th {\n",
       "        text-align: right;\n",
       "    }\n",
       "</style>\n",
       "<table border=\"1\" class=\"dataframe\">\n",
       "  <thead>\n",
       "    <tr style=\"text-align: right;\">\n",
       "      <th></th>\n",
       "      <th>l_tag</th>\n",
       "      <th>title</th>\n",
       "      <th>price1</th>\n",
       "      <th>departamento</th>\n",
       "      <th>provincia</th>\n",
       "      <th>distrito</th>\n",
       "      <th>metros</th>\n",
       "      <th>techados</th>\n",
       "      <th>dormitorios</th>\n",
       "      <th>baños</th>\n",
       "      <th>estacionamientos</th>\n",
       "    </tr>\n",
       "  </thead>\n",
       "  <tbody>\n",
       "    <tr>\n",
       "      <th>0</th>\n",
       "      <td>Proyecto</td>\n",
       "      <td>San Ildefonso de Ica</td>\n",
       "      <td>85.0</td>\n",
       "      <td>Ica</td>\n",
       "      <td>Ica</td>\n",
       "      <td>La Tinguiña</td>\n",
       "      <td>57 \\n\\t\\t\\t\\t\\t\\t\\n\\t\\t\\t\\t\\t\\t\\tunidades</td>\n",
       "      <td>2 dormitorios</td>\n",
       "      <td>30 \\n\\t\\t\\t\\t\\t\\t\\t\\n\\t\\t\\t\\t\\t\\t\\tm² techados</td>\n",
       "      <td>83 \\n\\t\\t\\t\\t\\t\\t\\t\\n\\t\\t\\t\\t\\t\\t\\tm² totales</td>\n",
       "      <td></td>\n",
       "    </tr>\n",
       "    <tr>\n",
       "      <th>1</th>\n",
       "      <td>Super destacado</td>\n",
       "      <td>Vendo Casa Urb. Santa Patricia 1ra Etapa – La ...</td>\n",
       "      <td>1582.0</td>\n",
       "      <td>Lima</td>\n",
       "      <td>Lima</td>\n",
       "      <td>La Molina</td>\n",
       "      <td>240</td>\n",
       "      <td>240 m² techados</td>\n",
       "      <td>4 Dormitorios</td>\n",
       "      <td>3 Baños</td>\n",
       "      <td>1 Estacionamiento,</td>\n",
       "    </tr>\n",
       "    <tr>\n",
       "      <th>2</th>\n",
       "      <td>Super destacado</td>\n",
       "      <td>Venta de Casa en El Sol de La Molina</td>\n",
       "      <td>4050.0</td>\n",
       "      <td>Lima</td>\n",
       "      <td>Lima</td>\n",
       "      <td>La Molina</td>\n",
       "      <td>1050</td>\n",
       "      <td>300 m² techados</td>\n",
       "      <td>0 Dormitorios</td>\n",
       "      <td>0 Baños</td>\n",
       "      <td></td>\n",
       "    </tr>\n",
       "    <tr>\n",
       "      <th>3</th>\n",
       "      <td>Super destacado</td>\n",
       "      <td>Rebajada! Venta de Casa en San Isidro</td>\n",
       "      <td>2822.0</td>\n",
       "      <td>Lima</td>\n",
       "      <td>Lima</td>\n",
       "      <td>San Isidro</td>\n",
       "      <td>450</td>\n",
       "      <td>450 m² techados</td>\n",
       "      <td>5 Dormitorios</td>\n",
       "      <td>5 Baños</td>\n",
       "      <td>3 Estacionamientos,</td>\n",
       "    </tr>\n",
       "    <tr>\n",
       "      <th>4</th>\n",
       "      <td>Super destacado</td>\n",
       "      <td>Venta de Casa en Santiago de Surco</td>\n",
       "      <td>1261.0</td>\n",
       "      <td>Lima</td>\n",
       "      <td>Lima</td>\n",
       "      <td>Santiago de Surco</td>\n",
       "      <td>300</td>\n",
       "      <td>181 m² techados</td>\n",
       "      <td>4 Dormitorios</td>\n",
       "      <td>3 Baños</td>\n",
       "      <td></td>\n",
       "    </tr>\n",
       "  </tbody>\n",
       "</table>\n",
       "</div>"
      ],
      "text/plain": [
       "             l_tag                                              title  price1  \\\n",
       "0         Proyecto                               San Ildefonso de Ica    85.0   \n",
       "1  Super destacado  Vendo Casa Urb. Santa Patricia 1ra Etapa – La ...  1582.0   \n",
       "2  Super destacado               Venta de Casa en El Sol de La Molina  4050.0   \n",
       "3  Super destacado              Rebajada! Venta de Casa en San Isidro  2822.0   \n",
       "4  Super destacado                 Venta de Casa en Santiago de Surco  1261.0   \n",
       "\n",
       "  departamento provincia           distrito  \\\n",
       "0          Ica      Ica         La Tinguiña   \n",
       "1         Lima     Lima           La Molina   \n",
       "2         Lima     Lima           La Molina   \n",
       "3         Lima     Lima          San Isidro   \n",
       "4         Lima     Lima   Santiago de Surco   \n",
       "\n",
       "                                      metros         techados  \\\n",
       "0  57 \\n\\t\\t\\t\\t\\t\\t\\n\\t\\t\\t\\t\\t\\t\\tunidades    2 dormitorios   \n",
       "1                                       240   240 m² techados   \n",
       "2                                      1050   300 m² techados   \n",
       "3                                       450   450 m² techados   \n",
       "4                                       300   181 m² techados   \n",
       "\n",
       "                                      dormitorios  \\\n",
       "0  30 \\n\\t\\t\\t\\t\\t\\t\\t\\n\\t\\t\\t\\t\\t\\t\\tm² techados   \n",
       "1                                   4 Dormitorios   \n",
       "2                                   0 Dormitorios   \n",
       "3                                   5 Dormitorios   \n",
       "4                                   4 Dormitorios   \n",
       "\n",
       "                                           baños     estacionamientos  \n",
       "0  83 \\n\\t\\t\\t\\t\\t\\t\\t\\n\\t\\t\\t\\t\\t\\t\\tm² totales                       \n",
       "1                                        3 Baños   1 Estacionamiento,  \n",
       "2                                        0 Baños                       \n",
       "3                                        5 Baños  3 Estacionamientos,  \n",
       "4                                        3 Baños                       "
      ]
     },
     "execution_count": 66,
     "metadata": {},
     "output_type": "execute_result"
    }
   ],
   "source": [
    "df.head()"
   ]
  },
  {
   "cell_type": "code",
   "execution_count": 67,
   "metadata": {},
   "outputs": [
    {
     "name": "stdout",
     "output_type": "stream",
     "text": [
      "0\n",
      "1\n"
     ]
    }
   ],
   "source": [
    "count=0\n",
    "for i in range(df.shape[0]):\n",
    "    if( \"unidad\"  in df['metros'][i]): #vemos cuantos campos  hay con estos datos\n",
    "        count+=1\n",
    "        print(i)\n",
    "print(count)\n",
    "    "
   ]
  },
  {
   "cell_type": "code",
   "execution_count": null,
   "metadata": {},
   "outputs": [],
   "source": [
    "#vemos que solo hay un dato que en este caso es el primero, entocnes lo eliminamos y remodificamos los indices"
   ]
  },
  {
   "cell_type": "code",
   "execution_count": 68,
   "metadata": {},
   "outputs": [
    {
     "data": {
      "text/html": [
       "<div>\n",
       "<style scoped>\n",
       "    .dataframe tbody tr th:only-of-type {\n",
       "        vertical-align: middle;\n",
       "    }\n",
       "\n",
       "    .dataframe tbody tr th {\n",
       "        vertical-align: top;\n",
       "    }\n",
       "\n",
       "    .dataframe thead th {\n",
       "        text-align: right;\n",
       "    }\n",
       "</style>\n",
       "<table border=\"1\" class=\"dataframe\">\n",
       "  <thead>\n",
       "    <tr style=\"text-align: right;\">\n",
       "      <th></th>\n",
       "      <th>l_tag</th>\n",
       "      <th>title</th>\n",
       "      <th>price1</th>\n",
       "      <th>departamento</th>\n",
       "      <th>provincia</th>\n",
       "      <th>distrito</th>\n",
       "      <th>metros</th>\n",
       "      <th>techados</th>\n",
       "      <th>dormitorios</th>\n",
       "      <th>baños</th>\n",
       "      <th>estacionamientos</th>\n",
       "    </tr>\n",
       "  </thead>\n",
       "  <tbody>\n",
       "    <tr>\n",
       "      <th>1</th>\n",
       "      <td>Super destacado</td>\n",
       "      <td>Vendo Casa Urb. Santa Patricia 1ra Etapa – La ...</td>\n",
       "      <td>1582.0</td>\n",
       "      <td>Lima</td>\n",
       "      <td>Lima</td>\n",
       "      <td>La Molina</td>\n",
       "      <td>240</td>\n",
       "      <td>240 m² techados</td>\n",
       "      <td>4 Dormitorios</td>\n",
       "      <td>3 Baños</td>\n",
       "      <td>1 Estacionamiento,</td>\n",
       "    </tr>\n",
       "    <tr>\n",
       "      <th>2</th>\n",
       "      <td>Super destacado</td>\n",
       "      <td>Venta de Casa en El Sol de La Molina</td>\n",
       "      <td>4050.0</td>\n",
       "      <td>Lima</td>\n",
       "      <td>Lima</td>\n",
       "      <td>La Molina</td>\n",
       "      <td>1050</td>\n",
       "      <td>300 m² techados</td>\n",
       "      <td>0 Dormitorios</td>\n",
       "      <td>0 Baños</td>\n",
       "      <td></td>\n",
       "    </tr>\n",
       "    <tr>\n",
       "      <th>3</th>\n",
       "      <td>Super destacado</td>\n",
       "      <td>Rebajada! Venta de Casa en San Isidro</td>\n",
       "      <td>2822.0</td>\n",
       "      <td>Lima</td>\n",
       "      <td>Lima</td>\n",
       "      <td>San Isidro</td>\n",
       "      <td>450</td>\n",
       "      <td>450 m² techados</td>\n",
       "      <td>5 Dormitorios</td>\n",
       "      <td>5 Baños</td>\n",
       "      <td>3 Estacionamientos,</td>\n",
       "    </tr>\n",
       "    <tr>\n",
       "      <th>4</th>\n",
       "      <td>Super destacado</td>\n",
       "      <td>Venta de Casa en Santiago de Surco</td>\n",
       "      <td>1261.0</td>\n",
       "      <td>Lima</td>\n",
       "      <td>Lima</td>\n",
       "      <td>Santiago de Surco</td>\n",
       "      <td>300</td>\n",
       "      <td>181 m² techados</td>\n",
       "      <td>4 Dormitorios</td>\n",
       "      <td>3 Baños</td>\n",
       "      <td></td>\n",
       "    </tr>\n",
       "    <tr>\n",
       "      <th>5</th>\n",
       "      <td>Super destacado</td>\n",
       "      <td>Se Vende Hermosa y Espectacular Casa en Condom...</td>\n",
       "      <td>1254.0</td>\n",
       "      <td>Lima</td>\n",
       "      <td>Lima</td>\n",
       "      <td>La Molina</td>\n",
       "      <td>286</td>\n",
       "      <td>286 m² techados</td>\n",
       "      <td>3 Dormitorios</td>\n",
       "      <td>4 Baños</td>\n",
       "      <td>2 Estacionamientos,</td>\n",
       "    </tr>\n",
       "  </tbody>\n",
       "</table>\n",
       "</div>"
      ],
      "text/plain": [
       "             l_tag                                              title  price1  \\\n",
       "1  Super destacado  Vendo Casa Urb. Santa Patricia 1ra Etapa – La ...  1582.0   \n",
       "2  Super destacado               Venta de Casa en El Sol de La Molina  4050.0   \n",
       "3  Super destacado              Rebajada! Venta de Casa en San Isidro  2822.0   \n",
       "4  Super destacado                 Venta de Casa en Santiago de Surco  1261.0   \n",
       "5  Super destacado  Se Vende Hermosa y Espectacular Casa en Condom...  1254.0   \n",
       "\n",
       "  departamento provincia           distrito metros         techados  \\\n",
       "1         Lima     Lima           La Molina   240   240 m² techados   \n",
       "2         Lima     Lima           La Molina  1050   300 m² techados   \n",
       "3         Lima     Lima          San Isidro   450   450 m² techados   \n",
       "4         Lima     Lima   Santiago de Surco   300   181 m² techados   \n",
       "5         Lima     Lima           La Molina   286   286 m² techados   \n",
       "\n",
       "     dormitorios    baños     estacionamientos  \n",
       "1  4 Dormitorios  3 Baños   1 Estacionamiento,  \n",
       "2  0 Dormitorios  0 Baños                       \n",
       "3  5 Dormitorios  5 Baños  3 Estacionamientos,  \n",
       "4  4 Dormitorios  3 Baños                       \n",
       "5  3 Dormitorios  4 Baños  2 Estacionamientos,  "
      ]
     },
     "execution_count": 68,
     "metadata": {},
     "output_type": "execute_result"
    }
   ],
   "source": [
    "df=df.drop([0],axis=0)\n",
    "df.head()"
   ]
  },
  {
   "cell_type": "code",
   "execution_count": 69,
   "metadata": {},
   "outputs": [
    {
     "data": {
      "text/html": [
       "<div>\n",
       "<style scoped>\n",
       "    .dataframe tbody tr th:only-of-type {\n",
       "        vertical-align: middle;\n",
       "    }\n",
       "\n",
       "    .dataframe tbody tr th {\n",
       "        vertical-align: top;\n",
       "    }\n",
       "\n",
       "    .dataframe thead th {\n",
       "        text-align: right;\n",
       "    }\n",
       "</style>\n",
       "<table border=\"1\" class=\"dataframe\">\n",
       "  <thead>\n",
       "    <tr style=\"text-align: right;\">\n",
       "      <th></th>\n",
       "      <th>l_tag</th>\n",
       "      <th>title</th>\n",
       "      <th>price1</th>\n",
       "      <th>departamento</th>\n",
       "      <th>provincia</th>\n",
       "      <th>distrito</th>\n",
       "      <th>metros</th>\n",
       "      <th>techados</th>\n",
       "      <th>dormitorios</th>\n",
       "      <th>baños</th>\n",
       "      <th>estacionamientos</th>\n",
       "    </tr>\n",
       "  </thead>\n",
       "  <tbody>\n",
       "    <tr>\n",
       "      <th>0</th>\n",
       "      <td>Super destacado</td>\n",
       "      <td>Vendo Casa Urb. Santa Patricia 1ra Etapa – La ...</td>\n",
       "      <td>1582.0</td>\n",
       "      <td>Lima</td>\n",
       "      <td>Lima</td>\n",
       "      <td>La Molina</td>\n",
       "      <td>240</td>\n",
       "      <td>240 m² techados</td>\n",
       "      <td>4 Dormitorios</td>\n",
       "      <td>3 Baños</td>\n",
       "      <td>1 Estacionamiento,</td>\n",
       "    </tr>\n",
       "    <tr>\n",
       "      <th>1</th>\n",
       "      <td>Super destacado</td>\n",
       "      <td>Venta de Casa en El Sol de La Molina</td>\n",
       "      <td>4050.0</td>\n",
       "      <td>Lima</td>\n",
       "      <td>Lima</td>\n",
       "      <td>La Molina</td>\n",
       "      <td>1050</td>\n",
       "      <td>300 m² techados</td>\n",
       "      <td>0 Dormitorios</td>\n",
       "      <td>0 Baños</td>\n",
       "      <td></td>\n",
       "    </tr>\n",
       "    <tr>\n",
       "      <th>2</th>\n",
       "      <td>Super destacado</td>\n",
       "      <td>Rebajada! Venta de Casa en San Isidro</td>\n",
       "      <td>2822.0</td>\n",
       "      <td>Lima</td>\n",
       "      <td>Lima</td>\n",
       "      <td>San Isidro</td>\n",
       "      <td>450</td>\n",
       "      <td>450 m² techados</td>\n",
       "      <td>5 Dormitorios</td>\n",
       "      <td>5 Baños</td>\n",
       "      <td>3 Estacionamientos,</td>\n",
       "    </tr>\n",
       "    <tr>\n",
       "      <th>3</th>\n",
       "      <td>Super destacado</td>\n",
       "      <td>Venta de Casa en Santiago de Surco</td>\n",
       "      <td>1261.0</td>\n",
       "      <td>Lima</td>\n",
       "      <td>Lima</td>\n",
       "      <td>Santiago de Surco</td>\n",
       "      <td>300</td>\n",
       "      <td>181 m² techados</td>\n",
       "      <td>4 Dormitorios</td>\n",
       "      <td>3 Baños</td>\n",
       "      <td></td>\n",
       "    </tr>\n",
       "    <tr>\n",
       "      <th>4</th>\n",
       "      <td>Super destacado</td>\n",
       "      <td>Se Vende Hermosa y Espectacular Casa en Condom...</td>\n",
       "      <td>1254.0</td>\n",
       "      <td>Lima</td>\n",
       "      <td>Lima</td>\n",
       "      <td>La Molina</td>\n",
       "      <td>286</td>\n",
       "      <td>286 m² techados</td>\n",
       "      <td>3 Dormitorios</td>\n",
       "      <td>4 Baños</td>\n",
       "      <td>2 Estacionamientos,</td>\n",
       "    </tr>\n",
       "  </tbody>\n",
       "</table>\n",
       "</div>"
      ],
      "text/plain": [
       "             l_tag                                              title  price1  \\\n",
       "0  Super destacado  Vendo Casa Urb. Santa Patricia 1ra Etapa – La ...  1582.0   \n",
       "1  Super destacado               Venta de Casa en El Sol de La Molina  4050.0   \n",
       "2  Super destacado              Rebajada! Venta de Casa en San Isidro  2822.0   \n",
       "3  Super destacado                 Venta de Casa en Santiago de Surco  1261.0   \n",
       "4  Super destacado  Se Vende Hermosa y Espectacular Casa en Condom...  1254.0   \n",
       "\n",
       "  departamento provincia           distrito metros         techados  \\\n",
       "0         Lima     Lima           La Molina   240   240 m² techados   \n",
       "1         Lima     Lima           La Molina  1050   300 m² techados   \n",
       "2         Lima     Lima          San Isidro   450   450 m² techados   \n",
       "3         Lima     Lima   Santiago de Surco   300   181 m² techados   \n",
       "4         Lima     Lima           La Molina   286   286 m² techados   \n",
       "\n",
       "     dormitorios    baños     estacionamientos  \n",
       "0  4 Dormitorios  3 Baños   1 Estacionamiento,  \n",
       "1  0 Dormitorios  0 Baños                       \n",
       "2  5 Dormitorios  5 Baños  3 Estacionamientos,  \n",
       "3  4 Dormitorios  3 Baños                       \n",
       "4  3 Dormitorios  4 Baños  2 Estacionamientos,  "
      ]
     },
     "execution_count": 69,
     "metadata": {},
     "output_type": "execute_result"
    }
   ],
   "source": [
    "#remodificamos los indices\n",
    "df=df.reset_index(drop=True)\n",
    "df.head()"
   ]
  },
  {
   "cell_type": "code",
   "execution_count": 70,
   "metadata": {},
   "outputs": [],
   "source": [
    "df['metros']=df['metros'].astype('int64')#convertimos nuestra data a flotantes para hacer operaciones"
   ]
  },
  {
   "cell_type": "code",
   "execution_count": 72,
   "metadata": {},
   "outputs": [
    {
     "name": "stderr",
     "output_type": "stream",
     "text": [
      "D:\\ANACONDA\\lib\\site-packages\\ipykernel_launcher.py:3: SettingWithCopyWarning: \n",
      "A value is trying to be set on a copy of a slice from a DataFrame\n",
      "\n",
      "See the caveats in the documentation: https://pandas.pydata.org/pandas-docs/stable/user_guide/indexing.html#returning-a-view-versus-a-copy\n",
      "  This is separate from the ipykernel package so we can avoid doing imports until\n",
      "D:\\ANACONDA\\lib\\site-packages\\ipykernel_launcher.py:6: SettingWithCopyWarning: \n",
      "A value is trying to be set on a copy of a slice from a DataFrame\n",
      "\n",
      "See the caveats in the documentation: https://pandas.pydata.org/pandas-docs/stable/user_guide/indexing.html#returning-a-view-versus-a-copy\n",
      "  \n"
     ]
    },
    {
     "data": {
      "text/plain": [
       "dtype('int64')"
      ]
     },
     "execution_count": 72,
     "metadata": {},
     "output_type": "execute_result"
    }
   ],
   "source": [
    "#encontramos el patron y procedemos a limpiar la data\n",
    "for i in range(df.shape[0]): #limpiamos la data de techados\n",
    "    df['techados'][i]=df['techados'][i].replace(\"m² techados\", \"\")\n",
    "    if(\"Dormitorios\" in df['techados'][i]):\n",
    "        df.loc[i, 'dormitorios'] = df['techados'][i]\n",
    "        df['techados'][i]=\"1\" #valos minimo que puede tener \n",
    "df['techados']=df['techados'].astype('int64')#convertimos nuestra data a flotantes para hacer operaciones\n",
    "df['techados'].dtype"
   ]
  },
  {
   "cell_type": "code",
   "execution_count": 73,
   "metadata": {},
   "outputs": [
    {
     "name": "stderr",
     "output_type": "stream",
     "text": [
      "D:\\ANACONDA\\lib\\site-packages\\ipykernel_launcher.py:2: SettingWithCopyWarning: \n",
      "A value is trying to be set on a copy of a slice from a DataFrame\n",
      "\n",
      "See the caveats in the documentation: https://pandas.pydata.org/pandas-docs/stable/user_guide/indexing.html#returning-a-view-versus-a-copy\n",
      "  \n",
      "D:\\ANACONDA\\lib\\site-packages\\ipykernel_launcher.py:3: SettingWithCopyWarning: \n",
      "A value is trying to be set on a copy of a slice from a DataFrame\n",
      "\n",
      "See the caveats in the documentation: https://pandas.pydata.org/pandas-docs/stable/user_guide/indexing.html#returning-a-view-versus-a-copy\n",
      "  This is separate from the ipykernel package so we can avoid doing imports until\n",
      "D:\\ANACONDA\\lib\\site-packages\\ipykernel_launcher.py:7: SettingWithCopyWarning: \n",
      "A value is trying to be set on a copy of a slice from a DataFrame\n",
      "\n",
      "See the caveats in the documentation: https://pandas.pydata.org/pandas-docs/stable/user_guide/indexing.html#returning-a-view-versus-a-copy\n",
      "  import sys\n"
     ]
    }
   ],
   "source": [
    "\n",
    "for i in range(df.shape[0]): #limpiamos la data de baños\n",
    "    df['baños'][i]=df['baños'][i].replace(\"Baños\", \"\")\n",
    "    df['baños'][i]=df['baños'][i].replace(\"Baño\", \"\")\n",
    "    #print(df['baños'][i]) #notamos que hay al rededor de 5 datosque contienen la palabra \"estacionamiento\"\n",
    "    if(\"Estacionamientos\" in df['baños'][i] or \"Estacionamiento\" in df['baños'][i]):\n",
    "        df.loc[i, 'estacionamientos'] = df['baños'][i]\n",
    "        df['baños'][i]=\"1\" #valos minimo que puede tener \n",
    "    \n",
    "    \n",
    "df['baños']=df['baños'].astype('int64')#convertimos nuestra data a flotantes para hacer operaciones"
   ]
  },
  {
   "cell_type": "code",
   "execution_count": 74,
   "metadata": {},
   "outputs": [
    {
     "data": {
      "text/plain": [
       "dtype('int64')"
      ]
     },
     "execution_count": 74,
     "metadata": {},
     "output_type": "execute_result"
    }
   ],
   "source": [
    "df['baños'].dtype"
   ]
  },
  {
   "cell_type": "code",
   "execution_count": 78,
   "metadata": {},
   "outputs": [
    {
     "name": "stderr",
     "output_type": "stream",
     "text": [
      "D:\\ANACONDA\\lib\\site-packages\\ipykernel_launcher.py:3: SettingWithCopyWarning: \n",
      "A value is trying to be set on a copy of a slice from a DataFrame\n",
      "\n",
      "See the caveats in the documentation: https://pandas.pydata.org/pandas-docs/stable/user_guide/indexing.html#returning-a-view-versus-a-copy\n",
      "  This is separate from the ipykernel package so we can avoid doing imports until\n",
      "D:\\ANACONDA\\lib\\site-packages\\ipykernel_launcher.py:4: SettingWithCopyWarning: \n",
      "A value is trying to be set on a copy of a slice from a DataFrame\n",
      "\n",
      "See the caveats in the documentation: https://pandas.pydata.org/pandas-docs/stable/user_guide/indexing.html#returning-a-view-versus-a-copy\n",
      "  after removing the cwd from sys.path.\n",
      "D:\\ANACONDA\\lib\\site-packages\\ipykernel_launcher.py:5: SettingWithCopyWarning: \n",
      "A value is trying to be set on a copy of a slice from a DataFrame\n",
      "\n",
      "See the caveats in the documentation: https://pandas.pydata.org/pandas-docs/stable/user_guide/indexing.html#returning-a-view-versus-a-copy\n",
      "  \"\"\"\n",
      "D:\\ANACONDA\\lib\\site-packages\\ipykernel_launcher.py:6: SettingWithCopyWarning: \n",
      "A value is trying to be set on a copy of a slice from a DataFrame\n",
      "\n",
      "See the caveats in the documentation: https://pandas.pydata.org/pandas-docs/stable/user_guide/indexing.html#returning-a-view-versus-a-copy\n",
      "  \n",
      "D:\\ANACONDA\\lib\\site-packages\\ipykernel_launcher.py:7: SettingWithCopyWarning: \n",
      "A value is trying to be set on a copy of a slice from a DataFrame\n",
      "\n",
      "See the caveats in the documentation: https://pandas.pydata.org/pandas-docs/stable/user_guide/indexing.html#returning-a-view-versus-a-copy\n",
      "  import sys\n"
     ]
    }
   ],
   "source": [
    "for i in range(df.shape[0]): #limpiamos la data de estacionamientos\n",
    "    #en esta columna tenemos comas y espacios, la cual la eliminamos\n",
    "    df['estacionamientos'][i]=df['estacionamientos'][i].replace(\",\", \"\")\n",
    "    df['estacionamientos'][i]=df['estacionamientos'][i].replace(\" \", \"\")\n",
    "    df['estacionamientos'][i]=df['estacionamientos'][i].replace(\"Estacionamientos,\", \"\")\n",
    "    df['estacionamientos'][i]=df['estacionamientos'][i].replace(\"Estacionamiento\", \"\")\n",
    "    df['estacionamientos'][i]=df['estacionamientos'][i].replace(\"s\", \"\")\n",
    "    #print(df['estacionamientos'][i]) #notamos que hay al rededor de 5 datosque contienen la palabra \"estacionamiento\"\n",
    "    if( len(df['estacionamientos'][i])<1):\n",
    "        df.loc[i, 'estacionamientos'] = \"0\"\n",
    "        \n",
    "df['estacionamientos']=df['estacionamientos'].astype('int64')#convertimos nuestra data a flotantes para hacer operaciones"
   ]
  },
  {
   "cell_type": "code",
   "execution_count": 79,
   "metadata": {},
   "outputs": [
    {
     "data": {
      "text/plain": [
       "dtype('int64')"
      ]
     },
     "execution_count": 79,
     "metadata": {},
     "output_type": "execute_result"
    }
   ],
   "source": [
    "df['estacionamientos'].dtype"
   ]
  },
  {
   "cell_type": "code",
   "execution_count": 80,
   "metadata": {},
   "outputs": [
    {
     "name": "stderr",
     "output_type": "stream",
     "text": [
      "D:\\ANACONDA\\lib\\site-packages\\ipykernel_launcher.py:2: SettingWithCopyWarning: \n",
      "A value is trying to be set on a copy of a slice from a DataFrame\n",
      "\n",
      "See the caveats in the documentation: https://pandas.pydata.org/pandas-docs/stable/user_guide/indexing.html#returning-a-view-versus-a-copy\n",
      "  \n",
      "D:\\ANACONDA\\lib\\site-packages\\ipykernel_launcher.py:3: SettingWithCopyWarning: \n",
      "A value is trying to be set on a copy of a slice from a DataFrame\n",
      "\n",
      "See the caveats in the documentation: https://pandas.pydata.org/pandas-docs/stable/user_guide/indexing.html#returning-a-view-versus-a-copy\n",
      "  This is separate from the ipykernel package so we can avoid doing imports until\n"
     ]
    }
   ],
   "source": [
    "for i in range(df.shape[0]): #limpiamos la data de estacionamientos\n",
    "    df['dormitorios'][i]=df['dormitorios'][i].replace(\"Dormitorios\", \"\")\n",
    "    df['dormitorios'][i]=df['dormitorios'][i].replace(\"Dormitorio\", \"\")\n",
    "    #print(df['estacionamientos'][i]) #notamos que hay al rededor de 5 datosque contienen la palabra \"estacionamiento\"\n",
    "\n",
    "df['dormitorios']=df['dormitorios'].astype('int64')#convertimos nuestra data a flotantes para hacer operaciones"
   ]
  },
  {
   "cell_type": "code",
   "execution_count": 81,
   "metadata": {},
   "outputs": [
    {
     "data": {
      "text/plain": [
       "dtype('int64')"
      ]
     },
     "execution_count": 81,
     "metadata": {},
     "output_type": "execute_result"
    }
   ],
   "source": [
    "df['dormitorios'].dtype"
   ]
  },
  {
   "cell_type": "code",
   "execution_count": 82,
   "metadata": {},
   "outputs": [
    {
     "data": {
      "text/html": [
       "<div>\n",
       "<style scoped>\n",
       "    .dataframe tbody tr th:only-of-type {\n",
       "        vertical-align: middle;\n",
       "    }\n",
       "\n",
       "    .dataframe tbody tr th {\n",
       "        vertical-align: top;\n",
       "    }\n",
       "\n",
       "    .dataframe thead th {\n",
       "        text-align: right;\n",
       "    }\n",
       "</style>\n",
       "<table border=\"1\" class=\"dataframe\">\n",
       "  <thead>\n",
       "    <tr style=\"text-align: right;\">\n",
       "      <th></th>\n",
       "      <th>l_tag</th>\n",
       "      <th>title</th>\n",
       "      <th>price1</th>\n",
       "      <th>departamento</th>\n",
       "      <th>provincia</th>\n",
       "      <th>distrito</th>\n",
       "      <th>metros</th>\n",
       "      <th>techados</th>\n",
       "      <th>dormitorios</th>\n",
       "      <th>baños</th>\n",
       "      <th>estacionamientos</th>\n",
       "    </tr>\n",
       "  </thead>\n",
       "  <tbody>\n",
       "    <tr>\n",
       "      <th>0</th>\n",
       "      <td>Super destacado</td>\n",
       "      <td>Vendo Casa Urb. Santa Patricia 1ra Etapa – La ...</td>\n",
       "      <td>1582.0</td>\n",
       "      <td>Lima</td>\n",
       "      <td>Lima</td>\n",
       "      <td>La Molina</td>\n",
       "      <td>240</td>\n",
       "      <td>240</td>\n",
       "      <td>4</td>\n",
       "      <td>3</td>\n",
       "      <td>1</td>\n",
       "    </tr>\n",
       "    <tr>\n",
       "      <th>1</th>\n",
       "      <td>Super destacado</td>\n",
       "      <td>Venta de Casa en El Sol de La Molina</td>\n",
       "      <td>4050.0</td>\n",
       "      <td>Lima</td>\n",
       "      <td>Lima</td>\n",
       "      <td>La Molina</td>\n",
       "      <td>1050</td>\n",
       "      <td>300</td>\n",
       "      <td>0</td>\n",
       "      <td>0</td>\n",
       "      <td>0</td>\n",
       "    </tr>\n",
       "    <tr>\n",
       "      <th>2</th>\n",
       "      <td>Super destacado</td>\n",
       "      <td>Rebajada! Venta de Casa en San Isidro</td>\n",
       "      <td>2822.0</td>\n",
       "      <td>Lima</td>\n",
       "      <td>Lima</td>\n",
       "      <td>San Isidro</td>\n",
       "      <td>450</td>\n",
       "      <td>450</td>\n",
       "      <td>5</td>\n",
       "      <td>5</td>\n",
       "      <td>3</td>\n",
       "    </tr>\n",
       "    <tr>\n",
       "      <th>3</th>\n",
       "      <td>Super destacado</td>\n",
       "      <td>Venta de Casa en Santiago de Surco</td>\n",
       "      <td>1261.0</td>\n",
       "      <td>Lima</td>\n",
       "      <td>Lima</td>\n",
       "      <td>Santiago de Surco</td>\n",
       "      <td>300</td>\n",
       "      <td>181</td>\n",
       "      <td>4</td>\n",
       "      <td>3</td>\n",
       "      <td>0</td>\n",
       "    </tr>\n",
       "    <tr>\n",
       "      <th>4</th>\n",
       "      <td>Super destacado</td>\n",
       "      <td>Se Vende Hermosa y Espectacular Casa en Condom...</td>\n",
       "      <td>1254.0</td>\n",
       "      <td>Lima</td>\n",
       "      <td>Lima</td>\n",
       "      <td>La Molina</td>\n",
       "      <td>286</td>\n",
       "      <td>286</td>\n",
       "      <td>3</td>\n",
       "      <td>4</td>\n",
       "      <td>2</td>\n",
       "    </tr>\n",
       "  </tbody>\n",
       "</table>\n",
       "</div>"
      ],
      "text/plain": [
       "             l_tag                                              title  price1  \\\n",
       "0  Super destacado  Vendo Casa Urb. Santa Patricia 1ra Etapa – La ...  1582.0   \n",
       "1  Super destacado               Venta de Casa en El Sol de La Molina  4050.0   \n",
       "2  Super destacado              Rebajada! Venta de Casa en San Isidro  2822.0   \n",
       "3  Super destacado                 Venta de Casa en Santiago de Surco  1261.0   \n",
       "4  Super destacado  Se Vende Hermosa y Espectacular Casa en Condom...  1254.0   \n",
       "\n",
       "  departamento provincia           distrito  metros  techados  dormitorios  \\\n",
       "0         Lima     Lima           La Molina     240       240            4   \n",
       "1         Lima     Lima           La Molina    1050       300            0   \n",
       "2         Lima     Lima          San Isidro     450       450            5   \n",
       "3         Lima     Lima   Santiago de Surco     300       181            4   \n",
       "4         Lima     Lima           La Molina     286       286            3   \n",
       "\n",
       "   baños  estacionamientos  \n",
       "0      3                 1  \n",
       "1      0                 0  \n",
       "2      5                 3  \n",
       "3      3                 0  \n",
       "4      4                 2  "
      ]
     },
     "execution_count": 82,
     "metadata": {},
     "output_type": "execute_result"
    }
   ],
   "source": [
    "df.head()"
   ]
  },
  {
   "cell_type": "markdown",
   "metadata": {
    "colab_type": "text",
    "id": "8t5EJt2-dtS3"
   },
   "source": [
    "## Análisis Exploratorio de Datos (EDA) (6 puntos)\n",
    "\n",
    "Realizar el análisis de datos haciendo uso de visualizaciones cuando sea necesario. Para ello se deberán responder al mayor número de preguntas dadas a continuación:\n",
    "\n",
    "\n",
    "(Puede proponer otro tipo de preguntas que ayuden en su análisis, esto implicará un aumento en el puntaje dependiendo del análisis realizado. )\n",
    "\n",
    "**Para cada pregunta elegida y/o propuesta mostrar visualizaciones (cuando sea posible) y detallar que información importante puede extraer a partir de cada visualización.** "
   ]
  },
  {
   "cell_type": "markdown",
   "metadata": {
    "colab_type": "text",
    "id": "0KR1S9MaNlxD"
   },
   "source": [
    "### ¿Cuál es el precio promedio de vivienda por distrito en la ciudad de lima ?\n",
    "\n"
   ]
  },
  {
   "cell_type": "code",
   "execution_count": 94,
   "metadata": {},
   "outputs": [],
   "source": [
    "dataBackup= df\n",
    "#dataBackup.head()"
   ]
  },
  {
   "cell_type": "code",
   "execution_count": 129,
   "metadata": {},
   "outputs": [],
   "source": [
    "dfT=df"
   ]
  },
  {
   "cell_type": "code",
   "execution_count": 147,
   "metadata": {},
   "outputs": [],
   "source": [
    "#creamos un datafrmae vacio con las columnas\n",
    "columns=df.columns\n",
    "dataTemp = pd.DataFrame( columns=columns )"
   ]
  },
  {
   "cell_type": "code",
   "execution_count": 148,
   "metadata": {},
   "outputs": [
    {
     "data": {
      "text/html": [
       "<div>\n",
       "<style scoped>\n",
       "    .dataframe tbody tr th:only-of-type {\n",
       "        vertical-align: middle;\n",
       "    }\n",
       "\n",
       "    .dataframe tbody tr th {\n",
       "        vertical-align: top;\n",
       "    }\n",
       "\n",
       "    .dataframe thead th {\n",
       "        text-align: right;\n",
       "    }\n",
       "</style>\n",
       "<table border=\"1\" class=\"dataframe\">\n",
       "  <thead>\n",
       "    <tr style=\"text-align: right;\">\n",
       "      <th></th>\n",
       "      <th>l_tag</th>\n",
       "      <th>title</th>\n",
       "      <th>price1</th>\n",
       "      <th>departamento</th>\n",
       "      <th>provincia</th>\n",
       "      <th>distrito</th>\n",
       "      <th>metros</th>\n",
       "      <th>techados</th>\n",
       "      <th>dormitorios</th>\n",
       "      <th>baños</th>\n",
       "      <th>estacionamientos</th>\n",
       "    </tr>\n",
       "  </thead>\n",
       "  <tbody>\n",
       "  </tbody>\n",
       "</table>\n",
       "</div>"
      ],
      "text/plain": [
       "Empty DataFrame\n",
       "Columns: [l_tag, title, price1, departamento, provincia, distrito, metros, techados, dormitorios, baños, estacionamientos]\n",
       "Index: []"
      ]
     },
     "execution_count": 148,
     "metadata": {},
     "output_type": "execute_result"
    }
   ],
   "source": [
    "dataTemp.head()"
   ]
  },
  {
   "cell_type": "code",
   "execution_count": null,
   "metadata": {},
   "outputs": [],
   "source": []
  },
  {
   "cell_type": "code",
   "execution_count": 149,
   "metadata": {},
   "outputs": [],
   "source": [
    "for i in range(dfT.shape[0]):\n",
    "    if('Lima' in dfT['provincia'][i]):\n",
    "        dataTemp.loc[i] = dfT.to_numpy()[i]\n",
    "        "
   ]
  },
  {
   "cell_type": "code",
   "execution_count": 150,
   "metadata": {},
   "outputs": [
    {
     "data": {
      "text/html": [
       "<div>\n",
       "<style scoped>\n",
       "    .dataframe tbody tr th:only-of-type {\n",
       "        vertical-align: middle;\n",
       "    }\n",
       "\n",
       "    .dataframe tbody tr th {\n",
       "        vertical-align: top;\n",
       "    }\n",
       "\n",
       "    .dataframe thead th {\n",
       "        text-align: right;\n",
       "    }\n",
       "</style>\n",
       "<table border=\"1\" class=\"dataframe\">\n",
       "  <thead>\n",
       "    <tr style=\"text-align: right;\">\n",
       "      <th></th>\n",
       "      <th>l_tag</th>\n",
       "      <th>title</th>\n",
       "      <th>price1</th>\n",
       "      <th>departamento</th>\n",
       "      <th>provincia</th>\n",
       "      <th>distrito</th>\n",
       "      <th>metros</th>\n",
       "      <th>techados</th>\n",
       "      <th>dormitorios</th>\n",
       "      <th>baños</th>\n",
       "      <th>estacionamientos</th>\n",
       "    </tr>\n",
       "  </thead>\n",
       "  <tbody>\n",
       "    <tr>\n",
       "      <th>0</th>\n",
       "      <td>Super destacado</td>\n",
       "      <td>Vendo Casa Urb. Santa Patricia 1ra Etapa – La ...</td>\n",
       "      <td>1582.0</td>\n",
       "      <td>Lima</td>\n",
       "      <td>Lima</td>\n",
       "      <td>La Molina</td>\n",
       "      <td>240</td>\n",
       "      <td>240</td>\n",
       "      <td>4</td>\n",
       "      <td>3</td>\n",
       "      <td>1</td>\n",
       "    </tr>\n",
       "    <tr>\n",
       "      <th>1</th>\n",
       "      <td>Super destacado</td>\n",
       "      <td>Venta de Casa en El Sol de La Molina</td>\n",
       "      <td>4050.0</td>\n",
       "      <td>Lima</td>\n",
       "      <td>Lima</td>\n",
       "      <td>La Molina</td>\n",
       "      <td>1050</td>\n",
       "      <td>300</td>\n",
       "      <td>0</td>\n",
       "      <td>0</td>\n",
       "      <td>0</td>\n",
       "    </tr>\n",
       "    <tr>\n",
       "      <th>2</th>\n",
       "      <td>Super destacado</td>\n",
       "      <td>Rebajada! Venta de Casa en San Isidro</td>\n",
       "      <td>2822.0</td>\n",
       "      <td>Lima</td>\n",
       "      <td>Lima</td>\n",
       "      <td>San Isidro</td>\n",
       "      <td>450</td>\n",
       "      <td>450</td>\n",
       "      <td>5</td>\n",
       "      <td>5</td>\n",
       "      <td>3</td>\n",
       "    </tr>\n",
       "    <tr>\n",
       "      <th>3</th>\n",
       "      <td>Super destacado</td>\n",
       "      <td>Venta de Casa en Santiago de Surco</td>\n",
       "      <td>1261.0</td>\n",
       "      <td>Lima</td>\n",
       "      <td>Lima</td>\n",
       "      <td>Santiago de Surco</td>\n",
       "      <td>300</td>\n",
       "      <td>181</td>\n",
       "      <td>4</td>\n",
       "      <td>3</td>\n",
       "      <td>0</td>\n",
       "    </tr>\n",
       "    <tr>\n",
       "      <th>4</th>\n",
       "      <td>Super destacado</td>\n",
       "      <td>Se Vende Hermosa y Espectacular Casa en Condom...</td>\n",
       "      <td>1254.0</td>\n",
       "      <td>Lima</td>\n",
       "      <td>Lima</td>\n",
       "      <td>La Molina</td>\n",
       "      <td>286</td>\n",
       "      <td>286</td>\n",
       "      <td>3</td>\n",
       "      <td>4</td>\n",
       "      <td>2</td>\n",
       "    </tr>\n",
       "  </tbody>\n",
       "</table>\n",
       "</div>"
      ],
      "text/plain": [
       "             l_tag                                              title  price1  \\\n",
       "0  Super destacado  Vendo Casa Urb. Santa Patricia 1ra Etapa – La ...  1582.0   \n",
       "1  Super destacado               Venta de Casa en El Sol de La Molina  4050.0   \n",
       "2  Super destacado              Rebajada! Venta de Casa en San Isidro  2822.0   \n",
       "3  Super destacado                 Venta de Casa en Santiago de Surco  1261.0   \n",
       "4  Super destacado  Se Vende Hermosa y Espectacular Casa en Condom...  1254.0   \n",
       "\n",
       "  departamento provincia           distrito metros techados dormitorios baños  \\\n",
       "0         Lima     Lima           La Molina    240      240           4     3   \n",
       "1         Lima     Lima           La Molina   1050      300           0     0   \n",
       "2         Lima     Lima          San Isidro    450      450           5     5   \n",
       "3         Lima     Lima   Santiago de Surco    300      181           4     3   \n",
       "4         Lima     Lima           La Molina    286      286           3     4   \n",
       "\n",
       "  estacionamientos  \n",
       "0                1  \n",
       "1                0  \n",
       "2                3  \n",
       "3                0  \n",
       "4                2  "
      ]
     },
     "execution_count": 150,
     "metadata": {},
     "output_type": "execute_result"
    }
   ],
   "source": [
    "dataTemp.head()"
   ]
  },
  {
   "cell_type": "code",
   "execution_count": 151,
   "metadata": {
    "colab": {},
    "colab_type": "code",
    "id": "ws3plTF1wi-o"
   },
   "outputs": [
    {
     "data": {
      "text/plain": [
       "departamento  provincia  distrito               \n",
       "Lima          Lima       Ancón                        458.000000\n",
       "                         Barranco                    3125.288462\n",
       "                         Breña                        806.916667\n",
       "                         Carabayllo                   318.008163\n",
       "                         Chaclacayo                  2208.717391\n",
       "                         Chorrillos                  2683.303429\n",
       "                         Cieneguilla                 4314.701852\n",
       "                         Comas                        531.318182\n",
       "                         El Agustino                  771.000000\n",
       "                         Independencia                494.000000\n",
       "                         Jesús María                 1519.394737\n",
       "                         La Molina                   3569.177863\n",
       "                         La Victoria                33853.314286\n",
       "                         Lima                        1535.159459\n",
       "                         Lince                       1647.923529\n",
       "                         Los Olivos                  3252.387755\n",
       "                         Pachacamac                  2845.652083\n",
       "                         Pucusana                    2307.354839\n",
       "                         Pueblo Libre                1286.157143\n",
       "                         Puente Piedra                282.500000\n",
       "                         Punta Hermosa               1607.058824\n",
       "                         Punta Negra                 1179.900000\n",
       "                         Rímac                        644.187500\n",
       "                         San Bartolo                 1568.125000\n",
       "                         San Borja                   2451.475385\n",
       "                         San Isidro                  5366.784797\n",
       "                         San Juan de Lurigancho       823.949367\n",
       "                         San Juan de Miraflores       684.933333\n",
       "                         San Martín de Porres         639.342500\n",
       "                         Santa Anita                  993.750000\n",
       "                         Santiago de Surco           3944.844049\n",
       "                         Surquillo                   1668.647059\n",
       "                         Villa El Salvador            373.000000\n",
       "                         Villa María del Triunfo      462.952381\n",
       "Name: price1, dtype: float64"
      ]
     },
     "execution_count": 151,
     "metadata": {},
     "output_type": "execute_result"
    }
   ],
   "source": [
    "import matplotlib as plt\n",
    "dataTemp.groupby(by=['departamento','provincia','distrito'])['price1'].mean()"
   ]
  },
  {
   "cell_type": "code",
   "execution_count": null,
   "metadata": {},
   "outputs": [],
   "source": []
  },
  {
   "cell_type": "markdown",
   "metadata": {
    "colab_type": "text",
    "id": "_MQZQRcA9mW2"
   },
   "source": [
    "### ¿Qué ciudades tienen el mayor número de publicaciones de venta de viviendas?\n",
    "\n"
   ]
  },
  {
   "cell_type": "code",
   "execution_count": 152,
   "metadata": {
    "colab": {},
    "colab_type": "code",
    "id": "yLIQWVn_KLwL"
   },
   "outputs": [],
   "source": [
    "dataTemp2=df"
   ]
  },
  {
   "cell_type": "code",
   "execution_count": 162,
   "metadata": {},
   "outputs": [
    {
     "data": {
      "text/plain": [
       "Lima       3737\n",
       "Cañete      291\n",
       "Yauyos      168\n",
       "Name: provincia, dtype: int64"
      ]
     },
     "execution_count": 162,
     "metadata": {},
     "output_type": "execute_result"
    }
   ],
   "source": [
    "dataTemp2['provincia'].value_counts()[:3]"
   ]
  },
  {
   "cell_type": "code",
   "execution_count": null,
   "metadata": {},
   "outputs": [],
   "source": [
    "respuesta: Lima, Cañete y Yauyos"
   ]
  },
  {
   "cell_type": "code",
   "execution_count": null,
   "metadata": {},
   "outputs": [],
   "source": []
  },
  {
   "cell_type": "markdown",
   "metadata": {
    "colab_type": "text",
    "id": "BrjQLkBt78sd"
   },
   "source": [
    "### ¿En cuánto está valorizado el m2 por sector (ciudad,distrito)?\n",
    "\n"
   ]
  },
  {
   "cell_type": "code",
   "execution_count": 163,
   "metadata": {
    "colab": {},
    "colab_type": "code",
    "id": "a7MJkvbsCNkq"
   },
   "outputs": [],
   "source": [
    "dataTemp3=df"
   ]
  },
  {
   "cell_type": "code",
   "execution_count": 180,
   "metadata": {},
   "outputs": [
    {
     "data": {
      "text/plain": [
       "provincia       distrito            \n",
       "Alto Amazonas   Santa Cruz              3310.000000\n",
       "Anta            Cachimayo               2411.000000\n",
       "Arequipa        Arequipa                4002.090909\n",
       "                Cayma                    639.333333\n",
       "                Cerro Colorado          1826.000000\n",
       "                                           ...     \n",
       "Trujillo        Trujillo                1541.727273\n",
       "                Victor Larco Herrera    1880.625000\n",
       "Tumbes          Tumbes                   668.500000\n",
       "Yauyos          Miraflores              2839.227976\n",
       "Zarumilla       Zarumilla                265.000000\n",
       "Name: price1, Length: 136, dtype: float64"
      ]
     },
     "execution_count": 180,
     "metadata": {},
     "output_type": "execute_result"
    }
   ],
   "source": [
    "#dataTemp3.groupby(['distrito','price1'].mean)\n",
    "#dataTemp.groupby(by=['departamento','provincia','distrito'])['price1'].mean()\n",
    "dataTemp3.groupby(by=['provincia','distrito'])['price1'].mean()"
   ]
  },
  {
   "cell_type": "markdown",
   "metadata": {
    "colab_type": "text",
    "id": "O3Ht6UR5IuKE"
   },
   "source": [
    "*Responder aqui la pregunta y su análisis*"
   ]
  },
  {
   "cell_type": "markdown",
   "metadata": {
    "colab_type": "text",
    "id": "hL5mR6rXNh96"
   },
   "source": [
    "### ¿Cuántas de las publicaciones son posibles anomalías?\n",
    "\n"
   ]
  },
  {
   "cell_type": "code",
   "execution_count": 188,
   "metadata": {},
   "outputs": [],
   "source": [
    "dataTemp4=df"
   ]
  },
  {
   "cell_type": "code",
   "execution_count": 197,
   "metadata": {},
   "outputs": [
    {
     "data": {
      "image/png": "[encoded data removed]",
      "text/plain": [
       "<Figure size 432x288 with 1 Axes>"
      ]
     },
     "execution_count": 197,
     "metadata": {},
     "output_type": "execute_result"
    },
    {
     "data": {
      "image/png": "[encoded data removed]",
      "text/plain": [
       "<Figure size 432x288 with 1 Axes>"
      ]
     },
     "metadata": {
      "needs_background": "light"
     },
     "output_type": "display_data"
    }
   ],
   "source": [
    "y = dataTemp4['price1']\n",
    "removed_outliers = y.between(y.quantile(.05), y.quantile(.95))\n",
    "y[removed_outliers].plot().get_figure()"
   ]
  },
  {
   "cell_type": "code",
   "execution_count": 198,
   "metadata": {},
   "outputs": [],
   "source": [
    "q = dataTemp4[\"price1\"].quantile(0.99)"
   ]
  },
  {
   "cell_type": "code",
   "execution_count": 206,
   "metadata": {},
   "outputs": [
    {
     "data": {
      "text/plain": [
       "<matplotlib.axes._subplots.AxesSubplot at 0x21e17b8ebc8>"
      ]
     },
     "execution_count": 206,
     "metadata": {},
     "output_type": "execute_result"
    },
    {
     "data": {
      "image/png": "[encoded data removed]",
      "text/plain": [
       "<Figure size 432x288 with 1 Axes>"
      ]
     },
     "metadata": {
      "needs_background": "light"
     },
     "output_type": "display_data"
    }
   ],
   "source": [
    "import pandas as pd\n",
    "from scipy.stats import mstats\n",
    "%matplotlib inline\n",
    "\n",
    "transformed_test_data = pd.Series(mstats.winsorize(dataTemp['price1'], limits=[0.05, 0.05])) \n",
    "transformed_test_data.plot()"
   ]
  },
  {
   "cell_type": "code",
   "execution_count": 207,
   "metadata": {},
   "outputs": [],
   "source": [
    "count=0\n",
    "for i in range(dataTemp.shape[0]):\n",
    "    if(dataTemp4['price1'][i]>q):\n",
    "        count+=1\n",
    "    "
   ]
  },
  {
   "cell_type": "code",
   "execution_count": 208,
   "metadata": {},
   "outputs": [
    {
     "data": {
      "text/plain": [
       "38"
      ]
     },
     "execution_count": 208,
     "metadata": {},
     "output_type": "execute_result"
    }
   ],
   "source": [
    "count #posibles datos anomalos"
   ]
  },
  {
   "cell_type": "markdown",
   "metadata": {
    "colab_type": "text",
    "id": "EuaBwcUhKE6P"
   },
   "source": [
    "*Responder aqui la pregunta y su análisis*"
   ]
  },
  {
   "cell_type": "code",
   "execution_count": null,
   "metadata": {},
   "outputs": [],
   "source": []
  },
  {
   "cell_type": "markdown",
   "metadata": {
    "colab_type": "text",
    "id": "ZjNFMmyTNtnN"
   },
   "source": [
    "### ¿Existe alguna relación entre el número de habitaciones y el precio?\n",
    "\n"
   ]
  },
  {
   "cell_type": "code",
   "execution_count": 209,
   "metadata": {},
   "outputs": [],
   "source": [
    "dataTemp5=df"
   ]
  },
  {
   "cell_type": "code",
   "execution_count": 213,
   "metadata": {},
   "outputs": [
    {
     "data": {
      "text/html": [
       "<div>\n",
       "<style scoped>\n",
       "    .dataframe tbody tr th:only-of-type {\n",
       "        vertical-align: middle;\n",
       "    }\n",
       "\n",
       "    .dataframe tbody tr th {\n",
       "        vertical-align: top;\n",
       "    }\n",
       "\n",
       "    .dataframe thead th {\n",
       "        text-align: right;\n",
       "    }\n",
       "</style>\n",
       "<table border=\"1\" class=\"dataframe\">\n",
       "  <thead>\n",
       "    <tr style=\"text-align: right;\">\n",
       "      <th></th>\n",
       "      <th>price1</th>\n",
       "      <th>metros</th>\n",
       "      <th>techados</th>\n",
       "      <th>dormitorios</th>\n",
       "      <th>baños</th>\n",
       "      <th>estacionamientos</th>\n",
       "    </tr>\n",
       "  </thead>\n",
       "  <tbody>\n",
       "    <tr>\n",
       "      <th>price1</th>\n",
       "      <td>1.000000</td>\n",
       "      <td>0.018418</td>\n",
       "      <td>0.457269</td>\n",
       "      <td>-0.000827</td>\n",
       "      <td>0.018392</td>\n",
       "      <td>0.037052</td>\n",
       "    </tr>\n",
       "    <tr>\n",
       "      <th>metros</th>\n",
       "      <td>0.018418</td>\n",
       "      <td>1.000000</td>\n",
       "      <td>0.171352</td>\n",
       "      <td>0.017464</td>\n",
       "      <td>0.040618</td>\n",
       "      <td>0.052346</td>\n",
       "    </tr>\n",
       "    <tr>\n",
       "      <th>techados</th>\n",
       "      <td>0.457269</td>\n",
       "      <td>0.171352</td>\n",
       "      <td>1.000000</td>\n",
       "      <td>0.065938</td>\n",
       "      <td>0.135775</td>\n",
       "      <td>0.156239</td>\n",
       "    </tr>\n",
       "    <tr>\n",
       "      <th>dormitorios</th>\n",
       "      <td>-0.000827</td>\n",
       "      <td>0.017464</td>\n",
       "      <td>0.065938</td>\n",
       "      <td>1.000000</td>\n",
       "      <td>0.498502</td>\n",
       "      <td>0.036414</td>\n",
       "    </tr>\n",
       "    <tr>\n",
       "      <th>baños</th>\n",
       "      <td>0.018392</td>\n",
       "      <td>0.040618</td>\n",
       "      <td>0.135775</td>\n",
       "      <td>0.498502</td>\n",
       "      <td>1.000000</td>\n",
       "      <td>0.261403</td>\n",
       "    </tr>\n",
       "    <tr>\n",
       "      <th>estacionamientos</th>\n",
       "      <td>0.037052</td>\n",
       "      <td>0.052346</td>\n",
       "      <td>0.156239</td>\n",
       "      <td>0.036414</td>\n",
       "      <td>0.261403</td>\n",
       "      <td>1.000000</td>\n",
       "    </tr>\n",
       "  </tbody>\n",
       "</table>\n",
       "</div>"
      ],
      "text/plain": [
       "                    price1    metros  techados  dormitorios     baños  \\\n",
       "price1            1.000000  0.018418  0.457269    -0.000827  0.018392   \n",
       "metros            0.018418  1.000000  0.171352     0.017464  0.040618   \n",
       "techados          0.457269  0.171352  1.000000     0.065938  0.135775   \n",
       "dormitorios      -0.000827  0.017464  0.065938     1.000000  0.498502   \n",
       "baños             0.018392  0.040618  0.135775     0.498502  1.000000   \n",
       "estacionamientos  0.037052  0.052346  0.156239     0.036414  0.261403   \n",
       "\n",
       "                  estacionamientos  \n",
       "price1                    0.037052  \n",
       "metros                    0.052346  \n",
       "techados                  0.156239  \n",
       "dormitorios               0.036414  \n",
       "baños                     0.261403  \n",
       "estacionamientos          1.000000  "
      ]
     },
     "execution_count": 213,
     "metadata": {},
     "output_type": "execute_result"
    }
   ],
   "source": [
    "df.corr()"
   ]
  },
  {
   "cell_type": "code",
   "execution_count": 211,
   "metadata": {},
   "outputs": [
    {
     "data": {
      "text/plain": [
       "-0.000827414430736293"
      ]
     },
     "execution_count": 211,
     "metadata": {},
     "output_type": "execute_result"
    }
   ],
   "source": [
    "dataTemp5['dormitorios'].corr(dataTemp5['price1'])"
   ]
  },
  {
   "cell_type": "markdown",
   "metadata": {
    "colab_type": "text",
    "id": "uwxbtZYL-agl"
   },
   "source": [
    "*Tiene como correlación: -0.000827414430736293*"
   ]
  },
  {
   "cell_type": "markdown",
   "metadata": {
    "colab_type": "text",
    "id": "OU8WZymXOGZp"
   },
   "source": [
    "## Preparación de Datos (9 Puntos)\n",
    "\n",
    "Luego de haber realizado el análisis de los datos, procederemos con la preparación final antes del modelado. Recuerde que la mayor parte de los modelos de Machine Learning reciben como entrada solamente valores numéricos. Sus tareas en esta fase serán:\n",
    "\n",
    "1. (2 puntos) Agregar y/o eliminar características.\n",
    "\n",
    "2. (Opcional - 2 puntos) Detectar y tratar valores atípicos (outliers).\n",
    "3. (1 punto) Separar características de variable objetivo (`price1`)\n",
    "4. (1 punto) Preprocesar características númericas.\n",
    "5. (1 punto) Preprocesar características categóricas.\n",
    "6. (1 punto) Crear una función o clase que permita hacer toda la preparación de datos para un dataset determinado. Usaremos está función para preparar los datos de entrenamiento y prueba por separado. También puede hacer uso de la clase [Pipeline](https://scikit-learn.org/stable/modules/compose.html) de scikit-learn (Recomendado)."
   ]
  },
  {
   "cell_type": "code",
   "execution_count": 215,
   "metadata": {},
   "outputs": [
    {
     "data": {
      "text/html": [
       "<div>\n",
       "<style scoped>\n",
       "    .dataframe tbody tr th:only-of-type {\n",
       "        vertical-align: middle;\n",
       "    }\n",
       "\n",
       "    .dataframe tbody tr th {\n",
       "        vertical-align: top;\n",
       "    }\n",
       "\n",
       "    .dataframe thead th {\n",
       "        text-align: right;\n",
       "    }\n",
       "</style>\n",
       "<table border=\"1\" class=\"dataframe\">\n",
       "  <thead>\n",
       "    <tr style=\"text-align: right;\">\n",
       "      <th></th>\n",
       "      <th>l_tag</th>\n",
       "      <th>title</th>\n",
       "      <th>price1</th>\n",
       "      <th>departamento</th>\n",
       "      <th>provincia</th>\n",
       "      <th>distrito</th>\n",
       "      <th>metros</th>\n",
       "      <th>techados</th>\n",
       "      <th>dormitorios</th>\n",
       "      <th>baños</th>\n",
       "      <th>estacionamientos</th>\n",
       "    </tr>\n",
       "  </thead>\n",
       "  <tbody>\n",
       "    <tr>\n",
       "      <th>0</th>\n",
       "      <td>Super destacado</td>\n",
       "      <td>Vendo Casa Urb. Santa Patricia 1ra Etapa – La ...</td>\n",
       "      <td>1582.0</td>\n",
       "      <td>Lima</td>\n",
       "      <td>Lima</td>\n",
       "      <td>La Molina</td>\n",
       "      <td>240</td>\n",
       "      <td>240</td>\n",
       "      <td>4</td>\n",
       "      <td>3</td>\n",
       "      <td>1</td>\n",
       "    </tr>\n",
       "    <tr>\n",
       "      <th>1</th>\n",
       "      <td>Super destacado</td>\n",
       "      <td>Venta de Casa en El Sol de La Molina</td>\n",
       "      <td>4050.0</td>\n",
       "      <td>Lima</td>\n",
       "      <td>Lima</td>\n",
       "      <td>La Molina</td>\n",
       "      <td>1050</td>\n",
       "      <td>300</td>\n",
       "      <td>0</td>\n",
       "      <td>0</td>\n",
       "      <td>0</td>\n",
       "    </tr>\n",
       "    <tr>\n",
       "      <th>2</th>\n",
       "      <td>Super destacado</td>\n",
       "      <td>Rebajada! Venta de Casa en San Isidro</td>\n",
       "      <td>2822.0</td>\n",
       "      <td>Lima</td>\n",
       "      <td>Lima</td>\n",
       "      <td>San Isidro</td>\n",
       "      <td>450</td>\n",
       "      <td>450</td>\n",
       "      <td>5</td>\n",
       "      <td>5</td>\n",
       "      <td>3</td>\n",
       "    </tr>\n",
       "    <tr>\n",
       "      <th>3</th>\n",
       "      <td>Super destacado</td>\n",
       "      <td>Venta de Casa en Santiago de Surco</td>\n",
       "      <td>1261.0</td>\n",
       "      <td>Lima</td>\n",
       "      <td>Lima</td>\n",
       "      <td>Santiago de Surco</td>\n",
       "      <td>300</td>\n",
       "      <td>181</td>\n",
       "      <td>4</td>\n",
       "      <td>3</td>\n",
       "      <td>0</td>\n",
       "    </tr>\n",
       "    <tr>\n",
       "      <th>4</th>\n",
       "      <td>Super destacado</td>\n",
       "      <td>Se Vende Hermosa y Espectacular Casa en Condom...</td>\n",
       "      <td>1254.0</td>\n",
       "      <td>Lima</td>\n",
       "      <td>Lima</td>\n",
       "      <td>La Molina</td>\n",
       "      <td>286</td>\n",
       "      <td>286</td>\n",
       "      <td>3</td>\n",
       "      <td>4</td>\n",
       "      <td>2</td>\n",
       "    </tr>\n",
       "  </tbody>\n",
       "</table>\n",
       "</div>"
      ],
      "text/plain": [
       "             l_tag                                              title  price1  \\\n",
       "0  Super destacado  Vendo Casa Urb. Santa Patricia 1ra Etapa – La ...  1582.0   \n",
       "1  Super destacado               Venta de Casa en El Sol de La Molina  4050.0   \n",
       "2  Super destacado              Rebajada! Venta de Casa en San Isidro  2822.0   \n",
       "3  Super destacado                 Venta de Casa en Santiago de Surco  1261.0   \n",
       "4  Super destacado  Se Vende Hermosa y Espectacular Casa en Condom...  1254.0   \n",
       "\n",
       "  departamento provincia           distrito  metros  techados  dormitorios  \\\n",
       "0         Lima     Lima           La Molina     240       240            4   \n",
       "1         Lima     Lima           La Molina    1050       300            0   \n",
       "2         Lima     Lima          San Isidro     450       450            5   \n",
       "3         Lima     Lima   Santiago de Surco     300       181            4   \n",
       "4         Lima     Lima           La Molina     286       286            3   \n",
       "\n",
       "   baños  estacionamientos  \n",
       "0      3                 1  \n",
       "1      0                 0  \n",
       "2      5                 3  \n",
       "3      3                 0  \n",
       "4      4                 2  "
      ]
     },
     "execution_count": 215,
     "metadata": {},
     "output_type": "execute_result"
    }
   ],
   "source": [
    "#1: Agregar y/o eliminar características.\n",
    "dfTempModelo=df\n",
    "dfTempModelo.head()"
   ]
  },
  {
   "cell_type": "code",
   "execution_count": 216,
   "metadata": {},
   "outputs": [],
   "source": [
    "#eliminamos la columna de title\n",
    "dfTempModelo=dfTempModelo.drop(['title'],axis=1)"
   ]
  },
  {
   "cell_type": "code",
   "execution_count": 217,
   "metadata": {},
   "outputs": [
    {
     "data": {
      "text/html": [
       "<div>\n",
       "<style scoped>\n",
       "    .dataframe tbody tr th:only-of-type {\n",
       "        vertical-align: middle;\n",
       "    }\n",
       "\n",
       "    .dataframe tbody tr th {\n",
       "        vertical-align: top;\n",
       "    }\n",
       "\n",
       "    .dataframe thead th {\n",
       "        text-align: right;\n",
       "    }\n",
       "</style>\n",
       "<table border=\"1\" class=\"dataframe\">\n",
       "  <thead>\n",
       "    <tr style=\"text-align: right;\">\n",
       "      <th></th>\n",
       "      <th>l_tag</th>\n",
       "      <th>price1</th>\n",
       "      <th>departamento</th>\n",
       "      <th>provincia</th>\n",
       "      <th>distrito</th>\n",
       "      <th>metros</th>\n",
       "      <th>techados</th>\n",
       "      <th>dormitorios</th>\n",
       "      <th>baños</th>\n",
       "      <th>estacionamientos</th>\n",
       "    </tr>\n",
       "  </thead>\n",
       "  <tbody>\n",
       "    <tr>\n",
       "      <th>0</th>\n",
       "      <td>Super destacado</td>\n",
       "      <td>1582.0</td>\n",
       "      <td>Lima</td>\n",
       "      <td>Lima</td>\n",
       "      <td>La Molina</td>\n",
       "      <td>240</td>\n",
       "      <td>240</td>\n",
       "      <td>4</td>\n",
       "      <td>3</td>\n",
       "      <td>1</td>\n",
       "    </tr>\n",
       "    <tr>\n",
       "      <th>1</th>\n",
       "      <td>Super destacado</td>\n",
       "      <td>4050.0</td>\n",
       "      <td>Lima</td>\n",
       "      <td>Lima</td>\n",
       "      <td>La Molina</td>\n",
       "      <td>1050</td>\n",
       "      <td>300</td>\n",
       "      <td>0</td>\n",
       "      <td>0</td>\n",
       "      <td>0</td>\n",
       "    </tr>\n",
       "    <tr>\n",
       "      <th>2</th>\n",
       "      <td>Super destacado</td>\n",
       "      <td>2822.0</td>\n",
       "      <td>Lima</td>\n",
       "      <td>Lima</td>\n",
       "      <td>San Isidro</td>\n",
       "      <td>450</td>\n",
       "      <td>450</td>\n",
       "      <td>5</td>\n",
       "      <td>5</td>\n",
       "      <td>3</td>\n",
       "    </tr>\n",
       "    <tr>\n",
       "      <th>3</th>\n",
       "      <td>Super destacado</td>\n",
       "      <td>1261.0</td>\n",
       "      <td>Lima</td>\n",
       "      <td>Lima</td>\n",
       "      <td>Santiago de Surco</td>\n",
       "      <td>300</td>\n",
       "      <td>181</td>\n",
       "      <td>4</td>\n",
       "      <td>3</td>\n",
       "      <td>0</td>\n",
       "    </tr>\n",
       "    <tr>\n",
       "      <th>4</th>\n",
       "      <td>Super destacado</td>\n",
       "      <td>1254.0</td>\n",
       "      <td>Lima</td>\n",
       "      <td>Lima</td>\n",
       "      <td>La Molina</td>\n",
       "      <td>286</td>\n",
       "      <td>286</td>\n",
       "      <td>3</td>\n",
       "      <td>4</td>\n",
       "      <td>2</td>\n",
       "    </tr>\n",
       "  </tbody>\n",
       "</table>\n",
       "</div>"
      ],
      "text/plain": [
       "             l_tag  price1 departamento provincia           distrito  metros  \\\n",
       "0  Super destacado  1582.0         Lima     Lima           La Molina     240   \n",
       "1  Super destacado  4050.0         Lima     Lima           La Molina    1050   \n",
       "2  Super destacado  2822.0         Lima     Lima          San Isidro     450   \n",
       "3  Super destacado  1261.0         Lima     Lima   Santiago de Surco     300   \n",
       "4  Super destacado  1254.0         Lima     Lima           La Molina     286   \n",
       "\n",
       "   techados  dormitorios  baños  estacionamientos  \n",
       "0       240            4      3                 1  \n",
       "1       300            0      0                 0  \n",
       "2       450            5      5                 3  \n",
       "3       181            4      3                 0  \n",
       "4       286            3      4                 2  "
      ]
     },
     "execution_count": 217,
     "metadata": {},
     "output_type": "execute_result"
    }
   ],
   "source": [
    "dfTempModelo.head()"
   ]
  },
  {
   "cell_type": "code",
   "execution_count": 218,
   "metadata": {},
   "outputs": [
    {
     "data": {
      "text/plain": [
       "(4674, 10)"
      ]
     },
     "execution_count": 218,
     "metadata": {},
     "output_type": "execute_result"
    }
   ],
   "source": [
    "dfTempModelo.shape #vemos cuantos datos tenemos"
   ]
  },
  {
   "cell_type": "code",
   "execution_count": 223,
   "metadata": {},
   "outputs": [],
   "source": [
    "#Detectar y tratar valores atípicos (outliers).\n",
    "transformed_test_data = pd.Series(mstats.winsorize(dataTemp['price1'], limits=[0.05, 0.05])) "
   ]
  },
  {
   "cell_type": "code",
   "execution_count": 224,
   "metadata": {},
   "outputs": [
    {
     "data": {
      "text/plain": [
       "(3737,)"
      ]
     },
     "execution_count": 224,
     "metadata": {},
     "output_type": "execute_result"
    }
   ],
   "source": [
    "transformed_test_data.shape"
   ]
  },
  {
   "cell_type": "code",
   "execution_count": 221,
   "metadata": {},
   "outputs": [
    {
     "data": {
      "text/plain": [
       "0    1582.0\n",
       "1    4050.0\n",
       "2    2822.0\n",
       "3    1261.0\n",
       "4    1254.0\n",
       "dtype: float64"
      ]
     },
     "execution_count": 221,
     "metadata": {},
     "output_type": "execute_result"
    }
   ],
   "source": [
    "transformed_test_data.head()"
   ]
  },
  {
   "cell_type": "code",
   "execution_count": 227,
   "metadata": {},
   "outputs": [],
   "source": [
    "#dfTempModelo2=dfTempModelo\n",
    "#dfTempModelo2=dfTempModelo2[dfTempModelo2.apply(lambda x: np.abs(x - x.mean()) / x.std() < 3).all(axis=1)]"
   ]
  },
  {
   "cell_type": "code",
   "execution_count": null,
   "metadata": {},
   "outputs": [],
   "source": [
    "#(1 punto) Separar características de variable objetivo (price1)\n",
    "    #Se hizo anteriormente\n",
    "#(1 punto) Preprocesar características númericas.\n",
    "    #Se hizo anteriormente"
   ]
  },
  {
   "cell_type": "code",
   "execution_count": null,
   "metadata": {},
   "outputs": [],
   "source": [
    "#Preprocesar características categóricas."
   ]
  },
  {
   "cell_type": "code",
   "execution_count": 235,
   "metadata": {},
   "outputs": [
    {
     "data": {
      "text/html": [
       "<div>\n",
       "<style scoped>\n",
       "    .dataframe tbody tr th:only-of-type {\n",
       "        vertical-align: middle;\n",
       "    }\n",
       "\n",
       "    .dataframe tbody tr th {\n",
       "        vertical-align: top;\n",
       "    }\n",
       "\n",
       "    .dataframe thead th {\n",
       "        text-align: right;\n",
       "    }\n",
       "</style>\n",
       "<table border=\"1\" class=\"dataframe\">\n",
       "  <thead>\n",
       "    <tr style=\"text-align: right;\">\n",
       "      <th></th>\n",
       "      <th>Destacado</th>\n",
       "      <th>No Category</th>\n",
       "      <th>Super destacado</th>\n",
       "    </tr>\n",
       "  </thead>\n",
       "  <tbody>\n",
       "    <tr>\n",
       "      <th>0</th>\n",
       "      <td>0</td>\n",
       "      <td>0</td>\n",
       "      <td>1</td>\n",
       "    </tr>\n",
       "    <tr>\n",
       "      <th>1</th>\n",
       "      <td>0</td>\n",
       "      <td>0</td>\n",
       "      <td>1</td>\n",
       "    </tr>\n",
       "    <tr>\n",
       "      <th>2</th>\n",
       "      <td>0</td>\n",
       "      <td>0</td>\n",
       "      <td>1</td>\n",
       "    </tr>\n",
       "    <tr>\n",
       "      <th>3</th>\n",
       "      <td>0</td>\n",
       "      <td>0</td>\n",
       "      <td>1</td>\n",
       "    </tr>\n",
       "    <tr>\n",
       "      <th>4</th>\n",
       "      <td>0</td>\n",
       "      <td>0</td>\n",
       "      <td>1</td>\n",
       "    </tr>\n",
       "    <tr>\n",
       "      <th>...</th>\n",
       "      <td>...</td>\n",
       "      <td>...</td>\n",
       "      <td>...</td>\n",
       "    </tr>\n",
       "    <tr>\n",
       "      <th>4669</th>\n",
       "      <td>0</td>\n",
       "      <td>1</td>\n",
       "      <td>0</td>\n",
       "    </tr>\n",
       "    <tr>\n",
       "      <th>4670</th>\n",
       "      <td>0</td>\n",
       "      <td>1</td>\n",
       "      <td>0</td>\n",
       "    </tr>\n",
       "    <tr>\n",
       "      <th>4671</th>\n",
       "      <td>0</td>\n",
       "      <td>1</td>\n",
       "      <td>0</td>\n",
       "    </tr>\n",
       "    <tr>\n",
       "      <th>4672</th>\n",
       "      <td>0</td>\n",
       "      <td>1</td>\n",
       "      <td>0</td>\n",
       "    </tr>\n",
       "    <tr>\n",
       "      <th>4673</th>\n",
       "      <td>0</td>\n",
       "      <td>1</td>\n",
       "      <td>0</td>\n",
       "    </tr>\n",
       "  </tbody>\n",
       "</table>\n",
       "<p>4674 rows × 3 columns</p>\n",
       "</div>"
      ],
      "text/plain": [
       "      Destacado  No Category  Super destacado\n",
       "0             0            0                1\n",
       "1             0            0                1\n",
       "2             0            0                1\n",
       "3             0            0                1\n",
       "4             0            0                1\n",
       "...         ...          ...              ...\n",
       "4669          0            1                0\n",
       "4670          0            1                0\n",
       "4671          0            1                0\n",
       "4672          0            1                0\n",
       "4673          0            1                0\n",
       "\n",
       "[4674 rows x 3 columns]"
      ]
     },
     "execution_count": 235,
     "metadata": {},
     "output_type": "execute_result"
    }
   ],
   "source": [
    "pd.get_dummies(dfTempModelo['l_tag'])"
   ]
  },
  {
   "cell_type": "code",
   "execution_count": 236,
   "metadata": {},
   "outputs": [],
   "source": [
    "result = pd.concat([dfTempModelo, pd.get_dummies(dfTempModelo['l_tag'])], axis=1, sort=False)"
   ]
  },
  {
   "cell_type": "code",
   "execution_count": 237,
   "metadata": {},
   "outputs": [
    {
     "data": {
      "text/html": [
       "<div>\n",
       "<style scoped>\n",
       "    .dataframe tbody tr th:only-of-type {\n",
       "        vertical-align: middle;\n",
       "    }\n",
       "\n",
       "    .dataframe tbody tr th {\n",
       "        vertical-align: top;\n",
       "    }\n",
       "\n",
       "    .dataframe thead th {\n",
       "        text-align: right;\n",
       "    }\n",
       "</style>\n",
       "<table border=\"1\" class=\"dataframe\">\n",
       "  <thead>\n",
       "    <tr style=\"text-align: right;\">\n",
       "      <th></th>\n",
       "      <th>l_tag</th>\n",
       "      <th>price1</th>\n",
       "      <th>departamento</th>\n",
       "      <th>provincia</th>\n",
       "      <th>distrito</th>\n",
       "      <th>metros</th>\n",
       "      <th>techados</th>\n",
       "      <th>dormitorios</th>\n",
       "      <th>baños</th>\n",
       "      <th>estacionamientos</th>\n",
       "      <th>Destacado</th>\n",
       "      <th>No Category</th>\n",
       "      <th>Super destacado</th>\n",
       "    </tr>\n",
       "  </thead>\n",
       "  <tbody>\n",
       "    <tr>\n",
       "      <th>0</th>\n",
       "      <td>Super destacado</td>\n",
       "      <td>1582.0</td>\n",
       "      <td>Lima</td>\n",
       "      <td>Lima</td>\n",
       "      <td>La Molina</td>\n",
       "      <td>240</td>\n",
       "      <td>240</td>\n",
       "      <td>4</td>\n",
       "      <td>3</td>\n",
       "      <td>1</td>\n",
       "      <td>0</td>\n",
       "      <td>0</td>\n",
       "      <td>1</td>\n",
       "    </tr>\n",
       "    <tr>\n",
       "      <th>1</th>\n",
       "      <td>Super destacado</td>\n",
       "      <td>4050.0</td>\n",
       "      <td>Lima</td>\n",
       "      <td>Lima</td>\n",
       "      <td>La Molina</td>\n",
       "      <td>1050</td>\n",
       "      <td>300</td>\n",
       "      <td>0</td>\n",
       "      <td>0</td>\n",
       "      <td>0</td>\n",
       "      <td>0</td>\n",
       "      <td>0</td>\n",
       "      <td>1</td>\n",
       "    </tr>\n",
       "    <tr>\n",
       "      <th>2</th>\n",
       "      <td>Super destacado</td>\n",
       "      <td>2822.0</td>\n",
       "      <td>Lima</td>\n",
       "      <td>Lima</td>\n",
       "      <td>San Isidro</td>\n",
       "      <td>450</td>\n",
       "      <td>450</td>\n",
       "      <td>5</td>\n",
       "      <td>5</td>\n",
       "      <td>3</td>\n",
       "      <td>0</td>\n",
       "      <td>0</td>\n",
       "      <td>1</td>\n",
       "    </tr>\n",
       "    <tr>\n",
       "      <th>3</th>\n",
       "      <td>Super destacado</td>\n",
       "      <td>1261.0</td>\n",
       "      <td>Lima</td>\n",
       "      <td>Lima</td>\n",
       "      <td>Santiago de Surco</td>\n",
       "      <td>300</td>\n",
       "      <td>181</td>\n",
       "      <td>4</td>\n",
       "      <td>3</td>\n",
       "      <td>0</td>\n",
       "      <td>0</td>\n",
       "      <td>0</td>\n",
       "      <td>1</td>\n",
       "    </tr>\n",
       "    <tr>\n",
       "      <th>4</th>\n",
       "      <td>Super destacado</td>\n",
       "      <td>1254.0</td>\n",
       "      <td>Lima</td>\n",
       "      <td>Lima</td>\n",
       "      <td>La Molina</td>\n",
       "      <td>286</td>\n",
       "      <td>286</td>\n",
       "      <td>3</td>\n",
       "      <td>4</td>\n",
       "      <td>2</td>\n",
       "      <td>0</td>\n",
       "      <td>0</td>\n",
       "      <td>1</td>\n",
       "    </tr>\n",
       "  </tbody>\n",
       "</table>\n",
       "</div>"
      ],
      "text/plain": [
       "             l_tag  price1 departamento provincia           distrito  metros  \\\n",
       "0  Super destacado  1582.0         Lima     Lima           La Molina     240   \n",
       "1  Super destacado  4050.0         Lima     Lima           La Molina    1050   \n",
       "2  Super destacado  2822.0         Lima     Lima          San Isidro     450   \n",
       "3  Super destacado  1261.0         Lima     Lima   Santiago de Surco     300   \n",
       "4  Super destacado  1254.0         Lima     Lima           La Molina     286   \n",
       "\n",
       "   techados  dormitorios  baños  estacionamientos  Destacado  No Category  \\\n",
       "0       240            4      3                 1          0            0   \n",
       "1       300            0      0                 0          0            0   \n",
       "2       450            5      5                 3          0            0   \n",
       "3       181            4      3                 0          0            0   \n",
       "4       286            3      4                 2          0            0   \n",
       "\n",
       "   Super destacado  \n",
       "0                1  \n",
       "1                1  \n",
       "2                1  \n",
       "3                1  \n",
       "4                1  "
      ]
     },
     "execution_count": 237,
     "metadata": {},
     "output_type": "execute_result"
    }
   ],
   "source": [
    "result.head()"
   ]
  },
  {
   "cell_type": "code",
   "execution_count": 239,
   "metadata": {},
   "outputs": [],
   "source": [
    "result=result.drop(['l_tag'],axis=1)"
   ]
  },
  {
   "cell_type": "code",
   "execution_count": 242,
   "metadata": {},
   "outputs": [],
   "source": [
    "result=pd.get_dummies(result)"
   ]
  },
  {
   "cell_type": "code",
   "execution_count": 244,
   "metadata": {},
   "outputs": [
    {
     "data": {
      "text/plain": [
       "price1                  float64\n",
       "metros                    int64\n",
       "techados                  int64\n",
       "dormitorios               int64\n",
       "baños                     int64\n",
       "                         ...   \n",
       "distrito_Wanchaq          uint8\n",
       "distrito_Yanahuara        uint8\n",
       "distrito_Yarinacocha      uint8\n",
       "distrito_Zarumilla        uint8\n",
       "distrito_Zorritos         uint8\n",
       "Length: 223, dtype: object"
      ]
     },
     "execution_count": 244,
     "metadata": {},
     "output_type": "execute_result"
    }
   ],
   "source": [
    "result.dtypes"
   ]
  },
  {
   "cell_type": "code",
   "execution_count": 245,
   "metadata": {},
   "outputs": [
    {
     "data": {
      "text/plain": [
       "(4674, 223)"
      ]
     },
     "execution_count": 245,
     "metadata": {},
     "output_type": "execute_result"
    }
   ],
   "source": [
    "result.shape"
   ]
  },
  {
   "cell_type": "code",
   "execution_count": null,
   "metadata": {},
   "outputs": [],
   "source": []
  },
  {
   "cell_type": "markdown",
   "metadata": {
    "colab_type": "text",
    "id": "039jctNLOK_h"
   },
   "source": [
    "## Modelado (17 Puntos)\n",
    "\n",
    "En esta estapa nos dedicaremos a usar nuestros conocimientos de Machine Learning para entrenar diferentes modelos y usar diferentes técnicas para mejorar los resultados. La evaluación estará basada en la métrica accuracy.\n",
    "\n",
    "1. (1 punto) Para los siguientes pasos evaluar su modelo con validación cruzada, usando la métrica de accuracy.\n",
    "2. (1 punto por clasificador) Utilize como mínimo $2$ clasificadores aprendidos para evaluar su solución (K-NN, Naive Bayes, Logistic Regression, Decision Trees). Muestre los resultados obtenidos e indique por qué algunos clasificadores son mejores que otros.\n",
    "3. (1 punto) Realice la búsqueda de hiperparámetros para cada modelo (Grid Search o Random Search) y vuelva a mostrar sus resultados.\n",
    "4. (1 punto por modelo) Utilize modelos de ensamble para ver si podemos mejorar nuestra solución (Bagging, Boosting y Stacking). Específique los modelos que está usando y muestre resultados.\n",
    "5. (Opcional - 1 punto por modelo) Utilize una o más de las siguientes librerías para evaluar su modelo con Gradient Boosting: [LightGBM](https://lightgbm.readthedocs.io/en/latest/Python-Intro.html), [XGBoost](https://xgboost.readthedocs.io/en/latest/python/python_intro.html), [CatBoost](https://catboost.ai/docs/concepts/python-usages-examples.html).\n",
    "6. (Opcional - 5 puntos) Importancia de Características:\n",
    "\n",
    "  6.1. (2 puntos) Obtenga la importancia de características usando Decision Trees y/o Random Forest. Muestre la importancia ordenada de mayor a menor y vuelva a entrenar su modelo con las características más importantes.\n",
    "\n",
    "  6.2. (1 punto)  Responda las siguientes preguntas: ¿Cuales son las características más importantes? ¿Cuántas características está considerando en su nuevo modelo y por qué? ¿Usando menos características mejora la métrica de clasificación?\n",
    "\n",
    "  6.3. (2 puntos) Analice las características más importantes haciendo uso de visualizaciones y explique sus conclusiones.\n",
    "\n",
    "Las tareas opcionales si bien no son obligatorias, son muy recomendables para que tengan un mejor conocimiento de las librerías más usadas a parte de scikit-learn y para entender mejor la importancia de características que algunos modelos nos brindan.\n",
    "\n",
    "*Para instalar nuevas librerías en colab puede hacer uso del comando !pip install. Por ejemplo para instalar CatBoost, podemos hacerlo de la siguiente manera: !pip install catboost*\n",
    "\n",
    "**Importante:** Al entrenar sus modelos puede que en algún momento lleguen a obtener $100\\%$ de accuracy durante el entrenamiento, incluso con validación cruzada. Esto puede deberse a un problema de **data leakage** donde nuestra data de entrenamiento contiene información de la variable que deseamos predecir (`price1`). Para ello es recomendable entender las características y revisar cuales están ocasionando el data leakage. "
   ]
  },
  {
   "cell_type": "code",
   "execution_count": 274,
   "metadata": {},
   "outputs": [],
   "source": [
    "resultBackup=result"
   ]
  },
  {
   "cell_type": "code",
   "execution_count": 275,
   "metadata": {},
   "outputs": [],
   "source": [
    "result['price1']=result['price1'].astype(int) #modificamos nuestra salida"
   ]
  },
  {
   "cell_type": "code",
   "execution_count": null,
   "metadata": {},
   "outputs": [],
   "source": [
    "# VAMOS A COMPROBAR SI ES DESTACADO O NO"
   ]
  },
  {
   "cell_type": "code",
   "execution_count": 276,
   "metadata": {},
   "outputs": [],
   "source": [
    "from sklearn.model_selection import train_test_split\n",
    "X_train, X_test, y_train, y_test = train_test_split(result.drop('Super destacado',axis=1), \n",
    "                                                    result['Super destacado'], test_size=0.30, random_state=101)"
   ]
  },
  {
   "cell_type": "code",
   "execution_count": 277,
   "metadata": {},
   "outputs": [
    {
     "name": "stderr",
     "output_type": "stream",
     "text": [
      "D:\\ANACONDA\\lib\\site-packages\\sklearn\\linear_model\\_logistic.py:940: ConvergenceWarning: lbfgs failed to converge (status=1):\n",
      "STOP: TOTAL NO. of ITERATIONS REACHED LIMIT.\n",
      "\n",
      "Increase the number of iterations (max_iter) or scale the data as shown in:\n",
      "    https://scikit-learn.org/stable/modules/preprocessing.html\n",
      "Please also refer to the documentation for alternative solver options:\n",
      "    https://scikit-learn.org/stable/modules/linear_model.html#logistic-regression\n",
      "  extra_warning_msg=_LOGISTIC_SOLVER_CONVERGENCE_MSG)\n"
     ]
    }
   ],
   "source": [
    "from sklearn.linear_model import LogisticRegression\n",
    "logmodel = LogisticRegression()\n",
    "logmodel.fit(X_train,y_train)\n",
    "predictions = logmodel.predict(X_test)"
   ]
  },
  {
   "cell_type": "code",
   "execution_count": 278,
   "metadata": {},
   "outputs": [
    {
     "name": "stdout",
     "output_type": "stream",
     "text": [
      "              precision    recall  f1-score   support\n",
      "\n",
      "           0       0.97      1.00      0.99      1365\n",
      "           1       0.50      0.05      0.10        38\n",
      "\n",
      "    accuracy                           0.97      1403\n",
      "   macro avg       0.74      0.53      0.54      1403\n",
      "weighted avg       0.96      0.97      0.96      1403\n",
      "\n"
     ]
    }
   ],
   "source": [
    "from sklearn.metrics import classification_report\n",
    "print(classification_report(y_test,predictions))"
   ]
  },
  {
   "cell_type": "code",
   "execution_count": 279,
   "metadata": {},
   "outputs": [
    {
     "data": {
      "text/plain": [
       "KNeighborsClassifier(algorithm='auto', leaf_size=30, metric='minkowski',\n",
       "                     metric_params=None, n_jobs=None, n_neighbors=3, p=2,\n",
       "                     weights='uniform')"
      ]
     },
     "execution_count": 279,
     "metadata": {},
     "output_type": "execute_result"
    }
   ],
   "source": [
    "from sklearn.neighbors import KNeighborsClassifier\n",
    "# Create KNN classifier\n",
    "knn = KNeighborsClassifier(n_neighbors = 3)\n",
    "# Fit the classifier to the data\n",
    "knn.fit(X_train,y_train)"
   ]
  },
  {
   "cell_type": "code",
   "execution_count": 280,
   "metadata": {},
   "outputs": [
    {
     "data": {
      "text/plain": [
       "0.9722024233784747"
      ]
     },
     "execution_count": 280,
     "metadata": {},
     "output_type": "execute_result"
    }
   ],
   "source": [
    "knn.score(X_test, y_test)"
   ]
  },
  {
   "cell_type": "code",
   "execution_count": 289,
   "metadata": {},
   "outputs": [],
   "source": [
    "columnas= result.columns"
   ]
  },
  {
   "cell_type": "code",
   "execution_count": 286,
   "metadata": {},
   "outputs": [],
   "source": [
    "from sklearn import svm, datasets\n",
    "from sklearn.model_selection import GridSearchCV\n",
    "parameters = {'kernel':('linear', 'rbf'), 'C':[1, 10]}\n",
    "svc = svm.SVC()"
   ]
  },
  {
   "cell_type": "code",
   "execution_count": 287,
   "metadata": {},
   "outputs": [],
   "source": [
    "clf = GridSearchCV(svc, parameters)"
   ]
  },
  {
   "cell_type": "code",
   "execution_count": null,
   "metadata": {},
   "outputs": [],
   "source": [
    "clf.fit(X_train, y_train)"
   ]
  },
  {
   "cell_type": "code",
   "execution_count": null,
   "metadata": {},
   "outputs": [],
   "source": [
    "clf.score(X_test, y_test)"
   ]
  },
  {
   "cell_type": "code",
   "execution_count": 299,
   "metadata": {},
   "outputs": [
    {
     "name": "stdout",
     "output_type": "stream",
     "text": [
      "Collecting xgboost\n",
      "  Downloading xgboost-1.1.0-py3-none-win_amd64.whl (37.7 MB)\n",
      "Requirement already satisfied: scipy in d:\\anaconda\\lib\\site-packages (from xgboost) (1.4.1)\n",
      "Requirement already satisfied: numpy in d:\\anaconda\\lib\\site-packages (from xgboost) (1.18.1)\n",
      "Installing collected packages: xgboost\n",
      "Successfully installed xgboost-1.1.0\n",
      "Note: you may need to restart the kernel to use updated packages.\n"
     ]
    }
   ],
   "source": [
    "pip install xgboost\n"
   ]
  },
  {
   "cell_type": "code",
   "execution_count": 300,
   "metadata": {},
   "outputs": [],
   "source": [
    "import xgboost as xgb"
   ]
  },
  {
   "cell_type": "code",
   "execution_count": 301,
   "metadata": {},
   "outputs": [],
   "source": [
    "dtrain = xgb.DMatrix(X_test, label=y_test)"
   ]
  },
  {
   "cell_type": "code",
   "execution_count": 303,
   "metadata": {},
   "outputs": [],
   "source": [
    "dtrain = xgb.DMatrix(X_test)\n",
    "dtrain.save_binary('train.buffer')\n"
   ]
  },
  {
   "cell_type": "code",
   "execution_count": null,
   "metadata": {},
   "outputs": [],
   "source": [
    "#Preguntas:\n",
    "# Responda las siguientes preguntas: \n",
    "#¿Cuales son las características más importantes? \n",
    "    # Price, Numero de baños,dormitorios,techadao,provincia,distrito,departamento,categoria\n",
    "#¿Cuántas características está considerando en su nuevo modelo y por qué? \n",
    "    #223, trate de optimizar todo lo que se podía y al final me quedko este resultado\n",
    "#¿Usando menos características mejora la métrica de clasificación?\n",
    "    # a mi parecer sí, la columna de departamentos, provincia y distrito al aplicarle get_dummies no me parece que sea la mejor solución...\n",
    "# Analice las características más importantes haciendo uso de visualizaciones y explique sus conclusiones.\n",
    "    "
   ]
  },
  {
   "cell_type": "code",
   "execution_count": 305,
   "metadata": {},
   "outputs": [],
   "source": [
    "dataT=dataBackup"
   ]
  },
  {
   "cell_type": "code",
   "execution_count": 306,
   "metadata": {},
   "outputs": [
    {
     "data": {
      "text/html": [
       "<div>\n",
       "<style scoped>\n",
       "    .dataframe tbody tr th:only-of-type {\n",
       "        vertical-align: middle;\n",
       "    }\n",
       "\n",
       "    .dataframe tbody tr th {\n",
       "        vertical-align: top;\n",
       "    }\n",
       "\n",
       "    .dataframe thead th {\n",
       "        text-align: right;\n",
       "    }\n",
       "</style>\n",
       "<table border=\"1\" class=\"dataframe\">\n",
       "  <thead>\n",
       "    <tr style=\"text-align: right;\">\n",
       "      <th></th>\n",
       "      <th>l_tag</th>\n",
       "      <th>title</th>\n",
       "      <th>price1</th>\n",
       "      <th>departamento</th>\n",
       "      <th>provincia</th>\n",
       "      <th>distrito</th>\n",
       "      <th>metros</th>\n",
       "      <th>techados</th>\n",
       "      <th>dormitorios</th>\n",
       "      <th>baños</th>\n",
       "      <th>estacionamientos</th>\n",
       "    </tr>\n",
       "  </thead>\n",
       "  <tbody>\n",
       "    <tr>\n",
       "      <th>0</th>\n",
       "      <td>Super destacado</td>\n",
       "      <td>Vendo Casa Urb. Santa Patricia 1ra Etapa – La ...</td>\n",
       "      <td>1582.0</td>\n",
       "      <td>Lima</td>\n",
       "      <td>Lima</td>\n",
       "      <td>La Molina</td>\n",
       "      <td>240</td>\n",
       "      <td>240</td>\n",
       "      <td>4</td>\n",
       "      <td>3</td>\n",
       "      <td>1</td>\n",
       "    </tr>\n",
       "    <tr>\n",
       "      <th>1</th>\n",
       "      <td>Super destacado</td>\n",
       "      <td>Venta de Casa en El Sol de La Molina</td>\n",
       "      <td>4050.0</td>\n",
       "      <td>Lima</td>\n",
       "      <td>Lima</td>\n",
       "      <td>La Molina</td>\n",
       "      <td>1050</td>\n",
       "      <td>300</td>\n",
       "      <td>0</td>\n",
       "      <td>0</td>\n",
       "      <td>0</td>\n",
       "    </tr>\n",
       "    <tr>\n",
       "      <th>2</th>\n",
       "      <td>Super destacado</td>\n",
       "      <td>Rebajada! Venta de Casa en San Isidro</td>\n",
       "      <td>2822.0</td>\n",
       "      <td>Lima</td>\n",
       "      <td>Lima</td>\n",
       "      <td>San Isidro</td>\n",
       "      <td>450</td>\n",
       "      <td>450</td>\n",
       "      <td>5</td>\n",
       "      <td>5</td>\n",
       "      <td>3</td>\n",
       "    </tr>\n",
       "    <tr>\n",
       "      <th>3</th>\n",
       "      <td>Super destacado</td>\n",
       "      <td>Venta de Casa en Santiago de Surco</td>\n",
       "      <td>1261.0</td>\n",
       "      <td>Lima</td>\n",
       "      <td>Lima</td>\n",
       "      <td>Santiago de Surco</td>\n",
       "      <td>300</td>\n",
       "      <td>181</td>\n",
       "      <td>4</td>\n",
       "      <td>3</td>\n",
       "      <td>0</td>\n",
       "    </tr>\n",
       "    <tr>\n",
       "      <th>4</th>\n",
       "      <td>Super destacado</td>\n",
       "      <td>Se Vende Hermosa y Espectacular Casa en Condom...</td>\n",
       "      <td>1254.0</td>\n",
       "      <td>Lima</td>\n",
       "      <td>Lima</td>\n",
       "      <td>La Molina</td>\n",
       "      <td>286</td>\n",
       "      <td>286</td>\n",
       "      <td>3</td>\n",
       "      <td>4</td>\n",
       "      <td>2</td>\n",
       "    </tr>\n",
       "  </tbody>\n",
       "</table>\n",
       "</div>"
      ],
      "text/plain": [
       "             l_tag                                              title  price1  \\\n",
       "0  Super destacado  Vendo Casa Urb. Santa Patricia 1ra Etapa – La ...  1582.0   \n",
       "1  Super destacado               Venta de Casa en El Sol de La Molina  4050.0   \n",
       "2  Super destacado              Rebajada! Venta de Casa en San Isidro  2822.0   \n",
       "3  Super destacado                 Venta de Casa en Santiago de Surco  1261.0   \n",
       "4  Super destacado  Se Vende Hermosa y Espectacular Casa en Condom...  1254.0   \n",
       "\n",
       "  departamento provincia           distrito  metros  techados  dormitorios  \\\n",
       "0         Lima     Lima           La Molina     240       240            4   \n",
       "1         Lima     Lima           La Molina    1050       300            0   \n",
       "2         Lima     Lima          San Isidro     450       450            5   \n",
       "3         Lima     Lima   Santiago de Surco     300       181            4   \n",
       "4         Lima     Lima           La Molina     286       286            3   \n",
       "\n",
       "   baños  estacionamientos  \n",
       "0      3                 1  \n",
       "1      0                 0  \n",
       "2      5                 3  \n",
       "3      3                 0  \n",
       "4      4                 2  "
      ]
     },
     "execution_count": 306,
     "metadata": {},
     "output_type": "execute_result"
    }
   ],
   "source": [
    "dataT.head()"
   ]
  },
  {
   "cell_type": "code",
   "execution_count": 314,
   "metadata": {},
   "outputs": [],
   "source": [
    "dataT2 = dataT.groupby(['l_tag'])['price1'].mean()"
   ]
  },
  {
   "cell_type": "code",
   "execution_count": 315,
   "metadata": {},
   "outputs": [
    {
     "data": {
      "text/plain": [
       "<matplotlib.axes._subplots.AxesSubplot at 0x21e396b1d88>"
      ]
     },
     "execution_count": 315,
     "metadata": {},
     "output_type": "execute_result"
    },
    {
     "data": {
      "image/png": "[encoded data removed]",
      "text/plain": [
       "<Figure size 432x288 with 1 Axes>"
      ]
     },
     "metadata": {
      "needs_background": "light"
     },
     "output_type": "display_data"
    }
   ],
   "source": [
    "dataT2.plot.bar()"
   ]
  },
  {
   "cell_type": "code",
   "execution_count": 316,
   "metadata": {},
   "outputs": [
    {
     "data": {
      "text/plain": [
       "<matplotlib.axes._subplots.AxesSubplot at 0x21e39be1548>"
      ]
     },
     "execution_count": 316,
     "metadata": {},
     "output_type": "execute_result"
    },
    {
     "data": {
      "image/png": "[encoded data removed]",
      "text/plain": [
       "<Figure size 432x288 with 1 Axes>"
      ]
     },
     "metadata": {
      "needs_background": "light"
     },
     "output_type": "display_data"
    }
   ],
   "source": [
    "dataT2 = dataT.groupby(['departamento'])['price1'].mean()\n",
    "dataT2.plot.bar()"
   ]
  },
  {
   "cell_type": "code",
   "execution_count": 321,
   "metadata": {},
   "outputs": [
    {
     "data": {
      "text/plain": [
       "<matplotlib.axes._subplots.AxesSubplot at 0x21e41e01988>"
      ]
     },
     "execution_count": 321,
     "metadata": {},
     "output_type": "execute_result"
    },
    {
     "data": {
      "image/png": "[encoded data removed]",
      "text/plain": [
       "<Figure size 432x288 with 1 Axes>"
      ]
     },
     "metadata": {
      "needs_background": "light"
     },
     "output_type": "display_data"
    }
   ],
   "source": [
    "dataT2 = dataT.groupby(['estacionamientos'])['price1'].mean()\n",
    "dataT2.plot.bar()"
   ]
  },
  {
   "cell_type": "code",
   "execution_count": null,
   "metadata": {},
   "outputs": [],
   "source": [
    "#Nota: Profesor, extrañamente mi pc cada vez se hacía muy lenta, y me cuesta mucho compilar las imágenes\n",
    "#le cuento esto porque me parece que se estan guardando los dataframes en memoria\n",
    "#sin embargo, se logro gran parte del trabajo \n",
    "#Gracias por tan excelebnte módulo!\n",
    "#Saludos."
   ]
  },
  {
   "cell_type": "code",
   "execution_count": null,
   "metadata": {},
   "outputs": [],
   "source": []
  },
  {
   "cell_type": "code",
   "execution_count": null,
   "metadata": {},
   "outputs": [],
   "source": []
  }
 ],
 "metadata": {
  "colab": {
   "collapsed_sections": [],
   "name": "Predicción de Precios de Viviendas en Perú.ipynb",
   "provenance": [
    {
     "file_id": "1gdXekw8uzQ45KWCESoQOHpt_S1ZbB9-7",
     "timestamp": 1588479704305
    },
    {
     "file_id": "1hvgBft48fiufyso5Y5EWIderzlniauGR",
     "timestamp": 1584506764859
    }
   ]
  },
  "kernelspec": {
   "display_name": "Python 3",
   "language": "python",
   "name": "python3"
  },
  "language_info": {
   "codemirror_mode": {
    "name": "ipython",
    "version": 3
   },
   "file_extension": ".py",
   "mimetype": "text/x-python",
   "name": "python",
   "nbconvert_exporter": "python",
   "pygments_lexer": "ipython3",
   "version": "3.7.6"
  }
 },
 "nbformat": 4,
 "nbformat_minor": 4
}
