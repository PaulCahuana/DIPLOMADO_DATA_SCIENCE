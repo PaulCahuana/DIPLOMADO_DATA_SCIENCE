{
 "cells": [
  {
   "cell_type": "markdown",
   "metadata": {
    "colab_type": "text",
    "id": "FCtzaBbUOus4"
   },
   "source": [
    "# Tarea: Predicción de Cancelaciones de Reservas de Hotel\n",
    "\n",
    "**Nombres y Apellidos:** *Escriba aqui*\n",
    "\n",
    "## Motivación\n",
    "\n",
    "De acuerdo con D-Edge Hospitality Solutions, parte del grupo de tecnología hotelera de Accor, las tasas globales de cancelación de reservas de hotel han alcanzado el $40\\%$ en promedio. Las cancelaciones de reservas son siempre un dolor de cabeza para los hoteles, lo que a su vez hace que pierdan ganancias. Por lo tanto, sería bueno para los hoteles tener un modelo que pueda predecir si un huésped realmente cumplirá con su reserva y se alojará en el hotel o si cancelará su reserva. Esto puede ayudar a un hotel a planificar cosas como personal y requisitos de comida. Asimismo, sería bueno averiguar qué causa el aumento de las cancelaciones de reservas de hotel y cómo mitigar este aumento.\n",
    "\n",
    "## Kaggle\n",
    "\n",
    "El trabajo será validado directamente en Kaggle. Pueden acceder a la competencia desde el siguiente enlace:  https://www.kaggle.com/t/1becd9d402064b7ba8737391e47d70b7.\n",
    "\n",
    "## Calificación\n",
    "\n",
    "La nota final del trabajo está basada en el puntaje total obtenido en este notebook y esta dividido de la siguiente manera:\n",
    "\n",
    "- Dataset  (4 puntos)\n",
    "- Análisis Exploratorio de Datos (EDA) (5 puntos)\n",
    "- Preparación de Datos (8 Puntos)\n",
    "- Modelado (17 Puntos)\n",
    "- Prueba en Kaggle (4 Puntos)\n",
    "\n",
    "El total de puntos es $38$ $+$ $2$ puntos adicionales que se darán aquellos que participen activamente en el [foro de discusión](https://www.kaggle.com/c/reservas-de-hotel/discussion) de la competencia, ya sea preguntando sus dudas y/o ayudando a resolver dudas de otros. La escala de notas finales está dada a continuación:\n",
    "\n",
    "|Puntaje| Nota |\n",
    "|-------|-----|\n",
    "|30 - 40| A |\n",
    "|20 - 29| B |\n",
    "|10 - 19| C |\n",
    "| < 10 | D |\n",
    "\n",
    "Aprueban los que obtienen una nota mínima de B.\n"
   ]
  },
  {
   "cell_type": "markdown",
   "metadata": {
    "colab_type": "text",
    "id": "yHuKJBfz4JUU"
   },
   "source": [
    "## Importación de Librerías\n",
    "\n",
    "Importe las librerías que usará en este ejercicio."
   ]
  },
  {
   "cell_type": "code",
   "execution_count": 32,
   "metadata": {
    "colab": {},
    "colab_type": "code",
    "id": "wDt31-H94AA1"
   },
   "outputs": [],
   "source": [
    "# TODO: Importar librerías para manipulación, visualización, \n",
    "#       preprocesamiento y modelado de datos\n",
    "\n",
    "import pandas as pd\n",
    "import numpy as np\n"
   ]
  },
  {
   "cell_type": "markdown",
   "metadata": {
    "colab_type": "text",
    "id": "UJ3donf4UKA0"
   },
   "source": [
    "## Dataset (4 Puntos)\n",
    "\n",
    "El conjunto de datos contiene información de reserva para un resort (Resort Hotel) y para un hotel de ciudad (City Hotel) e incluye información acerca de cuándo se realizó la reserva, la duración de la estadía, la cantidad de adultos, niños y/o bebés, y la cantidad de espacios de estacionamiento disponibles, entre otras informaciones.\n",
    "\n",
    "El conjuntos de datos posee $31$ características. Cada observación representa una reserva de hotel entre el $1$ de julio de $2015$ y el $31$ de agosto de $2017$, incluidas las reservas que efectivamente se cumplieron y las que se cancelaron. Como se trata de datos reales de hoteles, se eliminaron todos los datos relacionados con la identificación del hotel o del cliente. \n",
    "\n",
    "### Descripción de Características\n",
    "\n",
    "|Nombre| Descripción |\n",
    "|-------|-----|\n",
    "|hotel |  Hotel (H1 = Resort Hotel or H2 = City Hotel) |\n",
    "|is_canceled | Valor indicando si la reserva fue cancelada (1) o no (0)|\n",
    "|lead_time | Número de días transcurridos entre la fecha de entrada de la reserva en la base de datos y la fecha de llegada |\n",
    "|arrival_date_year | Año de llegada |\n",
    "|arrival_date_month | Mes de llegada |\n",
    "|arrival_date_week_number | Número de semana del año para la fecha de llegada |\n",
    "|arrival_date_day_of_month | Día del mes de la fecha de llegada |\n",
    "|stays_in_weekend_nights | Número de noches de fin de semana (sábado o domingo) que el huésped se hospedó o reservó para quedarse en el hotel |\n",
    "|stays_in_week_nights | Número de noches semanales (de lunes a viernes) que el huésped se hospedó o reservó para hospedarse en el hotel |\n",
    "|adults | Número de adultos |\n",
    "|children | Numero de niños |\n",
    "|babies | Numero de bebes |\n",
    "|meal | Tipo de comida reservada. Las categorías se presentan en paquetes de comidas de hospitalidad estándar: <br/> - Undefined/SC - sin paquete de comida; <br/> - BB - Alojamiento y desayuno; <br/> - HB - Media pensión (desayuno y otra comida, generalmente cena); <br/> - FB - Pensión completa (desayuno, almuerzo y cena) |\n",
    "|country| País de origen. Las categorías se representan en el formato ISO 3155–3:2013 |\n",
    "|market_segment | Designación del segmento de mercado. En categorías, el término \"TA\" significa \"Agentes de viajes\" y \"TO\" significa \"Operadores turísticos\" |\n",
    "|distribution_channel | Canal de distribución de reservas. El término \"TA\" significa \"Agentes de viajes\" y \"TO\" significa \"Operadores turísticos\" |\n",
    "|is_repeated_guest | Valor que indica si el nombre de la reserva era de un huésped repetido (1) o no (0) |\n",
    "|previous_cancellations | Número de reservas anteriores que el cliente canceló antes de la reserva actual |\n",
    "|previous_bookings_not_canceled | Número de reservas anteriores no canceladas por el cliente antes de la reserva actual |\n",
    "|reserved_room_type | Código de tipo de habitación reservado. El código se presenta en lugar de la designación por razones de anonimato. |\n",
    "|assigned_room_type | Código para el tipo de habitación asignada a la reserva. A veces, el tipo de habitación asignada difiere del tipo de habitación reservada debido a razones de operación del hotel (por ejemplo, sobreventa) o por solicitud del cliente. El código se presenta en lugar de la designación por razones de anonimato. |\n",
    "|booking_changes | Número de cambios / modificaciones realizados en la reserva desde el momento en que la reserva se ingresó en la base de datos hasta el momento del check-in o cancelación |\n",
    "|deposit_type | Indicación de si el cliente realizó un depósito para garantizar la reserva. Esta variable puede asumir tres categorías: <br/> - No Deposit (Sin depósito): no se realizó ningún depósito; <br/> - Non Refund (Sin reembolso): se realizó un depósito por el valor del costo total de la estadía; <br/> - Refundable (Reembolsable): se realizó un depósito con un valor por debajo del costo total de la estadía. |\n",
    "|agent | ID de la agencia de viajes que realizó la reserva |\n",
    "|company | Identificación de la empresa/entidad que realizó la reserva o responsable de pagar la reserva. Se presenta la identificación en lugar de la designación por razones de anonimato |\n",
    "|days_in_waiting_list | Número de días que la reserva estuvo en la lista de espera antes de ser confirmada al cliente |\n",
    "|customer_type | Tipo de reserva, asumiendo una de cuatro categorías: <br/> - Contract (Contrato): cuando la reserva tiene una asignación u otro tipo de contrato asociado; <br/> - Group (Grupo): cuando la reserva está asociada a un grupo; <br/> - Transient (Transitoria): cuando la reserva no forma parte de un grupo o contrato y no está asociada a otra reserva transitoria; <br/> - Transient-party (Parte transitoria): cuando la reserva es transitoria, pero está asociada al menos a otra reserva transitoria |\n",
    "|adr | Tarifa diaria promedio tal como se define dividiendo la suma de todas las transacciones de alojamiento por el número total de noches de estadía |\n",
    "|required_car_parking_spaces | Número de plazas de aparcamiento requeridas por el cliente. |\n",
    "|total_of_special_requests | Número de solicitudes especiales realizadas por el cliente (por ejemplo, cama doble o piso alto) |\n",
    "|reservation_status | Último estado de la reserva, asumiendo una de tres categorías: <br/> - Canceled (Cancelada): la reserva fue cancelada por el cliente; <br/> - Check-Out (Salida): el cliente se ha registrado pero ya se fue; <br/> - No-Show: el cliente no se registró e informó al hotel del motivo |\n",
    "|reservation_status_date | Fecha en la que se estableció el último estado. Esta variable se puede usar junto con el Estado de reserva (reservation_status) para comprender cuándo se canceló la reserva o cuándo el cliente realizó el check-out del hotel |\n",
    "\n",
    "El dataset fue tomado del artículo: [Hotel booking demand datasets](https://www.sciencedirect.com/science/article/pii/S2352340918315191) publicado por *Nuno Antonio, Ana de Almeida y Luis Nunes*."
   ]
  },
  {
   "cell_type": "code",
   "execution_count": 40,
   "metadata": {
    "colab": {},
    "colab_type": "code",
    "id": "G6qe2QSo4qu5"
   },
   "outputs": [],
   "source": [
    "#TODO: Cargue el conjunto de datos y muestre 8 registros\n",
    "# Si esta usando colab puede cargar los datos desde su drive o subir\n",
    "# el archivo y descomprimirlo con el comando !unzip archivo.zip\n",
    "\n",
    "data = pd.read_csv(\"train.csv\")"
   ]
  },
  {
   "cell_type": "markdown",
   "metadata": {
    "colab_type": "text",
    "id": "tPGqKBhE6Czv"
   },
   "source": [
    "Muestre información de cada característica, incluyendo el tipo de dato y cantidad de registros."
   ]
  },
  {
   "cell_type": "code",
   "execution_count": 41,
   "metadata": {
    "colab": {},
    "colab_type": "code",
    "id": "tv3kmEjO6PdG"
   },
   "outputs": [
    {
     "data": {
      "text/plain": [
       "hotel                              object\n",
       "lead_time                           int64\n",
       "arrival_date_year                   int64\n",
       "arrival_date_month                 object\n",
       "arrival_date_week_number            int64\n",
       "arrival_date_day_of_month           int64\n",
       "stays_in_weekend_nights             int64\n",
       "stays_in_week_nights                int64\n",
       "adults                              int64\n",
       "children                          float64\n",
       "babies                              int64\n",
       "meal                               object\n",
       "country                            object\n",
       "market_segment                     object\n",
       "distribution_channel               object\n",
       "is_repeated_guest                   int64\n",
       "previous_cancellations              int64\n",
       "previous_bookings_not_canceled      int64\n",
       "reserved_room_type                 object\n",
       "assigned_room_type                 object\n",
       "booking_changes                     int64\n",
       "deposit_type                       object\n",
       "agent                             float64\n",
       "company                           float64\n",
       "days_in_waiting_list                int64\n",
       "customer_type                      object\n",
       "adr                               float64\n",
       "required_car_parking_spaces         int64\n",
       "total_of_special_requests           int64\n",
       "reservation_status                 object\n",
       "reservation_status_date            object\n",
       "is_canceled                         int64\n",
       "dtype: object"
      ]
     },
     "execution_count": 41,
     "metadata": {},
     "output_type": "execute_result"
    }
   ],
   "source": [
    "#TODO: Mostrar información de cada característica\n",
    "data.dtypes"
   ]
  },
  {
   "cell_type": "markdown",
   "metadata": {
    "colab_type": "text",
    "id": "ugo4WFKt6xzs"
   },
   "source": [
    "**¿Con qué tipos de datos estamos trabajando?**\n",
    "\n",
    "*Responder aqui...*\n"
   ]
  },
  {
   "cell_type": "markdown",
   "metadata": {
    "colab_type": "text",
    "id": "da3DReCJR65Y"
   },
   "source": [
    "### Valores Faltantes\n",
    "\n",
    "Verifique si existen valores faltantes, para ello muestre una lista de todas características y el número de valores faltantes."
   ]
  },
  {
   "cell_type": "code",
   "execution_count": 42,
   "metadata": {
    "colab": {},
    "colab_type": "code",
    "id": "20zTFXuNQ7aJ"
   },
   "outputs": [
    {
     "data": {
      "text/plain": [
       "hotel                                 0\n",
       "lead_time                             0\n",
       "arrival_date_year                     0\n",
       "arrival_date_month                    0\n",
       "arrival_date_week_number              0\n",
       "arrival_date_day_of_month             0\n",
       "stays_in_weekend_nights               0\n",
       "stays_in_week_nights                  0\n",
       "adults                                0\n",
       "children                              4\n",
       "babies                                0\n",
       "meal                                  0\n",
       "country                             243\n",
       "market_segment                        0\n",
       "distribution_channel                  0\n",
       "is_repeated_guest                     0\n",
       "previous_cancellations                0\n",
       "previous_bookings_not_canceled        0\n",
       "reserved_room_type                    0\n",
       "assigned_room_type                    0\n",
       "booking_changes                       0\n",
       "deposit_type                          0\n",
       "agent                              8180\n",
       "company                           56290\n",
       "days_in_waiting_list                  0\n",
       "customer_type                         0\n",
       "adr                                   0\n",
       "required_car_parking_spaces           0\n",
       "total_of_special_requests             0\n",
       "reservation_status                    0\n",
       "reservation_status_date               0\n",
       "is_canceled                           0\n",
       "dtype: int64"
      ]
     },
     "execution_count": 42,
     "metadata": {},
     "output_type": "execute_result"
    }
   ],
   "source": [
    "# TODO: Revisar si existen valores NaN\n",
    "data.isnull().sum()\n"
   ]
  },
  {
   "cell_type": "markdown",
   "metadata": {
    "colab_type": "text",
    "id": "_X6EzBiBSIsD"
   },
   "source": [
    "**¿Hay características con valores faltantes (NaN)? Si es así, indique los nombres de las características y su cantidad.**\n",
    "\n",
    "*Responder aqui...*"
   ]
  },
  {
   "cell_type": "markdown",
   "metadata": {
    "colab_type": "text",
    "id": "_sg9R0B7StBq"
   },
   "source": [
    "En caso de haber valores faltantes, reemplácelos con valores válidos para su posterior análisis."
   ]
  },
  {
   "cell_type": "code",
   "execution_count": 45,
   "metadata": {
    "colab": {},
    "colab_type": "code",
    "id": "VECqiwsvTT2B"
   },
   "outputs": [],
   "source": [
    "# TODO: De ser necesario, reemplace los valores NaN de cada característica\n",
    "#data=data[[\"country\"]].dropna(axis = 1) \n",
    "#data[[\"country\"]]\n",
    "data[\"country\"].fillna(\"No Country\", inplace = True)\n",
    "data[\"agent\"].fillna(0, inplace = True)\n",
    "data[\"company\"].fillna(0, inplace = True)\n",
    "data[\"children\"].fillna(0, inplace = True)"
   ]
  },
  {
   "cell_type": "code",
   "execution_count": 46,
   "metadata": {},
   "outputs": [
    {
     "data": {
      "text/plain": [
       "hotel                             0\n",
       "lead_time                         0\n",
       "arrival_date_year                 0\n",
       "arrival_date_month                0\n",
       "arrival_date_week_number          0\n",
       "arrival_date_day_of_month         0\n",
       "stays_in_weekend_nights           0\n",
       "stays_in_week_nights              0\n",
       "adults                            0\n",
       "children                          0\n",
       "babies                            0\n",
       "meal                              0\n",
       "country                           0\n",
       "market_segment                    0\n",
       "distribution_channel              0\n",
       "is_repeated_guest                 0\n",
       "previous_cancellations            0\n",
       "previous_bookings_not_canceled    0\n",
       "reserved_room_type                0\n",
       "assigned_room_type                0\n",
       "booking_changes                   0\n",
       "deposit_type                      0\n",
       "agent                             0\n",
       "company                           0\n",
       "days_in_waiting_list              0\n",
       "customer_type                     0\n",
       "adr                               0\n",
       "required_car_parking_spaces       0\n",
       "total_of_special_requests         0\n",
       "reservation_status                0\n",
       "reservation_status_date           0\n",
       "is_canceled                       0\n",
       "dtype: int64"
      ]
     },
     "execution_count": 46,
     "metadata": {},
     "output_type": "execute_result"
    }
   ],
   "source": [
    "# TODO: Revisar si existen valores NaN\n",
    "data.isnull().sum()\n"
   ]
  },
  {
   "cell_type": "code",
   "execution_count": 47,
   "metadata": {},
   "outputs": [
    {
     "data": {
      "text/html": [
       "<div>\n",
       "<style scoped>\n",
       "    .dataframe tbody tr th:only-of-type {\n",
       "        vertical-align: middle;\n",
       "    }\n",
       "\n",
       "    .dataframe tbody tr th {\n",
       "        vertical-align: top;\n",
       "    }\n",
       "\n",
       "    .dataframe thead th {\n",
       "        text-align: right;\n",
       "    }\n",
       "</style>\n",
       "<table border=\"1\" class=\"dataframe\">\n",
       "  <thead>\n",
       "    <tr style=\"text-align: right;\">\n",
       "      <th></th>\n",
       "      <th>hotel</th>\n",
       "      <th>lead_time</th>\n",
       "      <th>arrival_date_year</th>\n",
       "      <th>arrival_date_month</th>\n",
       "      <th>arrival_date_week_number</th>\n",
       "      <th>arrival_date_day_of_month</th>\n",
       "      <th>stays_in_weekend_nights</th>\n",
       "      <th>stays_in_week_nights</th>\n",
       "      <th>adults</th>\n",
       "      <th>children</th>\n",
       "      <th>...</th>\n",
       "      <th>agent</th>\n",
       "      <th>company</th>\n",
       "      <th>days_in_waiting_list</th>\n",
       "      <th>customer_type</th>\n",
       "      <th>adr</th>\n",
       "      <th>required_car_parking_spaces</th>\n",
       "      <th>total_of_special_requests</th>\n",
       "      <th>reservation_status</th>\n",
       "      <th>reservation_status_date</th>\n",
       "      <th>is_canceled</th>\n",
       "    </tr>\n",
       "  </thead>\n",
       "  <tbody>\n",
       "    <tr>\n",
       "      <th>0</th>\n",
       "      <td>Resort Hotel</td>\n",
       "      <td>36</td>\n",
       "      <td>2015</td>\n",
       "      <td>November</td>\n",
       "      <td>47</td>\n",
       "      <td>20</td>\n",
       "      <td>0</td>\n",
       "      <td>2</td>\n",
       "      <td>2</td>\n",
       "      <td>0.0</td>\n",
       "      <td>...</td>\n",
       "      <td>38.0</td>\n",
       "      <td>0.0</td>\n",
       "      <td>0</td>\n",
       "      <td>Transient-Party</td>\n",
       "      <td>64.00</td>\n",
       "      <td>0</td>\n",
       "      <td>0</td>\n",
       "      <td>Canceled</td>\n",
       "      <td>2015-11-14</td>\n",
       "      <td>1</td>\n",
       "    </tr>\n",
       "    <tr>\n",
       "      <th>1</th>\n",
       "      <td>City Hotel</td>\n",
       "      <td>5</td>\n",
       "      <td>2016</td>\n",
       "      <td>May</td>\n",
       "      <td>21</td>\n",
       "      <td>19</td>\n",
       "      <td>0</td>\n",
       "      <td>3</td>\n",
       "      <td>2</td>\n",
       "      <td>2.0</td>\n",
       "      <td>...</td>\n",
       "      <td>9.0</td>\n",
       "      <td>0.0</td>\n",
       "      <td>0</td>\n",
       "      <td>Transient</td>\n",
       "      <td>230.00</td>\n",
       "      <td>0</td>\n",
       "      <td>2</td>\n",
       "      <td>Check-Out</td>\n",
       "      <td>2016-05-22</td>\n",
       "      <td>0</td>\n",
       "    </tr>\n",
       "    <tr>\n",
       "      <th>2</th>\n",
       "      <td>City Hotel</td>\n",
       "      <td>1</td>\n",
       "      <td>2017</td>\n",
       "      <td>March</td>\n",
       "      <td>9</td>\n",
       "      <td>2</td>\n",
       "      <td>0</td>\n",
       "      <td>3</td>\n",
       "      <td>2</td>\n",
       "      <td>0.0</td>\n",
       "      <td>...</td>\n",
       "      <td>9.0</td>\n",
       "      <td>0.0</td>\n",
       "      <td>0</td>\n",
       "      <td>Transient</td>\n",
       "      <td>108.00</td>\n",
       "      <td>0</td>\n",
       "      <td>0</td>\n",
       "      <td>Check-Out</td>\n",
       "      <td>2017-03-05</td>\n",
       "      <td>0</td>\n",
       "    </tr>\n",
       "    <tr>\n",
       "      <th>3</th>\n",
       "      <td>Resort Hotel</td>\n",
       "      <td>322</td>\n",
       "      <td>2017</td>\n",
       "      <td>May</td>\n",
       "      <td>21</td>\n",
       "      <td>26</td>\n",
       "      <td>2</td>\n",
       "      <td>4</td>\n",
       "      <td>2</td>\n",
       "      <td>0.0</td>\n",
       "      <td>...</td>\n",
       "      <td>240.0</td>\n",
       "      <td>0.0</td>\n",
       "      <td>0</td>\n",
       "      <td>Transient</td>\n",
       "      <td>54.00</td>\n",
       "      <td>0</td>\n",
       "      <td>1</td>\n",
       "      <td>Canceled</td>\n",
       "      <td>2017-03-09</td>\n",
       "      <td>1</td>\n",
       "    </tr>\n",
       "    <tr>\n",
       "      <th>4</th>\n",
       "      <td>City Hotel</td>\n",
       "      <td>57</td>\n",
       "      <td>2015</td>\n",
       "      <td>October</td>\n",
       "      <td>41</td>\n",
       "      <td>10</td>\n",
       "      <td>2</td>\n",
       "      <td>1</td>\n",
       "      <td>2</td>\n",
       "      <td>0.0</td>\n",
       "      <td>...</td>\n",
       "      <td>9.0</td>\n",
       "      <td>0.0</td>\n",
       "      <td>0</td>\n",
       "      <td>Contract</td>\n",
       "      <td>94.50</td>\n",
       "      <td>0</td>\n",
       "      <td>2</td>\n",
       "      <td>Check-Out</td>\n",
       "      <td>2015-10-13</td>\n",
       "      <td>0</td>\n",
       "    </tr>\n",
       "    <tr>\n",
       "      <th>...</th>\n",
       "      <td>...</td>\n",
       "      <td>...</td>\n",
       "      <td>...</td>\n",
       "      <td>...</td>\n",
       "      <td>...</td>\n",
       "      <td>...</td>\n",
       "      <td>...</td>\n",
       "      <td>...</td>\n",
       "      <td>...</td>\n",
       "      <td>...</td>\n",
       "      <td>...</td>\n",
       "      <td>...</td>\n",
       "      <td>...</td>\n",
       "      <td>...</td>\n",
       "      <td>...</td>\n",
       "      <td>...</td>\n",
       "      <td>...</td>\n",
       "      <td>...</td>\n",
       "      <td>...</td>\n",
       "      <td>...</td>\n",
       "      <td>...</td>\n",
       "    </tr>\n",
       "    <tr>\n",
       "      <th>59690</th>\n",
       "      <td>City Hotel</td>\n",
       "      <td>2</td>\n",
       "      <td>2016</td>\n",
       "      <td>July</td>\n",
       "      <td>28</td>\n",
       "      <td>8</td>\n",
       "      <td>0</td>\n",
       "      <td>1</td>\n",
       "      <td>2</td>\n",
       "      <td>0.0</td>\n",
       "      <td>...</td>\n",
       "      <td>0.0</td>\n",
       "      <td>40.0</td>\n",
       "      <td>0</td>\n",
       "      <td>Transient</td>\n",
       "      <td>77.00</td>\n",
       "      <td>1</td>\n",
       "      <td>0</td>\n",
       "      <td>Check-Out</td>\n",
       "      <td>2016-07-09</td>\n",
       "      <td>0</td>\n",
       "    </tr>\n",
       "    <tr>\n",
       "      <th>59691</th>\n",
       "      <td>City Hotel</td>\n",
       "      <td>91</td>\n",
       "      <td>2017</td>\n",
       "      <td>April</td>\n",
       "      <td>16</td>\n",
       "      <td>20</td>\n",
       "      <td>2</td>\n",
       "      <td>3</td>\n",
       "      <td>2</td>\n",
       "      <td>0.0</td>\n",
       "      <td>...</td>\n",
       "      <td>9.0</td>\n",
       "      <td>0.0</td>\n",
       "      <td>0</td>\n",
       "      <td>Transient</td>\n",
       "      <td>135.00</td>\n",
       "      <td>0</td>\n",
       "      <td>0</td>\n",
       "      <td>Check-Out</td>\n",
       "      <td>2017-04-25</td>\n",
       "      <td>0</td>\n",
       "    </tr>\n",
       "    <tr>\n",
       "      <th>59692</th>\n",
       "      <td>City Hotel</td>\n",
       "      <td>74</td>\n",
       "      <td>2016</td>\n",
       "      <td>December</td>\n",
       "      <td>53</td>\n",
       "      <td>27</td>\n",
       "      <td>0</td>\n",
       "      <td>3</td>\n",
       "      <td>3</td>\n",
       "      <td>0.0</td>\n",
       "      <td>...</td>\n",
       "      <td>22.0</td>\n",
       "      <td>0.0</td>\n",
       "      <td>0</td>\n",
       "      <td>Transient</td>\n",
       "      <td>92.65</td>\n",
       "      <td>0</td>\n",
       "      <td>0</td>\n",
       "      <td>Check-Out</td>\n",
       "      <td>2016-12-30</td>\n",
       "      <td>0</td>\n",
       "    </tr>\n",
       "    <tr>\n",
       "      <th>59693</th>\n",
       "      <td>Resort Hotel</td>\n",
       "      <td>130</td>\n",
       "      <td>2015</td>\n",
       "      <td>August</td>\n",
       "      <td>31</td>\n",
       "      <td>1</td>\n",
       "      <td>2</td>\n",
       "      <td>5</td>\n",
       "      <td>2</td>\n",
       "      <td>0.0</td>\n",
       "      <td>...</td>\n",
       "      <td>240.0</td>\n",
       "      <td>0.0</td>\n",
       "      <td>0</td>\n",
       "      <td>Transient</td>\n",
       "      <td>120.60</td>\n",
       "      <td>0</td>\n",
       "      <td>2</td>\n",
       "      <td>Canceled</td>\n",
       "      <td>2015-05-19</td>\n",
       "      <td>1</td>\n",
       "    </tr>\n",
       "    <tr>\n",
       "      <th>59694</th>\n",
       "      <td>Resort Hotel</td>\n",
       "      <td>16</td>\n",
       "      <td>2015</td>\n",
       "      <td>July</td>\n",
       "      <td>31</td>\n",
       "      <td>31</td>\n",
       "      <td>0</td>\n",
       "      <td>2</td>\n",
       "      <td>1</td>\n",
       "      <td>0.0</td>\n",
       "      <td>...</td>\n",
       "      <td>0.0</td>\n",
       "      <td>0.0</td>\n",
       "      <td>0</td>\n",
       "      <td>Transient-Party</td>\n",
       "      <td>120.00</td>\n",
       "      <td>0</td>\n",
       "      <td>1</td>\n",
       "      <td>Check-Out</td>\n",
       "      <td>2015-08-02</td>\n",
       "      <td>0</td>\n",
       "    </tr>\n",
       "  </tbody>\n",
       "</table>\n",
       "<p>59695 rows × 32 columns</p>\n",
       "</div>"
      ],
      "text/plain": [
       "              hotel  lead_time  arrival_date_year arrival_date_month  \\\n",
       "0      Resort Hotel         36               2015           November   \n",
       "1        City Hotel          5               2016                May   \n",
       "2        City Hotel          1               2017              March   \n",
       "3      Resort Hotel        322               2017                May   \n",
       "4        City Hotel         57               2015            October   \n",
       "...             ...        ...                ...                ...   \n",
       "59690    City Hotel          2               2016               July   \n",
       "59691    City Hotel         91               2017              April   \n",
       "59692    City Hotel         74               2016           December   \n",
       "59693  Resort Hotel        130               2015             August   \n",
       "59694  Resort Hotel         16               2015               July   \n",
       "\n",
       "       arrival_date_week_number  arrival_date_day_of_month  \\\n",
       "0                            47                         20   \n",
       "1                            21                         19   \n",
       "2                             9                          2   \n",
       "3                            21                         26   \n",
       "4                            41                         10   \n",
       "...                         ...                        ...   \n",
       "59690                        28                          8   \n",
       "59691                        16                         20   \n",
       "59692                        53                         27   \n",
       "59693                        31                          1   \n",
       "59694                        31                         31   \n",
       "\n",
       "       stays_in_weekend_nights  stays_in_week_nights  adults  children  ...  \\\n",
       "0                            0                     2       2       0.0  ...   \n",
       "1                            0                     3       2       2.0  ...   \n",
       "2                            0                     3       2       0.0  ...   \n",
       "3                            2                     4       2       0.0  ...   \n",
       "4                            2                     1       2       0.0  ...   \n",
       "...                        ...                   ...     ...       ...  ...   \n",
       "59690                        0                     1       2       0.0  ...   \n",
       "59691                        2                     3       2       0.0  ...   \n",
       "59692                        0                     3       3       0.0  ...   \n",
       "59693                        2                     5       2       0.0  ...   \n",
       "59694                        0                     2       1       0.0  ...   \n",
       "\n",
       "       agent company days_in_waiting_list    customer_type     adr  \\\n",
       "0       38.0     0.0                    0  Transient-Party   64.00   \n",
       "1        9.0     0.0                    0        Transient  230.00   \n",
       "2        9.0     0.0                    0        Transient  108.00   \n",
       "3      240.0     0.0                    0        Transient   54.00   \n",
       "4        9.0     0.0                    0         Contract   94.50   \n",
       "...      ...     ...                  ...              ...     ...   \n",
       "59690    0.0    40.0                    0        Transient   77.00   \n",
       "59691    9.0     0.0                    0        Transient  135.00   \n",
       "59692   22.0     0.0                    0        Transient   92.65   \n",
       "59693  240.0     0.0                    0        Transient  120.60   \n",
       "59694    0.0     0.0                    0  Transient-Party  120.00   \n",
       "\n",
       "       required_car_parking_spaces  total_of_special_requests  \\\n",
       "0                                0                          0   \n",
       "1                                0                          2   \n",
       "2                                0                          0   \n",
       "3                                0                          1   \n",
       "4                                0                          2   \n",
       "...                            ...                        ...   \n",
       "59690                            1                          0   \n",
       "59691                            0                          0   \n",
       "59692                            0                          0   \n",
       "59693                            0                          2   \n",
       "59694                            0                          1   \n",
       "\n",
       "       reservation_status reservation_status_date is_canceled  \n",
       "0                Canceled              2015-11-14           1  \n",
       "1               Check-Out              2016-05-22           0  \n",
       "2               Check-Out              2017-03-05           0  \n",
       "3                Canceled              2017-03-09           1  \n",
       "4               Check-Out              2015-10-13           0  \n",
       "...                   ...                     ...         ...  \n",
       "59690           Check-Out              2016-07-09           0  \n",
       "59691           Check-Out              2017-04-25           0  \n",
       "59692           Check-Out              2016-12-30           0  \n",
       "59693            Canceled              2015-05-19           1  \n",
       "59694           Check-Out              2015-08-02           0  \n",
       "\n",
       "[59695 rows x 32 columns]"
      ]
     },
     "execution_count": 47,
     "metadata": {},
     "output_type": "execute_result"
    }
   ],
   "source": [
    "data"
   ]
  },
  {
   "cell_type": "markdown",
   "metadata": {
    "colab_type": "text",
    "id": "8t5EJt2-dtS3"
   },
   "source": [
    "## Análisis Exploratorio de Datos (EDA) (5 puntos)\n",
    "\n",
    "Realizar el análisis de datos haciendo uso de visualizaciones cuando sea necesario. Para ello se deberán responder al mayor número de preguntas dadas a continuación (mínimo 5):\n",
    "\n",
    "- ¿Cuál es la tarifa diaria promedio mensual por persona durante el año?\n",
    "- ¿De dónde vienen los huéspedes?\n",
    "- ¿Cuánto pagan los huéspedes por una habitación por noche?\n",
    "- ¿Cuánto tiempo se quedan los huéspedes en los hoteles?\n",
    "- ¿Qué mes tiene el mayor número de reservas?\n",
    "- ¿Qué tipo de cliente contribuye a la mayor cantidad de cancelaciones de reservas de hotel?\n",
    "- ¿Cuántas reservas fueron canceladas?\n",
    "- ¿Qué mes tiene el mayor número de cancelaciones?\n",
    "\n",
    "Puede proponer otro tipo de preguntas que ayuden en su análisis, esto implicará un aumento en el puntaje dependiendo del análisis realizado. \n",
    "\n",
    "**Para cada pregunta elegida y/o propuesta mostrar visualizaciones (cuando sea posible) y detallar que información importante puede extraer a partir de cada visualización.** A continuación, se dará un ejemplo sobre como realizar el análisis.\n"
   ]
  },
  {
   "cell_type": "markdown",
   "metadata": {
    "colab_type": "text",
    "id": "0KR1S9MaNlxD"
   },
   "source": [
    "### ¿Cuál es la tarifa diaria promedio mensual por persona durante el año?\n",
    "\n",
    "Usamos las características `hotel`, `arrival_date_month` y `adr`(tarifa diaria promedio). Actualmente la característica `adr` contiene valores de la tarifa diaria promedio para todas las personas en general, para obtenerlo por persona usaremos las características `adults` y `children` para normalizar dicha característica. Consideramos adultos y niños por que normalmente es necesario pagar por cada uno de ellos en la reserva.\n",
    "\n",
    "Antes de normalizar verifiquemos si tenemos valores válidos en todas las filas de las características `adults` y `children`."
   ]
  },
  {
   "cell_type": "code",
   "execution_count": 48,
   "metadata": {
    "colab": {},
    "colab_type": "code",
    "id": "kqVJeoJiZrjB"
   },
   "outputs": [
    {
     "name": "stdout",
     "output_type": "stream",
     "text": [
      "Mínimo número de adultos: 0, niños: 0\n"
     ]
    }
   ],
   "source": [
    "print('Mínimo número de adultos: %d, niños: %d' % (data['adults'].min(), data['children'].min()))"
   ]
  },
  {
   "cell_type": "markdown",
   "metadata": {
    "colab_type": "text",
    "id": "8hq9spcGaJzV"
   },
   "source": [
    "Como podemos observar, tenemos filas que no tienen número de adultos y de niños por tanto podemos eliminar estas filas debido a que son reservas sin personas lo cual no es correcto. "
   ]
  },
  {
   "cell_type": "code",
   "execution_count": 49,
   "metadata": {
    "colab": {},
    "colab_type": "code",
    "id": "W-UwNm2xaeDd"
   },
   "outputs": [],
   "source": [
    "# Obtenemos indices de filas que no contienen ni adultos ni niños\n",
    "invalid_indices = list(data.loc[data[\"adults\"] + data[\"children\"] == 0].index)\n",
    "\n",
    "# Removemos las filas inválidas\n",
    "data.drop(data.index[invalid_indices], inplace=True)\n",
    "\n",
    "# Reiniciamos los indices del dataframe\n",
    "data.reset_index(inplace=True, drop=True)"
   ]
  },
  {
   "cell_type": "markdown",
   "metadata": {
    "colab_type": "text",
    "id": "6TMOTXzBbaly"
   },
   "source": [
    "Ahora si procederemos con la normalización de tarifas diarias por persona y ordenaremos la data por mes para visualizar correctamente:"
   ]
  },
  {
   "cell_type": "code",
   "execution_count": 50,
   "metadata": {
    "colab": {},
    "colab_type": "code",
    "id": "GxM-qGd5Id_8"
   },
   "outputs": [
    {
     "name": "stderr",
     "output_type": "stream",
     "text": [
      "C:\\Users\\Paul\\anaconda3\\lib\\site-packages\\ipykernel_launcher.py:19: SettingWithCopyWarning: \n",
      "A value is trying to be set on a copy of a slice from a DataFrame.\n",
      "Try using .loc[row_indexer,col_indexer] = value instead\n",
      "\n",
      "See the caveats in the documentation: https://pandas.pydata.org/pandas-docs/stable/user_guide/indexing.html#returning-a-view-versus-a-copy\n"
     ]
    },
    {
     "data": {
      "text/html": [
       "<div>\n",
       "<style scoped>\n",
       "    .dataframe tbody tr th:only-of-type {\n",
       "        vertical-align: middle;\n",
       "    }\n",
       "\n",
       "    .dataframe tbody tr th {\n",
       "        vertical-align: top;\n",
       "    }\n",
       "\n",
       "    .dataframe thead th {\n",
       "        text-align: right;\n",
       "    }\n",
       "</style>\n",
       "<table border=\"1\" class=\"dataframe\">\n",
       "  <thead>\n",
       "    <tr style=\"text-align: right;\">\n",
       "      <th></th>\n",
       "      <th>hotel</th>\n",
       "      <th>arrival_date_month</th>\n",
       "      <th>adr_per_person</th>\n",
       "    </tr>\n",
       "  </thead>\n",
       "  <tbody>\n",
       "    <tr>\n",
       "      <th>15855</th>\n",
       "      <td>City Hotel</td>\n",
       "      <td>January</td>\n",
       "      <td>67.15</td>\n",
       "    </tr>\n",
       "    <tr>\n",
       "      <th>8220</th>\n",
       "      <td>City Hotel</td>\n",
       "      <td>January</td>\n",
       "      <td>46.80</td>\n",
       "    </tr>\n",
       "    <tr>\n",
       "      <th>52631</th>\n",
       "      <td>City Hotel</td>\n",
       "      <td>January</td>\n",
       "      <td>0.00</td>\n",
       "    </tr>\n",
       "    <tr>\n",
       "      <th>8248</th>\n",
       "      <td>City Hotel</td>\n",
       "      <td>January</td>\n",
       "      <td>47.50</td>\n",
       "    </tr>\n",
       "    <tr>\n",
       "      <th>36082</th>\n",
       "      <td>City Hotel</td>\n",
       "      <td>January</td>\n",
       "      <td>48.50</td>\n",
       "    </tr>\n",
       "  </tbody>\n",
       "</table>\n",
       "</div>"
      ],
      "text/plain": [
       "            hotel arrival_date_month  adr_per_person\n",
       "15855  City Hotel            January           67.15\n",
       "8220   City Hotel            January           46.80\n",
       "52631  City Hotel            January            0.00\n",
       "8248   City Hotel            January           47.50\n",
       "36082  City Hotel            January           48.50"
      ]
     },
     "execution_count": 50,
     "metadata": {},
     "output_type": "execute_result"
    }
   ],
   "source": [
    "# Normalizamos las tarifas diarias por persona y creamos característica adr_per_person.\n",
    "#\n",
    "# Si tiene pensado mantener esta característica en el modelado, tiene que adicionarla\n",
    "# a la data de test (Sección final del trabajo). Sino puede eliminarla mas adelante\n",
    "# y solamente usarla en la parte de visualización.\n",
    "data['adr_per_person'] = data['adr'] / (data['adults'] + data['children'])\n",
    "\n",
    "# Consideramos solamente datos de reservas que no fueron cancelados\n",
    "data_no_canceled = data[ data['is_canceled'] == 0]\n",
    "\n",
    "# Seleccionamos las características que usaremos en la visualización\n",
    "hotel_adr_month = data_no_canceled[['hotel', 'arrival_date_month', 'adr_per_person']]\n",
    "\n",
    "# Necesitamos ordenar la variable categórica 'arrival_date_month'\n",
    "ordered_months = [\"January\", \"February\", \"March\", \"April\", \"May\", \"June\", \n",
    "                  \"July\", \"August\", \"September\", \"October\", \"November\", \"December\"]\n",
    "\n",
    "# Usamos conversión categórica de 'pandas' para definir el orden\n",
    "hotel_adr_month[\"arrival_date_month\"] = pd.Categorical(hotel_adr_month[\"arrival_date_month\"], categories=ordered_months, ordered=True)\n",
    "\n",
    "# Realizamos el ordenamiento respectivo\n",
    "hotel_adr_month = hotel_adr_month.sort_values(\"arrival_date_month\")\n",
    "\n",
    "# Mostramos la data\n",
    "hotel_adr_month.head()"
   ]
  },
  {
   "cell_type": "markdown",
   "metadata": {
    "colab_type": "text",
    "id": "C4y9dW7LeB5u"
   },
   "source": [
    "Mostramos la gráfica correspondiente:"
   ]
  },
  {
   "cell_type": "code",
   "execution_count": 53,
   "metadata": {
    "colab": {},
    "colab_type": "code",
    "id": "I0OqXhzceGWq"
   },
   "outputs": [
    {
     "data": {
      "image/png": "[encoded data removed]",
      "text/plain": [
       "<Figure size 864x576 with 1 Axes>"
      ]
     },
     "metadata": {
      "needs_background": "light"
     },
     "output_type": "display_data"
    }
   ],
   "source": [
    "import matplotlib.pyplot as plt\n",
    "import seaborn as sns\n",
    "plt.figure(figsize=(12, 8))\n",
    "sns.lineplot(x = \"arrival_date_month\", y=\"adr_per_person\", hue=\"hotel\", data=hotel_adr_month, \n",
    "            hue_order = [\"City Hotel\", \"Resort Hotel\"], ci=\"sd\", size=\"hotel\", sizes=(2.5, 2.5))\n",
    "plt.title(\"Tarifa diaria promedio mensual por persona durante el año\", fontsize=16)\n",
    "plt.xlabel(\"Mes\", fontsize=16)\n",
    "plt.xticks(rotation=45)\n",
    "plt.ylabel(\"Precio Por Persona\", fontsize=16)\n",
    "plt.show()"
   ]
  },
  {
   "cell_type": "markdown",
   "metadata": {
    "colab_type": "text",
    "id": "N1jvIsL7eQkE"
   },
   "source": [
    "Claramente podemos observar que los precios de Resort Hotel son mayores entre los meses de Junio a Setiembre (verano en Portugal). Por otro lado, los precios de City Hotel son mas estables con alzas en los meses de Mayo y Setiembre (primavera y otoño en Portugal)."
   ]
  },
  {
   "cell_type": "markdown",
   "metadata": {
    "colab_type": "text",
    "id": "_MQZQRcA9mW2"
   },
   "source": [
    "### ¿De dónde vienen los huéspedes?\n",
    "\n",
    "Usar las características `is_canceled` y `country` para el análisis. Se recomienda realizar diferentes visualizaciones de la data usando porcentajes y diferentes gráficos."
   ]
  },
  {
   "cell_type": "code",
   "execution_count": 99,
   "metadata": {
    "colab": {},
    "colab_type": "code",
    "id": "yLIQWVn_KLwL"
   },
   "outputs": [],
   "source": [
    "dfCanceladosCountry= data[[\"is_canceled\",\"country\"]]"
   ]
  },
  {
   "cell_type": "code",
   "execution_count": 100,
   "metadata": {},
   "outputs": [
    {
     "data": {
      "text/html": [
       "<div>\n",
       "<style scoped>\n",
       "    .dataframe tbody tr th:only-of-type {\n",
       "        vertical-align: middle;\n",
       "    }\n",
       "\n",
       "    .dataframe tbody tr th {\n",
       "        vertical-align: top;\n",
       "    }\n",
       "\n",
       "    .dataframe thead th {\n",
       "        text-align: right;\n",
       "    }\n",
       "</style>\n",
       "<table border=\"1\" class=\"dataframe\">\n",
       "  <thead>\n",
       "    <tr style=\"text-align: right;\">\n",
       "      <th></th>\n",
       "      <th>country</th>\n",
       "    </tr>\n",
       "    <tr>\n",
       "      <th>is_canceled</th>\n",
       "      <th></th>\n",
       "    </tr>\n",
       "  </thead>\n",
       "  <tbody>\n",
       "    <tr>\n",
       "      <th>0</th>\n",
       "      <td>37505</td>\n",
       "    </tr>\n",
       "    <tr>\n",
       "      <th>1</th>\n",
       "      <td>22095</td>\n",
       "    </tr>\n",
       "  </tbody>\n",
       "</table>\n",
       "</div>"
      ],
      "text/plain": [
       "             country\n",
       "is_canceled         \n",
       "0              37505\n",
       "1              22095"
      ]
     },
     "execution_count": 100,
     "metadata": {},
     "output_type": "execute_result"
    }
   ],
   "source": [
    "dfCanceladosCountry.groupby('is_canceled').count()"
   ]
  },
  {
   "cell_type": "code",
   "execution_count": 101,
   "metadata": {},
   "outputs": [
    {
     "data": {
      "text/html": [
       "<div>\n",
       "<style scoped>\n",
       "    .dataframe tbody tr th:only-of-type {\n",
       "        vertical-align: middle;\n",
       "    }\n",
       "\n",
       "    .dataframe tbody tr th {\n",
       "        vertical-align: top;\n",
       "    }\n",
       "\n",
       "    .dataframe thead th {\n",
       "        text-align: right;\n",
       "    }\n",
       "</style>\n",
       "<table border=\"1\" class=\"dataframe\">\n",
       "  <thead>\n",
       "    <tr style=\"text-align: right;\">\n",
       "      <th></th>\n",
       "      <th>is_canceled</th>\n",
       "    </tr>\n",
       "    <tr>\n",
       "      <th>country</th>\n",
       "      <th></th>\n",
       "    </tr>\n",
       "  </thead>\n",
       "  <tbody>\n",
       "    <tr>\n",
       "      <th>PRT</th>\n",
       "      <td>24223</td>\n",
       "    </tr>\n",
       "    <tr>\n",
       "      <th>GBR</th>\n",
       "      <td>6034</td>\n",
       "    </tr>\n",
       "    <tr>\n",
       "      <th>FRA</th>\n",
       "      <td>5234</td>\n",
       "    </tr>\n",
       "    <tr>\n",
       "      <th>ESP</th>\n",
       "      <td>4223</td>\n",
       "    </tr>\n",
       "    <tr>\n",
       "      <th>DEU</th>\n",
       "      <td>3600</td>\n",
       "    </tr>\n",
       "    <tr>\n",
       "      <th>...</th>\n",
       "      <td>...</td>\n",
       "    </tr>\n",
       "    <tr>\n",
       "      <th>BWA</th>\n",
       "      <td>1</td>\n",
       "    </tr>\n",
       "    <tr>\n",
       "      <th>SLE</th>\n",
       "      <td>1</td>\n",
       "    </tr>\n",
       "    <tr>\n",
       "      <th>SLV</th>\n",
       "      <td>1</td>\n",
       "    </tr>\n",
       "    <tr>\n",
       "      <th>GUY</th>\n",
       "      <td>1</td>\n",
       "    </tr>\n",
       "    <tr>\n",
       "      <th>ZWE</th>\n",
       "      <td>1</td>\n",
       "    </tr>\n",
       "  </tbody>\n",
       "</table>\n",
       "<p>158 rows × 1 columns</p>\n",
       "</div>"
      ],
      "text/plain": [
       "         is_canceled\n",
       "country             \n",
       "PRT            24223\n",
       "GBR             6034\n",
       "FRA             5234\n",
       "ESP             4223\n",
       "DEU             3600\n",
       "...              ...\n",
       "BWA                1\n",
       "SLE                1\n",
       "SLV                1\n",
       "GUY                1\n",
       "ZWE                1\n",
       "\n",
       "[158 rows x 1 columns]"
      ]
     },
     "execution_count": 101,
     "metadata": {},
     "output_type": "execute_result"
    }
   ],
   "source": [
    "dfpaisesCancelados=dfCanceladosCountry.groupby('country').count()\n",
    "dfpaisesCancelados=dfpaisesCancelados.sort_values('is_canceled',ascending=False) #ordenamos ascendenemente\n",
    "dfpaisesCancelados"
   ]
  },
  {
   "cell_type": "code",
   "execution_count": null,
   "metadata": {},
   "outputs": [],
   "source": []
  },
  {
   "cell_type": "code",
   "execution_count": null,
   "metadata": {},
   "outputs": [],
   "source": []
  },
  {
   "cell_type": "code",
   "execution_count": 102,
   "metadata": {},
   "outputs": [],
   "source": [
    "dfpaisesCancelados=dfpaisesCancelados[:7] #graficamos los primeros 7"
   ]
  },
  {
   "cell_type": "code",
   "execution_count": 103,
   "metadata": {},
   "outputs": [
    {
     "data": {
      "text/html": [
       "<div>\n",
       "<style scoped>\n",
       "    .dataframe tbody tr th:only-of-type {\n",
       "        vertical-align: middle;\n",
       "    }\n",
       "\n",
       "    .dataframe tbody tr th {\n",
       "        vertical-align: top;\n",
       "    }\n",
       "\n",
       "    .dataframe thead th {\n",
       "        text-align: right;\n",
       "    }\n",
       "</style>\n",
       "<table border=\"1\" class=\"dataframe\">\n",
       "  <thead>\n",
       "    <tr style=\"text-align: right;\">\n",
       "      <th></th>\n",
       "      <th>is_canceled</th>\n",
       "    </tr>\n",
       "    <tr>\n",
       "      <th>country</th>\n",
       "      <th></th>\n",
       "    </tr>\n",
       "  </thead>\n",
       "  <tbody>\n",
       "    <tr>\n",
       "      <th>PRT</th>\n",
       "      <td>24223</td>\n",
       "    </tr>\n",
       "    <tr>\n",
       "      <th>GBR</th>\n",
       "      <td>6034</td>\n",
       "    </tr>\n",
       "    <tr>\n",
       "      <th>FRA</th>\n",
       "      <td>5234</td>\n",
       "    </tr>\n",
       "    <tr>\n",
       "      <th>ESP</th>\n",
       "      <td>4223</td>\n",
       "    </tr>\n",
       "    <tr>\n",
       "      <th>DEU</th>\n",
       "      <td>3600</td>\n",
       "    </tr>\n",
       "    <tr>\n",
       "      <th>ITA</th>\n",
       "      <td>1963</td>\n",
       "    </tr>\n",
       "    <tr>\n",
       "      <th>IRL</th>\n",
       "      <td>1667</td>\n",
       "    </tr>\n",
       "  </tbody>\n",
       "</table>\n",
       "</div>"
      ],
      "text/plain": [
       "         is_canceled\n",
       "country             \n",
       "PRT            24223\n",
       "GBR             6034\n",
       "FRA             5234\n",
       "ESP             4223\n",
       "DEU             3600\n",
       "ITA             1963\n",
       "IRL             1667"
      ]
     },
     "execution_count": 103,
     "metadata": {},
     "output_type": "execute_result"
    }
   ],
   "source": [
    "dfpaisesCancelados"
   ]
  },
  {
   "cell_type": "code",
   "execution_count": 104,
   "metadata": {},
   "outputs": [
    {
     "data": {
      "text/plain": [
       "<matplotlib.axes._subplots.AxesSubplot at 0x17afff0d308>"
      ]
     },
     "execution_count": 104,
     "metadata": {},
     "output_type": "execute_result"
    },
    {
     "data": {
      "image/png": "[encoded data removed]",
      "text/plain": [
       "<Figure size 432x288 with 1 Axes>"
      ]
     },
     "metadata": {
      "needs_background": "light"
     },
     "output_type": "display_data"
    }
   ],
   "source": [
    "dfpaisesCancelados.plot.bar(rot=0)"
   ]
  },
  {
   "cell_type": "code",
   "execution_count": null,
   "metadata": {},
   "outputs": [],
   "source": []
  },
  {
   "cell_type": "markdown",
   "metadata": {
    "colab_type": "text",
    "id": "x_4fTXd_9lbA"
   },
   "source": [
    "**¿Qué países tienen el mayor número de visitantes del hotel?**\n",
    "\n",
    "PRT= Portugal\n",
    "GBR= Reino Unido\n",
    "FRA= Francia\n",
    "ESP= España\n"
   ]
  },
  {
   "cell_type": "markdown",
   "metadata": {
    "colab_type": "text",
    "id": "BrjQLkBt78sd"
   },
   "source": [
    "### ¿Cuánto pagan los huéspedes por una habitación por noche?\n",
    "\n",
    "Puede hacer uso de la característica tarifa diaria promedio por persona (`adr_per_person`) que adicionamos anteriormente y mostrar el precio promedio por tipo de hospedaje (Resort Hotel o City Hotel)."
   ]
  },
  {
   "cell_type": "code",
   "execution_count": 107,
   "metadata": {
    "colab": {},
    "colab_type": "code",
    "id": "a7MJkvbsCNkq"
   },
   "outputs": [
    {
     "data": {
      "text/html": [
       "<div>\n",
       "<style scoped>\n",
       "    .dataframe tbody tr th:only-of-type {\n",
       "        vertical-align: middle;\n",
       "    }\n",
       "\n",
       "    .dataframe tbody tr th {\n",
       "        vertical-align: top;\n",
       "    }\n",
       "\n",
       "    .dataframe thead th {\n",
       "        text-align: right;\n",
       "    }\n",
       "</style>\n",
       "<table border=\"1\" class=\"dataframe\">\n",
       "  <thead>\n",
       "    <tr style=\"text-align: right;\">\n",
       "      <th></th>\n",
       "      <th>hotel</th>\n",
       "      <th>arrival_date_month</th>\n",
       "      <th>adr_per_person</th>\n",
       "    </tr>\n",
       "  </thead>\n",
       "  <tbody>\n",
       "    <tr>\n",
       "      <th>15855</th>\n",
       "      <td>City Hotel</td>\n",
       "      <td>January</td>\n",
       "      <td>67.15</td>\n",
       "    </tr>\n",
       "    <tr>\n",
       "      <th>8220</th>\n",
       "      <td>City Hotel</td>\n",
       "      <td>January</td>\n",
       "      <td>46.80</td>\n",
       "    </tr>\n",
       "    <tr>\n",
       "      <th>52631</th>\n",
       "      <td>City Hotel</td>\n",
       "      <td>January</td>\n",
       "      <td>0.00</td>\n",
       "    </tr>\n",
       "    <tr>\n",
       "      <th>8248</th>\n",
       "      <td>City Hotel</td>\n",
       "      <td>January</td>\n",
       "      <td>47.50</td>\n",
       "    </tr>\n",
       "    <tr>\n",
       "      <th>36082</th>\n",
       "      <td>City Hotel</td>\n",
       "      <td>January</td>\n",
       "      <td>48.50</td>\n",
       "    </tr>\n",
       "  </tbody>\n",
       "</table>\n",
       "</div>"
      ],
      "text/plain": [
       "            hotel arrival_date_month  adr_per_person\n",
       "15855  City Hotel            January           67.15\n",
       "8220   City Hotel            January           46.80\n",
       "52631  City Hotel            January            0.00\n",
       "8248   City Hotel            January           47.50\n",
       "36082  City Hotel            January           48.50"
      ]
     },
     "execution_count": 107,
     "metadata": {},
     "output_type": "execute_result"
    }
   ],
   "source": [
    "hotel_adr_month.head()"
   ]
  },
  {
   "cell_type": "code",
   "execution_count": 108,
   "metadata": {},
   "outputs": [
    {
     "data": {
      "text/html": [
       "<div>\n",
       "<style scoped>\n",
       "    .dataframe tbody tr th:only-of-type {\n",
       "        vertical-align: middle;\n",
       "    }\n",
       "\n",
       "    .dataframe tbody tr th {\n",
       "        vertical-align: top;\n",
       "    }\n",
       "\n",
       "    .dataframe thead th {\n",
       "        text-align: right;\n",
       "    }\n",
       "</style>\n",
       "<table border=\"1\" class=\"dataframe\">\n",
       "  <thead>\n",
       "    <tr style=\"text-align: right;\">\n",
       "      <th></th>\n",
       "      <th>hotel</th>\n",
       "      <th>adr_per_person</th>\n",
       "    </tr>\n",
       "  </thead>\n",
       "  <tbody>\n",
       "    <tr>\n",
       "      <th>15855</th>\n",
       "      <td>City Hotel</td>\n",
       "      <td>67.150000</td>\n",
       "    </tr>\n",
       "    <tr>\n",
       "      <th>8220</th>\n",
       "      <td>City Hotel</td>\n",
       "      <td>46.800000</td>\n",
       "    </tr>\n",
       "    <tr>\n",
       "      <th>52631</th>\n",
       "      <td>City Hotel</td>\n",
       "      <td>0.000000</td>\n",
       "    </tr>\n",
       "    <tr>\n",
       "      <th>8248</th>\n",
       "      <td>City Hotel</td>\n",
       "      <td>47.500000</td>\n",
       "    </tr>\n",
       "    <tr>\n",
       "      <th>36082</th>\n",
       "      <td>City Hotel</td>\n",
       "      <td>48.500000</td>\n",
       "    </tr>\n",
       "    <tr>\n",
       "      <th>...</th>\n",
       "      <td>...</td>\n",
       "      <td>...</td>\n",
       "    </tr>\n",
       "    <tr>\n",
       "      <th>9415</th>\n",
       "      <td>Resort Hotel</td>\n",
       "      <td>29.000000</td>\n",
       "    </tr>\n",
       "    <tr>\n",
       "      <th>57024</th>\n",
       "      <td>City Hotel</td>\n",
       "      <td>43.666667</td>\n",
       "    </tr>\n",
       "    <tr>\n",
       "      <th>7282</th>\n",
       "      <td>City Hotel</td>\n",
       "      <td>30.250000</td>\n",
       "    </tr>\n",
       "    <tr>\n",
       "      <th>7316</th>\n",
       "      <td>City Hotel</td>\n",
       "      <td>33.440000</td>\n",
       "    </tr>\n",
       "    <tr>\n",
       "      <th>40494</th>\n",
       "      <td>Resort Hotel</td>\n",
       "      <td>40.000000</td>\n",
       "    </tr>\n",
       "  </tbody>\n",
       "</table>\n",
       "<p>37505 rows × 2 columns</p>\n",
       "</div>"
      ],
      "text/plain": [
       "              hotel  adr_per_person\n",
       "15855    City Hotel       67.150000\n",
       "8220     City Hotel       46.800000\n",
       "52631    City Hotel        0.000000\n",
       "8248     City Hotel       47.500000\n",
       "36082    City Hotel       48.500000\n",
       "...             ...             ...\n",
       "9415   Resort Hotel       29.000000\n",
       "57024    City Hotel       43.666667\n",
       "7282     City Hotel       30.250000\n",
       "7316     City Hotel       33.440000\n",
       "40494  Resort Hotel       40.000000\n",
       "\n",
       "[37505 rows x 2 columns]"
      ]
     },
     "execution_count": 108,
     "metadata": {},
     "output_type": "execute_result"
    }
   ],
   "source": [
    " hotel_adr_month.drop(['arrival_date_month'], axis=1)"
   ]
  },
  {
   "cell_type": "code",
   "execution_count": 113,
   "metadata": {},
   "outputs": [
    {
     "data": {
      "image/png": "[encoded data removed]",
      "text/plain": [
       "<Figure size 864x576 with 1 Axes>"
      ]
     },
     "metadata": {
      "needs_background": "light"
     },
     "output_type": "display_data"
    }
   ],
   "source": [
    "plt.figure(figsize=(12, 8))\n",
    "sns.barplot(x = \"hotel\", y=\"adr_per_person\", data=hotel_adr_month)\n",
    "plt.title(\"Tarifa diaria promedio  por persona \", fontsize=16)\n",
    "plt.xlabel(\"Tipo de Hotel\", fontsize=16)\n",
    "plt.xticks(rotation=45)\n",
    "plt.ylabel(\"Precio Por Persona\", fontsize=16)\n",
    "plt.show()"
   ]
  },
  {
   "cell_type": "code",
   "execution_count": 114,
   "metadata": {},
   "outputs": [
    {
     "data": {
      "text/html": [
       "<div>\n",
       "<style scoped>\n",
       "    .dataframe tbody tr th:only-of-type {\n",
       "        vertical-align: middle;\n",
       "    }\n",
       "\n",
       "    .dataframe tbody tr th {\n",
       "        vertical-align: top;\n",
       "    }\n",
       "\n",
       "    .dataframe thead th {\n",
       "        text-align: right;\n",
       "    }\n",
       "</style>\n",
       "<table border=\"1\" class=\"dataframe\">\n",
       "  <thead>\n",
       "    <tr style=\"text-align: right;\">\n",
       "      <th></th>\n",
       "      <th>adr_per_person</th>\n",
       "    </tr>\n",
       "    <tr>\n",
       "      <th>hotel</th>\n",
       "      <th></th>\n",
       "    </tr>\n",
       "  </thead>\n",
       "  <tbody>\n",
       "    <tr>\n",
       "      <th>City Hotel</th>\n",
       "      <td>59.466944</td>\n",
       "    </tr>\n",
       "    <tr>\n",
       "      <th>Resort Hotel</th>\n",
       "      <td>47.249736</td>\n",
       "    </tr>\n",
       "  </tbody>\n",
       "</table>\n",
       "</div>"
      ],
      "text/plain": [
       "              adr_per_person\n",
       "hotel                       \n",
       "City Hotel         59.466944\n",
       "Resort Hotel       47.249736"
      ]
     },
     "execution_count": 114,
     "metadata": {},
     "output_type": "execute_result"
    }
   ],
   "source": [
    "hotel_adr_month.groupby('hotel').mean()"
   ]
  },
  {
   "cell_type": "code",
   "execution_count": null,
   "metadata": {},
   "outputs": [],
   "source": []
  },
  {
   "cell_type": "markdown",
   "metadata": {
    "colab_type": "text",
    "id": "O3Ht6UR5IuKE"
   },
   "source": [
    "*Responder aqui la pregunta y su análisis*\n",
    "* En City Hotel en promedio pagan: 59.466944\n",
    "* En Resort Hotel en promedio pagan: 47.249736"
   ]
  },
  {
   "cell_type": "markdown",
   "metadata": {
    "colab_type": "text",
    "id": "J00L0BTFNffI"
   },
   "source": [
    "### ¿Cuánto tiempo se quedan los huéspedes en los hoteles?\n",
    "\n",
    "Usar las características `stays_in_weekend_nights` y `stays_in_week_nights` para el análisis."
   ]
  },
  {
   "cell_type": "code",
   "execution_count": 119,
   "metadata": {
    "colab": {},
    "colab_type": "code",
    "id": "LYf8ohqBTZxE"
   },
   "outputs": [
    {
     "data": {
      "text/html": [
       "<div>\n",
       "<style scoped>\n",
       "    .dataframe tbody tr th:only-of-type {\n",
       "        vertical-align: middle;\n",
       "    }\n",
       "\n",
       "    .dataframe tbody tr th {\n",
       "        vertical-align: top;\n",
       "    }\n",
       "\n",
       "    .dataframe thead th {\n",
       "        text-align: right;\n",
       "    }\n",
       "</style>\n",
       "<table border=\"1\" class=\"dataframe\">\n",
       "  <thead>\n",
       "    <tr style=\"text-align: right;\">\n",
       "      <th></th>\n",
       "      <th>stays_in_weekend_nights</th>\n",
       "      <th>stays_in_week_nights</th>\n",
       "      <th>adr_per_person</th>\n",
       "      <th>hotel</th>\n",
       "    </tr>\n",
       "  </thead>\n",
       "  <tbody>\n",
       "    <tr>\n",
       "      <th>1</th>\n",
       "      <td>0</td>\n",
       "      <td>3</td>\n",
       "      <td>57.500000</td>\n",
       "      <td>City Hotel</td>\n",
       "    </tr>\n",
       "    <tr>\n",
       "      <th>2</th>\n",
       "      <td>0</td>\n",
       "      <td>3</td>\n",
       "      <td>54.000000</td>\n",
       "      <td>City Hotel</td>\n",
       "    </tr>\n",
       "    <tr>\n",
       "      <th>4</th>\n",
       "      <td>2</td>\n",
       "      <td>1</td>\n",
       "      <td>47.250000</td>\n",
       "      <td>City Hotel</td>\n",
       "    </tr>\n",
       "    <tr>\n",
       "      <th>5</th>\n",
       "      <td>0</td>\n",
       "      <td>1</td>\n",
       "      <td>26.000000</td>\n",
       "      <td>Resort Hotel</td>\n",
       "    </tr>\n",
       "    <tr>\n",
       "      <th>8</th>\n",
       "      <td>0</td>\n",
       "      <td>1</td>\n",
       "      <td>47.000000</td>\n",
       "      <td>Resort Hotel</td>\n",
       "    </tr>\n",
       "    <tr>\n",
       "      <th>...</th>\n",
       "      <td>...</td>\n",
       "      <td>...</td>\n",
       "      <td>...</td>\n",
       "      <td>...</td>\n",
       "    </tr>\n",
       "    <tr>\n",
       "      <th>59591</th>\n",
       "      <td>2</td>\n",
       "      <td>5</td>\n",
       "      <td>44.100000</td>\n",
       "      <td>Resort Hotel</td>\n",
       "    </tr>\n",
       "    <tr>\n",
       "      <th>59595</th>\n",
       "      <td>0</td>\n",
       "      <td>1</td>\n",
       "      <td>38.500000</td>\n",
       "      <td>City Hotel</td>\n",
       "    </tr>\n",
       "    <tr>\n",
       "      <th>59596</th>\n",
       "      <td>2</td>\n",
       "      <td>3</td>\n",
       "      <td>67.500000</td>\n",
       "      <td>City Hotel</td>\n",
       "    </tr>\n",
       "    <tr>\n",
       "      <th>59597</th>\n",
       "      <td>0</td>\n",
       "      <td>3</td>\n",
       "      <td>30.883333</td>\n",
       "      <td>City Hotel</td>\n",
       "    </tr>\n",
       "    <tr>\n",
       "      <th>59599</th>\n",
       "      <td>0</td>\n",
       "      <td>2</td>\n",
       "      <td>120.000000</td>\n",
       "      <td>Resort Hotel</td>\n",
       "    </tr>\n",
       "  </tbody>\n",
       "</table>\n",
       "<p>37505 rows × 4 columns</p>\n",
       "</div>"
      ],
      "text/plain": [
       "       stays_in_weekend_nights  stays_in_week_nights  adr_per_person  \\\n",
       "1                            0                     3       57.500000   \n",
       "2                            0                     3       54.000000   \n",
       "4                            2                     1       47.250000   \n",
       "5                            0                     1       26.000000   \n",
       "8                            0                     1       47.000000   \n",
       "...                        ...                   ...             ...   \n",
       "59591                        2                     5       44.100000   \n",
       "59595                        0                     1       38.500000   \n",
       "59596                        2                     3       67.500000   \n",
       "59597                        0                     3       30.883333   \n",
       "59599                        0                     2      120.000000   \n",
       "\n",
       "              hotel  \n",
       "1        City Hotel  \n",
       "2        City Hotel  \n",
       "4        City Hotel  \n",
       "5      Resort Hotel  \n",
       "8      Resort Hotel  \n",
       "...             ...  \n",
       "59591  Resort Hotel  \n",
       "59595    City Hotel  \n",
       "59596    City Hotel  \n",
       "59597    City Hotel  \n",
       "59599  Resort Hotel  \n",
       "\n",
       "[37505 rows x 4 columns]"
      ]
     },
     "execution_count": 119,
     "metadata": {},
     "output_type": "execute_result"
    }
   ],
   "source": [
    "\n",
    "# Seleccionamos las características que usaremos en la visualización\n",
    "hotel_adr_month = data_no_canceled[['stays_in_weekend_nights', 'stays_in_week_nights', 'adr_per_person','hotel']]\n",
    "hotel_adr_month\n"
   ]
  },
  {
   "cell_type": "code",
   "execution_count": 133,
   "metadata": {},
   "outputs": [
    {
     "data": {
      "text/html": [
       "<div>\n",
       "<style scoped>\n",
       "    .dataframe tbody tr th:only-of-type {\n",
       "        vertical-align: middle;\n",
       "    }\n",
       "\n",
       "    .dataframe tbody tr th {\n",
       "        vertical-align: top;\n",
       "    }\n",
       "\n",
       "    .dataframe thead th {\n",
       "        text-align: right;\n",
       "    }\n",
       "</style>\n",
       "<table border=\"1\" class=\"dataframe\">\n",
       "  <thead>\n",
       "    <tr style=\"text-align: right;\">\n",
       "      <th></th>\n",
       "      <th>stays_in_weekend_nights</th>\n",
       "      <th>stays_in_week_nights</th>\n",
       "    </tr>\n",
       "    <tr>\n",
       "      <th>hotel</th>\n",
       "      <th></th>\n",
       "      <th></th>\n",
       "    </tr>\n",
       "  </thead>\n",
       "  <tbody>\n",
       "    <tr>\n",
       "      <th>City Hotel</th>\n",
       "      <td>0.801859</td>\n",
       "      <td>2.123459</td>\n",
       "    </tr>\n",
       "    <tr>\n",
       "      <th>Resort Hotel</th>\n",
       "      <td>1.130598</td>\n",
       "      <td>3.013074</td>\n",
       "    </tr>\n",
       "  </tbody>\n",
       "</table>\n",
       "</div>"
      ],
      "text/plain": [
       "              stays_in_weekend_nights  stays_in_week_nights\n",
       "hotel                                                      \n",
       "City Hotel                   0.801859              2.123459\n",
       "Resort Hotel                 1.130598              3.013074"
      ]
     },
     "execution_count": 133,
     "metadata": {},
     "output_type": "execute_result"
    }
   ],
   "source": [
    "hotel_adr_month=hotel_adr_month.drop(['adr_per_person'], axis=1)\n",
    "hotel_adr_month=hotel_adr_month.groupby('hotel').mean()\n",
    "hotel_adr_month"
   ]
  },
  {
   "cell_type": "code",
   "execution_count": null,
   "metadata": {},
   "outputs": [],
   "source": []
  },
  {
   "cell_type": "markdown",
   "metadata": {
    "colab_type": "text",
    "id": "kvrh5_kcTZ8i"
   },
   "source": [
    "*Responder aqui la pregunta y su análisis*\n",
    "\n",
    "Para City Hotel el proemdio de personas que vayan en stays_in_weekend_nights son: 0.801859 y en  stays_in_week_nights son: 2.123459\n",
    "Para Resort Hotel\t el proemdio de personas que vayan en stays_in_weekend_nights son: 0.1.130598 y en  stays_in_week_nights son: 2.3.013074\n"
   ]
  },
  {
   "cell_type": "markdown",
   "metadata": {
    "colab_type": "text",
    "id": "Oz-1cneVNkB4"
   },
   "source": [
    "### ¿Qué mes tiene el mayor número de reservas?\n",
    "\n",
    "Usar las características `arrival_date_month` y `hotel` para el análisis.\n"
   ]
  },
  {
   "cell_type": "code",
   "execution_count": 146,
   "metadata": {
    "colab": {},
    "colab_type": "code",
    "id": "g5WsnMhAyn_S"
   },
   "outputs": [
    {
     "name": "stderr",
     "output_type": "stream",
     "text": [
      "C:\\Users\\Paul\\anaconda3\\lib\\site-packages\\ipykernel_launcher.py:9: SettingWithCopyWarning: \n",
      "A value is trying to be set on a copy of a slice from a DataFrame.\n",
      "Try using .loc[row_indexer,col_indexer] = value instead\n",
      "\n",
      "See the caveats in the documentation: https://pandas.pydata.org/pandas-docs/stable/user_guide/indexing.html#returning-a-view-versus-a-copy\n",
      "  if __name__ == '__main__':\n"
     ]
    },
    {
     "data": {
      "text/html": [
       "<div>\n",
       "<style scoped>\n",
       "    .dataframe tbody tr th:only-of-type {\n",
       "        vertical-align: middle;\n",
       "    }\n",
       "\n",
       "    .dataframe tbody tr th {\n",
       "        vertical-align: top;\n",
       "    }\n",
       "\n",
       "    .dataframe thead th {\n",
       "        text-align: right;\n",
       "    }\n",
       "</style>\n",
       "<table border=\"1\" class=\"dataframe\">\n",
       "  <thead>\n",
       "    <tr style=\"text-align: right;\">\n",
       "      <th></th>\n",
       "      <th>hotel</th>\n",
       "      <th>arrival_date_month</th>\n",
       "      <th>adr_per_person</th>\n",
       "    </tr>\n",
       "  </thead>\n",
       "  <tbody>\n",
       "    <tr>\n",
       "      <th>15855</th>\n",
       "      <td>City Hotel</td>\n",
       "      <td>January</td>\n",
       "      <td>67.15</td>\n",
       "    </tr>\n",
       "    <tr>\n",
       "      <th>8220</th>\n",
       "      <td>City Hotel</td>\n",
       "      <td>January</td>\n",
       "      <td>46.80</td>\n",
       "    </tr>\n",
       "    <tr>\n",
       "      <th>52631</th>\n",
       "      <td>City Hotel</td>\n",
       "      <td>January</td>\n",
       "      <td>0.00</td>\n",
       "    </tr>\n",
       "    <tr>\n",
       "      <th>8248</th>\n",
       "      <td>City Hotel</td>\n",
       "      <td>January</td>\n",
       "      <td>47.50</td>\n",
       "    </tr>\n",
       "    <tr>\n",
       "      <th>36082</th>\n",
       "      <td>City Hotel</td>\n",
       "      <td>January</td>\n",
       "      <td>48.50</td>\n",
       "    </tr>\n",
       "  </tbody>\n",
       "</table>\n",
       "</div>"
      ],
      "text/plain": [
       "            hotel arrival_date_month  adr_per_person\n",
       "15855  City Hotel            January           67.15\n",
       "8220   City Hotel            January           46.80\n",
       "52631  City Hotel            January            0.00\n",
       "8248   City Hotel            January           47.50\n",
       "36082  City Hotel            January           48.50"
      ]
     },
     "execution_count": 146,
     "metadata": {},
     "output_type": "execute_result"
    }
   ],
   "source": [
    "# Seleccionamos las características que usaremos en la visualización\n",
    "hotel_adr_month = data_no_canceled[['hotel', 'arrival_date_month', 'adr_per_person']]\n",
    "\n",
    "# Necesitamos ordenar la variable categórica 'arrival_date_month'\n",
    "ordered_months = [\"January\", \"February\", \"March\", \"April\", \"May\", \"June\", \n",
    "                  \"July\", \"August\", \"September\", \"October\", \"November\", \"December\"]\n",
    "\n",
    "# Usamos conversión categórica de 'pandas' para definir el orden\n",
    "hotel_adr_month[\"arrival_date_month\"] = pd.Categorical(hotel_adr_month[\"arrival_date_month\"], categories=ordered_months, ordered=True)\n",
    "\n",
    "# Realizamos el ordenamiento respectivo\n",
    "hotel_adr_month = hotel_adr_month.sort_values(\"arrival_date_month\")\n",
    "\n",
    "# Mostramos la data\n",
    "hotel_adr_month.head()"
   ]
  },
  {
   "cell_type": "code",
   "execution_count": 147,
   "metadata": {},
   "outputs": [
    {
     "data": {
      "image/png": "[encoded data removed]",
      "text/plain": [
       "<Figure size 864x576 with 1 Axes>"
      ]
     },
     "metadata": {
      "needs_background": "light"
     },
     "output_type": "display_data"
    }
   ],
   "source": [
    "import matplotlib.pyplot as plt\n",
    "import seaborn as sns\n",
    "plt.figure(figsize=(12, 8))\n",
    "sns.barplot(x = \"arrival_date_month\", y=\"adr_per_person\", hue=\"hotel\", data=hotel_adr_month)\n",
    "plt.title(\"Tarifa diaria promedio mensual por persona durante el año\", fontsize=16)\n",
    "plt.xlabel(\"Mes\", fontsize=16)\n",
    "plt.xticks(rotation=45)\n",
    "plt.ylabel(\"Precio Por Persona\", fontsize=16)\n",
    "plt.show()"
   ]
  },
  {
   "cell_type": "code",
   "execution_count": null,
   "metadata": {},
   "outputs": [],
   "source": []
  },
  {
   "cell_type": "code",
   "execution_count": 154,
   "metadata": {},
   "outputs": [
    {
     "data": {
      "text/html": [
       "<div>\n",
       "<style scoped>\n",
       "    .dataframe tbody tr th:only-of-type {\n",
       "        vertical-align: middle;\n",
       "    }\n",
       "\n",
       "    .dataframe tbody tr th {\n",
       "        vertical-align: top;\n",
       "    }\n",
       "\n",
       "    .dataframe thead th {\n",
       "        text-align: right;\n",
       "    }\n",
       "</style>\n",
       "<table border=\"1\" class=\"dataframe\">\n",
       "  <thead>\n",
       "    <tr style=\"text-align: right;\">\n",
       "      <th></th>\n",
       "      <th>adr_per_person</th>\n",
       "    </tr>\n",
       "    <tr>\n",
       "      <th>arrival_date_month</th>\n",
       "      <th></th>\n",
       "    </tr>\n",
       "  </thead>\n",
       "  <tbody>\n",
       "    <tr>\n",
       "      <th>August</th>\n",
       "      <td>67.349224</td>\n",
       "    </tr>\n",
       "    <tr>\n",
       "      <th>June</th>\n",
       "      <td>62.861476</td>\n",
       "    </tr>\n",
       "    <tr>\n",
       "      <th>July</th>\n",
       "      <td>62.332950</td>\n",
       "    </tr>\n",
       "    <tr>\n",
       "      <th>September</th>\n",
       "      <td>61.208906</td>\n",
       "    </tr>\n",
       "    <tr>\n",
       "      <th>May</th>\n",
       "      <td>60.479825</td>\n",
       "    </tr>\n",
       "    <tr>\n",
       "      <th>April</th>\n",
       "      <td>52.983780</td>\n",
       "    </tr>\n",
       "    <tr>\n",
       "      <th>October</th>\n",
       "      <td>52.447165</td>\n",
       "    </tr>\n",
       "    <tr>\n",
       "      <th>March</th>\n",
       "      <td>45.700602</td>\n",
       "    </tr>\n",
       "    <tr>\n",
       "      <th>November</th>\n",
       "      <td>45.448673</td>\n",
       "    </tr>\n",
       "    <tr>\n",
       "      <th>December</th>\n",
       "      <td>43.198876</td>\n",
       "    </tr>\n",
       "    <tr>\n",
       "      <th>January</th>\n",
       "      <td>42.463957</td>\n",
       "    </tr>\n",
       "    <tr>\n",
       "      <th>February</th>\n",
       "      <td>42.390199</td>\n",
       "    </tr>\n",
       "  </tbody>\n",
       "</table>\n",
       "</div>"
      ],
      "text/plain": [
       "                    adr_per_person\n",
       "arrival_date_month                \n",
       "August                   67.349224\n",
       "June                     62.861476\n",
       "July                     62.332950\n",
       "September                61.208906\n",
       "May                      60.479825\n",
       "April                    52.983780\n",
       "October                  52.447165\n",
       "March                    45.700602\n",
       "November                 45.448673\n",
       "December                 43.198876\n",
       "January                  42.463957\n",
       "February                 42.390199"
      ]
     },
     "execution_count": 154,
     "metadata": {},
     "output_type": "execute_result"
    }
   ],
   "source": [
    "hotel_adr_month.groupby('arrival_date_month').mean().sort_values('adr_per_person',ascending=False)"
   ]
  },
  {
   "cell_type": "code",
   "execution_count": null,
   "metadata": {},
   "outputs": [],
   "source": []
  },
  {
   "cell_type": "markdown",
   "metadata": {
    "colab_type": "text",
    "id": "tZyXRMD7-d5p"
   },
   "source": [
    "*Responder aqui la pregunta y su análisis*\n",
    "* El mes que tiene mayor número de reservas es Agosto con 67.349224 y es de tipo: Resort Hotel"
   ]
  },
  {
   "cell_type": "markdown",
   "metadata": {
    "colab_type": "text",
    "id": "0movmdhONr2w"
   },
   "source": [
    "### ¿Qué tipo de cliente contribuye a la mayor cantidad de cancelaciones de reservas de hotel?\n",
    "\n",
    "Usar las características `customer_type`, `is_canceled` y `hotel` para el análisis. Mostrar visualizaciones por tipo de cliente.\n"
   ]
  },
  {
   "cell_type": "code",
   "execution_count": 164,
   "metadata": {
    "colab": {},
    "colab_type": "code",
    "id": "sOkcPbpiYD1P"
   },
   "outputs": [],
   "source": [
    "# Consideramos solamente datos de reservas que no fueron cancelados\n",
    "#data_no_canceled = data[ data['is_canceled'] == 0]\n",
    "\n",
    "# Seleccionamos las características que usaremos en la visualización\n",
    "hotel_adr_month = data[['hotel', 'customer_type', 'is_canceled']]\n"
   ]
  },
  {
   "cell_type": "code",
   "execution_count": 168,
   "metadata": {},
   "outputs": [
    {
     "data": {
      "text/html": [
       "<div>\n",
       "<style scoped>\n",
       "    .dataframe tbody tr th:only-of-type {\n",
       "        vertical-align: middle;\n",
       "    }\n",
       "\n",
       "    .dataframe tbody tr th {\n",
       "        vertical-align: top;\n",
       "    }\n",
       "\n",
       "    .dataframe thead th {\n",
       "        text-align: right;\n",
       "    }\n",
       "</style>\n",
       "<table border=\"1\" class=\"dataframe\">\n",
       "  <thead>\n",
       "    <tr style=\"text-align: right;\">\n",
       "      <th></th>\n",
       "      <th>hotel</th>\n",
       "      <th>is_canceled</th>\n",
       "    </tr>\n",
       "    <tr>\n",
       "      <th>customer_type</th>\n",
       "      <th></th>\n",
       "      <th></th>\n",
       "    </tr>\n",
       "  </thead>\n",
       "  <tbody>\n",
       "    <tr>\n",
       "      <th>Transient</th>\n",
       "      <td>44723</td>\n",
       "      <td>44723</td>\n",
       "    </tr>\n",
       "    <tr>\n",
       "      <th>Transient-Party</th>\n",
       "      <td>12497</td>\n",
       "      <td>12497</td>\n",
       "    </tr>\n",
       "    <tr>\n",
       "      <th>Contract</th>\n",
       "      <td>2076</td>\n",
       "      <td>2076</td>\n",
       "    </tr>\n",
       "    <tr>\n",
       "      <th>Group</th>\n",
       "      <td>304</td>\n",
       "      <td>304</td>\n",
       "    </tr>\n",
       "  </tbody>\n",
       "</table>\n",
       "</div>"
      ],
      "text/plain": [
       "                 hotel  is_canceled\n",
       "customer_type                      \n",
       "Transient        44723        44723\n",
       "Transient-Party  12497        12497\n",
       "Contract          2076         2076\n",
       "Group              304          304"
      ]
     },
     "execution_count": 168,
     "metadata": {},
     "output_type": "execute_result"
    }
   ],
   "source": [
    "hotel_adr_month.groupby('customer_type').count().sort_values('is_canceled',ascending=False)"
   ]
  },
  {
   "cell_type": "markdown",
   "metadata": {
    "colab_type": "text",
    "id": "B3dQNM1nGeJb"
   },
   "source": [
    "*Responder aqui la pregunta y su análisis*\n",
    "* El tipo de cliente que mayor cancela es de Transient"
   ]
  },
  {
   "cell_type": "markdown",
   "metadata": {
    "colab_type": "text",
    "id": "hL5mR6rXNh96"
   },
   "source": [
    "### ¿Cuántas reservas fueron canceladas?\n",
    "\n",
    "Usar las características `is_canceled` y `hotel` para el análisis. Mostrar porcentajes de reservas canceladas por tipo de hotel (Resort y City)."
   ]
  },
  {
   "cell_type": "code",
   "execution_count": 171,
   "metadata": {
    "colab": {},
    "colab_type": "code",
    "id": "fpcSSBZLqv4_"
   },
   "outputs": [
    {
     "data": {
      "text/html": [
       "<div>\n",
       "<style scoped>\n",
       "    .dataframe tbody tr th:only-of-type {\n",
       "        vertical-align: middle;\n",
       "    }\n",
       "\n",
       "    .dataframe tbody tr th {\n",
       "        vertical-align: top;\n",
       "    }\n",
       "\n",
       "    .dataframe thead th {\n",
       "        text-align: right;\n",
       "    }\n",
       "</style>\n",
       "<table border=\"1\" class=\"dataframe\">\n",
       "  <thead>\n",
       "    <tr style=\"text-align: right;\">\n",
       "      <th></th>\n",
       "      <th>hotel</th>\n",
       "      <th>is_canceled</th>\n",
       "    </tr>\n",
       "    <tr>\n",
       "      <th>customer_type</th>\n",
       "      <th></th>\n",
       "      <th></th>\n",
       "    </tr>\n",
       "  </thead>\n",
       "  <tbody>\n",
       "    <tr>\n",
       "      <th>Contract</th>\n",
       "      <td>2076</td>\n",
       "      <td>2076</td>\n",
       "    </tr>\n",
       "    <tr>\n",
       "      <th>Group</th>\n",
       "      <td>304</td>\n",
       "      <td>304</td>\n",
       "    </tr>\n",
       "    <tr>\n",
       "      <th>Transient</th>\n",
       "      <td>44723</td>\n",
       "      <td>44723</td>\n",
       "    </tr>\n",
       "    <tr>\n",
       "      <th>Transient-Party</th>\n",
       "      <td>12497</td>\n",
       "      <td>12497</td>\n",
       "    </tr>\n",
       "  </tbody>\n",
       "</table>\n",
       "</div>"
      ],
      "text/plain": [
       "                 hotel  is_canceled\n",
       "customer_type                      \n",
       "Contract          2076         2076\n",
       "Group              304          304\n",
       "Transient        44723        44723\n",
       "Transient-Party  12497        12497"
      ]
     },
     "execution_count": 171,
     "metadata": {},
     "output_type": "execute_result"
    }
   ],
   "source": [
    "cancelaron=hotel_adr_month.groupby('customer_type').count()\n",
    "cancelaron"
   ]
  },
  {
   "cell_type": "code",
   "execution_count": 173,
   "metadata": {},
   "outputs": [
    {
     "data": {
      "text/plain": [
       "hotel          59600\n",
       "is_canceled    59600\n",
       "dtype: int64"
      ]
     },
     "execution_count": 173,
     "metadata": {},
     "output_type": "execute_result"
    }
   ],
   "source": [
    "cancelaron.sum()"
   ]
  },
  {
   "cell_type": "markdown",
   "metadata": {
    "colab_type": "text",
    "id": "EuaBwcUhKE6P"
   },
   "source": [
    "*Responder aqui la pregunta y su análisis*\n",
    "Cancelaron 59.600 \n"
   ]
  },
  {
   "cell_type": "markdown",
   "metadata": {
    "colab_type": "text",
    "id": "ZjNFMmyTNtnN"
   },
   "source": [
    "### ¿Qué mes tiene el mayor número de cancelaciones?\n",
    "\n",
    "Usar las características `arrival_date_month`, `is_canceled` y `hotel` para el análisis."
   ]
  },
  {
   "cell_type": "code",
   "execution_count": 194,
   "metadata": {},
   "outputs": [],
   "source": [
    "# Consideramos solamente datos de reservas que  fueron cancelados\n",
    "data_no_canceled = data[ data['is_canceled'] == 1]\n",
    "\n",
    "# Seleccionamos las características que usaremos en la visualización\n",
    "hotel_adr_month = data_no_canceled[['hotel', 'arrival_date_month', 'is_canceled']]"
   ]
  },
  {
   "cell_type": "code",
   "execution_count": 198,
   "metadata": {},
   "outputs": [
    {
     "data": {
      "text/html": [
       "<div>\n",
       "<style scoped>\n",
       "    .dataframe tbody tr th:only-of-type {\n",
       "        vertical-align: middle;\n",
       "    }\n",
       "\n",
       "    .dataframe tbody tr th {\n",
       "        vertical-align: top;\n",
       "    }\n",
       "\n",
       "    .dataframe thead th {\n",
       "        text-align: right;\n",
       "    }\n",
       "</style>\n",
       "<table border=\"1\" class=\"dataframe\">\n",
       "  <thead>\n",
       "    <tr style=\"text-align: right;\">\n",
       "      <th></th>\n",
       "      <th>hotel</th>\n",
       "      <th>is_canceled</th>\n",
       "    </tr>\n",
       "    <tr>\n",
       "      <th>arrival_date_month</th>\n",
       "      <th></th>\n",
       "      <th></th>\n",
       "    </tr>\n",
       "  </thead>\n",
       "  <tbody>\n",
       "    <tr>\n",
       "      <th>August</th>\n",
       "      <td>2626</td>\n",
       "      <td>2626</td>\n",
       "    </tr>\n",
       "    <tr>\n",
       "      <th>May</th>\n",
       "      <td>2384</td>\n",
       "      <td>2384</td>\n",
       "    </tr>\n",
       "    <tr>\n",
       "      <th>July</th>\n",
       "      <td>2337</td>\n",
       "      <td>2337</td>\n",
       "    </tr>\n",
       "    <tr>\n",
       "      <th>April</th>\n",
       "      <td>2285</td>\n",
       "      <td>2285</td>\n",
       "    </tr>\n",
       "    <tr>\n",
       "      <th>June</th>\n",
       "      <td>2218</td>\n",
       "      <td>2218</td>\n",
       "    </tr>\n",
       "    <tr>\n",
       "      <th>October</th>\n",
       "      <td>2143</td>\n",
       "      <td>2143</td>\n",
       "    </tr>\n",
       "    <tr>\n",
       "      <th>September</th>\n",
       "      <td>2057</td>\n",
       "      <td>2057</td>\n",
       "    </tr>\n",
       "    <tr>\n",
       "      <th>March</th>\n",
       "      <td>1564</td>\n",
       "      <td>1564</td>\n",
       "    </tr>\n",
       "    <tr>\n",
       "      <th>February</th>\n",
       "      <td>1367</td>\n",
       "      <td>1367</td>\n",
       "    </tr>\n",
       "    <tr>\n",
       "      <th>December</th>\n",
       "      <td>1179</td>\n",
       "      <td>1179</td>\n",
       "    </tr>\n",
       "    <tr>\n",
       "      <th>November</th>\n",
       "      <td>1038</td>\n",
       "      <td>1038</td>\n",
       "    </tr>\n",
       "    <tr>\n",
       "      <th>January</th>\n",
       "      <td>897</td>\n",
       "      <td>897</td>\n",
       "    </tr>\n",
       "  </tbody>\n",
       "</table>\n",
       "</div>"
      ],
      "text/plain": [
       "                    hotel  is_canceled\n",
       "arrival_date_month                    \n",
       "August               2626         2626\n",
       "May                  2384         2384\n",
       "July                 2337         2337\n",
       "April                2285         2285\n",
       "June                 2218         2218\n",
       "October              2143         2143\n",
       "September            2057         2057\n",
       "March                1564         1564\n",
       "February             1367         1367\n",
       "December             1179         1179\n",
       "November             1038         1038\n",
       "January               897          897"
      ]
     },
     "execution_count": 198,
     "metadata": {},
     "output_type": "execute_result"
    }
   ],
   "source": [
    "\n",
    "cancelaron=hotel_adr_month.groupby('arrival_date_month').count().sort_values('is_canceled',ascending=False)\n",
    "#cancelaron=cancelaron.drop('hotel',axis=1)\n",
    "cancelaron"
   ]
  },
  {
   "cell_type": "markdown",
   "metadata": {
    "colab_type": "text",
    "id": "uwxbtZYL-agl"
   },
   "source": [
    "*Responder aqui la pregunta y su análisis*\n",
    "* Agosto es el que tiene mayor número de  cancelaciones"
   ]
  },
  {
   "cell_type": "markdown",
   "metadata": {
    "colab_type": "text",
    "id": "OU8WZymXOGZp"
   },
   "source": [
    "## Preparación de Datos (8 Puntos)\n",
    "\n",
    "Luego de haber realizado el análisis de los datos, procederemos con la preparación final antes del modelado. Recuerde que la mayor parte de los modelos de Machine Learning reciben como entrada solamente valores numéricos. Sus tareas en esta fase serán:\n",
    "\n",
    "1. (2 puntos) Agregar y/o eliminar características.\n",
    "\n",
    "2. (Opcional - 2 puntos) Detectar y tratar valores atípicos (outliers).\n",
    "3. (1 punto) Separar características de variable objetivo (is_canceled)\n",
    "4. (1 punto) Preprocesar características númericas.\n",
    "5. (1 punto) Preprocesar características categóricas.\n",
    "6. (1 punto) Crear una función o clase que permita hacer toda la preparación de datos para un dataset determinado. Usaremos está función para preparar los datos de entrenamiento y prueba por separado. También puede hacer uso de la clase [Pipeline](https://scikit-learn.org/stable/modules/compose.html) de scikit-learn (Recomendado)."
   ]
  },
  {
   "cell_type": "markdown",
   "metadata": {
    "colab_type": "text",
    "id": "039jctNLOK_h"
   },
   "source": [
    "## Modelado (17 Puntos)\n",
    "\n",
    "En esta estapa nos dedicaremos a usar nuestros conocimientos de Machine Learning para entrenar diferentes modelos y usar diferentes técnicas para mejorar los resultados. La evaluación estará basada en la métrica accuracy.\n",
    "\n",
    "1. (1 punto) Para los siguientes pasos evaluar su modelo con validación cruzada, usando la métrica de accuracy.\n",
    "2. (1 punto por clasificador) Utilize como mínimo $2$ clasificadores aprendidos para evaluar su solución (K-NN, Naive Bayes, Logistic Regression, Decision Trees). Muestre los resultados obtenidos e indique por qué algunos clasificadores son mejores que otros.\n",
    "3. (1 punto) Realice la búsqueda de hiperparámetros para cada modelo (Grid Search o Random Search) y vuelva a mostrar sus resultados.\n",
    "4. (1 punto por modelo) Utilize modelos de ensamble para ver si podemos mejorar nuestra solución (Bagging, Boosting y Stacking). Específique los modelos que está usando y muestre resultados.\n",
    "5. (Opcional - 1 punto por modelo) Utilize una o más de las siguientes librerías para evaluar su modelo con Gradient Boosting: [LightGBM](https://lightgbm.readthedocs.io/en/latest/Python-Intro.html), [XGBoost](https://xgboost.readthedocs.io/en/latest/python/python_intro.html), [CatBoost](https://catboost.ai/docs/concepts/python-usages-examples.html).\n",
    "6. (Opcional - 5 puntos) Importancia de Características:\n",
    "\n",
    "  6.1. (2 puntos) Obtenga la importancia de características usando Decision Trees y/o Random Forest. Muestre la importancia ordenada de mayor a menor y vuelva a entrenar su modelo con las características más importantes.\n",
    "\n",
    "  6.2. (1 punto)  Responda las siguientes preguntas: ¿Cuales son las características más importantes? ¿Cuántas características está considerando en su nuevo modelo y por qué? ¿Usando menos características mejora la métrica de clasificación?\n",
    "\n",
    "  6.3. (2 puntos) Analice las características más importantes haciendo uso de visualizaciones y explique sus conclusiones.\n",
    "\n",
    "Las tareas opcionales si bien no son obligatorias, son muy recomendables para que tengan un mejor conocimiento de las librerías más usadas a parte de scikit-learn y para entender mejor la importancia de características que algunos modelos nos brindan.\n",
    "\n",
    "*Para instalar nuevas librerías en colab puede hacer uso del comando !pip install. Por ejemplo para instalar CatBoost, podemos hacerlo de la siguiente manera: !pip install catboost*\n",
    "\n",
    "**Importante:** Al entrenar sus modelos puede que en algún momento lleguen a obtener $100\\%$ de accuracy durante el entrenamiento, incluso con validación cruzada. Esto puede deberse a un problema de **data leakage** donde nuestra data de entrenamiento contiene información de la variable que deseamos predecir (`is_canceled`). Para ello es recomendable entender las características y revisar cuales están ocasionando el data leakage. Ejemplos de data leakage pueden ser encontrados aqui: https://www.kaggle.com/alexisbcook/data-leakage"
   ]
  },
  {
   "cell_type": "markdown",
   "metadata": {
    "colab_type": "text",
    "id": "sSJ_e255Fg_a"
   },
   "source": [
    "### Prueba en Kaggle (4 Puntos)\n",
    "\n",
    "Luego de haber finalizado la preparación y modelado, evaluaremos sus resultados directamente en [Kaggle](https://www.kaggle.com/t/1becd9d402064b7ba8737391e47d70b7), para ello será necesario realizar los siguientes pasos:\n",
    "\n",
    "1. (1 punto) Cargue la data de prueba (test).\n",
    "\n",
    "2. (1 punto) Aplique las transformaciones usadas en la preparación de datos mediante la función, clase o Pipeline de scikit-learn que haya implementado en la parte de *preparación de datos*.\n",
    "3. (1 punto) Use el mejor modelo previamente entrenado en la data de entrenamiento y realice predicciones sobre la data de prueba.\n",
    "4. (1 punto) Guarde sus resultados en un archivo resultados.csv y subalo a la [competencia](https://www.kaggle.com/t/1becd9d402064b7ba8737391e47d70b7) de la tarea desde el siguiente enlace. Puede encontrar la función que genera el archivo en la parte inferior. \n"
   ]
  },
  {
   "cell_type": "code",
   "execution_count": 1,
   "metadata": {},
   "outputs": [],
   "source": [
    "# TODO: Importar librerías para manipulación, visualización, \n",
    "#       preprocesamiento y modelado de datos\n",
    "\n",
    "import pandas as pd\n",
    "import numpy as np\n",
    "#TODO: Cargue el conjunto de datos y muestre 8 registros\n",
    "# Si esta usando colab puede cargar los datos desde su drive o subir\n",
    "# el archivo y descomprimirlo con el comando !unzip archivo.zip\n",
    "\n",
    "data = pd.read_csv(\"train.csv\")\n",
    "#TODO: Mostrar información de cada característica\n",
    "#data.dtypes"
   ]
  },
  {
   "cell_type": "code",
   "execution_count": 2,
   "metadata": {},
   "outputs": [],
   "source": [
    "agentProm=data[\"agent\"].mean()\n",
    "compaProm=data[\"company\"].mean()\n",
    "childrenProm=data[\"children\"].mean()"
   ]
  },
  {
   "cell_type": "code",
   "execution_count": 3,
   "metadata": {},
   "outputs": [],
   "source": [
    "# TODO: De ser necesario, reemplace los valores NaN de cada característica\n",
    "#data=data[[\"country\"]].dropna(axis = 1) \n",
    "#data[[\"country\"]]\n",
    "data[\"country\"].fillna(\"No Country\", inplace = True)\n",
    "data[\"agent\"].fillna(agentProm, inplace = True)\n",
    "data[\"company\"].fillna(compaProm, inplace = True)\n",
    "data[\"children\"].fillna(childrenProm, inplace = True)"
   ]
  },
  {
   "cell_type": "code",
   "execution_count": 4,
   "metadata": {},
   "outputs": [
    {
     "data": {
      "text/plain": [
       "hotel                             0\n",
       "lead_time                         0\n",
       "arrival_date_year                 0\n",
       "arrival_date_month                0\n",
       "arrival_date_week_number          0\n",
       "arrival_date_day_of_month         0\n",
       "stays_in_weekend_nights           0\n",
       "stays_in_week_nights              0\n",
       "adults                            0\n",
       "children                          0\n",
       "babies                            0\n",
       "meal                              0\n",
       "country                           0\n",
       "market_segment                    0\n",
       "distribution_channel              0\n",
       "is_repeated_guest                 0\n",
       "previous_cancellations            0\n",
       "previous_bookings_not_canceled    0\n",
       "reserved_room_type                0\n",
       "assigned_room_type                0\n",
       "booking_changes                   0\n",
       "deposit_type                      0\n",
       "agent                             0\n",
       "company                           0\n",
       "days_in_waiting_list              0\n",
       "customer_type                     0\n",
       "adr                               0\n",
       "required_car_parking_spaces       0\n",
       "total_of_special_requests         0\n",
       "reservation_status                0\n",
       "reservation_status_date           0\n",
       "is_canceled                       0\n",
       "dtype: int64"
      ]
     },
     "execution_count": 4,
     "metadata": {},
     "output_type": "execute_result"
    }
   ],
   "source": [
    "# TODO: Revisar si existen valores NaN\n",
    "data.isnull().sum()\n"
   ]
  },
  {
   "cell_type": "code",
   "execution_count": 5,
   "metadata": {},
   "outputs": [
    {
     "data": {
      "text/html": [
       "<div>\n",
       "<style scoped>\n",
       "    .dataframe tbody tr th:only-of-type {\n",
       "        vertical-align: middle;\n",
       "    }\n",
       "\n",
       "    .dataframe tbody tr th {\n",
       "        vertical-align: top;\n",
       "    }\n",
       "\n",
       "    .dataframe thead th {\n",
       "        text-align: right;\n",
       "    }\n",
       "</style>\n",
       "<table border=\"1\" class=\"dataframe\">\n",
       "  <thead>\n",
       "    <tr style=\"text-align: right;\">\n",
       "      <th></th>\n",
       "      <th>hotel</th>\n",
       "      <th>lead_time</th>\n",
       "      <th>arrival_date_year</th>\n",
       "      <th>arrival_date_week_number</th>\n",
       "      <th>arrival_date_day_of_month</th>\n",
       "      <th>stays_in_weekend_nights</th>\n",
       "      <th>stays_in_week_nights</th>\n",
       "      <th>adults</th>\n",
       "      <th>children</th>\n",
       "      <th>babies</th>\n",
       "      <th>...</th>\n",
       "      <th>agent</th>\n",
       "      <th>company</th>\n",
       "      <th>days_in_waiting_list</th>\n",
       "      <th>customer_type</th>\n",
       "      <th>adr</th>\n",
       "      <th>required_car_parking_spaces</th>\n",
       "      <th>total_of_special_requests</th>\n",
       "      <th>reservation_status</th>\n",
       "      <th>reservation_status_date</th>\n",
       "      <th>is_canceled</th>\n",
       "    </tr>\n",
       "    <tr>\n",
       "      <th>arrival_date_month</th>\n",
       "      <th></th>\n",
       "      <th></th>\n",
       "      <th></th>\n",
       "      <th></th>\n",
       "      <th></th>\n",
       "      <th></th>\n",
       "      <th></th>\n",
       "      <th></th>\n",
       "      <th></th>\n",
       "      <th></th>\n",
       "      <th></th>\n",
       "      <th></th>\n",
       "      <th></th>\n",
       "      <th></th>\n",
       "      <th></th>\n",
       "      <th></th>\n",
       "      <th></th>\n",
       "      <th></th>\n",
       "      <th></th>\n",
       "      <th></th>\n",
       "      <th></th>\n",
       "    </tr>\n",
       "  </thead>\n",
       "  <tbody>\n",
       "    <tr>\n",
       "      <th>April</th>\n",
       "      <td>5554</td>\n",
       "      <td>5554</td>\n",
       "      <td>5554</td>\n",
       "      <td>5554</td>\n",
       "      <td>5554</td>\n",
       "      <td>5554</td>\n",
       "      <td>5554</td>\n",
       "      <td>5554</td>\n",
       "      <td>5554</td>\n",
       "      <td>5554</td>\n",
       "      <td>...</td>\n",
       "      <td>5554</td>\n",
       "      <td>5554</td>\n",
       "      <td>5554</td>\n",
       "      <td>5554</td>\n",
       "      <td>5554</td>\n",
       "      <td>5554</td>\n",
       "      <td>5554</td>\n",
       "      <td>5554</td>\n",
       "      <td>5554</td>\n",
       "      <td>5554</td>\n",
       "    </tr>\n",
       "    <tr>\n",
       "      <th>August</th>\n",
       "      <td>6922</td>\n",
       "      <td>6922</td>\n",
       "      <td>6922</td>\n",
       "      <td>6922</td>\n",
       "      <td>6922</td>\n",
       "      <td>6922</td>\n",
       "      <td>6922</td>\n",
       "      <td>6922</td>\n",
       "      <td>6922</td>\n",
       "      <td>6922</td>\n",
       "      <td>...</td>\n",
       "      <td>6922</td>\n",
       "      <td>6922</td>\n",
       "      <td>6922</td>\n",
       "      <td>6922</td>\n",
       "      <td>6922</td>\n",
       "      <td>6922</td>\n",
       "      <td>6922</td>\n",
       "      <td>6922</td>\n",
       "      <td>6922</td>\n",
       "      <td>6922</td>\n",
       "    </tr>\n",
       "    <tr>\n",
       "      <th>December</th>\n",
       "      <td>3405</td>\n",
       "      <td>3405</td>\n",
       "      <td>3405</td>\n",
       "      <td>3405</td>\n",
       "      <td>3405</td>\n",
       "      <td>3405</td>\n",
       "      <td>3405</td>\n",
       "      <td>3405</td>\n",
       "      <td>3405</td>\n",
       "      <td>3405</td>\n",
       "      <td>...</td>\n",
       "      <td>3405</td>\n",
       "      <td>3405</td>\n",
       "      <td>3405</td>\n",
       "      <td>3405</td>\n",
       "      <td>3405</td>\n",
       "      <td>3405</td>\n",
       "      <td>3405</td>\n",
       "      <td>3405</td>\n",
       "      <td>3405</td>\n",
       "      <td>3405</td>\n",
       "    </tr>\n",
       "    <tr>\n",
       "      <th>February</th>\n",
       "      <td>4039</td>\n",
       "      <td>4039</td>\n",
       "      <td>4039</td>\n",
       "      <td>4039</td>\n",
       "      <td>4039</td>\n",
       "      <td>4039</td>\n",
       "      <td>4039</td>\n",
       "      <td>4039</td>\n",
       "      <td>4039</td>\n",
       "      <td>4039</td>\n",
       "      <td>...</td>\n",
       "      <td>4039</td>\n",
       "      <td>4039</td>\n",
       "      <td>4039</td>\n",
       "      <td>4039</td>\n",
       "      <td>4039</td>\n",
       "      <td>4039</td>\n",
       "      <td>4039</td>\n",
       "      <td>4039</td>\n",
       "      <td>4039</td>\n",
       "      <td>4039</td>\n",
       "    </tr>\n",
       "    <tr>\n",
       "      <th>January</th>\n",
       "      <td>2936</td>\n",
       "      <td>2936</td>\n",
       "      <td>2936</td>\n",
       "      <td>2936</td>\n",
       "      <td>2936</td>\n",
       "      <td>2936</td>\n",
       "      <td>2936</td>\n",
       "      <td>2936</td>\n",
       "      <td>2936</td>\n",
       "      <td>2936</td>\n",
       "      <td>...</td>\n",
       "      <td>2936</td>\n",
       "      <td>2936</td>\n",
       "      <td>2936</td>\n",
       "      <td>2936</td>\n",
       "      <td>2936</td>\n",
       "      <td>2936</td>\n",
       "      <td>2936</td>\n",
       "      <td>2936</td>\n",
       "      <td>2936</td>\n",
       "      <td>2936</td>\n",
       "    </tr>\n",
       "    <tr>\n",
       "      <th>July</th>\n",
       "      <td>6252</td>\n",
       "      <td>6252</td>\n",
       "      <td>6252</td>\n",
       "      <td>6252</td>\n",
       "      <td>6252</td>\n",
       "      <td>6252</td>\n",
       "      <td>6252</td>\n",
       "      <td>6252</td>\n",
       "      <td>6252</td>\n",
       "      <td>6252</td>\n",
       "      <td>...</td>\n",
       "      <td>6252</td>\n",
       "      <td>6252</td>\n",
       "      <td>6252</td>\n",
       "      <td>6252</td>\n",
       "      <td>6252</td>\n",
       "      <td>6252</td>\n",
       "      <td>6252</td>\n",
       "      <td>6252</td>\n",
       "      <td>6252</td>\n",
       "      <td>6252</td>\n",
       "    </tr>\n",
       "    <tr>\n",
       "      <th>June</th>\n",
       "      <td>5437</td>\n",
       "      <td>5437</td>\n",
       "      <td>5437</td>\n",
       "      <td>5437</td>\n",
       "      <td>5437</td>\n",
       "      <td>5437</td>\n",
       "      <td>5437</td>\n",
       "      <td>5437</td>\n",
       "      <td>5437</td>\n",
       "      <td>5437</td>\n",
       "      <td>...</td>\n",
       "      <td>5437</td>\n",
       "      <td>5437</td>\n",
       "      <td>5437</td>\n",
       "      <td>5437</td>\n",
       "      <td>5437</td>\n",
       "      <td>5437</td>\n",
       "      <td>5437</td>\n",
       "      <td>5437</td>\n",
       "      <td>5437</td>\n",
       "      <td>5437</td>\n",
       "    </tr>\n",
       "    <tr>\n",
       "      <th>March</th>\n",
       "      <td>4926</td>\n",
       "      <td>4926</td>\n",
       "      <td>4926</td>\n",
       "      <td>4926</td>\n",
       "      <td>4926</td>\n",
       "      <td>4926</td>\n",
       "      <td>4926</td>\n",
       "      <td>4926</td>\n",
       "      <td>4926</td>\n",
       "      <td>4926</td>\n",
       "      <td>...</td>\n",
       "      <td>4926</td>\n",
       "      <td>4926</td>\n",
       "      <td>4926</td>\n",
       "      <td>4926</td>\n",
       "      <td>4926</td>\n",
       "      <td>4926</td>\n",
       "      <td>4926</td>\n",
       "      <td>4926</td>\n",
       "      <td>4926</td>\n",
       "      <td>4926</td>\n",
       "    </tr>\n",
       "    <tr>\n",
       "      <th>May</th>\n",
       "      <td>5986</td>\n",
       "      <td>5986</td>\n",
       "      <td>5986</td>\n",
       "      <td>5986</td>\n",
       "      <td>5986</td>\n",
       "      <td>5986</td>\n",
       "      <td>5986</td>\n",
       "      <td>5986</td>\n",
       "      <td>5986</td>\n",
       "      <td>5986</td>\n",
       "      <td>...</td>\n",
       "      <td>5986</td>\n",
       "      <td>5986</td>\n",
       "      <td>5986</td>\n",
       "      <td>5986</td>\n",
       "      <td>5986</td>\n",
       "      <td>5986</td>\n",
       "      <td>5986</td>\n",
       "      <td>5986</td>\n",
       "      <td>5986</td>\n",
       "      <td>5986</td>\n",
       "    </tr>\n",
       "    <tr>\n",
       "      <th>November</th>\n",
       "      <td>3410</td>\n",
       "      <td>3410</td>\n",
       "      <td>3410</td>\n",
       "      <td>3410</td>\n",
       "      <td>3410</td>\n",
       "      <td>3410</td>\n",
       "      <td>3410</td>\n",
       "      <td>3410</td>\n",
       "      <td>3410</td>\n",
       "      <td>3410</td>\n",
       "      <td>...</td>\n",
       "      <td>3410</td>\n",
       "      <td>3410</td>\n",
       "      <td>3410</td>\n",
       "      <td>3410</td>\n",
       "      <td>3410</td>\n",
       "      <td>3410</td>\n",
       "      <td>3410</td>\n",
       "      <td>3410</td>\n",
       "      <td>3410</td>\n",
       "      <td>3410</td>\n",
       "    </tr>\n",
       "    <tr>\n",
       "      <th>October</th>\n",
       "      <td>5608</td>\n",
       "      <td>5608</td>\n",
       "      <td>5608</td>\n",
       "      <td>5608</td>\n",
       "      <td>5608</td>\n",
       "      <td>5608</td>\n",
       "      <td>5608</td>\n",
       "      <td>5608</td>\n",
       "      <td>5608</td>\n",
       "      <td>5608</td>\n",
       "      <td>...</td>\n",
       "      <td>5608</td>\n",
       "      <td>5608</td>\n",
       "      <td>5608</td>\n",
       "      <td>5608</td>\n",
       "      <td>5608</td>\n",
       "      <td>5608</td>\n",
       "      <td>5608</td>\n",
       "      <td>5608</td>\n",
       "      <td>5608</td>\n",
       "      <td>5608</td>\n",
       "    </tr>\n",
       "    <tr>\n",
       "      <th>September</th>\n",
       "      <td>5220</td>\n",
       "      <td>5220</td>\n",
       "      <td>5220</td>\n",
       "      <td>5220</td>\n",
       "      <td>5220</td>\n",
       "      <td>5220</td>\n",
       "      <td>5220</td>\n",
       "      <td>5220</td>\n",
       "      <td>5220</td>\n",
       "      <td>5220</td>\n",
       "      <td>...</td>\n",
       "      <td>5220</td>\n",
       "      <td>5220</td>\n",
       "      <td>5220</td>\n",
       "      <td>5220</td>\n",
       "      <td>5220</td>\n",
       "      <td>5220</td>\n",
       "      <td>5220</td>\n",
       "      <td>5220</td>\n",
       "      <td>5220</td>\n",
       "      <td>5220</td>\n",
       "    </tr>\n",
       "  </tbody>\n",
       "</table>\n",
       "<p>12 rows × 31 columns</p>\n",
       "</div>"
      ],
      "text/plain": [
       "                    hotel  lead_time  arrival_date_year  \\\n",
       "arrival_date_month                                        \n",
       "April                5554       5554               5554   \n",
       "August               6922       6922               6922   \n",
       "December             3405       3405               3405   \n",
       "February             4039       4039               4039   \n",
       "January              2936       2936               2936   \n",
       "July                 6252       6252               6252   \n",
       "June                 5437       5437               5437   \n",
       "March                4926       4926               4926   \n",
       "May                  5986       5986               5986   \n",
       "November             3410       3410               3410   \n",
       "October              5608       5608               5608   \n",
       "September            5220       5220               5220   \n",
       "\n",
       "                    arrival_date_week_number  arrival_date_day_of_month  \\\n",
       "arrival_date_month                                                        \n",
       "April                                   5554                       5554   \n",
       "August                                  6922                       6922   \n",
       "December                                3405                       3405   \n",
       "February                                4039                       4039   \n",
       "January                                 2936                       2936   \n",
       "July                                    6252                       6252   \n",
       "June                                    5437                       5437   \n",
       "March                                   4926                       4926   \n",
       "May                                     5986                       5986   \n",
       "November                                3410                       3410   \n",
       "October                                 5608                       5608   \n",
       "September                               5220                       5220   \n",
       "\n",
       "                    stays_in_weekend_nights  stays_in_week_nights  adults  \\\n",
       "arrival_date_month                                                          \n",
       "April                                  5554                  5554    5554   \n",
       "August                                 6922                  6922    6922   \n",
       "December                               3405                  3405    3405   \n",
       "February                               4039                  4039    4039   \n",
       "January                                2936                  2936    2936   \n",
       "July                                   6252                  6252    6252   \n",
       "June                                   5437                  5437    5437   \n",
       "March                                  4926                  4926    4926   \n",
       "May                                    5986                  5986    5986   \n",
       "November                               3410                  3410    3410   \n",
       "October                                5608                  5608    5608   \n",
       "September                              5220                  5220    5220   \n",
       "\n",
       "                    children  babies  ...  agent  company  \\\n",
       "arrival_date_month                    ...                   \n",
       "April                   5554    5554  ...   5554     5554   \n",
       "August                  6922    6922  ...   6922     6922   \n",
       "December                3405    3405  ...   3405     3405   \n",
       "February                4039    4039  ...   4039     4039   \n",
       "January                 2936    2936  ...   2936     2936   \n",
       "July                    6252    6252  ...   6252     6252   \n",
       "June                    5437    5437  ...   5437     5437   \n",
       "March                   4926    4926  ...   4926     4926   \n",
       "May                     5986    5986  ...   5986     5986   \n",
       "November                3410    3410  ...   3410     3410   \n",
       "October                 5608    5608  ...   5608     5608   \n",
       "September               5220    5220  ...   5220     5220   \n",
       "\n",
       "                    days_in_waiting_list  customer_type   adr  \\\n",
       "arrival_date_month                                              \n",
       "April                               5554           5554  5554   \n",
       "August                              6922           6922  6922   \n",
       "December                            3405           3405  3405   \n",
       "February                            4039           4039  4039   \n",
       "January                             2936           2936  2936   \n",
       "July                                6252           6252  6252   \n",
       "June                                5437           5437  5437   \n",
       "March                               4926           4926  4926   \n",
       "May                                 5986           5986  5986   \n",
       "November                            3410           3410  3410   \n",
       "October                             5608           5608  5608   \n",
       "September                           5220           5220  5220   \n",
       "\n",
       "                    required_car_parking_spaces  total_of_special_requests  \\\n",
       "arrival_date_month                                                           \n",
       "April                                      5554                       5554   \n",
       "August                                     6922                       6922   \n",
       "December                                   3405                       3405   \n",
       "February                                   4039                       4039   \n",
       "January                                    2936                       2936   \n",
       "July                                       6252                       6252   \n",
       "June                                       5437                       5437   \n",
       "March                                      4926                       4926   \n",
       "May                                        5986                       5986   \n",
       "November                                   3410                       3410   \n",
       "October                                    5608                       5608   \n",
       "September                                  5220                       5220   \n",
       "\n",
       "                    reservation_status  reservation_status_date  is_canceled  \n",
       "arrival_date_month                                                            \n",
       "April                             5554                     5554         5554  \n",
       "August                            6922                     6922         6922  \n",
       "December                          3405                     3405         3405  \n",
       "February                          4039                     4039         4039  \n",
       "January                           2936                     2936         2936  \n",
       "July                              6252                     6252         6252  \n",
       "June                              5437                     5437         5437  \n",
       "March                             4926                     4926         4926  \n",
       "May                               5986                     5986         5986  \n",
       "November                          3410                     3410         3410  \n",
       "October                           5608                     5608         5608  \n",
       "September                         5220                     5220         5220  \n",
       "\n",
       "[12 rows x 31 columns]"
      ]
     },
     "execution_count": 5,
     "metadata": {},
     "output_type": "execute_result"
    }
   ],
   "source": [
    "data.groupby('arrival_date_month').count() #variable categórica   "
   ]
  },
  {
   "cell_type": "code",
   "execution_count": 6,
   "metadata": {},
   "outputs": [],
   "source": [
    "data=data.replace({ \"January\": 1, \"February\": 2, \"March\": 3, \"April\": 4,\n",
    "              \"May\": 5, \"June\": 6, \"July\": 7, \"August\": 8, \"September\": 9, \"October\": 10, \"November\": 11, \"December\": 12})\n",
    "data=data.replace({ \"BB\": 1, \"FB\": 2, \"HB\": 3, \"SC\": 4,\"Undefined\": 5})\n",
    "data=data.replace({ 5: 1, \"Aviation\": 2, \"Complementary\": 3, \"Corporate\": 4,\"Direct\": 5,\"Groups\": 6,\"Offline TA/TO\": 7,\"Online TA\": 8})\n",
    "data=data.replace({ 4: 1, 5: 2, \"GDS\": 3, \"TA/TO\": 4})\n",
    "#data.groupby('assigned_room_type').count() #variable categórica \n",
    "data=data.replace({ \"I\": 11, \"K\": 12})"
   ]
  },
  {
   "cell_type": "code",
   "execution_count": 7,
   "metadata": {},
   "outputs": [],
   "source": [
    "data=data.replace({ \"No Deposit\": 1, \"Non Refund\": 2, \"Refundable\": 3})"
   ]
  },
  {
   "cell_type": "code",
   "execution_count": 8,
   "metadata": {},
   "outputs": [
    {
     "data": {
      "text/html": [
       "<div>\n",
       "<style scoped>\n",
       "    .dataframe tbody tr th:only-of-type {\n",
       "        vertical-align: middle;\n",
       "    }\n",
       "\n",
       "    .dataframe tbody tr th {\n",
       "        vertical-align: top;\n",
       "    }\n",
       "\n",
       "    .dataframe thead th {\n",
       "        text-align: right;\n",
       "    }\n",
       "</style>\n",
       "<table border=\"1\" class=\"dataframe\">\n",
       "  <thead>\n",
       "    <tr style=\"text-align: right;\">\n",
       "      <th></th>\n",
       "      <th>hotel</th>\n",
       "      <th>lead_time</th>\n",
       "      <th>arrival_date_year</th>\n",
       "      <th>arrival_date_month</th>\n",
       "      <th>arrival_date_week_number</th>\n",
       "      <th>arrival_date_day_of_month</th>\n",
       "      <th>stays_in_weekend_nights</th>\n",
       "      <th>stays_in_week_nights</th>\n",
       "      <th>adults</th>\n",
       "      <th>children</th>\n",
       "      <th>...</th>\n",
       "      <th>agent</th>\n",
       "      <th>company</th>\n",
       "      <th>days_in_waiting_list</th>\n",
       "      <th>customer_type</th>\n",
       "      <th>adr</th>\n",
       "      <th>required_car_parking_spaces</th>\n",
       "      <th>total_of_special_requests</th>\n",
       "      <th>reservation_status</th>\n",
       "      <th>reservation_status_date</th>\n",
       "      <th>is_canceled</th>\n",
       "    </tr>\n",
       "    <tr>\n",
       "      <th>deposit_type</th>\n",
       "      <th></th>\n",
       "      <th></th>\n",
       "      <th></th>\n",
       "      <th></th>\n",
       "      <th></th>\n",
       "      <th></th>\n",
       "      <th></th>\n",
       "      <th></th>\n",
       "      <th></th>\n",
       "      <th></th>\n",
       "      <th></th>\n",
       "      <th></th>\n",
       "      <th></th>\n",
       "      <th></th>\n",
       "      <th></th>\n",
       "      <th></th>\n",
       "      <th></th>\n",
       "      <th></th>\n",
       "      <th></th>\n",
       "      <th></th>\n",
       "      <th></th>\n",
       "    </tr>\n",
       "  </thead>\n",
       "  <tbody>\n",
       "    <tr>\n",
       "      <th>1</th>\n",
       "      <td>52363</td>\n",
       "      <td>52363</td>\n",
       "      <td>52363</td>\n",
       "      <td>52363</td>\n",
       "      <td>52363</td>\n",
       "      <td>52363</td>\n",
       "      <td>52363</td>\n",
       "      <td>52363</td>\n",
       "      <td>52363</td>\n",
       "      <td>52363</td>\n",
       "      <td>...</td>\n",
       "      <td>52363</td>\n",
       "      <td>52363</td>\n",
       "      <td>52363</td>\n",
       "      <td>52363</td>\n",
       "      <td>52363</td>\n",
       "      <td>52363</td>\n",
       "      <td>52363</td>\n",
       "      <td>52363</td>\n",
       "      <td>52363</td>\n",
       "      <td>52363</td>\n",
       "    </tr>\n",
       "    <tr>\n",
       "      <th>2</th>\n",
       "      <td>7240</td>\n",
       "      <td>7240</td>\n",
       "      <td>7240</td>\n",
       "      <td>7240</td>\n",
       "      <td>7240</td>\n",
       "      <td>7240</td>\n",
       "      <td>7240</td>\n",
       "      <td>7240</td>\n",
       "      <td>7240</td>\n",
       "      <td>7240</td>\n",
       "      <td>...</td>\n",
       "      <td>7240</td>\n",
       "      <td>7240</td>\n",
       "      <td>7240</td>\n",
       "      <td>7240</td>\n",
       "      <td>7240</td>\n",
       "      <td>7240</td>\n",
       "      <td>7240</td>\n",
       "      <td>7240</td>\n",
       "      <td>7240</td>\n",
       "      <td>7240</td>\n",
       "    </tr>\n",
       "    <tr>\n",
       "      <th>3</th>\n",
       "      <td>92</td>\n",
       "      <td>92</td>\n",
       "      <td>92</td>\n",
       "      <td>92</td>\n",
       "      <td>92</td>\n",
       "      <td>92</td>\n",
       "      <td>92</td>\n",
       "      <td>92</td>\n",
       "      <td>92</td>\n",
       "      <td>92</td>\n",
       "      <td>...</td>\n",
       "      <td>92</td>\n",
       "      <td>92</td>\n",
       "      <td>92</td>\n",
       "      <td>92</td>\n",
       "      <td>92</td>\n",
       "      <td>92</td>\n",
       "      <td>92</td>\n",
       "      <td>92</td>\n",
       "      <td>92</td>\n",
       "      <td>92</td>\n",
       "    </tr>\n",
       "  </tbody>\n",
       "</table>\n",
       "<p>3 rows × 31 columns</p>\n",
       "</div>"
      ],
      "text/plain": [
       "              hotel  lead_time  arrival_date_year  arrival_date_month  \\\n",
       "deposit_type                                                            \n",
       "1             52363      52363              52363               52363   \n",
       "2              7240       7240               7240                7240   \n",
       "3                92         92                 92                  92   \n",
       "\n",
       "              arrival_date_week_number  arrival_date_day_of_month  \\\n",
       "deposit_type                                                        \n",
       "1                                52363                      52363   \n",
       "2                                 7240                       7240   \n",
       "3                                   92                         92   \n",
       "\n",
       "              stays_in_weekend_nights  stays_in_week_nights  adults  children  \\\n",
       "deposit_type                                                                    \n",
       "1                               52363                 52363   52363     52363   \n",
       "2                                7240                  7240    7240      7240   \n",
       "3                                  92                    92      92        92   \n",
       "\n",
       "              ...  agent  company  days_in_waiting_list  customer_type    adr  \\\n",
       "deposit_type  ...                                                               \n",
       "1             ...  52363    52363                 52363          52363  52363   \n",
       "2             ...   7240     7240                  7240           7240   7240   \n",
       "3             ...     92       92                    92             92     92   \n",
       "\n",
       "              required_car_parking_spaces  total_of_special_requests  \\\n",
       "deposit_type                                                           \n",
       "1                                   52363                      52363   \n",
       "2                                    7240                       7240   \n",
       "3                                      92                         92   \n",
       "\n",
       "              reservation_status  reservation_status_date  is_canceled  \n",
       "deposit_type                                                            \n",
       "1                          52363                    52363        52363  \n",
       "2                           7240                     7240         7240  \n",
       "3                             92                       92           92  \n",
       "\n",
       "[3 rows x 31 columns]"
      ]
     },
     "execution_count": 8,
     "metadata": {},
     "output_type": "execute_result"
    }
   ],
   "source": [
    "data.groupby('deposit_type').count() #variable categórica   "
   ]
  },
  {
   "cell_type": "code",
   "execution_count": 9,
   "metadata": {},
   "outputs": [],
   "source": [
    "data=data.replace({ \"Contract\": 1, \"Group\": 2, \"Transient\": 3, \"Transient-Party\": 4})\n",
    "data=data.replace({ \"Canceled\": 1, \"Check-Out\": 2, \"No-Show\": 3})\n",
    "data=data.replace({ \"City Hotel\": 1, \"Resort Hotel\": 2})\n",
    "#data.groupby('reserved_room_type').count() #variable categórica \n",
    "data=data.replace({ \"A\": 1, \"B\": 2, \"C\": 3, \"D\": 4, \"E\": 5, \"F\": 6, \"G\": 7, \"H\": 8, \"L\": 9, \"P\": 10})"
   ]
  },
  {
   "cell_type": "code",
   "execution_count": 10,
   "metadata": {},
   "outputs": [
    {
     "data": {
      "text/html": [
       "<div>\n",
       "<style scoped>\n",
       "    .dataframe tbody tr th:only-of-type {\n",
       "        vertical-align: middle;\n",
       "    }\n",
       "\n",
       "    .dataframe tbody tr th {\n",
       "        vertical-align: top;\n",
       "    }\n",
       "\n",
       "    .dataframe thead th {\n",
       "        text-align: right;\n",
       "    }\n",
       "</style>\n",
       "<table border=\"1\" class=\"dataframe\">\n",
       "  <thead>\n",
       "    <tr style=\"text-align: right;\">\n",
       "      <th></th>\n",
       "      <th>lead_time</th>\n",
       "      <th>arrival_date_year</th>\n",
       "      <th>arrival_date_month</th>\n",
       "      <th>arrival_date_week_number</th>\n",
       "      <th>arrival_date_day_of_month</th>\n",
       "      <th>stays_in_weekend_nights</th>\n",
       "      <th>stays_in_week_nights</th>\n",
       "      <th>adults</th>\n",
       "      <th>children</th>\n",
       "      <th>babies</th>\n",
       "      <th>...</th>\n",
       "      <th>agent</th>\n",
       "      <th>company</th>\n",
       "      <th>days_in_waiting_list</th>\n",
       "      <th>customer_type</th>\n",
       "      <th>adr</th>\n",
       "      <th>required_car_parking_spaces</th>\n",
       "      <th>total_of_special_requests</th>\n",
       "      <th>reservation_status</th>\n",
       "      <th>reservation_status_date</th>\n",
       "      <th>is_canceled</th>\n",
       "    </tr>\n",
       "    <tr>\n",
       "      <th>hotel</th>\n",
       "      <th></th>\n",
       "      <th></th>\n",
       "      <th></th>\n",
       "      <th></th>\n",
       "      <th></th>\n",
       "      <th></th>\n",
       "      <th></th>\n",
       "      <th></th>\n",
       "      <th></th>\n",
       "      <th></th>\n",
       "      <th></th>\n",
       "      <th></th>\n",
       "      <th></th>\n",
       "      <th></th>\n",
       "      <th></th>\n",
       "      <th></th>\n",
       "      <th></th>\n",
       "      <th></th>\n",
       "      <th></th>\n",
       "      <th></th>\n",
       "      <th></th>\n",
       "    </tr>\n",
       "  </thead>\n",
       "  <tbody>\n",
       "    <tr>\n",
       "      <th>1</th>\n",
       "      <td>39679</td>\n",
       "      <td>39679</td>\n",
       "      <td>39679</td>\n",
       "      <td>39679</td>\n",
       "      <td>39679</td>\n",
       "      <td>39679</td>\n",
       "      <td>39679</td>\n",
       "      <td>39679</td>\n",
       "      <td>39679</td>\n",
       "      <td>39679</td>\n",
       "      <td>...</td>\n",
       "      <td>39679</td>\n",
       "      <td>39679</td>\n",
       "      <td>39679</td>\n",
       "      <td>39679</td>\n",
       "      <td>39679</td>\n",
       "      <td>39679</td>\n",
       "      <td>39679</td>\n",
       "      <td>39679</td>\n",
       "      <td>39679</td>\n",
       "      <td>39679</td>\n",
       "    </tr>\n",
       "    <tr>\n",
       "      <th>2</th>\n",
       "      <td>20016</td>\n",
       "      <td>20016</td>\n",
       "      <td>20016</td>\n",
       "      <td>20016</td>\n",
       "      <td>20016</td>\n",
       "      <td>20016</td>\n",
       "      <td>20016</td>\n",
       "      <td>20016</td>\n",
       "      <td>20016</td>\n",
       "      <td>20016</td>\n",
       "      <td>...</td>\n",
       "      <td>20016</td>\n",
       "      <td>20016</td>\n",
       "      <td>20016</td>\n",
       "      <td>20016</td>\n",
       "      <td>20016</td>\n",
       "      <td>20016</td>\n",
       "      <td>20016</td>\n",
       "      <td>20016</td>\n",
       "      <td>20016</td>\n",
       "      <td>20016</td>\n",
       "    </tr>\n",
       "  </tbody>\n",
       "</table>\n",
       "<p>2 rows × 31 columns</p>\n",
       "</div>"
      ],
      "text/plain": [
       "       lead_time  arrival_date_year  arrival_date_month  \\\n",
       "hotel                                                     \n",
       "1          39679              39679               39679   \n",
       "2          20016              20016               20016   \n",
       "\n",
       "       arrival_date_week_number  arrival_date_day_of_month  \\\n",
       "hotel                                                        \n",
       "1                         39679                      39679   \n",
       "2                         20016                      20016   \n",
       "\n",
       "       stays_in_weekend_nights  stays_in_week_nights  adults  children  \\\n",
       "hotel                                                                    \n",
       "1                        39679                 39679   39679     39679   \n",
       "2                        20016                 20016   20016     20016   \n",
       "\n",
       "       babies  ...  agent  company  days_in_waiting_list  customer_type  \\\n",
       "hotel          ...                                                        \n",
       "1       39679  ...  39679    39679                 39679          39679   \n",
       "2       20016  ...  20016    20016                 20016          20016   \n",
       "\n",
       "         adr  required_car_parking_spaces  total_of_special_requests  \\\n",
       "hotel                                                                  \n",
       "1      39679                        39679                      39679   \n",
       "2      20016                        20016                      20016   \n",
       "\n",
       "       reservation_status  reservation_status_date  is_canceled  \n",
       "hotel                                                            \n",
       "1                   39679                    39679        39679  \n",
       "2                   20016                    20016        20016  \n",
       "\n",
       "[2 rows x 31 columns]"
      ]
     },
     "execution_count": 10,
     "metadata": {},
     "output_type": "execute_result"
    }
   ],
   "source": [
    "data.groupby('hotel').count() #variable categórica   "
   ]
  },
  {
   "cell_type": "code",
   "execution_count": 11,
   "metadata": {},
   "outputs": [],
   "source": [
    "data=data.drop(['reservation_status_date'], axis=1) # no importante para el análisis"
   ]
  },
  {
   "cell_type": "code",
   "execution_count": 12,
   "metadata": {},
   "outputs": [
    {
     "name": "stdout",
     "output_type": "stream",
     "text": [
      "<class 'pandas.core.frame.DataFrame'>\n",
      "RangeIndex: 59695 entries, 0 to 59694\n",
      "Data columns (total 31 columns):\n",
      " #   Column                          Non-Null Count  Dtype  \n",
      "---  ------                          --------------  -----  \n",
      " 0   hotel                           59695 non-null  int64  \n",
      " 1   lead_time                       59695 non-null  int64  \n",
      " 2   arrival_date_year               59695 non-null  int64  \n",
      " 3   arrival_date_month              59695 non-null  int64  \n",
      " 4   arrival_date_week_number        59695 non-null  int64  \n",
      " 5   arrival_date_day_of_month       59695 non-null  int64  \n",
      " 6   stays_in_weekend_nights         59695 non-null  int64  \n",
      " 7   stays_in_week_nights            59695 non-null  int64  \n",
      " 8   adults                          59695 non-null  int64  \n",
      " 9   children                        59695 non-null  float64\n",
      " 10  babies                          59695 non-null  int64  \n",
      " 11  meal                            59695 non-null  int64  \n",
      " 12  country                         59695 non-null  object \n",
      " 13  market_segment                  59695 non-null  int64  \n",
      " 14  distribution_channel            59695 non-null  int64  \n",
      " 15  is_repeated_guest               59695 non-null  int64  \n",
      " 16  previous_cancellations          59695 non-null  int64  \n",
      " 17  previous_bookings_not_canceled  59695 non-null  int64  \n",
      " 18  reserved_room_type              59695 non-null  int64  \n",
      " 19  assigned_room_type              59695 non-null  int64  \n",
      " 20  booking_changes                 59695 non-null  int64  \n",
      " 21  deposit_type                    59695 non-null  int64  \n",
      " 22  agent                           59695 non-null  float64\n",
      " 23  company                         59695 non-null  float64\n",
      " 24  days_in_waiting_list            59695 non-null  int64  \n",
      " 25  customer_type                   59695 non-null  int64  \n",
      " 26  adr                             59695 non-null  float64\n",
      " 27  required_car_parking_spaces     59695 non-null  int64  \n",
      " 28  total_of_special_requests       59695 non-null  int64  \n",
      " 29  reservation_status              59695 non-null  int64  \n",
      " 30  is_canceled                     59695 non-null  int64  \n",
      "dtypes: float64(4), int64(26), object(1)\n",
      "memory usage: 14.1+ MB\n"
     ]
    }
   ],
   "source": [
    "data.info()"
   ]
  },
  {
   "cell_type": "code",
   "execution_count": 13,
   "metadata": {},
   "outputs": [
    {
     "data": {
      "text/plain": [
       "(59695, 31)"
      ]
     },
     "execution_count": 13,
     "metadata": {},
     "output_type": "execute_result"
    }
   ],
   "source": [
    "data.shape"
   ]
  },
  {
   "cell_type": "code",
   "execution_count": 14,
   "metadata": {},
   "outputs": [],
   "source": [
    "countrys=pd.get_dummies(data[\"country\"]) # aplicamos get dummies en la columna country\n",
    "#countrys"
   ]
  },
  {
   "cell_type": "code",
   "execution_count": 15,
   "metadata": {},
   "outputs": [
    {
     "data": {
      "text/plain": [
       "(59695, 158)"
      ]
     },
     "execution_count": 15,
     "metadata": {},
     "output_type": "execute_result"
    }
   ],
   "source": [
    "countrys= countrys.astype('float64')\n",
    "countrys.shape"
   ]
  },
  {
   "cell_type": "code",
   "execution_count": 16,
   "metadata": {},
   "outputs": [],
   "source": [
    "data=data.drop(['country'], axis=1)\n",
    "#data=data.append(countrys)  # YA NO AGREGAMOS PORQUE EN LA DATA DE TRAIN TIENE 158 PAÍSES, MIENTRAS QUE EN LA DE TEST TIENE 156"
   ]
  },
  {
   "cell_type": "code",
   "execution_count": null,
   "metadata": {},
   "outputs": [],
   "source": []
  },
  {
   "cell_type": "code",
   "execution_count": null,
   "metadata": {},
   "outputs": [],
   "source": []
  },
  {
   "cell_type": "code",
   "execution_count": 17,
   "metadata": {},
   "outputs": [],
   "source": [
    "data=data.drop(['children'], axis=1) #Número de niños\n",
    "data=data.drop(['babies'], axis=1) #Número de babys\n",
    "data=data.drop(['booking_changes'], axis=1) #Número de cambios / modificaciones realizados en la reserva desde el momento en que la reserva se ingresó en la base de datos hasta el momento del check-in o cancelación\n",
    "data=data.drop(['arrival_date_week_number'], axis=1) #Número de semana del año para la fecha de llegada\n",
    "data=data.drop(['distribution_channel'], axis=1) #Canal de distribución de reservas. El término \"TA\" significa \"Agentes de viajes\" y \"TO\" significa \"Operadores turísticos\""
   ]
  },
  {
   "cell_type": "code",
   "execution_count": 18,
   "metadata": {},
   "outputs": [],
   "source": [
    "data.fillna(0, inplace = True)"
   ]
  },
  {
   "cell_type": "code",
   "execution_count": 19,
   "metadata": {},
   "outputs": [
    {
     "data": {
      "text/plain": [
       "hotel                               int64\n",
       "lead_time                           int64\n",
       "arrival_date_year                   int64\n",
       "arrival_date_month                  int64\n",
       "arrival_date_day_of_month           int64\n",
       "stays_in_weekend_nights             int64\n",
       "stays_in_week_nights                int64\n",
       "adults                              int64\n",
       "meal                                int64\n",
       "market_segment                      int64\n",
       "is_repeated_guest                   int64\n",
       "previous_cancellations              int64\n",
       "previous_bookings_not_canceled      int64\n",
       "reserved_room_type                  int64\n",
       "assigned_room_type                  int64\n",
       "deposit_type                        int64\n",
       "agent                             float64\n",
       "company                           float64\n",
       "days_in_waiting_list                int64\n",
       "customer_type                       int64\n",
       "adr                               float64\n",
       "required_car_parking_spaces         int64\n",
       "total_of_special_requests           int64\n",
       "reservation_status                  int64\n",
       "is_canceled                         int64\n",
       "dtype: object"
      ]
     },
     "execution_count": 19,
     "metadata": {},
     "output_type": "execute_result"
    }
   ],
   "source": [
    "dataTempBackup=data\n",
    "data.dtypes"
   ]
  },
  {
   "cell_type": "code",
   "execution_count": 20,
   "metadata": {},
   "outputs": [
    {
     "data": {
      "text/plain": [
       "(59695, 25)"
      ]
     },
     "execution_count": 20,
     "metadata": {},
     "output_type": "execute_result"
    }
   ],
   "source": [
    "data.shape"
   ]
  },
  {
   "cell_type": "code",
   "execution_count": 21,
   "metadata": {},
   "outputs": [],
   "source": [
    "from sklearn.model_selection import train_test_split\n",
    "X_train, X_test, y_train, y_test = train_test_split(data.drop('is_canceled',axis=1), \n",
    "                                                    data['is_canceled'], test_size=0.30, \n",
    "                                                    random_state=101)"
   ]
  },
  {
   "cell_type": "code",
   "execution_count": 22,
   "metadata": {},
   "outputs": [
    {
     "name": "stderr",
     "output_type": "stream",
     "text": [
      "C:\\Users\\Paul\\anaconda3\\lib\\site-packages\\sklearn\\linear_model\\_logistic.py:940: ConvergenceWarning: lbfgs failed to converge (status=1):\n",
      "STOP: TOTAL NO. of ITERATIONS REACHED LIMIT.\n",
      "\n",
      "Increase the number of iterations (max_iter) or scale the data as shown in:\n",
      "    https://scikit-learn.org/stable/modules/preprocessing.html\n",
      "Please also refer to the documentation for alternative solver options:\n",
      "    https://scikit-learn.org/stable/modules/linear_model.html#logistic-regression\n",
      "  extra_warning_msg=_LOGISTIC_SOLVER_CONVERGENCE_MSG)\n"
     ]
    }
   ],
   "source": [
    "from sklearn.linear_model import LogisticRegression\n",
    "logmodel = LogisticRegression()\n",
    "logmodel.fit(X_train,y_train)\n",
    "predictions = logmodel.predict(X_test)"
   ]
  },
  {
   "cell_type": "code",
   "execution_count": 23,
   "metadata": {},
   "outputs": [
    {
     "name": "stdout",
     "output_type": "stream",
     "text": [
      "              precision    recall  f1-score   support\n",
      "\n",
      "           0       0.79      0.85      0.82     11305\n",
      "           1       0.71      0.62      0.66      6604\n",
      "\n",
      "    accuracy                           0.76     17909\n",
      "   macro avg       0.75      0.73      0.74     17909\n",
      "weighted avg       0.76      0.76      0.76     17909\n",
      "\n"
     ]
    }
   ],
   "source": [
    "from sklearn.metrics import classification_report\n",
    "print(classification_report(y_test,predictions))"
   ]
  },
  {
   "cell_type": "code",
   "execution_count": 24,
   "metadata": {},
   "outputs": [],
   "source": [
    "# Función para guardar sus predicciones en un archivo .csv\n",
    "# siguiendo el formato requerido para subirlo a Kaggle\n",
    "def save_submission_file(model, X_test, filename=\"submission.csv\"):\n",
    "  submission_df = {\"id\": X_test.index,\n",
    "                   \"is_canceled\": model.predict(X_test)}\n",
    "  submission = pd.DataFrame(submission_df)\n",
    "  submission.to_csv(filename,index=False)\n",
    "\n",
    "# TODO: Haga uso de la función anterior para generar su archivo de predicciones\n",
    "# y subalos a Kaggle  "
   ]
  },
  {
   "cell_type": "code",
   "execution_count": 25,
   "metadata": {},
   "outputs": [],
   "source": [
    "save_submission_file(logmodel, X_test, filename=\"submission.csv\")"
   ]
  },
  {
   "cell_type": "code",
   "execution_count": 168,
   "metadata": {},
   "outputs": [
    {
     "data": {
      "text/plain": [
       "(17909, 29)"
      ]
     },
     "execution_count": 168,
     "metadata": {},
     "output_type": "execute_result"
    }
   ],
   "source": [
    "X_test.shape"
   ]
  },
  {
   "cell_type": "code",
   "execution_count": 50,
   "metadata": {},
   "outputs": [
    {
     "data": {
      "text/plain": [
       "KNeighborsClassifier(algorithm='auto', leaf_size=30, metric='minkowski',\n",
       "                     metric_params=None, n_jobs=None, n_neighbors=3, p=2,\n",
       "                     weights='uniform')"
      ]
     },
     "execution_count": 50,
     "metadata": {},
     "output_type": "execute_result"
    }
   ],
   "source": [
    "from sklearn.neighbors import KNeighborsClassifier\n",
    "# Create KNN classifier\n",
    "knn = KNeighborsClassifier(n_neighbors = 3)\n",
    "# Fit the classifier to the data\n",
    "knn.fit(X_train,y_train)"
   ]
  },
  {
   "cell_type": "code",
   "execution_count": 51,
   "metadata": {},
   "outputs": [
    {
     "data": {
      "text/plain": [
       "array([0, 1, 0, 0, 0], dtype=int64)"
      ]
     },
     "execution_count": 51,
     "metadata": {},
     "output_type": "execute_result"
    }
   ],
   "source": [
    "#show first 5 model predictions on the test data\n",
    "knn.predict(X_test)[0:5]"
   ]
  },
  {
   "cell_type": "code",
   "execution_count": 52,
   "metadata": {},
   "outputs": [
    {
     "data": {
      "text/plain": [
       "0.7722374225249874"
      ]
     },
     "execution_count": 52,
     "metadata": {},
     "output_type": "execute_result"
    }
   ],
   "source": [
    "knn.score(X_test, y_test)"
   ]
  },
  {
   "cell_type": "code",
   "execution_count": 53,
   "metadata": {},
   "outputs": [],
   "source": [
    "#knn.score(X_test_, y_test_)"
   ]
  },
  {
   "cell_type": "code",
   "execution_count": 54,
   "metadata": {},
   "outputs": [
    {
     "name": "stderr",
     "output_type": "stream",
     "text": [
      "C:\\Users\\Paul\\anaconda3\\lib\\site-packages\\sklearn\\externals\\six.py:31: FutureWarning: The module is deprecated in version 0.21 and will be removed in version 0.23 since we've dropped support for Python 2.7. Please rely on the official version of six (https://pypi.org/project/six/).\n",
      "  \"(https://pypi.org/project/six/).\", FutureWarning)\n"
     ]
    }
   ],
   "source": [
    "from sklearn.datasets import load_iris\n",
    "from sklearn.tree import DecisionTreeClassifier\n",
    "from sklearn.model_selection import train_test_split\n",
    "from sklearn.metrics import confusion_matrix\n",
    "from sklearn.tree import export_graphviz\n",
    "from sklearn.externals.six import StringIO \n",
    "from IPython.display import Image \n",
    "#from pydot import graph_from_dot_data\n",
    "import pandas as pd\n",
    "import numpy as np"
   ]
  },
  {
   "cell_type": "code",
   "execution_count": 56,
   "metadata": {},
   "outputs": [
    {
     "data": {
      "text/plain": [
       "DecisionTreeClassifier(ccp_alpha=0.0, class_weight=None, criterion='gini',\n",
       "                       max_depth=None, max_features=None, max_leaf_nodes=None,\n",
       "                       min_impurity_decrease=0.0, min_impurity_split=None,\n",
       "                       min_samples_leaf=1, min_samples_split=2,\n",
       "                       min_weight_fraction_leaf=0.0, presort='deprecated',\n",
       "                       random_state=None, splitter='best')"
      ]
     },
     "execution_count": 56,
     "metadata": {},
     "output_type": "execute_result"
    }
   ],
   "source": [
    "dt = DecisionTreeClassifier()\n",
    "dt.fit(X_train, y_train)"
   ]
  },
  {
   "cell_type": "code",
   "execution_count": 57,
   "metadata": {},
   "outputs": [],
   "source": [
    "y_pred = dt.predict(X_test)"
   ]
  },
  {
   "cell_type": "code",
   "execution_count": 58,
   "metadata": {},
   "outputs": [
    {
     "data": {
      "text/plain": [
       "array([0, 1, 0, ..., 1, 0, 0], dtype=int64)"
      ]
     },
     "execution_count": 58,
     "metadata": {},
     "output_type": "execute_result"
    }
   ],
   "source": [
    "y_pred"
   ]
  },
  {
   "cell_type": "code",
   "execution_count": 59,
   "metadata": {},
   "outputs": [
    {
     "data": {
      "text/plain": [
       "array([[11305,     0],\n",
       "       [    0,  6604]], dtype=int64)"
      ]
     },
     "execution_count": 59,
     "metadata": {},
     "output_type": "execute_result"
    }
   ],
   "source": [
    "\n",
    "confusion_matrix(y_test, y_pred)"
   ]
  },
  {
   "cell_type": "code",
   "execution_count": 60,
   "metadata": {},
   "outputs": [
    {
     "name": "stdout",
     "output_type": "stream",
     "text": [
      "[0.76465662 0.75792749 0.75613258 0.75134618 0.75900443]\n",
      "cv_scores mean:0.757813458020428\n"
     ]
    }
   ],
   "source": [
    "from sklearn.model_selection import cross_val_score\n",
    "import numpy as np\n",
    "#create a new KNN model\n",
    "knn_cv = KNeighborsClassifier(n_neighbors=3)\n",
    "#train model with cv of 5 \n",
    "cv_scores = cross_val_score(knn_cv, X_train, y_train, cv=5)\n",
    "#print each cv score (accuracy) and average them\n",
    "print(cv_scores)\n",
    "print(\"cv_scores mean:{}\".format(np.mean(cv_scores)))"
   ]
  },
  {
   "cell_type": "code",
   "execution_count": 61,
   "metadata": {},
   "outputs": [
    {
     "ename": "SyntaxError",
     "evalue": "invalid syntax (<ipython-input-61-337b62de7ab8>, line 1)",
     "output_type": "error",
     "traceback": [
      "\u001b[1;36m  File \u001b[1;32m\"<ipython-input-61-337b62de7ab8>\"\u001b[1;36m, line \u001b[1;32m1\u001b[0m\n\u001b[1;33m    RESULTADOS:\u001b[0m\n\u001b[1;37m               ^\u001b[0m\n\u001b[1;31mSyntaxError\u001b[0m\u001b[1;31m:\u001b[0m invalid syntax\n"
     ]
    }
   ],
   "source": [
    "RESULTADOS:\n",
    "    * LOGISTIC REGRESSION: 0.88\n",
    "    * KNN:0.7714556926684907\n",
    "    * TREE DECISION:0.7572870277414296"
   ]
  },
  {
   "cell_type": "code",
   "execution_count": null,
   "metadata": {},
   "outputs": [],
   "source": []
  },
  {
   "cell_type": "code",
   "execution_count": 87,
   "metadata": {},
   "outputs": [],
   "source": [
    "#######################################################   DATA TEST    ###################################################################################################"
   ]
  },
  {
   "cell_type": "code",
   "execution_count": null,
   "metadata": {},
   "outputs": [],
   "source": []
  },
  {
   "cell_type": "code",
   "execution_count": 26,
   "metadata": {},
   "outputs": [
    {
     "data": {
      "text/plain": [
       "hotel                                 0\n",
       "lead_time                             0\n",
       "arrival_date_year                     0\n",
       "arrival_date_month                    0\n",
       "arrival_date_week_number              0\n",
       "arrival_date_day_of_month             0\n",
       "stays_in_weekend_nights               0\n",
       "stays_in_week_nights                  0\n",
       "adults                                0\n",
       "children                              0\n",
       "babies                                0\n",
       "meal                                  0\n",
       "country                             245\n",
       "market_segment                        0\n",
       "distribution_channel                  0\n",
       "is_repeated_guest                     0\n",
       "previous_cancellations                0\n",
       "previous_bookings_not_canceled        0\n",
       "reserved_room_type                    0\n",
       "assigned_room_type                    0\n",
       "booking_changes                       0\n",
       "deposit_type                          0\n",
       "agent                              8160\n",
       "company                           56303\n",
       "days_in_waiting_list                  0\n",
       "customer_type                         0\n",
       "adr                                   0\n",
       "required_car_parking_spaces           0\n",
       "total_of_special_requests             0\n",
       "reservation_status                    0\n",
       "reservation_status_date               0\n",
       "dtype: int64"
      ]
     },
     "execution_count": 26,
     "metadata": {},
     "output_type": "execute_result"
    }
   ],
   "source": [
    "# TODO: Importar librerías para manipulación, visualización, \n",
    "#       preprocesamiento y modelado de datos\n",
    "import pandas as pd\n",
    "import numpy as np\n",
    "dataTest = pd.read_csv(\"test.csv\")\n",
    "#TODO: Mostrar información de cada característica\n",
    "#data.dtypes\n",
    "# TODO: Revisar si existen valores NaN\n",
    "dataTest.isnull().sum()"
   ]
  },
  {
   "cell_type": "code",
   "execution_count": 27,
   "metadata": {},
   "outputs": [],
   "source": [
    "# TODO: De ser necesario, reemplace los valores NaN de cada característica\n",
    "#REMPLAZAMOS LOS DATOS FALTANTES CON SU PROMEDIO\n",
    "agentProm=dataTest[\"agent\"].mean() \n",
    "compaProm=dataTest[\"company\"].mean()\n",
    "childrenProm=dataTest[\"children\"].mean()\n",
    "dataTest[\"country\"].fillna(\"No Country\", inplace = True)\n",
    "dataTest[\"agent\"].fillna(agentProm, inplace = True)\n",
    "dataTest[\"company\"].fillna(compaProm, inplace = True)\n",
    "dataTest[\"children\"].fillna(childrenProm, inplace = True)"
   ]
  },
  {
   "cell_type": "code",
   "execution_count": 28,
   "metadata": {},
   "outputs": [],
   "source": [
    "dataTest=dataTest.replace({ \"January\": 1, \"February\": 2, \"March\": 3, \"April\": 4,\n",
    "              \"May\": 5, \"June\": 6, \"July\": 7, \"August\": 8, \"September\": 9, \"October\": 10, \"November\": 11, \"December\": 12})\n",
    "dataTest=dataTest.replace({ \"BB\": 1, \"FB\": 2, \"HB\": 3, \"SC\": 4,\"Undefined\": 5})\n",
    "dataTest=dataTest.replace({ 5: 1, \"Aviation\": 2, \"Complementary\": 3, \"Corporate\": 4,\"Direct\": 5,\"Groups\": 6,\"Offline TA/TO\": 7,\"Online TA\": 8})\n",
    "dataTest=dataTest.replace({ 4: 1, 5: 2, \"GDS\": 3, \"TA/TO\": 4})\n",
    "#data.groupby('assigned_room_type').count() #variable categórica \n",
    "dataTest=dataTest.replace({ \"I\": 11, \"K\": 12})\n",
    "dataTest=dataTest.replace({ \"No Deposit\": 1, \"Non Refund\": 2, \"Refundable\": 3})\n",
    "dataTest=dataTest.replace({ \"Contract\": 1, \"Group\": 2, \"Transient\": 3, \"Transient-Party\": 4})\n",
    "dataTest=dataTest.replace({ \"Canceled\": 1, \"Check-Out\": 2, \"No-Show\": 3})\n",
    "dataTest=dataTest.replace({ \"City Hotel\": 1, \"Resort Hotel\": 2})\n",
    "#data.groupby('reserved_room_type').count() #variable categórica \n",
    "dataTest=dataTest.replace({ \"A\": 1, \"B\": 2, \"C\": 3, \"D\": 4, \"E\": 5, \"F\": 6, \"G\": 7, \"H\": 8, \"L\": 9, \"P\": 10})"
   ]
  },
  {
   "cell_type": "code",
   "execution_count": 29,
   "metadata": {},
   "outputs": [],
   "source": [
    "dataTest=dataTest.drop(['reservation_status_date'], axis=1) # no importante para el análisis"
   ]
  },
  {
   "cell_type": "code",
   "execution_count": 30,
   "metadata": {},
   "outputs": [
    {
     "data": {
      "text/html": [
       "<div>\n",
       "<style scoped>\n",
       "    .dataframe tbody tr th:only-of-type {\n",
       "        vertical-align: middle;\n",
       "    }\n",
       "\n",
       "    .dataframe tbody tr th {\n",
       "        vertical-align: top;\n",
       "    }\n",
       "\n",
       "    .dataframe thead th {\n",
       "        text-align: right;\n",
       "    }\n",
       "</style>\n",
       "<table border=\"1\" class=\"dataframe\">\n",
       "  <thead>\n",
       "    <tr style=\"text-align: right;\">\n",
       "      <th></th>\n",
       "      <th>hotel</th>\n",
       "      <th>lead_time</th>\n",
       "      <th>arrival_date_year</th>\n",
       "      <th>arrival_date_month</th>\n",
       "      <th>arrival_date_week_number</th>\n",
       "      <th>arrival_date_day_of_month</th>\n",
       "      <th>stays_in_weekend_nights</th>\n",
       "      <th>stays_in_week_nights</th>\n",
       "      <th>adults</th>\n",
       "      <th>children</th>\n",
       "      <th>...</th>\n",
       "      <th>assigned_room_type</th>\n",
       "      <th>booking_changes</th>\n",
       "      <th>deposit_type</th>\n",
       "      <th>agent</th>\n",
       "      <th>company</th>\n",
       "      <th>days_in_waiting_list</th>\n",
       "      <th>customer_type</th>\n",
       "      <th>adr</th>\n",
       "      <th>required_car_parking_spaces</th>\n",
       "      <th>total_of_special_requests</th>\n",
       "    </tr>\n",
       "    <tr>\n",
       "      <th>reservation_status</th>\n",
       "      <th></th>\n",
       "      <th></th>\n",
       "      <th></th>\n",
       "      <th></th>\n",
       "      <th></th>\n",
       "      <th></th>\n",
       "      <th></th>\n",
       "      <th></th>\n",
       "      <th></th>\n",
       "      <th></th>\n",
       "      <th></th>\n",
       "      <th></th>\n",
       "      <th></th>\n",
       "      <th></th>\n",
       "      <th></th>\n",
       "      <th></th>\n",
       "      <th></th>\n",
       "      <th></th>\n",
       "      <th></th>\n",
       "      <th></th>\n",
       "      <th></th>\n",
       "    </tr>\n",
       "  </thead>\n",
       "  <tbody>\n",
       "    <tr>\n",
       "      <th>Unknown</th>\n",
       "      <td>59695</td>\n",
       "      <td>59695</td>\n",
       "      <td>59695</td>\n",
       "      <td>59695</td>\n",
       "      <td>59695</td>\n",
       "      <td>59695</td>\n",
       "      <td>59695</td>\n",
       "      <td>59695</td>\n",
       "      <td>59695</td>\n",
       "      <td>59695</td>\n",
       "      <td>...</td>\n",
       "      <td>59695</td>\n",
       "      <td>59695</td>\n",
       "      <td>59695</td>\n",
       "      <td>59695</td>\n",
       "      <td>59695</td>\n",
       "      <td>59695</td>\n",
       "      <td>59695</td>\n",
       "      <td>59695</td>\n",
       "      <td>59695</td>\n",
       "      <td>59695</td>\n",
       "    </tr>\n",
       "  </tbody>\n",
       "</table>\n",
       "<p>1 rows × 29 columns</p>\n",
       "</div>"
      ],
      "text/plain": [
       "                    hotel  lead_time  arrival_date_year  arrival_date_month  \\\n",
       "reservation_status                                                            \n",
       "Unknown             59695      59695              59695               59695   \n",
       "\n",
       "                    arrival_date_week_number  arrival_date_day_of_month  \\\n",
       "reservation_status                                                        \n",
       "Unknown                                59695                      59695   \n",
       "\n",
       "                    stays_in_weekend_nights  stays_in_week_nights  adults  \\\n",
       "reservation_status                                                          \n",
       "Unknown                               59695                 59695   59695   \n",
       "\n",
       "                    children  ...  assigned_room_type  booking_changes  \\\n",
       "reservation_status            ...                                        \n",
       "Unknown                59695  ...               59695            59695   \n",
       "\n",
       "                    deposit_type  agent  company  days_in_waiting_list  \\\n",
       "reservation_status                                                       \n",
       "Unknown                    59695  59695    59695                 59695   \n",
       "\n",
       "                    customer_type    adr  required_car_parking_spaces  \\\n",
       "reservation_status                                                      \n",
       "Unknown                     59695  59695                        59695   \n",
       "\n",
       "                    total_of_special_requests  \n",
       "reservation_status                             \n",
       "Unknown                                 59695  \n",
       "\n",
       "[1 rows x 29 columns]"
      ]
     },
     "execution_count": 30,
     "metadata": {},
     "output_type": "execute_result"
    }
   ],
   "source": [
    "dataTest.groupby('reservation_status').count() #variable categórica   "
   ]
  },
  {
   "cell_type": "code",
   "execution_count": 31,
   "metadata": {},
   "outputs": [
    {
     "name": "stdout",
     "output_type": "stream",
     "text": [
      "<class 'pandas.core.frame.DataFrame'>\n",
      "RangeIndex: 59695 entries, 0 to 59694\n",
      "Data columns (total 30 columns):\n",
      " #   Column                          Non-Null Count  Dtype  \n",
      "---  ------                          --------------  -----  \n",
      " 0   hotel                           59695 non-null  int64  \n",
      " 1   lead_time                       59695 non-null  int64  \n",
      " 2   arrival_date_year               59695 non-null  int64  \n",
      " 3   arrival_date_month              59695 non-null  int64  \n",
      " 4   arrival_date_week_number        59695 non-null  int64  \n",
      " 5   arrival_date_day_of_month       59695 non-null  int64  \n",
      " 6   stays_in_weekend_nights         59695 non-null  int64  \n",
      " 7   stays_in_week_nights            59695 non-null  int64  \n",
      " 8   adults                          59695 non-null  int64  \n",
      " 9   children                        59695 non-null  float64\n",
      " 10  babies                          59695 non-null  int64  \n",
      " 11  meal                            59695 non-null  int64  \n",
      " 12  country                         59695 non-null  object \n",
      " 13  market_segment                  59695 non-null  int64  \n",
      " 14  distribution_channel            59695 non-null  int64  \n",
      " 15  is_repeated_guest               59695 non-null  int64  \n",
      " 16  previous_cancellations          59695 non-null  int64  \n",
      " 17  previous_bookings_not_canceled  59695 non-null  int64  \n",
      " 18  reserved_room_type              59695 non-null  int64  \n",
      " 19  assigned_room_type              59695 non-null  int64  \n",
      " 20  booking_changes                 59695 non-null  int64  \n",
      " 21  deposit_type                    59695 non-null  int64  \n",
      " 22  agent                           59695 non-null  float64\n",
      " 23  company                         59695 non-null  float64\n",
      " 24  days_in_waiting_list            59695 non-null  int64  \n",
      " 25  customer_type                   59695 non-null  int64  \n",
      " 26  adr                             59695 non-null  float64\n",
      " 27  required_car_parking_spaces     59695 non-null  int64  \n",
      " 28  total_of_special_requests       59695 non-null  int64  \n",
      " 29  reservation_status              59695 non-null  int64  \n",
      "dtypes: float64(4), int64(25), object(1)\n",
      "memory usage: 13.7+ MB\n"
     ]
    }
   ],
   "source": [
    "dataTest=dataTest.replace({ \"Unknown\": 0}) #remplazamos el campo de reservation_status  que es explícito para la data de test\n",
    "dataTest.info()"
   ]
  },
  {
   "cell_type": "code",
   "execution_count": 32,
   "metadata": {},
   "outputs": [
    {
     "data": {
      "text/plain": [
       "(59695, 30)"
      ]
     },
     "execution_count": 32,
     "metadata": {},
     "output_type": "execute_result"
    }
   ],
   "source": [
    "dataTest.shape"
   ]
  },
  {
   "cell_type": "code",
   "execution_count": 33,
   "metadata": {},
   "outputs": [],
   "source": [
    "countrys=pd.get_dummies(dataTest[\"country\"]) # aplicamos get dummies en la columna country\n",
    "#countrys"
   ]
  },
  {
   "cell_type": "code",
   "execution_count": 34,
   "metadata": {},
   "outputs": [
    {
     "data": {
      "text/plain": [
       "(59695, 156)"
      ]
     },
     "execution_count": 34,
     "metadata": {},
     "output_type": "execute_result"
    }
   ],
   "source": [
    "countrys.shape"
   ]
  },
  {
   "cell_type": "code",
   "execution_count": 35,
   "metadata": {},
   "outputs": [],
   "source": [
    "countrys= countrys.astype('float64')"
   ]
  },
  {
   "cell_type": "code",
   "execution_count": 36,
   "metadata": {},
   "outputs": [],
   "source": [
    "dataTest=dataTest.drop(['country'], axis=1) #eliminamos la columna que tiene nombres de países\n",
    "#dataTest=dataTest.append(countrys) #agregamos la data de países con números (data normalizada) #YA NO SE INCORPORA PORQUE  EN LA DATA DE TRAIN TIENE 158 PAÍSES, MIENTRAS QUE EN LA DE TEST TIENE 156"
   ]
  },
  {
   "cell_type": "code",
   "execution_count": 37,
   "metadata": {},
   "outputs": [],
   "source": [
    "dataTest=dataTest.drop(['children'], axis=1) #Número de niños\n",
    "dataTest=dataTest.drop(['babies'], axis=1) #Número de babys\n",
    "dataTest=dataTest.drop(['booking_changes'], axis=1) #Número de cambios / modificaciones realizados en la reserva desde el momento en que la reserva se ingresó en la base de datos hasta el momento del check-in o cancelación\n",
    "dataTest=dataTest.drop(['arrival_date_week_number'], axis=1) #Número de semana del año para la fecha de llegada\n",
    "dataTest=dataTest.drop(['distribution_channel'], axis=1) #Canal de distribución de reservas. El término \"TA\" significa \"Agentes de viajes\" y \"TO\" significa \"Operadores turísticos\""
   ]
  },
  {
   "cell_type": "code",
   "execution_count": 38,
   "metadata": {},
   "outputs": [],
   "source": [
    "dataTest.fillna(0, inplace = True)"
   ]
  },
  {
   "cell_type": "code",
   "execution_count": 39,
   "metadata": {},
   "outputs": [
    {
     "data": {
      "text/plain": [
       "hotel                               int64\n",
       "lead_time                           int64\n",
       "arrival_date_year                   int64\n",
       "arrival_date_month                  int64\n",
       "arrival_date_day_of_month           int64\n",
       "stays_in_weekend_nights             int64\n",
       "stays_in_week_nights                int64\n",
       "adults                              int64\n",
       "meal                                int64\n",
       "market_segment                      int64\n",
       "is_repeated_guest                   int64\n",
       "previous_cancellations              int64\n",
       "previous_bookings_not_canceled      int64\n",
       "reserved_room_type                  int64\n",
       "assigned_room_type                  int64\n",
       "deposit_type                        int64\n",
       "agent                             float64\n",
       "company                           float64\n",
       "days_in_waiting_list                int64\n",
       "customer_type                       int64\n",
       "adr                               float64\n",
       "required_car_parking_spaces         int64\n",
       "total_of_special_requests           int64\n",
       "reservation_status                  int64\n",
       "dtype: object"
      ]
     },
     "execution_count": 39,
     "metadata": {},
     "output_type": "execute_result"
    }
   ],
   "source": [
    "dataTest.dtypes"
   ]
  },
  {
   "cell_type": "code",
   "execution_count": 40,
   "metadata": {},
   "outputs": [
    {
     "data": {
      "text/plain": [
       "(59695, 24)"
      ]
     },
     "execution_count": 40,
     "metadata": {},
     "output_type": "execute_result"
    }
   ],
   "source": [
    "dataTest.shape"
   ]
  },
  {
   "cell_type": "code",
   "execution_count": 41,
   "metadata": {},
   "outputs": [],
   "source": [
    "resultado= logmodel.predict(dataTest)"
   ]
  },
  {
   "cell_type": "code",
   "execution_count": 42,
   "metadata": {},
   "outputs": [
    {
     "data": {
      "text/plain": [
       "array([0, 1, 0, ..., 1, 0, 1], dtype=int64)"
      ]
     },
     "execution_count": 42,
     "metadata": {},
     "output_type": "execute_result"
    }
   ],
   "source": [
    "resultado"
   ]
  },
  {
   "cell_type": "code",
   "execution_count": 43,
   "metadata": {},
   "outputs": [
    {
     "data": {
      "text/plain": [
       "(59695,)"
      ]
     },
     "execution_count": 43,
     "metadata": {},
     "output_type": "execute_result"
    }
   ],
   "source": [
    "resultado.shape"
   ]
  },
  {
   "cell_type": "code",
   "execution_count": 44,
   "metadata": {},
   "outputs": [],
   "source": [
    "# Función para guardar sus predicciones en un archivo .csv\n",
    "# siguiendo el formato requerido para subirlo a Kaggle\n",
    "def save_submission_file(model, X_test, filename=\"submission.csv\"):\n",
    "  submission_df = {\"id\": X_test.index,\n",
    "                   \"is_canceled\": model.predict(X_test)}\n",
    "  submission = pd.DataFrame(submission_df)\n",
    "  submission.to_csv(filename,index=False)\n",
    "\n",
    "# TODO: Haga uso de la función anterior para generar su archivo de predicciones\n",
    "# y subalos a Kaggle  "
   ]
  },
  {
   "cell_type": "code",
   "execution_count": 45,
   "metadata": {},
   "outputs": [],
   "source": [
    "dataGuardad=save_submission_file(logmodel, dataTest, filename=\"submissionTest.csv\")"
   ]
  },
  {
   "cell_type": "code",
   "execution_count": 46,
   "metadata": {},
   "outputs": [],
   "source": [
    "dataGuardad=pd.read_csv(\"submissionTest.csv\")"
   ]
  },
  {
   "cell_type": "code",
   "execution_count": 47,
   "metadata": {},
   "outputs": [
    {
     "data": {
      "text/plain": [
       "(59695, 2)"
      ]
     },
     "execution_count": 47,
     "metadata": {},
     "output_type": "execute_result"
    }
   ],
   "source": [
    "dataGuardad.shape"
   ]
  },
  {
   "cell_type": "code",
   "execution_count": 62,
   "metadata": {},
   "outputs": [],
   "source": [
    "dataGuardadKNN=save_submission_file(knn, dataTest, filename=\"submissionTestKNN.csv\")"
   ]
  },
  {
   "cell_type": "code",
   "execution_count": 63,
   "metadata": {},
   "outputs": [],
   "source": [
    "dataGuardadKNN=pd.read_csv(\"submissionTestKNN.csv\")"
   ]
  },
  {
   "cell_type": "code",
   "execution_count": 64,
   "metadata": {},
   "outputs": [
    {
     "data": {
      "text/plain": [
       "(59695, 2)"
      ]
     },
     "execution_count": 64,
     "metadata": {},
     "output_type": "execute_result"
    }
   ],
   "source": [
    "dataGuardadKNN.shape"
   ]
  },
  {
   "cell_type": "code",
   "execution_count": 65,
   "metadata": {},
   "outputs": [],
   "source": [
    "dataGuardadDT=save_submission_file(dt, dataTest, filename=\"submissionTestDT.csv\")"
   ]
  },
  {
   "cell_type": "code",
   "execution_count": 66,
   "metadata": {},
   "outputs": [
    {
     "data": {
      "text/plain": [
       "(59695, 2)"
      ]
     },
     "execution_count": 66,
     "metadata": {},
     "output_type": "execute_result"
    }
   ],
   "source": [
    "dataGuardadDT=pd.read_csv(\"submissionTestDT.csv\")\n",
    "dataGuardadDT.shape"
   ]
  }
 ],
 "metadata": {
  "colab": {
   "collapsed_sections": [],
   "name": "Tarea_Reservas_Hotel.ipynb",
   "provenance": []
  },
  "kernelspec": {
   "display_name": "Python 3",
   "language": "python",
   "name": "python3"
  },
  "language_info": {
   "codemirror_mode": {
    "name": "ipython",
    "version": 3
   },
   "file_extension": ".py",
   "mimetype": "text/x-python",
   "name": "python",
   "nbconvert_exporter": "python",
   "pygments_lexer": "ipython3",
   "version": "3.7.6"
  }
 },
 "nbformat": 4,
 "nbformat_minor": 4
}
