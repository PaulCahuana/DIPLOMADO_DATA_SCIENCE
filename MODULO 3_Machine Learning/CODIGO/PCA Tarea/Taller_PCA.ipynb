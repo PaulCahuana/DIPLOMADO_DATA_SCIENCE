{
 "cells": [
  {
   "cell_type": "markdown",
   "metadata": {
    "colab_type": "text",
    "id": "MJ7Byh_K7POY"
   },
   "source": [
    "# Principal Component Analysis (PCA)\n",
    "\n",
    "**Nombres y Apellidos:** *Escriba aqui*\n",
    "\n",
    "En este taller implementaremos el algoritmo de PCA desde cero. Los principales tópicos que revisaremos son:\n",
    "\n",
    "- Implementación del algoritmo de PCA.\n",
    "- Reducción de dimensionalidad de un conjunto de datos 2D a 1D.\n",
    "- Aplicación sobre el conjunto de datos de flores de iris.\n",
    "- Selección del número de componentes principales.\n",
    "- Uso de implementación de la librería scikit-learn.\n",
    "- Aplicación sobre un conjunto de datos tabular.\n",
    "\n",
    "Empecemos importando las librerías:"
   ]
  },
  {
   "cell_type": "code",
   "execution_count": 1,
   "metadata": {
    "colab": {},
    "colab_type": "code",
    "id": "nHctoTZS6YG2"
   },
   "outputs": [],
   "source": [
    "%matplotlib inline\n",
    "import numpy as np\n",
    "import matplotlib.pyplot as plt\n",
    "import seaborn as sns; sns.set()"
   ]
  },
  {
   "cell_type": "markdown",
   "metadata": {
    "colab_type": "text",
    "id": "KgBN3z-UCf8o"
   },
   "source": [
    "## Implementación de PCA\n",
    "\n",
    "A continuación realizaremos la implementación de PCA, para ello es necesario seguir los siguientes pasos:\n",
    "\n",
    "1. Estandarizar el data (standardize).\n",
    "2. Calcular la matriz de covarianza para las características.\n",
    "3. Calcular los autovalores y autovectores de la matriz de covarianza.\n",
    "4. Ordenar los autovalores y sus correspondientes autovectores.\n",
    "5. Seleccionar 'k' autovectores\n",
    "6. Transformar la data original"
   ]
  },
  {
   "cell_type": "markdown",
   "metadata": {
    "colab_type": "text",
    "id": "YBqv1pa1ibuv"
   },
   "source": [
    "### Data de Prueba\n",
    "\n",
    "Para probar nuestra implementación, haremos uso de datos generados simples para poder visualizarlos."
   ]
  },
  {
   "cell_type": "code",
   "execution_count": 2,
   "metadata": {
    "colab": {},
    "colab_type": "code",
    "id": "BAqXO7HviqFn"
   },
   "outputs": [
    {
     "data": {
      "image/png": "[encoded data removed]",
      "text/plain": [
       "<Figure size 432x288 with 1 Axes>"
      ]
     },
     "metadata": {},
     "output_type": "display_data"
    }
   ],
   "source": [
    "# Especificamos un random state para reproducir la generación de la data\n",
    "rng = np.random.RandomState(1)\n",
    "# Esta es la data con que se deberá probar la implementación\n",
    "X = np.dot(rng.rand(2, 2), rng.randn(2, 200)).T\n",
    "# Visualizamos la data\n",
    "plt.scatter(X[:, 0], X[:, 1])\n",
    "plt.axis('equal');"
   ]
  },
  {
   "cell_type": "code",
   "execution_count": 9,
   "metadata": {},
   "outputs": [
    {
     "data": {
      "text/plain": [
       "(200, 2)"
      ]
     },
     "execution_count": 9,
     "metadata": {},
     "output_type": "execute_result"
    }
   ],
   "source": [
    "X.shape"
   ]
  },
  {
   "cell_type": "markdown",
   "metadata": {
    "colab_type": "text",
    "id": "C97cvHS59bz2"
   },
   "source": [
    "### Estandarizar la data\n",
    "\n",
    "Estandarizamos la data para que la distribución de cada característica tenga una media igual a cero y una desviación estándar igual uno (varianza unitaria).\n",
    "\n",
    "$$X_{new} = \\frac{X - \\mu}{ \\sigma }$$\n",
    "\n",
    "Es importante recalcar que algunas implementaciones y librerías no escalan sus datos para tener una varianza unitaria, por lo tanto, solamente realizan el centrado de datos ($X - \\mu$)."
   ]
  },
  {
   "cell_type": "code",
   "execution_count": 50,
   "metadata": {
    "colab": {},
    "colab_type": "code",
    "id": "kY7P1ikkA0Ia"
   },
   "outputs": [],
   "source": [
    "def standardize(X):\n",
    "    \"\"\"Estandarizar el dataset X -> (X - mean) / std\n",
    "    Args:\n",
    "        X: dataset de dimensión (N x D), donde D es la dimensión de la data,\n",
    "            y N el número de puntos.\n",
    "    \n",
    "    Returns:\n",
    "        (X_norm, mu, std): X_norm es la data estandarizada con media 0\n",
    "        y desviación estándar 1; mu y std son la media y desviación estándar\n",
    "        respectivamente.\n",
    "    \n",
    "    Note:\n",
    "        Es probable que encuentres dimensiones donde la desviación estándar es 0,\n",
    "        y ello implica una división por cero (NaN). Para manejar ese escenario,\n",
    "        cuando reemplaza la desviación estándar de 0 por 1 antes de estandarizar.\n",
    "    \"\"\"\n",
    "    # Calcular la media y desviación estandar\n",
    "    mu = np.mean(X,axis=0)\n",
    "    std = np.std(X,axis=0)\n",
    "    print(\"stdddd: \",std)\n",
    "    # Reemplazar los valores de std=0 con 1\n",
    "    std_filled= std.copy()\n",
    "    std_filled[std==0] = 1\n",
    "    print(\"std_ fileld: \",std_filled)\n",
    "    # Estandarizar la data\n",
    "    X_norm  =(X-mu)/std\n",
    "    return X_norm, mu, std_filled"
   ]
  },
  {
   "cell_type": "markdown",
   "metadata": {
    "colab_type": "text",
    "id": "OfFOEkksivHZ"
   },
   "source": [
    "Estandarizamos la data de prueba y obtenemos la data estandarizada, la media y desviación estándar:"
   ]
  },
  {
   "cell_type": "code",
   "execution_count": 51,
   "metadata": {
    "colab": {},
    "colab_type": "code",
    "id": "XHEQkJk4iyN4"
   },
   "outputs": [
    {
     "name": "stdout",
     "output_type": "stream",
     "text": [
      "stdddd:  [0.823873   0.31358832]\n",
      "std_ fileld:  [0.823873   0.31358832]\n",
      "Media [ 0.03351168 -0.00408072]\n",
      "Desviación Estándar [0.823873   0.31358832]\n",
      "Media de la nueva data:  [-1.77635684e-17 -4.44089210e-18]\n",
      "Desviación Estándar de la  nueva data:  [1. 1.]\n"
     ]
    }
   ],
   "source": [
    "X_norm, mu, std = standardize(X)\n",
    "\n",
    "print(\"Media\", mu)\n",
    "print(\"Desviación Estándar\", std)\n",
    "\n",
    "print(\"Media de la nueva data: \", X_norm.mean(0))\n",
    "print(\"Desviación Estándar de la  nueva data: \", X_norm.std(0))"
   ]
  },
  {
   "cell_type": "markdown",
   "metadata": {
    "colab_type": "text",
    "id": "q7e4d_Txi_rK"
   },
   "source": [
    "Algo importante a mencionar es que cuando tenemos dos conjuntos de datos, por ejemplo, entrenamiento y test. Hallamos la média y desviación estándar de la data de entrenamiento y usamos esa média y desviación estándar para estandarizar la data de test. Un proceso similar veremos cuando reduzcamos la dimensionalidad."
   ]
  },
  {
   "cell_type": "markdown",
   "metadata": {
    "colab_type": "text",
    "id": "KYa7sG40Npi1"
   },
   "source": [
    "### Calcular la matriz de covarianza para las características\n",
    "\n",
    "La matriz de covarianza para un dataset de dimensión $(N, D)$ está dada por:\n",
    "\n",
    "$$ Cov(X) = \\frac{1}{N - 1}(X - \\bar{X})^T(X - \\bar{X}) $$\n",
    "\n",
    "donde $\\bar{X}$ es la media de cada característica.\n",
    "En el paso anterior hemos escalado los datos para que tengan media 0, por tanto la matriz de covarianza se reduce a lo siguiente:\n",
    "\n",
    "$$ Cov(X) = \\frac{1}{N - 1}X^{T}X$$"
   ]
  },
  {
   "cell_type": "code",
   "execution_count": 52,
   "metadata": {
    "colab": {},
    "colab_type": "code",
    "id": "i9t6Gk3_OyDm"
   },
   "outputs": [],
   "source": [
    "def covariance_matrix(X):\n",
    "    \"\"\"Calculamos la matriz de covarianza de X\n",
    "      Args:\n",
    "          X: dataset de dimensión (N x D), donde D es la dimensión de la data,\n",
    "             y N el número de puntos.\n",
    "      \n",
    "      Returns:\n",
    "          cov: matriz de covarianza de dimensión (D x D).\n",
    "    \"\"\"\n",
    "    cov = np.cov(X)\n",
    "    return cov"
   ]
  },
  {
   "cell_type": "markdown",
   "metadata": {
    "colab_type": "text",
    "id": "lWm_z8gxkQ0I"
   },
   "source": [
    "Mostramos los resultados de la matriz de covarianza:"
   ]
  },
  {
   "cell_type": "code",
   "execution_count": 53,
   "metadata": {
    "colab": {},
    "colab_type": "code",
    "id": "Mx6-AdSHkPi9"
   },
   "outputs": [
    {
     "name": "stdout",
     "output_type": "stream",
     "text": [
      "Matriz de covarianza\n",
      "[[ 0.03654507  0.10434726 -0.06807994 ... -0.03853645  0.01880842\n",
      "  -0.04815528]\n",
      " [ 0.10434726  0.29794303 -0.19438885 ... -0.11003324  0.05370373\n",
      "  -0.13749792]\n",
      " [-0.06807994 -0.19438885  0.12682635 ...  0.07178968 -0.03503827\n",
      "   0.08970864]\n",
      " ...\n",
      " [-0.03853645 -0.11003324  0.07178968 ...  0.04063634 -0.01983331\n",
      "   0.05077931]\n",
      " [ 0.01880842  0.05370373 -0.03503827 ... -0.01983331  0.00968001\n",
      "  -0.02478377]\n",
      " [-0.04815528 -0.13749792  0.08970864 ...  0.05077931 -0.02478377\n",
      "   0.063454  ]]\n",
      "\n",
      "Matriz de covarianza - numpy\n",
      "[[1.00502513 0.89385925]\n",
      " [0.89385925 1.00502513]]\n"
     ]
    }
   ],
   "source": [
    "S = covariance_matrix(X_norm)\n",
    "# Mostramos la matriz de covarianza\n",
    "print(\"Matriz de covarianza\")\n",
    "print(S)\n",
    "\n",
    "# Mostramos los resultados a partir de la libreria de numpy\n",
    "print(\"\\nMatriz de covarianza - numpy\")\n",
    "# numpy recibe una matriz de (D, N) dimensiones por tanto\n",
    "# la convarianza se calcula cov = XX^T\n",
    "print(np.cov(X_norm.T))"
   ]
  },
  {
   "cell_type": "markdown",
   "metadata": {
    "colab_type": "text",
    "id": "WRGmP6NrTS-d"
   },
   "source": [
    "### Autovalores y autovectores de la matriz de covarianza\n",
    "\n",
    "Recordemos que los autovectores representan las componentes principales que generan el subespacio sobre el cual proyectaremos nuestra data y los autovalores la varianza explicada o retenida por cada componente. Matemáticamente es posible calcular los autovalores y autovectores resolviendo el siguiente sistema de ecuaciones:\n",
    "\n",
    "$$Ab = \\lambda b$$\n",
    "\n",
    "donde $A$ es la matriz sobre la cual deseamos obtener los autovalores y autovectores, $b$ son los autovectores (eigenvectors) y $\\lambda$ son los autovalores (eigenvalues). En nuestro caso, calcularemos los autovectores y autovalores de la matriz de covarianza, es decir, la matriz $A$ representa la matriz de covarianza. Para facilitar el proceso, haremos uso de una implementación de la librería de algebra lineal, [linalg](https://numpy.org/doc/1.18/reference/generated/numpy.linalg.eig.html#numpy.linalg.eig), que permite calcular los autovalores y autovectores de una determinada matriz cuadrada, como la matriz de covarianza es cuadrada (D x D), es posible usar esa implementación.\n",
    "\n",
    "En esta parte haremos los pasos $3$ y $4$ al mismo tiempo: \n",
    "\n",
    "3. Calcular los autovalores y autovectores de la matriz de covarianza.\n",
    "4. Ordenar los autovalores y sus respectivos autovectores.\n",
    "\n",
    "Tomar en consideranción que la líbreria retorna un vector con los autovalores y una matriz con los autovectores, donde cada columna es un autovalor y autovector respectivamente."
   ]
  },
  {
   "cell_type": "code",
   "execution_count": 70,
   "metadata": {
    "colab": {},
    "colab_type": "code",
    "id": "qBdVbhRNeq6C"
   },
   "outputs": [],
   "source": [
    "def eig(S):\n",
    "    \"\"\"Calcular los autovalores y sus correspondientes autovectores de la \n",
    "       matriz de covarianza S.\n",
    "    Args:\n",
    "        S: matriz de covarianza de dimensión (D, D)\n",
    "    \n",
    "    Returns:\n",
    "        (eigvals, eigvecs): los autovalores (1, D) y autovectores (D, D)\n",
    "\n",
    "    Note:\n",
    "        los autovalores y autovectores deben ser ordenados en orden descendente\n",
    "        con respecto a los autovalores\n",
    "    \"\"\"\n",
    "    # Calcular los autovalores y autovectores la matriz de covarianza S\n",
    "    # usar el método np.linalg.eig para facilitar el proceso \n",
    "    eigvals, eigvecs =np.linalg.eig(S)\n",
    "\n",
    "    # Ordenar los autovalores y sus correspondientes autovectores \n",
    "    # Puede hacer uso de np.sort o np.argsort para ordenar los vectores\n",
    "    eigvals=np.sort(eigvals)\n",
    "    eigvecs =np.sort( eigvecs)\n",
    "    # * Tomar en cuenta que la primera columna de la matriz de autovalores,\n",
    "    #   corresponde con la primera columna de la matriz de autovectores\n",
    "    \n",
    "    return (eigvals, eigvecs)"
   ]
  },
  {
   "cell_type": "markdown",
   "metadata": {
    "colab_type": "text",
    "id": "bsZoVt8ykhcp"
   },
   "source": [
    "Mostramos los autovalores y autovectores respectivos. Los autovalores deben estar ordenados de mayor a menor."
   ]
  },
  {
   "cell_type": "code",
   "execution_count": null,
   "metadata": {
    "colab": {},
    "colab_type": "code",
    "id": "JnLpak3rkrRa"
   },
   "outputs": [],
   "source": [
    "eigvals, eigvecs = eig(S)\n",
    "\n",
    "for i in range(len(eigvals)):\n",
    "    print(\"Autovalor %d: %lf\" % (i+1, eigvals[i]))\n",
    "    print(\"Autovector %d: \" % (i+1))\n",
    "    print(eigvecs[:,i].reshape(1,len(eigvals)).T)\n",
    "    print(40 * '-')"
   ]
  },
  {
   "cell_type": "markdown",
   "metadata": {
    "colab_type": "text",
    "id": "UoDPmyjYm2H0"
   },
   "source": [
    "Ahora visualizemos los autovectores que representan las componentes sobre las cuales proyectaremos nuestra data:"
   ]
  },
  {
   "cell_type": "code",
   "execution_count": 72,
   "metadata": {
    "colab": {},
    "colab_type": "code",
    "id": "yAVeZsvtnwah"
   },
   "outputs": [
    {
     "ename": "ValueError",
     "evalue": "operands could not be broadcast together with shapes (2,) (200,) ",
     "output_type": "error",
     "traceback": [
      "\u001b[1;31m---------------------------------------------------------------------------\u001b[0m",
      "\u001b[1;31mValueError\u001b[0m                                Traceback (most recent call last)",
      "\u001b[1;32m<ipython-input-72-25924494585c>\u001b[0m in \u001b[0;36m<module>\u001b[1;34m\u001b[0m\n\u001b[0;32m     13\u001b[0m     \u001b[1;31m# solo para efectos de visualizar, aumentamos la magnitud de los autovectores\u001b[0m\u001b[1;33m\u001b[0m\u001b[1;33m\u001b[0m\u001b[1;33m\u001b[0m\u001b[0m\n\u001b[0;32m     14\u001b[0m     \u001b[0mvector\u001b[0m  \u001b[1;33m=\u001b[0m \u001b[0meigvecs\u001b[0m\u001b[1;33m[\u001b[0m\u001b[1;33m:\u001b[0m\u001b[1;33m,\u001b[0m\u001b[0mi\u001b[0m\u001b[1;33m]\u001b[0m \u001b[1;33m*\u001b[0m \u001b[0mnp\u001b[0m\u001b[1;33m.\u001b[0m\u001b[0msqrt\u001b[0m\u001b[1;33m(\u001b[0m\u001b[0meigvals\u001b[0m\u001b[1;33m[\u001b[0m\u001b[0mi\u001b[0m\u001b[1;33m]\u001b[0m\u001b[1;33m)\u001b[0m\u001b[1;33m*\u001b[0m\u001b[1;36m2\u001b[0m\u001b[1;33m\u001b[0m\u001b[1;33m\u001b[0m\u001b[0m\n\u001b[1;32m---> 15\u001b[1;33m     \u001b[0mdraw_vector\u001b[0m\u001b[1;33m(\u001b[0m\u001b[0mmu_center\u001b[0m\u001b[1;33m,\u001b[0m \u001b[0mmu_center\u001b[0m \u001b[1;33m+\u001b[0m \u001b[0mvector\u001b[0m\u001b[1;33m)\u001b[0m\u001b[1;33m\u001b[0m\u001b[1;33m\u001b[0m\u001b[0m\n\u001b[0m\u001b[0;32m     16\u001b[0m \u001b[0mplt\u001b[0m\u001b[1;33m.\u001b[0m\u001b[0maxis\u001b[0m\u001b[1;33m(\u001b[0m\u001b[1;34m'equal'\u001b[0m\u001b[1;33m)\u001b[0m\u001b[1;33m;\u001b[0m\u001b[1;33m\u001b[0m\u001b[1;33m\u001b[0m\u001b[0m\n",
      "\u001b[1;31mValueError\u001b[0m: operands could not be broadcast together with shapes (2,) (200,) "
     ]
    },
    {
     "data": {
      "image/png": "[encoded data removed]",
      "text/plain": [
       "<Figure size 720x720 with 1 Axes>"
      ]
     },
     "metadata": {},
     "output_type": "display_data"
    }
   ],
   "source": [
    "plt.figure(figsize=(10,10))\n",
    "def draw_vector(v0, v1, ax=None):\n",
    "    ax = ax or plt.gca()\n",
    "    arrowprops=dict(arrowstyle='->',\n",
    "                    linewidth=2,\n",
    "                    shrinkA=0, shrinkB=0, color='r')\n",
    "    ax.annotate('', v1, v0, arrowprops=arrowprops)\n",
    "\n",
    "# plot data\n",
    "plt.scatter(X_norm[:, 0], X_norm[:, 1], alpha=0.2)\n",
    "mu_center = X_norm.mean(0)\n",
    "for i in range(len(eigvals)):\n",
    "    # solo para efectos de visualizar, aumentamos la magnitud de los autovectores\n",
    "    vector  = eigvecs[:,i] * np.sqrt(eigvals[i])*2\n",
    "    draw_vector(mu_center, mu_center + vector)\n",
    "plt.axis('equal');    "
   ]
  },
  {
   "cell_type": "markdown",
   "metadata": {
    "colab_type": "text",
    "id": "amrlWa-jtFMo"
   },
   "source": [
    "La longitud de cada autovector (autovalor) es un indicador de importancia de cada autovector en el nuevo eje de coordenadas. La primera componente siempre representará la mayor varianza proyectada de los datos. "
   ]
  },
  {
   "cell_type": "markdown",
   "metadata": {
    "colab_type": "text",
    "id": "i7TtG6xXt7mO"
   },
   "source": [
    "### Proyección usando todas las componentes\n",
    "\n",
    "Podemos realizar la proyección usando el nuevo eje de coordenadas obtenido a partir de los autovectores, es decir, usaremos todos los autovectores para la proyección en el subespacio (nuevo eje de coordenadas). Más adelante realizaremos la proyección sobre un menor subespacio. Para ello, la proyección de nuestra data sobre los vectores que generan el nuevo subespacio (autovectores) esta data por:\n",
    "\n",
    "$$T = XB$$\n",
    "\n",
    "donde $B$ es la matriz columna de autovectores donde proyectaremos nuestra data y $T$ es la transformación de nuestra data original de un espacio vectorial origen a un subespacio vectorial destino dado por los autovectores. En otras palabras, $T$ es la proyección de nuestra data sobre las componentes principales (nuevo eje de coordenadas).\n",
    "\n"
   ]
  },
  {
   "cell_type": "code",
   "execution_count": 78,
   "metadata": {},
   "outputs": [
    {
     "data": {
      "text/plain": [
       "(200, 2)"
      ]
     },
     "execution_count": 78,
     "metadata": {},
     "output_type": "execute_result"
    }
   ],
   "source": [
    "X_norm.shape"
   ]
  },
  {
   "cell_type": "code",
   "execution_count": 80,
   "metadata": {},
   "outputs": [
    {
     "data": {
      "text/plain": [
       "(200, 200)"
      ]
     },
     "execution_count": 80,
     "metadata": {},
     "output_type": "execute_result"
    }
   ],
   "source": [
    "eigvecs.shape"
   ]
  },
  {
   "cell_type": "code",
   "execution_count": 75,
   "metadata": {
    "colab": {},
    "colab_type": "code",
    "id": "9huST9nvvoNL"
   },
   "outputs": [],
   "source": [
    "def transform_full(X, B):\n",
    "    \"\"\"Transformar la data X al nuevo eje de coordenadas generado por B.\n",
    "    Args:\n",
    "        X: dataset (N, D)\n",
    "        B: matriz columna de autovectores (D, D)\n",
    "\n",
    "    Returns:\n",
    "        T: dataset transformado sobre el nuevo eje de coordenadas (N, D)\n",
    "    \"\"\"  \n",
    "    T=X.dot(B)\n",
    "    return T"
   ]
  },
  {
   "cell_type": "markdown",
   "metadata": {
    "colab_type": "text",
    "id": "JL6U7ZjHyVxt"
   },
   "source": [
    "Visualizamos la data en el nuevo eje de coordenadas"
   ]
  },
  {
   "cell_type": "code",
   "execution_count": 76,
   "metadata": {
    "colab": {},
    "colab_type": "code",
    "id": "IrEDqu1jyaeB"
   },
   "outputs": [
    {
     "ename": "ValueError",
     "evalue": "shapes (200,2) and (200,200) not aligned: 2 (dim 1) != 200 (dim 0)",
     "output_type": "error",
     "traceback": [
      "\u001b[1;31m---------------------------------------------------------------------------\u001b[0m",
      "\u001b[1;31mValueError\u001b[0m                                Traceback (most recent call last)",
      "\u001b[1;32m<ipython-input-76-290bc1e93412>\u001b[0m in \u001b[0;36m<module>\u001b[1;34m\u001b[0m\n\u001b[1;32m----> 1\u001b[1;33m \u001b[0mT\u001b[0m \u001b[1;33m=\u001b[0m \u001b[0mtransform_full\u001b[0m\u001b[1;33m(\u001b[0m\u001b[0mX_norm\u001b[0m\u001b[1;33m,\u001b[0m \u001b[0meigvecs\u001b[0m\u001b[1;33m)\u001b[0m\u001b[1;33m\u001b[0m\u001b[1;33m\u001b[0m\u001b[0m\n\u001b[0m\u001b[0;32m      2\u001b[0m \u001b[1;33m\u001b[0m\u001b[0m\n\u001b[0;32m      3\u001b[0m \u001b[0mplt\u001b[0m\u001b[1;33m.\u001b[0m\u001b[0mfigure\u001b[0m\u001b[1;33m(\u001b[0m\u001b[0mfigsize\u001b[0m\u001b[1;33m=\u001b[0m\u001b[1;33m(\u001b[0m\u001b[1;36m10\u001b[0m\u001b[1;33m,\u001b[0m\u001b[1;36m10\u001b[0m\u001b[1;33m)\u001b[0m\u001b[1;33m)\u001b[0m\u001b[1;33m\u001b[0m\u001b[1;33m\u001b[0m\u001b[0m\n\u001b[0;32m      4\u001b[0m \u001b[1;32mdef\u001b[0m \u001b[0mdraw_vector\u001b[0m\u001b[1;33m(\u001b[0m\u001b[0mv0\u001b[0m\u001b[1;33m,\u001b[0m \u001b[0mv1\u001b[0m\u001b[1;33m,\u001b[0m \u001b[0max\u001b[0m\u001b[1;33m=\u001b[0m\u001b[1;32mNone\u001b[0m\u001b[1;33m)\u001b[0m\u001b[1;33m:\u001b[0m\u001b[1;33m\u001b[0m\u001b[1;33m\u001b[0m\u001b[0m\n\u001b[0;32m      5\u001b[0m     \u001b[0max\u001b[0m \u001b[1;33m=\u001b[0m \u001b[0max\u001b[0m \u001b[1;32mor\u001b[0m \u001b[0mplt\u001b[0m\u001b[1;33m.\u001b[0m\u001b[0mgca\u001b[0m\u001b[1;33m(\u001b[0m\u001b[1;33m)\u001b[0m\u001b[1;33m\u001b[0m\u001b[1;33m\u001b[0m\u001b[0m\n",
      "\u001b[1;32m<ipython-input-75-35f6d2f8ab11>\u001b[0m in \u001b[0;36mtransform_full\u001b[1;34m(X, B)\u001b[0m\n\u001b[0;32m      8\u001b[0m         \u001b[0mT\u001b[0m\u001b[1;33m:\u001b[0m \u001b[0mdataset\u001b[0m \u001b[0mtransformado\u001b[0m \u001b[0msobre\u001b[0m \u001b[0mel\u001b[0m \u001b[0mnuevo\u001b[0m \u001b[0meje\u001b[0m \u001b[0mde\u001b[0m \u001b[0mcoordenadas\u001b[0m \u001b[1;33m(\u001b[0m\u001b[0mN\u001b[0m\u001b[1;33m,\u001b[0m \u001b[0mD\u001b[0m\u001b[1;33m)\u001b[0m\u001b[1;33m\u001b[0m\u001b[1;33m\u001b[0m\u001b[0m\n\u001b[0;32m      9\u001b[0m     \"\"\"  \n\u001b[1;32m---> 10\u001b[1;33m     \u001b[0mT\u001b[0m\u001b[1;33m=\u001b[0m\u001b[0mX\u001b[0m\u001b[1;33m.\u001b[0m\u001b[0mdot\u001b[0m\u001b[1;33m(\u001b[0m\u001b[0mB\u001b[0m\u001b[1;33m)\u001b[0m\u001b[1;33m\u001b[0m\u001b[1;33m\u001b[0m\u001b[0m\n\u001b[0m\u001b[0;32m     11\u001b[0m     \u001b[1;32mreturn\u001b[0m \u001b[0mT\u001b[0m\u001b[1;33m\u001b[0m\u001b[1;33m\u001b[0m\u001b[0m\n",
      "\u001b[1;31mValueError\u001b[0m: shapes (200,2) and (200,200) not aligned: 2 (dim 1) != 200 (dim 0)"
     ]
    }
   ],
   "source": [
    "T = transform_full(X_norm, eigvecs)\n",
    "\n",
    "plt.figure(figsize=(10,10))\n",
    "def draw_vector(v0, v1, ax=None):\n",
    "    ax = ax or plt.gca()\n",
    "    arrowprops=dict(arrowstyle='->',\n",
    "                    linewidth=2,\n",
    "                    shrinkA=0, shrinkB=0, color='r')\n",
    "    ax.annotate('', v1, v0, arrowprops=arrowprops)\n",
    "\n",
    "# plot data\n",
    "def pca_2d_plot(T, title='Principal Components'):\n",
    "    plt.scatter(T[:, 0], T[:, 1], alpha=0.2)\n",
    "    draw_vector([0, 0], [0, 1])\n",
    "    draw_vector([0, 0], [1, 0])\n",
    "    plt.axis('equal');\n",
    "    plt.gca().set(xlabel='component 1', ylabel='component 2',\n",
    "            title=title,\n",
    "            xlim=(-4, 4), ylim=(-2, 2))\n",
    "\n",
    "pca_2d_plot(T)"
   ]
  },
  {
   "cell_type": "markdown",
   "metadata": {
    "colab_type": "text",
    "id": "7AzZmMJE1RtZ"
   },
   "source": [
    "Como podemos observar, el eje de coordenadas ha sido rotado en base a los autovectores y la data ha sido proyectada sobre el nuevo eje de coordenadas. A continuación haremos la proyección usando solo algunas componentes."
   ]
  },
  {
   "cell_type": "markdown",
   "metadata": {
    "colab_type": "text",
    "id": "pPLglrx11qIy"
   },
   "source": [
    "### Reducción de Dimensionalidad\n",
    "\n",
    "En la sección anterior vimos la transformación de la data de un espacio vectorial inicial, a un subespacio generado por **todos** los autovectores también llamados componentes principales. Ahora realizaremos el mismo proceso pero considerando solamente **algunos** autovectores. Como los autovectores están ordenados con respecto a sus autovalores, las primeras componentes capturarán la mayor varianza de la data, por tanto cuando reduzcamos la dimensionalidad de $D$ a $K$, siempre tomaremos en consideramos los primeros $K$ autovectores.\n",
    "\n",
    "$$T = X\\hat{B}$$\n",
    "\n",
    "donde $T$ es la transformación del espacio vectorial de nuestra data a un subespacio generado solamente por los $K$ primeros autovectores y $\\hat{B}$ es una matriz de dimensionalidad (D, K), es decir, una submatriz de $B$ que considera solamente las primeras $K$ columnas."
   ]
  },
  {
   "cell_type": "code",
   "execution_count": null,
   "metadata": {
    "colab": {},
    "colab_type": "code",
    "id": "LjjxWsJV3oHy"
   },
   "outputs": [],
   "source": [
    "def transform_data(X, B, K):\n",
    "    \"\"\"Transformar la data X al nuevo eje de coordenadas generado por B\n",
    "       considerando las primeras K columnas de B.\n",
    "    Args:\n",
    "        X: dataset (N, D)\n",
    "        B: matriz columna de autovectores (D, D)\n",
    "        K: número de componentes a considerar en la transformación\n",
    "\n",
    "    Returns:\n",
    "        T: dataset transformado sobre el nuevo eje de coordenadas (N, K)\n",
    "        B_k: matriz columna de los primeros K autovectores (D, K)\n",
    "    \"\"\"  \n",
    "    B_k = \n",
    "    T = \n",
    "    return T, B_k"
   ]
  },
  {
   "cell_type": "markdown",
   "metadata": {
    "colab_type": "text",
    "id": "ImKuGqGf5HCY"
   },
   "source": [
    "Es importante mencionar que en la función anterior estamos retornando la data con dimensionalidad reducida y los primeros $K$ autovectores que generan el subespacio reducido. Al igual que cuando escalamos nuestros datos (standardize), donde calculamos la media y desviación estándar solo sobre la data de entrenamiento y las usamos en la data de test, la matriz de autovectores se calcula solamente sobre la data de entrenamiento y se usa esa matriz para reducir la dimensionalidad de la data de test.\n",
    "\n",
    "\n",
    "Mostremos los resultados de la transformación:"
   ]
  },
  {
   "cell_type": "code",
   "execution_count": null,
   "metadata": {
    "colab": {},
    "colab_type": "code",
    "id": "ozwBUr0v5ihg"
   },
   "outputs": [],
   "source": [
    "X_pca, B_k = transform_data(X_norm, eigvecs, 1)\n",
    "\n",
    "print(\"Dimensión de data original: \", X_norm.shape)\n",
    "print(\"Dimensión de data transformada: \", X_pca.shape)\n",
    "\n",
    "print(\"\\n Dimensión de la matriz de transformación: \", B_k.shape)"
   ]
  },
  {
   "cell_type": "markdown",
   "metadata": {
    "colab_type": "text",
    "id": "7OJ7Exle6N7F"
   },
   "source": [
    "Visualizamos la data transformada:"
   ]
  },
  {
   "cell_type": "code",
   "execution_count": null,
   "metadata": {
    "colab": {},
    "colab_type": "code",
    "id": "46bvYxh66TaW"
   },
   "outputs": [],
   "source": [
    "plt.figure(figsize=(10,10))\n",
    "\n",
    "def pca_1d_plot(T, title='Principal Components'):\n",
    "  # plot data\n",
    "  plt.scatter(T[:, 0], np.zeros(T.shape[0]))\n",
    "  plt.axis('equal');\n",
    "  plt.gca().set(xlabel='component 1',\n",
    "          title=title,\n",
    "          xlim=(-4, 4), ylim=(-3, 3))\n",
    "pca_1d_plot(X_pca)"
   ]
  },
  {
   "cell_type": "markdown",
   "metadata": {
    "colab_type": "text",
    "id": "56PVAMii8Oke"
   },
   "source": [
    "Como podemos observar hemos transformado nuestra data de 2 dimensiones a 1 sola dimensión. La dimensión elegida es la que retiene la mayor varianza de los datos."
   ]
  },
  {
   "cell_type": "markdown",
   "metadata": {
    "colab_type": "text",
    "id": "205mxthN8bMn"
   },
   "source": [
    "### Reconstrucción de la data\n",
    "\n",
    "En la sección anterior hemos reducido la dimensionalidad de la data a una dimensión. Para entender mejor el efecto de esta reducción, podemos realizar la reconstrucción de la data mediante la transformación inversa de la data reducida, es decir, hallar la inversa de la matriz de autovectores y usarla para volver al eje de coordenadas inicial. Entonces tendremos lo siguiente:\n",
    "\n",
    "$$P = X\\hat{B}{\\hat{B}}^{-1} = T\\hat{B}^{-1}$$\n",
    "\n",
    "donde $T$ es la transformación que usamos para reducir la dimensionalidad, $\\hat{B}$ es la matriz conteniendo las primeras $K$ componentes y $\\hat{B}^{-1}$ es la matriz inversa de $\\hat{B}$. Debido a que $B$ es una matriz ortogonal, se cumple que:\n",
    "\n",
    "$$ \\hat{B}^{-1} = \\hat{B}^T$$\n",
    "\n",
    "por lo tanto la reconstrucción de la data sobre el eje de coordenadas inicial esta dado por:\n",
    "\n",
    "$$P = X\\hat{B}{\\hat{B}}^{T} = T\\hat{B}^{T}$$"
   ]
  },
  {
   "cell_type": "code",
   "execution_count": null,
   "metadata": {
    "colab": {},
    "colab_type": "code",
    "id": "E912KIlbAUKi"
   },
   "outputs": [],
   "source": [
    "def inverse_transform(T, B_k):\n",
    "    \"\"\"Reconstruir la data inicial a partir de la data transformada,\n",
    "       aplicando la transformación inversa de las componentes.\n",
    "\n",
    "    Args:\n",
    "        T: dataset transformado sobre el nuevo eje de coordenadas (N, K)\n",
    "        B_k: matriz columna de los primeros K autovectores (D, K)\n",
    "\n",
    "    Returns:\n",
    "        X_rec: dataset reconstruído (N, D)\n",
    "    \"\"\"      \n",
    "    X_rec = \n",
    "    return X_rec\n"
   ]
  },
  {
   "cell_type": "markdown",
   "metadata": {
    "colab_type": "text",
    "id": "EkC0vfqJCRht"
   },
   "source": [
    "Mostremos los resultados de la transformación inversa:"
   ]
  },
  {
   "cell_type": "code",
   "execution_count": null,
   "metadata": {
    "colab": {},
    "colab_type": "code",
    "id": "d8KepJBRCVVq"
   },
   "outputs": [],
   "source": [
    "X_rec = inverse_transform(X_pca, B_k)\n",
    "\n",
    "print(\"Dimensión de data reducida: \", X_pca.shape)\n",
    "print(\"Dimensión de data recuperada: \", X_rec.shape)"
   ]
  },
  {
   "cell_type": "markdown",
   "metadata": {
    "colab_type": "text",
    "id": "n2kpWkfwDdh7"
   },
   "source": [
    "Visualicemos la data reconstruida:"
   ]
  },
  {
   "cell_type": "code",
   "execution_count": null,
   "metadata": {
    "colab": {},
    "colab_type": "code",
    "id": "dKfMhHoCDion"
   },
   "outputs": [],
   "source": [
    "plt.figure(figsize=(10,10))\n",
    "plt.scatter(X_norm[:, 0], X_norm[:, 1], alpha=0.3)\n",
    "plt.scatter(X_rec[:, 0], X_rec[:, 1], alpha=0.8, color='blue')\n",
    "plt.axis('equal');"
   ]
  },
  {
   "cell_type": "markdown",
   "metadata": {
    "colab_type": "text",
    "id": "cT0V-9vHD19J"
   },
   "source": [
    "Los puntos claros son los datos originales, mientras que los puntos oscuros son lo datos reconstruidos o proyectados. Esto muestra de manera más clara lo que significa una reducción de dimensionalidad de PCA, ya que se elimina la información a lo largo del eje o ejes principales menos importantes, dejando solo el o los componente(s) de los datos con la mayor varianza. La fracción de varianza que se corta (proporcional a la extensión de puntos sobre la línea formada en esta figura) es aproximadamente una medida de cuánta \"información\" se descarta en esta reducción de dimensionalidad."
   ]
  },
  {
   "cell_type": "markdown",
   "metadata": {
    "colab_type": "text",
    "id": "UBh5iV6vHxxD"
   },
   "source": [
    "### Método Genérico para PCA\n",
    "\n",
    "En las secciones anteriores hemos implementado PCA paso a paso. Ahora encapsularemos todo ese proceso en un solo método que recibirá como entrada la data estandarizada y el número de componentes, y retornará la data en una dimensionalidad reducida."
   ]
  },
  {
   "cell_type": "code",
   "execution_count": null,
   "metadata": {
    "colab": {},
    "colab_type": "code",
    "id": "-Qe1OsT0KFDs"
   },
   "outputs": [],
   "source": [
    "def PCA(X, K):\n",
    "    \"\"\"Reducción de dimensionalidad de un conjunto de datos X usando K \n",
    "       componentes\n",
    "\n",
    "    Args:\n",
    "        X: dataset (N, D), se asume que la data ya está estandarizada\n",
    "        K: número de componentes a considerar en la transformación\n",
    "\n",
    "    Returns:\n",
    "        T: dataset transformado sobre el nuevo eje de coordenadas (N, K)\n",
    "        B_k: matriz columna de los primeros K autovectores (D, K)\n",
    "    \"\"\" \n",
    "    # 1. Calcular la matriz de covarianza para las características\n",
    "    \n",
    "\n",
    "    # 2. Calcular los autovalores y autovectores de la matriz de covarianza\n",
    "\n",
    "\n",
    "    # 3. Seleccionar 'K' autovectores y transformar la data original\n",
    "    T, B_k = \n",
    "\n",
    "    return T, B_k"
   ]
  },
  {
   "cell_type": "markdown",
   "metadata": {
    "colab_type": "text",
    "id": "2-l2RT1lHhgF"
   },
   "source": [
    "Probemos la implementación mediante visualizaciones para $K = 1$ y $K = 2$. Las visualizaciones deben de ser las mismas que las mostradas en pasos anteriores"
   ]
  },
  {
   "cell_type": "code",
   "execution_count": null,
   "metadata": {
    "colab": {},
    "colab_type": "code",
    "id": "q_jT8u2KNQKG"
   },
   "outputs": [],
   "source": [
    "# Obtenemos data reducida 2D\n",
    "T2, _= PCA(X_norm, 2)\n",
    "\n",
    "# Obtenemos data reducida 1D\n",
    "T1, _= PCA(X_norm, 1)\n",
    "\n",
    "# Visualización\n",
    "plt.figure(figsize=(10,5))\n",
    "plt.subplot(1, 2, 1)\n",
    "pca_2d_plot(T2, \"Principal Components 2D\")\n",
    "plt.subplot(1, 2, 2)\n",
    "pca_1d_plot(T1, \"Principal Components 1D\")"
   ]
  },
  {
   "cell_type": "markdown",
   "metadata": {
    "colab_type": "text",
    "id": "QrpTvr5R38qG"
   },
   "source": [
    "### PCA usando Singular Value Decomponsition (SVD)\n",
    "\n",
    "Anteriormente hemos implementado PCA haciendo uso de descomposión espectral (Eigendecomposition). En este parte del taller, haremos uso de SVD, el cual es una forma más simple y eficiente de implementar debido a que podemos obtener directamente los autovectores y autovalores de la matriz de covarianza, además de tener los autovalores ya ordenados de mayor a menor. SVD descompone una matriz de cualquier dimensión (N, D) en tres matrices:\n",
    "\n",
    "$$ X = U S V^T$$\n",
    "\n",
    "donde $U$ es una matriz ortogonal que contiene los autovectores de la matriz $XX^T$, $S$ es una matriz diagonal que contiene los autovalores de la matriz $X^TX$ y $V$ es una matriz ortogonal que contiene los autovectores de la matriz $X^TX$. Como en nuestro problema estamos interesados en hallar los autovectores y autovalores de la matriz de covarianza ($X^TX$), entonces podemos usar SVD para obtenerlos directamente. Los pasos para reducir la dimensionalidad haciendo uso de SVD son:\n",
    "\n",
    "1. Estandarizar o centrar la data.\n",
    "2. Descomponer la matriz que representa la data ($X$) haciendo uso de SVD.\n",
    "3. Como la matriz $V$ contiene los autovectores de la matriz de covarianza, hallamos la transpuesta de la matriz que retorna SVD. Tener en cuenta que la última matriz de SVD es $V^T$ pero nosotros necesitamos $V$.\n",
    "4. Aplicar la transformación de $X$ haciendo uso de las primeras $K$ columnas de $V$ ($T$ = $X\\hat{V}$) de la misma forma que hicimos en secciones anteriores.\n",
    "\n",
    "Para descomponer la matriz haremos uso de la librería de [linalg](https://numpy.org/doc/1.18/reference/generated/numpy.linalg.svd.html) que nos retorna las $3$ matrices antes mencionadas. Tomar en consideranción que la líbreria retorna $S$ como un vector."
   ]
  },
  {
   "cell_type": "code",
   "execution_count": null,
   "metadata": {
    "colab": {},
    "colab_type": "code",
    "id": "NVwfiuBv3-jD"
   },
   "outputs": [],
   "source": [
    "def PCA_SVD(X, K):\n",
    "    \"\"\"Reducción de dimensionalidad haciendo uso de SVD sobre un \n",
    "       conjunto de datos X usando K componentes\n",
    "\n",
    "    Args:\n",
    "        X: dataset (N, D), se asume que la data ya está estandarizada\n",
    "        K: número de componentes a considerar en la transformación\n",
    "\n",
    "    Returns:\n",
    "        T: dataset transformado sobre el nuevo eje de coordenadas (N, K)\n",
    "        V_k: matriz columna de los primeros K autovectores (D, K)\n",
    "    \"\"\" \n",
    "    # 1. Descomponer la matriz X haciendo uso de np.linalg.svd\n",
    "    U, S, Vt = \n",
    "    \n",
    "    # 2. Obtener la matriz 'V' que contiene los autovectores de la matriz de covarianza\n",
    "    V = \n",
    "\n",
    "    # 3. Seleccionar K autovectores y transformar la data original\n",
    "    T, V_k = \n",
    "\n",
    "    return T, V_k  "
   ]
  },
  {
   "cell_type": "markdown",
   "metadata": {
    "colab_type": "text",
    "id": "dDOHWGfd4HH3"
   },
   "source": [
    "Probemos la implementación mediante visualizaciones para $K=1$ y $K=2$. Las visualizaciones deben de ser las mismas que las mostradas en pasos anteriores"
   ]
  },
  {
   "cell_type": "code",
   "execution_count": null,
   "metadata": {
    "colab": {},
    "colab_type": "code",
    "id": "8Pg9CkII4JxR"
   },
   "outputs": [],
   "source": [
    "# Obtenemos data reducida 2D\n",
    "T2, _= PCA_SVD(X_norm, 2)\n",
    "\n",
    "# Obtenemos data reducida 1D\n",
    "T1, _= PCA_SVD(X_norm, 1)\n",
    "\n",
    "# Visualización\n",
    "plt.figure(figsize=(10,5))\n",
    "plt.subplot(1, 2, 1)\n",
    "pca_2d_plot(T2, \"Principal Components 2D\")\n",
    "plt.subplot(1, 2, 2)\n",
    "pca_1d_plot(T1, \"Principal Components 1D\")"
   ]
  },
  {
   "cell_type": "markdown",
   "metadata": {
    "colab_type": "text",
    "id": "fpPiHZli4NqB"
   },
   "source": [
    "### Reducir la dimensionalidad a partir de las matrices $U$ y $S$ (opcional)\n",
    "\n",
    "Es posible reducir la dimensionalidad haciendo uso de las matrices $U$ y $S$ de SVD. Para ello, usaremos propiedades de matrices ortogonales. Para empezar, nosotros sabemos que la matriz $V$ contiene los autovectores de la matriz de covarianza $X^TX$ y para transformar nuestros datos al nuevo subespacio formado por los autovectores (reducir dimensionalidad), simplemente tenemos que usar la matriz $V$, es decir, $$T = XV$$\n",
    "\n",
    "Además, tenemos que la descomposición en valores singulares (SVD) esta dada por:\n",
    "\n",
    "$$X = USV^T$$\n",
    "\n",
    "combinamos ambas formulaciones, multiplicando $V$ en SVD:\n",
    "\n",
    "$$XV = USV^TV$$ \n",
    "\n",
    "debido a que $V$ es una matriz ortogonal, tenemos que: $V^TV = I$, donde $I$ es la matriz identidad. Por lo tanto:\n",
    "\n",
    "$$XV = US$$\n",
    "\n",
    "ya que $XV$ es nuestra transformación al nuevo subespacio donde podemos reducir la dimensionalidad, podemos concluir que para reducir la dimensionalidad en base a $U$ y $S$ basta con multiplicarlos.\n",
    "\n",
    "$$T = US$$\n",
    "\n",
    "Esta forma de reducir la dimensionalidad es aplicada en el método `fit_transform` de la implementación de la librería `scikit-learn`. Tener en cuenta que esta tranformación solo se aplica en la data de entrenamiento, para la data de test aún es necesaria la matriz $V$. por ello en la siguiente implementación aplicaremos la transformación sobre $X$ pero la matriz $\\hat{V}$ debe ser retornada de la misma forma que lo hicimos anteriormente, es decir, hallar la transpuesta de $V^T$ y seleccionar las primeras $K$ columnas ($\\hat{V}$)."
   ]
  },
  {
   "cell_type": "code",
   "execution_count": null,
   "metadata": {
    "colab": {},
    "colab_type": "code",
    "id": "6xpfrT-i4PjG"
   },
   "outputs": [],
   "source": [
    "def PCA_SVD2(X, K):\n",
    "    \"\"\"Reducción de dimensionalidad haciendo uso de SVD sobre un \n",
    "       conjunto de datos X usando K componentes\n",
    "\n",
    "    Args:\n",
    "        X: dataset (N, D), se asume que la data ya está estandarizada\n",
    "        K: número de componentes a considerar en la transformación\n",
    "\n",
    "    Returns:\n",
    "        T: dataset transformado sobre el nuevo eje de coordenadas (N, K)\n",
    "        V_k: matriz columna de los primeros K autovectores (D, K)\n",
    "    \"\"\" \n",
    "    # 1. Descomponer la matriz X haciendo uso de np.linalg.svd\n",
    "    U, S, Vt = \n",
    "    \n",
    "    # 2. Transformar la data haciendo uso de la matriz U (N,N) y el vector\n",
    "    #    S (N)\n",
    "    T = \n",
    "    \n",
    "    # 3. Obtener la matriz 'V' que contiene los autovectores de la matriz de covarianza\n",
    "    V = \n",
    "\n",
    "    # 4. Seleccionar K autovectores\n",
    "    V_k = \n",
    "    \n",
    "    return T, V_k "
   ]
  },
  {
   "cell_type": "markdown",
   "metadata": {
    "colab_type": "text",
    "id": "hQVJMbDe4RLb"
   },
   "source": [
    "Probemos la implementación mediante visualizaciones para $K=1$ y $K=2$. Las visualizaciones deben de ser las mismas que las mostradas en pasos anteriores"
   ]
  },
  {
   "cell_type": "code",
   "execution_count": null,
   "metadata": {
    "colab": {},
    "colab_type": "code",
    "id": "bqR_9eoJ4Sz3"
   },
   "outputs": [],
   "source": [
    "# Obtenemos data reducida 2D\n",
    "T2, _ = PCA_SVD2(X_norm, 2)\n",
    "\n",
    "# Obtenemos data reducida 1D\n",
    "T1, _ = PCA_SVD2(X_norm, 1)\n",
    "\n",
    "# Visualización\n",
    "plt.figure(figsize=(10,5))\n",
    "plt.subplot(1, 2, 1)\n",
    "pca_2d_plot(T2, \"Principal Components 2D\")\n",
    "plt.subplot(1, 2, 2)\n",
    "pca_1d_plot(T1, \"Principal Components 1D\")"
   ]
  },
  {
   "cell_type": "markdown",
   "metadata": {
    "colab_type": "text",
    "id": "E9nFmw34P7Sa"
   },
   "source": [
    "## Aplicación sobre el conjunto de datos de iris\n",
    "\n",
    "En esta sección aplicaremos la implementación previamente realizada sobre el conjunto de datos de [iris](https://archive.ics.uci.edu/ml/datasets/Iris). El dataset contiene $150$ muestras de $3$ clases (setosa, versicolor y virginica) y $4$ características (largo del sépalo, ancho del sépalo, largo del pétalo, ancho del pétalo)."
   ]
  },
  {
   "cell_type": "code",
   "execution_count": null,
   "metadata": {
    "colab": {},
    "colab_type": "code",
    "id": "AeI6iRsvSfMw"
   },
   "outputs": [],
   "source": [
    "### Cargando el dataset\n",
    "from sklearn import datasets\n",
    "iris = datasets.load_iris()\n",
    "\n",
    "# conjunto de datos\n",
    "X = iris.data\n",
    "\n",
    "# etiquetas\n",
    "y = iris.target"
   ]
  },
  {
   "cell_type": "markdown",
   "metadata": {
    "colab_type": "text",
    "id": "Gs7RBS4sSttU"
   },
   "source": [
    "### Particionamiento de Datos\n",
    "\n",
    "Como no contamos con un conjunto de datos de prueba (test), particionaremos los datos usando hold-out."
   ]
  },
  {
   "cell_type": "code",
   "execution_count": null,
   "metadata": {
    "colab": {},
    "colab_type": "code",
    "id": "fZZ3LsjIS4jj"
   },
   "outputs": [],
   "source": [
    "from sklearn.model_selection import train_test_split\n",
    "\n",
    "X_train, X_test, y_train, y_test = train_test_split(X, y, test_size=0.3, random_state=42)\n",
    "\n",
    "print('Train size: ', X_train.shape, 'Test size: ', X_test.shape)"
   ]
  },
  {
   "cell_type": "markdown",
   "metadata": {
    "colab_type": "text",
    "id": "aSyj6WkRTZxD"
   },
   "source": [
    "Como tenemos $4$ características, no podemos visualizar directamente la data. Por ello, usaremos PCA para reducir la dimensionalidad y visualizar la data en un menor espacio de características. Por el momento mostraremos algunas filas de los datos:"
   ]
  },
  {
   "cell_type": "code",
   "execution_count": null,
   "metadata": {
    "colab": {},
    "colab_type": "code",
    "id": "Z4n-r791Undg"
   },
   "outputs": [],
   "source": [
    "print(\"Algunos datos de entrenamiento\")\n",
    "print(X_train[0:5])\n",
    "\n",
    "print(\"\\nAlgunas etiquetas del dataset\")\n",
    "print(y_train[0:5])"
   ]
  },
  {
   "cell_type": "markdown",
   "metadata": {
    "colab_type": "text",
    "id": "mkQ7F67OVGC4"
   },
   "source": [
    "### Estandarizar la Data\n",
    "\n",
    "El primer paso antes de realizar PCA es estandarizar la data"
   ]
  },
  {
   "cell_type": "code",
   "execution_count": null,
   "metadata": {
    "colab": {},
    "colab_type": "code",
    "id": "aP49fjzoVLc8"
   },
   "outputs": [],
   "source": [
    "X_train_norm, X_train_mu, X_train_std = standardize(X_train)\n",
    "\n",
    "print(\"Algunos datos de entrenamiento estandarizados\")\n",
    "print(X_train_norm[0:5])"
   ]
  },
  {
   "cell_type": "markdown",
   "metadata": {
    "colab_type": "text",
    "id": "qWunX-dHVocn"
   },
   "source": [
    "Usaremos la media y desviación estándar calculadas en la data de entrenamiento para estandarizar la data de test"
   ]
  },
  {
   "cell_type": "code",
   "execution_count": null,
   "metadata": {
    "colab": {},
    "colab_type": "code",
    "id": "jYZl3OlEV2wL"
   },
   "outputs": [],
   "source": [
    "# TODO: Estandarizar la data X_test usando X_train_mu y X_train_std\n",
    "X_test_norm = \n",
    "\n",
    "print(\"Algunos datos de test estandarizados\")\n",
    "print(X_test_norm[0:5])"
   ]
  },
  {
   "cell_type": "markdown",
   "metadata": {
    "colab_type": "text",
    "id": "hj17MEk8Wjww"
   },
   "source": [
    "### Reducción de dimensionalidad\n",
    "\n",
    "Usaremos nuestra implementación de PCA para reducir la dimensionalidad de los datos. El primer paso es usar la data de entrenamiento para calcular la matriz de componentes principales, $B$, la cual será usada para proyectar la data de test, de forma similar a lo que hicimos en la estandarización."
   ]
  },
  {
   "cell_type": "code",
   "execution_count": null,
   "metadata": {
    "colab": {},
    "colab_type": "code",
    "id": "9vWvH9yoXeeR"
   },
   "outputs": [],
   "source": [
    "# TODO: Usar el método PCA, previamente implementado, para reducir la \n",
    "# dimensionalidad de la data de entrenamiento a 2 dimensiones y obtener \n",
    "# la matriz de componentes principales\n",
    "X_train_pca, B_train = \n",
    "\n",
    "print(\"Dimensión de data de entrenamiento original: \", X_train_norm.shape)\n",
    "print(\"Dimensión de data de entrenamiento transformada: \", X_train_pca.shape)\n",
    "print(\"Dimensión de matriz de componentes: \", B_train.shape)"
   ]
  },
  {
   "cell_type": "markdown",
   "metadata": {
    "colab_type": "text",
    "id": "VpH_H8YkYxqB"
   },
   "source": [
    "Usaremos la matriz de componentes calculada en la data de entrenamiento para reducir la dimensionalidad de la data de test"
   ]
  },
  {
   "cell_type": "code",
   "execution_count": null,
   "metadata": {
    "colab": {},
    "colab_type": "code",
    "id": "eVuyYB42ZIIN"
   },
   "outputs": [],
   "source": [
    "# TODO: Reducir la dimensionalidad de la data de test estandarizada\n",
    "# (X_test_norm) usando la matriz de componentes B_train.\n",
    "# Recordar que la transformación es una multiplicación de matrices\n",
    "X_test_pca = \n",
    "\n",
    "print(\"Dimensión de data de test original: \", X_test_norm.shape)\n",
    "print(\"Dimensión de data de test transformada: \", X_test_pca.shape)"
   ]
  },
  {
   "cell_type": "markdown",
   "metadata": {
    "colab_type": "text",
    "id": "4boeqrnBaIBX"
   },
   "source": [
    "### Visualización \n",
    "\n",
    "A diferencia del inicio, donde nuestra data original posee $4$ características, podemos usar la data transformada en $2$ dimensiones para visualizarla."
   ]
  },
  {
   "cell_type": "code",
   "execution_count": null,
   "metadata": {
    "colab": {},
    "colab_type": "code",
    "id": "0TEDp-SobNaK"
   },
   "outputs": [],
   "source": [
    "def visualizar_iris_dataset(X_train, y_train, X_test, y_test):\n",
    "    plt.subplots(figsize =(15, 5))\n",
    "    plt.subplot(1, 2, 1)\n",
    "    for i in range(0,3):    \n",
    "        plt.scatter(X_train[y_train==i,0], X_train[y_train==i,1])\n",
    "    plt.title('Train Dataset')\n",
    "    plt.xlabel('PC1')\n",
    "    plt.ylabel('PC2')\n",
    "    plt.legend(['Iris-setosa', 'Iris-versicolor', 'Iris-virginica'])\n",
    "\n",
    "    plt.subplot(1, 2, 2)\n",
    "    for i in range(0,3):    \n",
    "        plt.scatter(X_test[y_test==i,0], X_test[y_test==i,1])\n",
    "    plt.title('Test Dataset')\n",
    "    plt.xlabel('PC1')\n",
    "    plt.ylabel('PC2')\n",
    "    plt.legend(['Iris-setosa', 'Iris-versicolor', 'Iris-virginica'])\n",
    "    plt.show()    \n",
    "\n",
    "visualizar_iris_dataset(X_train_pca, y_train, X_test_pca, y_test)"
   ]
  },
  {
   "cell_type": "markdown",
   "metadata": {
    "colab_type": "text",
    "id": "XtIPKLd8fFo8"
   },
   "source": [
    "### Seleccionando el Número de Componentes Principales\n",
    "\n",
    "Una parte vital del uso de PCA en la práctica es la capacidad de estimar cuántas componentes se necesitan para describir los datos. Esto se puede determinar observando el **ratio o porcentaje de la varianza retenida** en función del número de componentes. Por ello, usaremos los autovalores obtenidos a partir de la matriz de covarianza, ya que los autovalores determinan la varianza retenida por cada componente de manera individual. Por lo tanto, el ratio individual de cada componente está dado por:\n",
    "\n",
    "$$r_i = \\frac{\\lambda_i}{ \\sum_{i=0}^K \\lambda_i} $$\n",
    "\n",
    "donde $\\lambda_i$ es el autovalor correspondiente al $i$-ésimo autovector, $K$ es el número de componentes principales y $r_i$ el ratio de cada componente. Como nuestros autovalores están ordenados de mayor a menor, el primer autovalor es el valor de la mayor varianza retenida por el primer autovector, el segundo autovalor es el valor de la segunda mayor varianza retenida por el segundo autovector, etc. Por lo tanto, el ratio $r_1$ posee la mayor varianza retenida, el ratio $r_2$ posee la segunda mayor varianza retenida, etc. Como el ratio es un valor normalizado de los autovalores, tenemos que:\n",
    "\n",
    "$$ R = \\sum_{i=0}^K r_i = 1 $$\n",
    "\n",
    "es decir, si uso todas las componentes tenemos que: $R = 1$, lo cual me indica que estoy reteniendo toda la varianza de mi data. Si uso menos componentes, el valor del ratio acumulado, $R$, se irá reduciendo. Como mi objetivo es mantener lo más posible la variabilidad de mis datos en un dimensión reducida, entonces vamos a buscar un $R$ con un valor cercano a $1$, por ejemplo: $0.96$, $0.98$, etc. En la práctica se suelen considerar valores $\\geq0.95$, también es bueno hacer visualizaciones de la varianza retenida.\n",
    "\n",
    "\n",
    "Debido a que nuestra implementación del método PCA no retorna la lista de autovalores, haremos una implementación independiente. Sin embargo, es muy recomendable implementar todo lo anterior en una clase ya que es más fácil adicionar componentes como el que tenemos ahora. Como este es un tutorial de implementación, procederemos con métodos. Más adelante usaremos la implementación de la librería por lo que no habrá problemas."
   ]
  },
  {
   "cell_type": "code",
   "execution_count": null,
   "metadata": {
    "colab": {},
    "colab_type": "code",
    "id": "ZSi1Z9jGn7dV"
   },
   "outputs": [],
   "source": [
    "def retained_variance(X):\n",
    "    \"\"\"Varianza retenida de manera individual y acumulada de las componentes \n",
    "       principales. \n",
    "       \n",
    "       Para calcular la varianza retenida normalizada (ratio):\n",
    "            retained_var(i) = autovalor(i)/ Σ(autovalores)\n",
    "       Para calcular la varianza retenida normalizada acumulada:\n",
    "            cum_retained_var(i) = Σ retained_var(0,i),\n",
    "       es decir, suma acumulada de retained_var del indice 0 al indice actual i\n",
    "\n",
    "    Args:\n",
    "        X: dataset (N, D), se asume que la data ya está estandarizada\n",
    "\n",
    "    Returns:\n",
    "        retained_var: lista con la varianza retenida de cada componente (D)    \n",
    "        cum_retained_var: lista con la varianza retenida acumulada (D)\n",
    "\n",
    "    \"\"\" \n",
    "    # Calcular la matriz de covarianza para las características\n",
    "    cov = \n",
    "\n",
    "    # Calcular los autovalores y autovectores de la matriz de covarianza\n",
    "    (eigvals, eigvecs) =\n",
    "\n",
    "    # Calcular el ratio individual de la varianza retenida usando los autovalores.\n",
    "    # En este método el ratio 'r_i' lleva el nombre de 'retained_var' ya que el \n",
    "    # ratio es la varianza retenida normalizada\n",
    "    retained_var = \n",
    "\n",
    "    # Calcular el varianza retenida acumulada, puede hacer uso del método np.cumsum\n",
    "    cum_retained_var = \n",
    "\n",
    "    return retained_var, cum_retained_var"
   ]
  },
  {
   "cell_type": "markdown",
   "metadata": {
    "colab_type": "text",
    "id": "62WNPFD3yeMC"
   },
   "source": [
    "Probamos la implementación anterior:"
   ]
  },
  {
   "cell_type": "code",
   "execution_count": null,
   "metadata": {
    "colab": {},
    "colab_type": "code",
    "id": "1WHw0hYIyhNC"
   },
   "outputs": [],
   "source": [
    "retained_var, cum_retained_var = retained_variance(X_train_norm)\n",
    "\n",
    "print(\"Varianza retenida normalizada (ratio)\")\n",
    "print(retained_var)\n",
    "print(\"Varianza retenida acumulada\")\n",
    "print(cum_retained_var)"
   ]
  },
  {
   "cell_type": "markdown",
   "metadata": {
    "colab_type": "text",
    "id": "0CDK70y0zlFZ"
   },
   "source": [
    "Visualizamos la varianza retenida:"
   ]
  },
  {
   "cell_type": "code",
   "execution_count": null,
   "metadata": {
    "colab": {},
    "colab_type": "code",
    "id": "AUXGRXeszp7j"
   },
   "outputs": [],
   "source": [
    "def visualize_retained_variance(retained_var):\n",
    "    y_pos = np.arange(len(retained_var))\n",
    "    x_label = [ \"PC%d\"%(pos+1) for pos in y_pos]\n",
    "    plt.figure(figsize=(8,5))\n",
    "    plt.bar(y_pos, retained_var, align='center')\n",
    "    plt.xticks(y_pos, x_label)\n",
    "    plt.ylabel('Varianza retenida') \n",
    "    plt.title('Varianza retenida por componente principal')\n",
    "    plt.show()\n",
    "\n",
    "visualize_retained_variance(retained_var)    "
   ]
  },
  {
   "cell_type": "markdown",
   "metadata": {
    "colab_type": "text",
    "id": "DNH5W9fk3Ywa"
   },
   "source": [
    "Visualizamos la varianza retenida acumulada:"
   ]
  },
  {
   "cell_type": "code",
   "execution_count": null,
   "metadata": {
    "colab": {},
    "colab_type": "code",
    "id": "KieZA5Rl3cgf"
   },
   "outputs": [],
   "source": [
    "def visualize_cumulative_retained_variance(cum_retained_var):\n",
    "    y_pos = np.arange(len(cum_retained_var))\n",
    "    x_label = [ \"PC%d\"%(pos+1) for pos in y_pos]\n",
    "    plt.figure(figsize=(8,5))\n",
    "    plt.plot(y_pos, cum_retained_var, marker='o')\n",
    "    plt.xticks(y_pos, x_label)\n",
    "    plt.ylabel('Varianza retenida') \n",
    "    plt.title('Varianza retenida por componente principal')\n",
    "    plt.show()\n",
    "\n",
    "visualize_cumulative_retained_variance(cum_retained_var*100) "
   ]
  },
  {
   "cell_type": "markdown",
   "metadata": {
    "colab_type": "text",
    "id": "8rZyTA7_5INz"
   },
   "source": [
    "Como podemos observar en las gráficas anteriores, usando solo la primera componente principal retenemos el $70\\%$ de la varianza de nuestros datos, con las primeras dos componentes retenemos más del $95\\%$. Sin embargo, la tercera y cuarta componente no son del todo útiles en términos de la varianza retenida. Por lo tanto, podemos concluir que usando solamente dos componentes es suficiente para retener la mayor parte de la varianza de la data.\n",
    "\n",
    "Finalmente, implementaremos el método que nos devolverá el número de componentes que retengan una varianza acumulada ingresada:"
   ]
  },
  {
   "cell_type": "code",
   "execution_count": null,
   "metadata": {
    "colab": {},
    "colab_type": "code",
    "id": "CV4_O5Wa7QE9"
   },
   "outputs": [],
   "source": [
    "def number_of_components(cum_retained_var, desired_var):\n",
    "    \"\"\"Número de componentes que retengan la varianza deseada dada por \n",
    "       'desired_var'. Es necesario usar 'cum_retained_var' para definir el\n",
    "       número de componentes\n",
    "\n",
    "    Args:\n",
    "        cum_retained_var: lista con la varianza retenida acumulada(D)\n",
    "        desired_var: valor entre 0 y 1 indicando la varianza deseada\n",
    "\n",
    "    Returns:\n",
    "        num_components: Número de componentes que retienen la varianza deseada\n",
    "\n",
    "    \"\"\"    \n",
    "    num_components = 0\n",
    "    for i, cum_var in enumerate(cum_retained_var):\n",
    "        if cum_var <= desired_var:\n",
    "           num_components = i + 1\n",
    "        else:\n",
    "           break\n",
    "    return num_components"
   ]
  },
  {
   "cell_type": "markdown",
   "metadata": {
    "colab_type": "text",
    "id": "CUEZzb8-9ZLX"
   },
   "source": [
    "Probemos el método implementado:"
   ]
  },
  {
   "cell_type": "code",
   "execution_count": null,
   "metadata": {
    "colab": {},
    "colab_type": "code",
    "id": "3arkThFp9d4o"
   },
   "outputs": [],
   "source": [
    "percentage = 0.95\n",
    "num_components = number_of_components(cum_retained_var, percentage)\n",
    "\n",
    "print(\"%d components retienen una varianza acumulada <= %lf\" % (num_components, percentage) )"
   ]
  },
  {
   "cell_type": "markdown",
   "metadata": {
    "colab_type": "text",
    "id": "ygxsmW2E-X2w"
   },
   "source": [
    "## PCA - Librería scikit-learn\n",
    "\n",
    "Existen librerías que ya tienen una implementación de PCA. Es muy recomendable usar estas librerías por que son probadas por varios desarrolladores y usadas en múltiples productos. En esta oportunidad usaremos la implementación de [scikit-learn](https://scikit-learn.org/stable/modules/generated/sklearn.decomposition.PCA.html). Para ello importamos la librería:"
   ]
  },
  {
   "cell_type": "code",
   "execution_count": null,
   "metadata": {
    "colab": {},
    "colab_type": "code",
    "id": "TXV-XUd8ASS2"
   },
   "outputs": [],
   "source": [
    "from sklearn.decomposition import PCA"
   ]
  },
  {
   "cell_type": "markdown",
   "metadata": {
    "colab_type": "text",
    "id": "jXNZnkpf-HoC"
   },
   "source": [
    "Revisando la documentación podemos encontrar que PCA está implementado mediante Singular Value Decomposition (SVD) y posee diferentes atributos a los que podemos acceder:\n",
    "\n",
    "| Atributo | Descripción | \n",
    "|--|--|\n",
    "|  components_ | matriz de autovectores(eigenvectors)|\n",
    "|  explained_variance_ | varianza retenida por cada componente|\n",
    "|  explained_variance_ratio_ | varianza retenida normalizada por cada componente|\n",
    "|  mean_ | media de la data antes de centrarla |\n",
    "\n",
    "Como podemos observar, todos los atributos los hemos implementado y solamente cambia el nombre en relación a lo realizado por nosotros.\n",
    "\n",
    "Para la primera demostración, replicaremos el proceso realizado anteriormente sobre el dataset de Iris pero con la librería.\n"
   ]
  },
  {
   "cell_type": "markdown",
   "metadata": {
    "colab_type": "text",
    "id": "afeVSOiCFDVF"
   },
   "source": [
    "### Aplicación sobre el conjunto de datos de Iris\n",
    "\n",
    "Como ya sabemos acerca de este conjunto de datos, no profundizaremos en algunos pasos de la implementación. Para empezar, cargamos el dataset:"
   ]
  },
  {
   "cell_type": "code",
   "execution_count": null,
   "metadata": {
    "colab": {},
    "colab_type": "code",
    "id": "TilP35BOF77d"
   },
   "outputs": [],
   "source": [
    "### Cargando el dataset\n",
    "from sklearn import datasets\n",
    "iris = datasets.load_iris()\n",
    "\n",
    "# conjunto de datos\n",
    "X = iris.data\n",
    "\n",
    "# etiquetas\n",
    "y = iris.target"
   ]
  },
  {
   "cell_type": "markdown",
   "metadata": {
    "colab_type": "text",
    "id": "Vb0ocel4GOoJ"
   },
   "source": [
    "Ahora particionamos los datos, usamos el mismo valor de random_state usando anteriormente para replicar el particionamiento:"
   ]
  },
  {
   "cell_type": "code",
   "execution_count": null,
   "metadata": {
    "colab": {},
    "colab_type": "code",
    "id": "2-4UxYyRGQAp"
   },
   "outputs": [],
   "source": [
    "from sklearn.model_selection import train_test_split\n",
    "\n",
    "X_train, X_test, y_train, y_test = train_test_split(X, y, test_size=0.3, random_state=42)\n",
    "\n",
    "print('Train size: ', X_train.shape, 'Test size: ', X_test.shape)"
   ]
  },
  {
   "cell_type": "markdown",
   "metadata": {
    "colab_type": "text",
    "id": "1XfSOnlOGc_c"
   },
   "source": [
    "#### Estandarizar la Data\n",
    "\n",
    "El primer paso antes de realizar PCA es estandarizar la data:"
   ]
  },
  {
   "cell_type": "code",
   "execution_count": null,
   "metadata": {
    "colab": {},
    "colab_type": "code",
    "id": "7a5kDPxFGf3w"
   },
   "outputs": [],
   "source": [
    "# Importamos la librería\n",
    "from sklearn.preprocessing import StandardScaler\n",
    "\n",
    "# Definimos el escalador\n",
    "scaler = StandardScaler()\n",
    "\n",
    "# Estandarizamos la data de entrenamiento\n",
    "X_train_norm = scaler.fit_transform(X_train)\n",
    "\n",
    "# Estandarizamos la data de test\n",
    "X_test_norm = scaler.transform(X_test)\n",
    "\n",
    "# Imprimimos algunos datos\n",
    "print(\"Algunos datos de entrenamiento estandarizados\")\n",
    "print(X_train_norm[0:5])\n",
    "\n",
    "print(\"\\nAlgunos datos de test estandarizados\")\n",
    "print(X_test_norm[0:5])"
   ]
  },
  {
   "cell_type": "markdown",
   "metadata": {
    "colab_type": "text",
    "id": "1F0s-dn4HdNV"
   },
   "source": [
    "#### Reducción de dimensionalidad\n",
    "\n",
    "Usaremos la implementación de la librería scikit-learn para reducir la dimensionalidad. "
   ]
  },
  {
   "cell_type": "code",
   "execution_count": null,
   "metadata": {
    "colab": {},
    "colab_type": "code",
    "id": "gOEdKfVOIEGP"
   },
   "outputs": [],
   "source": [
    "# Definimos PCA\n",
    "pca = PCA(n_components=2)\n",
    "\n",
    "# Reducimos la dimensionalidad de la data de entrenamiento\n",
    "X_train_pca = pca.fit_transform(X_train_norm)\n",
    "\n",
    "# Reducimos la dimensionalidad de la data de test\n",
    "X_test_pca = pca.transform(X_test_norm)\n",
    "\n",
    "# Imprimimos las dimensiones\n",
    "print(\"Dimensión de data de entrenamiento original: \", X_train_norm.shape)\n",
    "print(\"Dimensión de data de entrenamiento transformada: \", X_train_pca.shape)\n",
    "\n",
    "print(\"\\nDimensión de data de entrenamiento original: \", X_test_norm.shape)\n",
    "print(\"Dimensión de data de entrenamiento transformada: \", X_test_pca.shape)"
   ]
  },
  {
   "cell_type": "markdown",
   "metadata": {
    "colab_type": "text",
    "id": "YwNJ61ODIptV"
   },
   "source": [
    "Visualización de la data con dimensionalidad reducida"
   ]
  },
  {
   "cell_type": "code",
   "execution_count": null,
   "metadata": {
    "colab": {},
    "colab_type": "code",
    "id": "KHu2uJbhIxyC"
   },
   "outputs": [],
   "source": [
    "visualizar_iris_dataset(X_train_pca, y_train, X_test_pca, y_test)"
   ]
  },
  {
   "cell_type": "markdown",
   "metadata": {
    "colab_type": "text",
    "id": "TUxrDPEHI6TN"
   },
   "source": [
    "#### Seleccionando el Número de Componentes Principales\n",
    "\n",
    "La implementación de scikit-learn nos brinda la varianza retenida normalizada (ratio) accediendo al atributo `explained_variance_ratio_`"
   ]
  },
  {
   "cell_type": "code",
   "execution_count": null,
   "metadata": {
    "colab": {},
    "colab_type": "code",
    "id": "waDXyILkK65Y"
   },
   "outputs": [],
   "source": [
    "variance_ratio = pca.explained_variance_ratio_\n",
    "\n",
    "print(\"Varianza retenida normalizada (ratio)\")\n",
    "print(variance_ratio)"
   ]
  },
  {
   "cell_type": "markdown",
   "metadata": {
    "colab_type": "text",
    "id": "Vdc6YF9gLXF8"
   },
   "source": [
    "Como podemos observar en el resultado anterior, la librería nos retorna la varianza retenida (explicada) normalizada acorde al número de componentes definidos inicialmente. Para replicar los resultados anteriores, tenemos que considerar todas las componentes principales, por tanto es necesario volver a ejecutar PCA sobre la data."
   ]
  },
  {
   "cell_type": "code",
   "execution_count": null,
   "metadata": {
    "colab": {},
    "colab_type": "code",
    "id": "lEMc2AghMcA9"
   },
   "outputs": [],
   "source": [
    "# Definimos PCA\n",
    "pca = PCA(n_components=4)\n",
    "\n",
    "# Transformamos la data de entrenamiento sin reducir la dimensionalidad\n",
    "X_train_pca = pca.fit_transform(X_train_norm)\n",
    "\n",
    "# Transformamos la data de test sin reducir la dimensionalidad\n",
    "X_test_pca = pca.transform(X_test_norm)"
   ]
  },
  {
   "cell_type": "markdown",
   "metadata": {
    "colab_type": "text",
    "id": "ILqOj010M6LK"
   },
   "source": [
    "Volvemos a imprimir la varianza retenida por parte de la librería"
   ]
  },
  {
   "cell_type": "code",
   "execution_count": null,
   "metadata": {
    "colab": {},
    "colab_type": "code",
    "id": "M-qNlM0kM8s5"
   },
   "outputs": [],
   "source": [
    "variance_ratio = pca.explained_variance_ratio_\n",
    "\n",
    "print(\"Varianza retenida normalizada (ratio)\")\n",
    "print(variance_ratio)"
   ]
  },
  {
   "cell_type": "markdown",
   "metadata": {
    "colab_type": "text",
    "id": "uKUOJXVWN2e0"
   },
   "source": [
    "Como podemos observar, ahora si tenemos la varianza retenida de todas las componentes. Procederemos con la visualización respectiva:"
   ]
  },
  {
   "cell_type": "code",
   "execution_count": null,
   "metadata": {
    "colab": {},
    "colab_type": "code",
    "id": "Yk_Sep3bOKQG"
   },
   "outputs": [],
   "source": [
    "visualize_retained_variance(variance_ratio) "
   ]
  },
  {
   "cell_type": "markdown",
   "metadata": {
    "colab_type": "text",
    "id": "wqeV8z0dOOBl"
   },
   "source": [
    "La varianza retenida normalizada por parte de la librería es la varianza de cada componente, por lo tanto, tenemos que calcular la varianza acumulada y visualizar."
   ]
  },
  {
   "cell_type": "code",
   "execution_count": null,
   "metadata": {
    "colab": {},
    "colab_type": "code",
    "id": "-eM23wDhOet7"
   },
   "outputs": [],
   "source": [
    "cum_var_ratio = np.cumsum(variance_ratio)\n",
    "visualize_cumulative_retained_variance(cum_var_ratio*100) "
   ]
  },
  {
   "cell_type": "markdown",
   "metadata": {
    "colab_type": "text",
    "id": "oChix8blOyEQ"
   },
   "source": [
    "Como podemos observar, hemos obtenido resultados similares a los de nuestra implementación."
   ]
  },
  {
   "cell_type": "markdown",
   "metadata": {
    "colab_type": "text",
    "id": "CTeK9YUHO4f3"
   },
   "source": [
    "## Aplicación sobre un conjunto de datos tabular\n",
    "\n",
    "En esta sección aplicaremos PCA para el conjunto de datos de [vinos](http://archive.ics.uci.edu/ml/datasets/Wine/).  El dataset contiene $178$ muestas de $3$ clases y $13$ características (Alcohol, Malic acid, Ash, Alcalinity of ash, Magnesium, Total phenols, Flavanoids, Nonflavanoid phenols, Proanthocyanins, Color intensity, Hue, OD280/OD315 of diluted wines, Proline) "
   ]
  },
  {
   "cell_type": "code",
   "execution_count": null,
   "metadata": {
    "colab": {},
    "colab_type": "code",
    "id": "BYt5SFIaSjzj"
   },
   "outputs": [],
   "source": [
    "# Importamos pandas para cargar los datos\n",
    "import pandas as pd\n",
    "\n",
    "# Descargamos la data\n",
    "data = pd.read_csv('https://archive.ics.uci.edu/ml/'\n",
    "                   'machine-learning-databases/wine/wine.data',\n",
    "                   header=None)\n",
    "\n",
    "# Características\n",
    "data.columns = ['Class label', 'Alcohol', 'Malic acid', 'Ash',\n",
    "                   'Alcalinity of ash', 'Magnesium', 'Total phenols',\n",
    "                   'Flavanoids', 'Nonflavanoid phenols', 'Proanthocyanins',\n",
    "                   'Color intensity', 'Hue',\n",
    "                   'OD280/OD315 of diluted wines', 'Proline']\n",
    "\n",
    "data.head()"
   ]
  },
  {
   "cell_type": "markdown",
   "metadata": {
    "colab_type": "text",
    "id": "-bnKXMXATmPU"
   },
   "source": [
    "Verificamos si hay datos NaN"
   ]
  },
  {
   "cell_type": "code",
   "execution_count": null,
   "metadata": {
    "colab": {},
    "colab_type": "code",
    "id": "MwL-IvMUTmbT"
   },
   "outputs": [],
   "source": [
    "print(\"NaN de cada columna\")\n",
    "print(data.isna().sum())"
   ]
  },
  {
   "cell_type": "markdown",
   "metadata": {
    "colab_type": "text",
    "id": "8KeqwLH4P2EZ"
   },
   "source": [
    "Mostramos algunas estadísticas de los datos"
   ]
  },
  {
   "cell_type": "code",
   "execution_count": null,
   "metadata": {
    "colab": {},
    "colab_type": "code",
    "id": "OHwmEt3zT1ss"
   },
   "outputs": [],
   "source": [
    "data.describe()"
   ]
  },
  {
   "cell_type": "markdown",
   "metadata": {
    "colab_type": "text",
    "id": "DQXIYP8dT-X7"
   },
   "source": [
    "Separamos las características de variable objetivo"
   ]
  },
  {
   "cell_type": "code",
   "execution_count": null,
   "metadata": {
    "colab": {},
    "colab_type": "code",
    "id": "35giHYEsT09e"
   },
   "outputs": [],
   "source": [
    "y = data['Class label']\n",
    "X = data.drop(columns=['Class label'])"
   ]
  },
  {
   "cell_type": "markdown",
   "metadata": {
    "colab_type": "text",
    "id": "nwgoeRckP2Ul"
   },
   "source": [
    "### Particionamiento del dataset\n",
    "\n",
    "Como no contamos con un conjunto de datos de prueba (test), particionaremos los datos usando hold-out."
   ]
  },
  {
   "cell_type": "code",
   "execution_count": null,
   "metadata": {
    "colab": {},
    "colab_type": "code",
    "id": "xbVz7OwzWSYp"
   },
   "outputs": [],
   "source": [
    "X_train, X_test, y_train, y_test = train_test_split(X, y, test_size=0.2, \n",
    "                                                    stratify=y,\n",
    "                                                    random_state=42)\n",
    "\n",
    "print('Train size: ', X_train.shape, 'Test size: ', X_test.shape)"
   ]
  },
  {
   "cell_type": "markdown",
   "metadata": {
    "colab_type": "text",
    "id": "SCwKtPrMWlfr"
   },
   "source": [
    "### Estandarizamos la data\n",
    "\n",
    "Ahora usaremos un pipeline para realizar todo el proceso de clasificación. Empezamos con un pipeline de preprocesamiento."
   ]
  },
  {
   "cell_type": "code",
   "execution_count": null,
   "metadata": {
    "colab": {},
    "colab_type": "code",
    "id": "RCxpojqbXC2w"
   },
   "outputs": [],
   "source": [
    "# Importamos la librería\n",
    "from sklearn.pipeline import Pipeline\n",
    "\n",
    "# Obtenemos nombres de características\n",
    "feature_names = X_train.columns\n",
    "\n",
    "# Creamos un pipeline de preprocesamiento\n",
    "preprocessor = Pipeline(steps=[('standardize', StandardScaler())])"
   ]
  },
  {
   "cell_type": "markdown",
   "metadata": {
    "colab_type": "text",
    "id": "RlOxZO5FboCz"
   },
   "source": [
    "### Clasificación con todas las características\n",
    "\n",
    "Clasificamos la data con un modelo simple como Regresión Logística\n"
   ]
  },
  {
   "cell_type": "code",
   "execution_count": null,
   "metadata": {
    "colab": {},
    "colab_type": "code",
    "id": "bYUZreVDcHm6"
   },
   "outputs": [],
   "source": [
    "# Importamos la librería\n",
    "from sklearn.linear_model import LogisticRegression\n",
    "\n",
    "# Definimos el modelo de clasificación\n",
    "model = LogisticRegression()\n",
    "\n",
    "# Creamos un pipeline para la clasificación\n",
    "baseline = Pipeline(steps=[('preprocessor', preprocessor),\n",
    "                           ('classifier', model)])\n",
    "\n",
    "# Entrenamos el pipeline con la data de entrenamiento\n",
    "baseline.fit(X_train, y_train)\n",
    "\n",
    "# Predecimos valores para la data de test\n",
    "y_pred = baseline.predict(X_test)\n",
    "\n",
    "# Mostramos el accuracy\n",
    "accuracy = (y_test == y_pred).mean()\n",
    "\n",
    "print(\"Baseline accuracy: %.3lf\" % accuracy )"
   ]
  },
  {
   "cell_type": "markdown",
   "metadata": {
    "colab_type": "text",
    "id": "As6VTMOnXgS3"
   },
   "source": [
    "### Selección de número de componentes\n",
    "\n",
    "Primero hacemos el análisis para poder determinar el número de características a usar. Para ello, realizamores las gráficas de la varianza retenida por cada componente. Como solo tenemos $13$ características, podemos usarlas todas."
   ]
  },
  {
   "cell_type": "code",
   "execution_count": null,
   "metadata": {
    "colab": {},
    "colab_type": "code",
    "id": "IXWNG8PfYnXq"
   },
   "outputs": [],
   "source": [
    "# Definimos PCA\n",
    "pca = PCA(n_components=13)\n",
    "\n",
    "# Definimos un pipeline que combina tanto el preprocesamiento como pca\n",
    "feature_extractor = Pipeline(steps=[('preprocessor', preprocessor),\n",
    "                                    ('pca', pca)])\n",
    "\n",
    "# Transformamos la data de entrenamiento sin reducir la dimensionalidad\n",
    "X_train_pca = feature_extractor.fit_transform(X_train)\n",
    "\n",
    "# Transformamos la data de test sin reducir la dimensionalidad\n",
    "X_test_pca = feature_extractor.transform(X_test)"
   ]
  },
  {
   "cell_type": "markdown",
   "metadata": {
    "colab_type": "text",
    "id": "_wUEQJkKZEcX"
   },
   "source": [
    "Obtenemos la varianza retenida normalizada (ratio) accediendo al atributo `explained_variance_ratio_` y calculamos la varianza cumulada"
   ]
  },
  {
   "cell_type": "code",
   "execution_count": null,
   "metadata": {
    "colab": {},
    "colab_type": "code",
    "id": "c0IFfAvfZPxM"
   },
   "outputs": [],
   "source": [
    "# Obtenemos la varianza retenida normalizada (ratio) para cada componente\n",
    "variance_ratio = feature_extractor.named_steps['pca'].explained_variance_ratio_\n",
    "\n",
    "# Calculamos la varianza acumulada\n",
    "cum_var_ratio = np.cumsum(variance_ratio)\n",
    "\n",
    "print(\"Varianza retenida normalizada (ratio)\")\n",
    "print(variance_ratio)\n",
    "print(\"Varianza retenida acumulada\")\n",
    "print(cum_var_ratio)"
   ]
  },
  {
   "cell_type": "markdown",
   "metadata": {
    "colab_type": "text",
    "id": "A9yeS1cAa6Z4"
   },
   "source": [
    "Ahora realizaremos las visualizaciónes correspondientes:"
   ]
  },
  {
   "cell_type": "code",
   "execution_count": null,
   "metadata": {
    "colab": {},
    "colab_type": "code",
    "id": "VX3r6VlLbCw_"
   },
   "outputs": [],
   "source": [
    "visualize_retained_variance(variance_ratio) "
   ]
  },
  {
   "cell_type": "code",
   "execution_count": null,
   "metadata": {
    "colab": {},
    "colab_type": "code",
    "id": "U1oT8mcNbFkV"
   },
   "outputs": [],
   "source": [
    "visualize_cumulative_retained_variance(cum_var_ratio*100) "
   ]
  },
  {
   "cell_type": "markdown",
   "metadata": {
    "colab_type": "text",
    "id": "eZRu0foAbKGR"
   },
   "source": [
    "Podemos observar que con $10$ características obtenemos más del $95\\%$ de la varianza retenida, por tanto, ese número es una buena opción."
   ]
  },
  {
   "cell_type": "markdown",
   "metadata": {
    "colab_type": "text",
    "id": "ZKyIofkrdpF0"
   },
   "source": [
    "### Clasificación con menos características\n",
    "\n",
    "A continuación, realizaremos la clasificación con un menor número de características, obtenidos a partir de PCA."
   ]
  },
  {
   "cell_type": "code",
   "execution_count": null,
   "metadata": {
    "colab": {},
    "colab_type": "code",
    "id": "bwYtx5oSduRf"
   },
   "outputs": [],
   "source": [
    "# Definimos el modelo de clasificación\n",
    "model = LogisticRegression()\n",
    "\n",
    "# Definimos PCA\n",
    "pca = PCA(n_components=10)\n",
    "# ejemplo ingresando porcentage de varianza retenida deseada\n",
    "# pca = PCA(n_components=0.9)\n",
    "\n",
    "# Creamos un pipeline para la clasificación\n",
    "model_pca = Pipeline(steps=[('preprocessor', preprocessor),\n",
    "                            ('pca', pca),\n",
    "                            ('classifier', model)])\n",
    "\n",
    "# Entrenamos el pipeline con la data de entrenamiento\n",
    "model_pca.fit(X_train, y_train)\n",
    "\n",
    "# Predecimos valores para la data de test\n",
    "y_pred = model_pca.predict(X_test)\n",
    "\n",
    "# Mostramos el accuracy\n",
    "accuracy = (y_test == y_pred).mean()\n",
    "\n",
    "print(\"PCA Model accuracy: %.3lf\" % accuracy )"
   ]
  },
  {
   "cell_type": "markdown",
   "metadata": {
    "colab_type": "text",
    "id": "3JrhOsDDe3Ya"
   },
   "source": [
    "Como podemos observar, hemos obtenido un resultado similar usando una menor dimensionalidad. También podemos hacer use del porcentaje de varianza retenida deseado en lugar del número de compontenes. Para ello, se coloca un valor entre 0 y 1 como n_components y  si deseamos saber el número de componentes hallado lo podemos hacer de la siguiente manera."
   ]
  },
  {
   "cell_type": "code",
   "execution_count": null,
   "metadata": {
    "colab": {},
    "colab_type": "code",
    "id": "iWFEPSAOfr0f"
   },
   "outputs": [],
   "source": [
    "model_pca.named_steps['pca'].n_components_"
   ]
  },
  {
   "cell_type": "code",
   "execution_count": null,
   "metadata": {
    "colab": {},
    "colab_type": "code",
    "id": "xLq_zQV8CuEK"
   },
   "outputs": [],
   "source": []
  }
 ],
 "metadata": {
  "colab": {
   "collapsed_sections": [],
   "name": "Taller_PCA.ipynb",
   "provenance": []
  },
  "kernelspec": {
   "display_name": "Python 3",
   "language": "python",
   "name": "python3"
  },
  "language_info": {
   "codemirror_mode": {
    "name": "ipython",
    "version": 3
   },
   "file_extension": ".py",
   "mimetype": "text/x-python",
   "name": "python",
   "nbconvert_exporter": "python",
   "pygments_lexer": "ipython3",
   "version": "3.7.6"
  }
 },
 "nbformat": 4,
 "nbformat_minor": 4
}
