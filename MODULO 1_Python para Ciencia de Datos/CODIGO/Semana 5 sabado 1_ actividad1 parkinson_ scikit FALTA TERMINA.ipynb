{
 "cells": [
  {
   "cell_type": "code",
   "execution_count": 4,
   "metadata": {},
   "outputs": [],
   "source": [
    "import pandas as pd"
   ]
  },
  {
   "cell_type": "code",
   "execution_count": 5,
   "metadata": {},
   "outputs": [],
   "source": [
    "test_df = pd.read_csv('parkinsons.data')"
   ]
  },
  {
   "cell_type": "code",
   "execution_count": 6,
   "metadata": {},
   "outputs": [],
   "source": [
    "column_names = [\n",
    "    'MDVP:Fo(Hz)',\n",
    "    'MDVP:Fhi(Hz)',\n",
    "    'MDVP:Flo(Hz)',\n",
    "    'MDVP:Jitter(%',\n",
    "    'MDVP:Jitter(Abs)',\n",
    "    'MDVP:RAP',\n",
    "    'MDVP:PPQ',\n",
    "    'Jitter:DDP',\n",
    "    'MDVP:Shimmer',\n",
    "    'MDVP:Shimmer(dB)',\n",
    "    'Shimmer:APQ3',\n",
    "    'Shimmer:APQ5',    \n",
    "    'Shimmer:DDA',\n",
    "    'NHR',\n",
    "    'HNR',\n",
    "    'status',\n",
    "    'RPDE',\n",
    "    'DFA',\n",
    "    'spread1',\n",
    "    'spread2',\n",
    "    'D2',ty\n",
    "    'PPE'\n",
    "]\n"
   ]
  },
  {
   "cell_type": "code",
   "execution_count": 7,
   "metadata": {},
   "outputs": [
    {
     "data": {
      "text/plain": [
       "name                 object\n",
       "MDVP:Fo(Hz)         float64\n",
       "MDVP:Fhi(Hz)        float64\n",
       "MDVP:Flo(Hz)        float64\n",
       "MDVP:Jitter(%)      float64\n",
       "MDVP:Jitter(Abs)    float64\n",
       "MDVP:RAP            float64\n",
       "MDVP:PPQ            float64\n",
       "Jitter:DDP          float64\n",
       "MDVP:Shimmer        float64\n",
       "MDVP:Shimmer(dB)    float64\n",
       "Shimmer:APQ3        float64\n",
       "Shimmer:APQ5        float64\n",
       "MDVP:APQ            float64\n",
       "Shimmer:DDA         float64\n",
       "NHR                 float64\n",
       "HNR                 float64\n",
       "status                int64\n",
       "RPDE                float64\n",
       "DFA                 float64\n",
       "spread1             float64\n",
       "spread2             float64\n",
       "D2                  float64\n",
       "PPE                 float64\n",
       "dtype: object"
      ]
     },
     "execution_count": 7,
     "metadata": {},
     "output_type": "execute_result"
    }
   ],
   "source": [
    "test_df.dtypes"
   ]
  },
  {
   "cell_type": "code",
   "execution_count": 53,
   "metadata": {},
   "outputs": [
    {
     "ename": "AttributeError",
     "evalue": "'DataFrame' object has no attribute 'column'",
     "output_type": "error",
     "traceback": [
      "\u001b[1;31m---------------------------------------------------------------------------\u001b[0m",
      "\u001b[1;31mAttributeError\u001b[0m                            Traceback (most recent call last)",
      "\u001b[1;32m<ipython-input-53-a6eeeafe5123>\u001b[0m in \u001b[0;36m<module>\u001b[1;34m\u001b[0m\n\u001b[0;32m      3\u001b[0m \u001b[1;33m\u001b[0m\u001b[0m\n\u001b[0;32m      4\u001b[0m \u001b[0mx\u001b[0m\u001b[1;33m=\u001b[0m\u001b[0mraiz\u001b[0m\u001b[1;33m\u001b[0m\u001b[1;33m\u001b[0m\u001b[0m\n\u001b[1;32m----> 5\u001b[1;33m \u001b[0my\u001b[0m\u001b[1;33m=\u001b[0m\u001b[0mraiz\u001b[0m\u001b[1;33m.\u001b[0m\u001b[0mcolumn\u001b[0m\u001b[1;33m[\u001b[0m\u001b[1;34m'status'\u001b[0m\u001b[1;33m]\u001b[0m\u001b[1;33m\u001b[0m\u001b[1;33m\u001b[0m\u001b[0m\n\u001b[0m\u001b[0;32m      6\u001b[0m \u001b[1;33m\u001b[0m\u001b[0m\n\u001b[0;32m      7\u001b[0m \u001b[0mX_test\u001b[0m\u001b[1;33m=\u001b[0m\u001b[0mraiz\u001b[0m\u001b[1;33m.\u001b[0m\u001b[0mdrop\u001b[0m\u001b[1;33m(\u001b[0m\u001b[1;34m'status'\u001b[0m\u001b[1;33m,\u001b[0m \u001b[0maxis\u001b[0m\u001b[1;33m=\u001b[0m\u001b[1;36m1\u001b[0m\u001b[1;33m)\u001b[0m\u001b[1;33m\u001b[0m\u001b[1;33m\u001b[0m\u001b[0m\n",
      "\u001b[1;32mC:\\ProgramData\\Anaconda3\\lib\\site-packages\\pandas\\core\\generic.py\u001b[0m in \u001b[0;36m__getattr__\u001b[1;34m(self, name)\u001b[0m\n\u001b[0;32m   5177\u001b[0m             \u001b[1;32mif\u001b[0m \u001b[0mself\u001b[0m\u001b[1;33m.\u001b[0m\u001b[0m_info_axis\u001b[0m\u001b[1;33m.\u001b[0m\u001b[0m_can_hold_identifiers_and_holds_name\u001b[0m\u001b[1;33m(\u001b[0m\u001b[0mname\u001b[0m\u001b[1;33m)\u001b[0m\u001b[1;33m:\u001b[0m\u001b[1;33m\u001b[0m\u001b[1;33m\u001b[0m\u001b[0m\n\u001b[0;32m   5178\u001b[0m                 \u001b[1;32mreturn\u001b[0m \u001b[0mself\u001b[0m\u001b[1;33m[\u001b[0m\u001b[0mname\u001b[0m\u001b[1;33m]\u001b[0m\u001b[1;33m\u001b[0m\u001b[1;33m\u001b[0m\u001b[0m\n\u001b[1;32m-> 5179\u001b[1;33m             \u001b[1;32mreturn\u001b[0m \u001b[0mobject\u001b[0m\u001b[1;33m.\u001b[0m\u001b[0m__getattribute__\u001b[0m\u001b[1;33m(\u001b[0m\u001b[0mself\u001b[0m\u001b[1;33m,\u001b[0m \u001b[0mname\u001b[0m\u001b[1;33m)\u001b[0m\u001b[1;33m\u001b[0m\u001b[1;33m\u001b[0m\u001b[0m\n\u001b[0m\u001b[0;32m   5180\u001b[0m \u001b[1;33m\u001b[0m\u001b[0m\n\u001b[0;32m   5181\u001b[0m     \u001b[1;32mdef\u001b[0m \u001b[0m__setattr__\u001b[0m\u001b[1;33m(\u001b[0m\u001b[0mself\u001b[0m\u001b[1;33m,\u001b[0m \u001b[0mname\u001b[0m\u001b[1;33m,\u001b[0m \u001b[0mvalue\u001b[0m\u001b[1;33m)\u001b[0m\u001b[1;33m:\u001b[0m\u001b[1;33m\u001b[0m\u001b[1;33m\u001b[0m\u001b[0m\n",
      "\u001b[1;31mAttributeError\u001b[0m: 'DataFrame' object has no attribute 'column'"
     ]
    }
   ],
   "source": [
    "#raiz.shape\n",
    "raiz=pd.read_csv('parkinsons.data', names=column_names)\n",
    "\n",
    "x=raiz\n",
    "y=raiz.column['status']\n",
    "\n",
    "X_test=raiz.drop('status', axis=1)\n",
    "y_test=raiz['status']\n"
   ]
  },
  {
   "cell_type": "code",
   "execution_count": 45,
   "metadata": {},
   "outputs": [],
   "source": [
    "from sklearn.model_selection import train_test_split\n",
    "\n",
    "x_train,x_test,y_train,y_test=train_test_split(x,y,test_size=0.2)"
   ]
  },
  {
   "cell_type": "code",
   "execution_count": 46,
   "metadata": {},
   "outputs": [],
   "source": [
    "train_df = x\n",
    "test_df=y"
   ]
  },
  {
   "cell_type": "code",
   "execution_count": 47,
   "metadata": {},
   "outputs": [
    {
     "data": {
      "text/plain": [
       "name            MDVP:Fo(Hz)    status\n",
       "phon_R01_S01_1  119.99200           1\n",
       "phon_R01_S01_2  122.40000           1\n",
       "phon_R01_S01_3  116.68200           1\n",
       "phon_R01_S01_4  116.67600           1\n",
       "Name: status, dtype: object"
      ]
     },
     "execution_count": 47,
     "metadata": {},
     "output_type": "execute_result"
    }
   ],
   "source": [
    "test_df.head()"
   ]
  },
  {
   "cell_type": "code",
   "execution_count": 15,
   "metadata": {},
   "outputs": [
    {
     "data": {
      "text/html": [
       "<div>\n",
       "<style scoped>\n",
       "    .dataframe tbody tr th:only-of-type {\n",
       "        vertical-align: middle;\n",
       "    }\n",
       "\n",
       "    .dataframe tbody tr th {\n",
       "        vertical-align: top;\n",
       "    }\n",
       "\n",
       "    .dataframe thead th {\n",
       "        text-align: right;\n",
       "    }\n",
       "</style>\n",
       "<table border=\"1\" class=\"dataframe\">\n",
       "  <thead>\n",
       "    <tr style=\"text-align: right;\">\n",
       "      <th></th>\n",
       "      <th></th>\n",
       "      <th>MDVP:Fo(Hz)</th>\n",
       "      <th>MDVP:Fhi(Hz)</th>\n",
       "      <th>MDVP:Flo(Hz)</th>\n",
       "      <th>MDVP:Jitter(%</th>\n",
       "      <th>MDVP:Jitter(Abs)</th>\n",
       "      <th>MDVP:RAP</th>\n",
       "      <th>MDVP:PPQ</th>\n",
       "      <th>Jitter:DDP</th>\n",
       "      <th>MDVP:Shimmer</th>\n",
       "      <th>MDVP:Shimmer(dB)</th>\n",
       "      <th>...</th>\n",
       "      <th>Shimmer:DDA</th>\n",
       "      <th>NHR</th>\n",
       "      <th>HNR</th>\n",
       "      <th>status</th>\n",
       "      <th>RPDE</th>\n",
       "      <th>DFA</th>\n",
       "      <th>spread1</th>\n",
       "      <th>spread2</th>\n",
       "      <th>D2</th>\n",
       "      <th>PPE</th>\n",
       "    </tr>\n",
       "  </thead>\n",
       "  <tbody>\n",
       "    <tr>\n",
       "      <td>name</td>\n",
       "      <td>MDVP:Fo(Hz)</td>\n",
       "      <td>MDVP:Fhi(Hz)</td>\n",
       "      <td>MDVP:Flo(Hz)</td>\n",
       "      <td>MDVP:Jitter(%)</td>\n",
       "      <td>MDVP:Jitter(Abs)</td>\n",
       "      <td>MDVP:RAP</td>\n",
       "      <td>MDVP:PPQ</td>\n",
       "      <td>Jitter:DDP</td>\n",
       "      <td>MDVP:Shimmer</td>\n",
       "      <td>MDVP:Shimmer(dB)</td>\n",
       "      <td>Shimmer:APQ3</td>\n",
       "      <td>...</td>\n",
       "      <td>Shimmer:DDA</td>\n",
       "      <td>NHR</td>\n",
       "      <td>HNR</td>\n",
       "      <td>status</td>\n",
       "      <td>RPDE</td>\n",
       "      <td>DFA</td>\n",
       "      <td>spread1</td>\n",
       "      <td>spread2</td>\n",
       "      <td>D2</td>\n",
       "      <td>PPE</td>\n",
       "    </tr>\n",
       "    <tr>\n",
       "      <td>phon_R01_S01_1</td>\n",
       "      <td>119.99200</td>\n",
       "      <td>157.30200</td>\n",
       "      <td>74.99700</td>\n",
       "      <td>0.00784</td>\n",
       "      <td>0.00007</td>\n",
       "      <td>0.00370</td>\n",
       "      <td>0.00554</td>\n",
       "      <td>0.01109</td>\n",
       "      <td>0.04374</td>\n",
       "      <td>0.42600</td>\n",
       "      <td>0.02182</td>\n",
       "      <td>...</td>\n",
       "      <td>0.06545</td>\n",
       "      <td>0.02211</td>\n",
       "      <td>21.03300</td>\n",
       "      <td>1</td>\n",
       "      <td>0.414783</td>\n",
       "      <td>0.815285</td>\n",
       "      <td>-4.813031</td>\n",
       "      <td>0.266482</td>\n",
       "      <td>2.301442</td>\n",
       "      <td>0.284654</td>\n",
       "    </tr>\n",
       "    <tr>\n",
       "      <td>phon_R01_S01_2</td>\n",
       "      <td>122.40000</td>\n",
       "      <td>148.65000</td>\n",
       "      <td>113.81900</td>\n",
       "      <td>0.00968</td>\n",
       "      <td>0.00008</td>\n",
       "      <td>0.00465</td>\n",
       "      <td>0.00696</td>\n",
       "      <td>0.01394</td>\n",
       "      <td>0.06134</td>\n",
       "      <td>0.62600</td>\n",
       "      <td>0.03134</td>\n",
       "      <td>...</td>\n",
       "      <td>0.09403</td>\n",
       "      <td>0.01929</td>\n",
       "      <td>19.08500</td>\n",
       "      <td>1</td>\n",
       "      <td>0.458359</td>\n",
       "      <td>0.819521</td>\n",
       "      <td>-4.075192</td>\n",
       "      <td>0.335590</td>\n",
       "      <td>2.486855</td>\n",
       "      <td>0.368674</td>\n",
       "    </tr>\n",
       "    <tr>\n",
       "      <td>phon_R01_S01_3</td>\n",
       "      <td>116.68200</td>\n",
       "      <td>131.11100</td>\n",
       "      <td>111.55500</td>\n",
       "      <td>0.01050</td>\n",
       "      <td>0.00009</td>\n",
       "      <td>0.00544</td>\n",
       "      <td>0.00781</td>\n",
       "      <td>0.01633</td>\n",
       "      <td>0.05233</td>\n",
       "      <td>0.48200</td>\n",
       "      <td>0.02757</td>\n",
       "      <td>...</td>\n",
       "      <td>0.08270</td>\n",
       "      <td>0.01309</td>\n",
       "      <td>20.65100</td>\n",
       "      <td>1</td>\n",
       "      <td>0.429895</td>\n",
       "      <td>0.825288</td>\n",
       "      <td>-4.443179</td>\n",
       "      <td>0.311173</td>\n",
       "      <td>2.342259</td>\n",
       "      <td>0.332634</td>\n",
       "    </tr>\n",
       "    <tr>\n",
       "      <td>phon_R01_S01_4</td>\n",
       "      <td>116.67600</td>\n",
       "      <td>137.87100</td>\n",
       "      <td>111.36600</td>\n",
       "      <td>0.00997</td>\n",
       "      <td>0.00009</td>\n",
       "      <td>0.00502</td>\n",
       "      <td>0.00698</td>\n",
       "      <td>0.01505</td>\n",
       "      <td>0.05492</td>\n",
       "      <td>0.51700</td>\n",
       "      <td>0.02924</td>\n",
       "      <td>...</td>\n",
       "      <td>0.08771</td>\n",
       "      <td>0.01353</td>\n",
       "      <td>20.64400</td>\n",
       "      <td>1</td>\n",
       "      <td>0.434969</td>\n",
       "      <td>0.819235</td>\n",
       "      <td>-4.117501</td>\n",
       "      <td>0.334147</td>\n",
       "      <td>2.405554</td>\n",
       "      <td>0.368975</td>\n",
       "    </tr>\n",
       "  </tbody>\n",
       "</table>\n",
       "<p>5 rows × 22 columns</p>\n",
       "</div>"
      ],
      "text/plain": [
       "                             MDVP:Fo(Hz)  MDVP:Fhi(Hz)    MDVP:Flo(Hz)  \\\n",
       "name           MDVP:Fo(Hz)  MDVP:Fhi(Hz)  MDVP:Flo(Hz)  MDVP:Jitter(%)   \n",
       "phon_R01_S01_1 119.99200       157.30200      74.99700         0.00784   \n",
       "phon_R01_S01_2 122.40000       148.65000     113.81900         0.00968   \n",
       "phon_R01_S01_3 116.68200       131.11100     111.55500         0.01050   \n",
       "phon_R01_S01_4 116.67600       137.87100     111.36600         0.00997   \n",
       "\n",
       "                               MDVP:Jitter(% MDVP:Jitter(Abs)  MDVP:RAP  \\\n",
       "name           MDVP:Fo(Hz)  MDVP:Jitter(Abs)         MDVP:RAP  MDVP:PPQ   \n",
       "phon_R01_S01_1 119.99200             0.00007          0.00370   0.00554   \n",
       "phon_R01_S01_2 122.40000             0.00008          0.00465   0.00696   \n",
       "phon_R01_S01_3 116.68200             0.00009          0.00544   0.00781   \n",
       "phon_R01_S01_4 116.67600             0.00009          0.00502   0.00698   \n",
       "\n",
       "                              MDVP:PPQ    Jitter:DDP      MDVP:Shimmer  \\\n",
       "name           MDVP:Fo(Hz)  Jitter:DDP  MDVP:Shimmer  MDVP:Shimmer(dB)   \n",
       "phon_R01_S01_1 119.99200       0.01109       0.04374           0.42600   \n",
       "phon_R01_S01_2 122.40000       0.01394       0.06134           0.62600   \n",
       "phon_R01_S01_3 116.68200       0.01633       0.05233           0.48200   \n",
       "phon_R01_S01_4 116.67600       0.01505       0.05492           0.51700   \n",
       "\n",
       "                           MDVP:Shimmer(dB)  ...  Shimmer:DDA      NHR  \\\n",
       "name           MDVP:Fo(Hz)     Shimmer:APQ3  ...  Shimmer:DDA      NHR   \n",
       "phon_R01_S01_1 119.99200            0.02182  ...      0.06545  0.02211   \n",
       "phon_R01_S01_2 122.40000            0.03134  ...      0.09403  0.01929   \n",
       "phon_R01_S01_3 116.68200            0.02757  ...      0.08270  0.01309   \n",
       "phon_R01_S01_4 116.67600            0.02924  ...      0.08771  0.01353   \n",
       "\n",
       "                                 HNR  status      RPDE       DFA    spread1  \\\n",
       "name           MDVP:Fo(Hz)       HNR  status      RPDE       DFA    spread1   \n",
       "phon_R01_S01_1 119.99200    21.03300       1  0.414783  0.815285  -4.813031   \n",
       "phon_R01_S01_2 122.40000    19.08500       1  0.458359  0.819521  -4.075192   \n",
       "phon_R01_S01_3 116.68200    20.65100       1  0.429895  0.825288  -4.443179   \n",
       "phon_R01_S01_4 116.67600    20.64400       1  0.434969  0.819235  -4.117501   \n",
       "\n",
       "                             spread2        D2       PPE  \n",
       "name           MDVP:Fo(Hz)   spread2        D2       PPE  \n",
       "phon_R01_S01_1 119.99200    0.266482  2.301442  0.284654  \n",
       "phon_R01_S01_2 122.40000    0.335590  2.486855  0.368674  \n",
       "phon_R01_S01_3 116.68200    0.311173  2.342259  0.332634  \n",
       "phon_R01_S01_4 116.67600    0.334147  2.405554  0.368975  \n",
       "\n",
       "[5 rows x 22 columns]"
      ]
     },
     "execution_count": 15,
     "metadata": {},
     "output_type": "execute_result"
    }
   ],
   "source": [
    "train_df.head()"
   ]
  },
  {
   "cell_type": "code",
   "execution_count": 16,
   "metadata": {},
   "outputs": [
    {
     "data": {
      "text/plain": [
       "MDVP:Fo(Hz)         157.30200\n",
       "MDVP:Fhi(Hz)         74.99700\n",
       "MDVP:Flo(Hz)          0.00784\n",
       "MDVP:Jitter(%         0.00007\n",
       "MDVP:Jitter(Abs)      0.00370\n",
       "MDVP:RAP              0.00554\n",
       "MDVP:PPQ              0.01109\n",
       "Jitter:DDP            0.04374\n",
       "MDVP:Shimmer          0.42600\n",
       "MDVP:Shimmer(dB)      0.02182\n",
       "Shimmer:APQ3          0.03130\n",
       "Shimmer:APQ5          0.02971\n",
       "Shimmer:DDA           0.06545\n",
       "NHR                   0.02211\n",
       "HNR                  21.03300\n",
       "status                      1\n",
       "RPDE                 0.414783\n",
       "DFA                  0.815285\n",
       "spread1             -4.813031\n",
       "spread2              0.266482\n",
       "D2                   2.301442\n",
       "PPE                  0.284654\n",
       "Name: (phon_R01_S01_1, 119.99200), dtype: object"
      ]
     },
     "execution_count": 16,
     "metadata": {},
     "output_type": "execute_result"
    }
   ],
   "source": [
    "a = train_df.iloc[1] # saca la posición de una fila\n",
    "a"
   ]
  },
  {
   "cell_type": "code",
   "execution_count": 17,
   "metadata": {},
   "outputs": [],
   "source": [
    "#eliminamos los espacion en blanco de los extremos del texto\n",
    "\n",
    "train_df = train_df.apply(lambda x: x.str.strip() if x.dtype == 'object' else x)"
   ]
  },
  {
   "cell_type": "code",
   "execution_count": 19,
   "metadata": {},
   "outputs": [],
   "source": [
    "#eliminamos los espacion en blanco de los extremos del texto\n",
    "#test_df = test_df.apply(lambda x: x.str.strip() if x.dtype == 'object' else x)\n",
    "#NO ES NECESARI PORQE NUESTRA Y E¿YA ESTA LIMPIADA"
   ]
  },
  {
   "cell_type": "code",
   "execution_count": 23,
   "metadata": {},
   "outputs": [],
   "source": [
    "\n",
    "train_df_cp = train_df.copy()\n",
    "train_df_cp = train_df_cp"
   ]
  },
  {
   "cell_type": "code",
   "execution_count": 24,
   "metadata": {},
   "outputs": [
    {
     "data": {
      "text/plain": [
       "MDVP:Fo(Hz)         196\n",
       "MDVP:Fhi(Hz)        196\n",
       "MDVP:Flo(Hz)        196\n",
       "MDVP:Jitter(%       196\n",
       "MDVP:Jitter(Abs)    196\n",
       "MDVP:RAP            196\n",
       "MDVP:PPQ            196\n",
       "Jitter:DDP          196\n",
       "MDVP:Shimmer        196\n",
       "MDVP:Shimmer(dB)    196\n",
       "Shimmer:APQ3        196\n",
       "Shimmer:APQ5        196\n",
       "Shimmer:DDA         196\n",
       "NHR                 196\n",
       "HNR                 196\n",
       "status              196\n",
       "RPDE                196\n",
       "DFA                 196\n",
       "spread1             196\n",
       "spread2             196\n",
       "D2                  196\n",
       "PPE                 196\n",
       "dtype: int64"
      ]
     },
     "execution_count": 24,
     "metadata": {},
     "output_type": "execute_result"
    }
   ],
   "source": [
    "train_df.count()"
   ]
  },
  {
   "cell_type": "code",
   "execution_count": 25,
   "metadata": {},
   "outputs": [
    {
     "data": {
      "text/plain": [
       "MDVP:Fo(Hz)         196\n",
       "MDVP:Fhi(Hz)        196\n",
       "MDVP:Flo(Hz)        196\n",
       "MDVP:Jitter(%       196\n",
       "MDVP:Jitter(Abs)    196\n",
       "MDVP:RAP            196\n",
       "MDVP:PPQ            196\n",
       "Jitter:DDP          196\n",
       "MDVP:Shimmer        196\n",
       "MDVP:Shimmer(dB)    196\n",
       "Shimmer:APQ3        196\n",
       "Shimmer:APQ5        196\n",
       "Shimmer:DDA         196\n",
       "NHR                 196\n",
       "HNR                 196\n",
       "status              196\n",
       "RPDE                196\n",
       "DFA                 196\n",
       "spread1             196\n",
       "spread2             196\n",
       "D2                  196\n",
       "PPE                 196\n",
       "dtype: int64"
      ]
     },
     "execution_count": 25,
     "metadata": {},
     "output_type": "execute_result"
    }
   ],
   "source": [
    "train_df_cp.count() "
   ]
  },
  {
   "cell_type": "code",
   "execution_count": 26,
   "metadata": {},
   "outputs": [],
   "source": [
    "train_df_cp.to_csv('train.csv', index=False, header=False)\n",
    "test_df.to_csv('test.csv', index=False, header=False)"
   ]
  },
  {
   "cell_type": "code",
   "execution_count": 27,
   "metadata": {},
   "outputs": [
    {
     "name": "stdout",
     "output_type": "stream",
     "text": [
      "Testing data shape:  (196, 22)\n"
     ]
    },
    {
     "data": {
      "text/html": [
       "<div>\n",
       "<style scoped>\n",
       "    .dataframe tbody tr th:only-of-type {\n",
       "        vertical-align: middle;\n",
       "    }\n",
       "\n",
       "    .dataframe tbody tr th {\n",
       "        vertical-align: top;\n",
       "    }\n",
       "\n",
       "    .dataframe thead th {\n",
       "        text-align: right;\n",
       "    }\n",
       "</style>\n",
       "<table border=\"1\" class=\"dataframe\">\n",
       "  <thead>\n",
       "    <tr style=\"text-align: right;\">\n",
       "      <th></th>\n",
       "      <th></th>\n",
       "      <th>MDVP:Fo(Hz)</th>\n",
       "      <th>MDVP:Fhi(Hz)</th>\n",
       "      <th>MDVP:Flo(Hz)</th>\n",
       "      <th>MDVP:Jitter(%</th>\n",
       "      <th>MDVP:Jitter(Abs)</th>\n",
       "      <th>MDVP:RAP</th>\n",
       "      <th>MDVP:PPQ</th>\n",
       "      <th>Jitter:DDP</th>\n",
       "      <th>MDVP:Shimmer</th>\n",
       "      <th>MDVP:Shimmer(dB)</th>\n",
       "      <th>...</th>\n",
       "      <th>Shimmer:DDA</th>\n",
       "      <th>NHR</th>\n",
       "      <th>HNR</th>\n",
       "      <th>status</th>\n",
       "      <th>RPDE</th>\n",
       "      <th>DFA</th>\n",
       "      <th>spread1</th>\n",
       "      <th>spread2</th>\n",
       "      <th>D2</th>\n",
       "      <th>PPE</th>\n",
       "    </tr>\n",
       "  </thead>\n",
       "  <tbody>\n",
       "    <tr>\n",
       "      <td>name</td>\n",
       "      <td>MDVP:Fo(Hz)</td>\n",
       "      <td>MDVP:Fhi(Hz)</td>\n",
       "      <td>MDVP:Flo(Hz)</td>\n",
       "      <td>MDVP:Jitter(%)</td>\n",
       "      <td>MDVP:Jitter(Abs)</td>\n",
       "      <td>MDVP:RAP</td>\n",
       "      <td>MDVP:PPQ</td>\n",
       "      <td>Jitter:DDP</td>\n",
       "      <td>MDVP:Shimmer</td>\n",
       "      <td>MDVP:Shimmer(dB)</td>\n",
       "      <td>Shimmer:APQ3</td>\n",
       "      <td>...</td>\n",
       "      <td>Shimmer:DDA</td>\n",
       "      <td>NHR</td>\n",
       "      <td>HNR</td>\n",
       "      <td>status</td>\n",
       "      <td>RPDE</td>\n",
       "      <td>DFA</td>\n",
       "      <td>spread1</td>\n",
       "      <td>spread2</td>\n",
       "      <td>D2</td>\n",
       "      <td>PPE</td>\n",
       "    </tr>\n",
       "    <tr>\n",
       "      <td>phon_R01_S01_1</td>\n",
       "      <td>119.99200</td>\n",
       "      <td>157.30200</td>\n",
       "      <td>74.99700</td>\n",
       "      <td>0.00784</td>\n",
       "      <td>0.00007</td>\n",
       "      <td>0.00370</td>\n",
       "      <td>0.00554</td>\n",
       "      <td>0.01109</td>\n",
       "      <td>0.04374</td>\n",
       "      <td>0.42600</td>\n",
       "      <td>0.02182</td>\n",
       "      <td>...</td>\n",
       "      <td>0.06545</td>\n",
       "      <td>0.02211</td>\n",
       "      <td>21.03300</td>\n",
       "      <td>1</td>\n",
       "      <td>0.414783</td>\n",
       "      <td>0.815285</td>\n",
       "      <td>-4.813031</td>\n",
       "      <td>0.266482</td>\n",
       "      <td>2.301442</td>\n",
       "      <td>0.284654</td>\n",
       "    </tr>\n",
       "    <tr>\n",
       "      <td>phon_R01_S01_2</td>\n",
       "      <td>122.40000</td>\n",
       "      <td>148.65000</td>\n",
       "      <td>113.81900</td>\n",
       "      <td>0.00968</td>\n",
       "      <td>0.00008</td>\n",
       "      <td>0.00465</td>\n",
       "      <td>0.00696</td>\n",
       "      <td>0.01394</td>\n",
       "      <td>0.06134</td>\n",
       "      <td>0.62600</td>\n",
       "      <td>0.03134</td>\n",
       "      <td>...</td>\n",
       "      <td>0.09403</td>\n",
       "      <td>0.01929</td>\n",
       "      <td>19.08500</td>\n",
       "      <td>1</td>\n",
       "      <td>0.458359</td>\n",
       "      <td>0.819521</td>\n",
       "      <td>-4.075192</td>\n",
       "      <td>0.335590</td>\n",
       "      <td>2.486855</td>\n",
       "      <td>0.368674</td>\n",
       "    </tr>\n",
       "    <tr>\n",
       "      <td>phon_R01_S01_3</td>\n",
       "      <td>116.68200</td>\n",
       "      <td>131.11100</td>\n",
       "      <td>111.55500</td>\n",
       "      <td>0.01050</td>\n",
       "      <td>0.00009</td>\n",
       "      <td>0.00544</td>\n",
       "      <td>0.00781</td>\n",
       "      <td>0.01633</td>\n",
       "      <td>0.05233</td>\n",
       "      <td>0.48200</td>\n",
       "      <td>0.02757</td>\n",
       "      <td>...</td>\n",
       "      <td>0.08270</td>\n",
       "      <td>0.01309</td>\n",
       "      <td>20.65100</td>\n",
       "      <td>1</td>\n",
       "      <td>0.429895</td>\n",
       "      <td>0.825288</td>\n",
       "      <td>-4.443179</td>\n",
       "      <td>0.311173</td>\n",
       "      <td>2.342259</td>\n",
       "      <td>0.332634</td>\n",
       "    </tr>\n",
       "    <tr>\n",
       "      <td>phon_R01_S01_4</td>\n",
       "      <td>116.67600</td>\n",
       "      <td>137.87100</td>\n",
       "      <td>111.36600</td>\n",
       "      <td>0.00997</td>\n",
       "      <td>0.00009</td>\n",
       "      <td>0.00502</td>\n",
       "      <td>0.00698</td>\n",
       "      <td>0.01505</td>\n",
       "      <td>0.05492</td>\n",
       "      <td>0.51700</td>\n",
       "      <td>0.02924</td>\n",
       "      <td>...</td>\n",
       "      <td>0.08771</td>\n",
       "      <td>0.01353</td>\n",
       "      <td>20.64400</td>\n",
       "      <td>1</td>\n",
       "      <td>0.434969</td>\n",
       "      <td>0.819235</td>\n",
       "      <td>-4.117501</td>\n",
       "      <td>0.334147</td>\n",
       "      <td>2.405554</td>\n",
       "      <td>0.368975</td>\n",
       "    </tr>\n",
       "  </tbody>\n",
       "</table>\n",
       "<p>5 rows × 22 columns</p>\n",
       "</div>"
      ],
      "text/plain": [
       "                             MDVP:Fo(Hz)  MDVP:Fhi(Hz)    MDVP:Flo(Hz)  \\\n",
       "name           MDVP:Fo(Hz)  MDVP:Fhi(Hz)  MDVP:Flo(Hz)  MDVP:Jitter(%)   \n",
       "phon_R01_S01_1 119.99200       157.30200      74.99700         0.00784   \n",
       "phon_R01_S01_2 122.40000       148.65000     113.81900         0.00968   \n",
       "phon_R01_S01_3 116.68200       131.11100     111.55500         0.01050   \n",
       "phon_R01_S01_4 116.67600       137.87100     111.36600         0.00997   \n",
       "\n",
       "                               MDVP:Jitter(% MDVP:Jitter(Abs)  MDVP:RAP  \\\n",
       "name           MDVP:Fo(Hz)  MDVP:Jitter(Abs)         MDVP:RAP  MDVP:PPQ   \n",
       "phon_R01_S01_1 119.99200             0.00007          0.00370   0.00554   \n",
       "phon_R01_S01_2 122.40000             0.00008          0.00465   0.00696   \n",
       "phon_R01_S01_3 116.68200             0.00009          0.00544   0.00781   \n",
       "phon_R01_S01_4 116.67600             0.00009          0.00502   0.00698   \n",
       "\n",
       "                              MDVP:PPQ    Jitter:DDP      MDVP:Shimmer  \\\n",
       "name           MDVP:Fo(Hz)  Jitter:DDP  MDVP:Shimmer  MDVP:Shimmer(dB)   \n",
       "phon_R01_S01_1 119.99200       0.01109       0.04374           0.42600   \n",
       "phon_R01_S01_2 122.40000       0.01394       0.06134           0.62600   \n",
       "phon_R01_S01_3 116.68200       0.01633       0.05233           0.48200   \n",
       "phon_R01_S01_4 116.67600       0.01505       0.05492           0.51700   \n",
       "\n",
       "                           MDVP:Shimmer(dB)  ...  Shimmer:DDA      NHR  \\\n",
       "name           MDVP:Fo(Hz)     Shimmer:APQ3  ...  Shimmer:DDA      NHR   \n",
       "phon_R01_S01_1 119.99200            0.02182  ...      0.06545  0.02211   \n",
       "phon_R01_S01_2 122.40000            0.03134  ...      0.09403  0.01929   \n",
       "phon_R01_S01_3 116.68200            0.02757  ...      0.08270  0.01309   \n",
       "phon_R01_S01_4 116.67600            0.02924  ...      0.08771  0.01353   \n",
       "\n",
       "                                 HNR  status      RPDE       DFA    spread1  \\\n",
       "name           MDVP:Fo(Hz)       HNR  status      RPDE       DFA    spread1   \n",
       "phon_R01_S01_1 119.99200    21.03300       1  0.414783  0.815285  -4.813031   \n",
       "phon_R01_S01_2 122.40000    19.08500       1  0.458359  0.819521  -4.075192   \n",
       "phon_R01_S01_3 116.68200    20.65100       1  0.429895  0.825288  -4.443179   \n",
       "phon_R01_S01_4 116.67600    20.64400       1  0.434969  0.819235  -4.117501   \n",
       "\n",
       "                             spread2        D2       PPE  \n",
       "name           MDVP:Fo(Hz)   spread2        D2       PPE  \n",
       "phon_R01_S01_1 119.99200    0.266482  2.301442  0.284654  \n",
       "phon_R01_S01_2 122.40000    0.335590  2.486855  0.368674  \n",
       "phon_R01_S01_3 116.68200    0.311173  2.342259  0.332634  \n",
       "phon_R01_S01_4 116.67600    0.334147  2.405554  0.368975  \n",
       "\n",
       "[5 rows x 22 columns]"
      ]
     },
     "execution_count": 27,
     "metadata": {},
     "output_type": "execute_result"
    }
   ],
   "source": [
    "print('Testing data shape: ', train_df.shape)\n",
    "train_df.head()"
   ]
  },
  {
   "cell_type": "code",
   "execution_count": 28,
   "metadata": {},
   "outputs": [
    {
     "name": "stdout",
     "output_type": "stream",
     "text": [
      "Testing data shape:  (196,)\n"
     ]
    },
    {
     "data": {
      "text/plain": [
       "name            MDVP:Fo(Hz)    status\n",
       "phon_R01_S01_1  119.99200           1\n",
       "phon_R01_S01_2  122.40000           1\n",
       "phon_R01_S01_3  116.68200           1\n",
       "phon_R01_S01_4  116.67600           1\n",
       "Name: status, dtype: object"
      ]
     },
     "execution_count": 28,
     "metadata": {},
     "output_type": "execute_result"
    }
   ],
   "source": [
    "print('Testing data shape: ', test_df.shape)\n",
    "test_df.head()"
   ]
  },
  {
   "cell_type": "code",
   "execution_count": 29,
   "metadata": {},
   "outputs": [
    {
     "data": {
      "text/plain": [
       "MDVP:Fo(Hz)         0\n",
       "MDVP:Fhi(Hz)        0\n",
       "MDVP:Flo(Hz)        0\n",
       "MDVP:Jitter(%       0\n",
       "MDVP:Jitter(Abs)    0\n",
       "MDVP:RAP            0\n",
       "MDVP:PPQ            0\n",
       "Jitter:DDP          0\n",
       "MDVP:Shimmer        0\n",
       "MDVP:Shimmer(dB)    0\n",
       "Shimmer:APQ3        0\n",
       "Shimmer:APQ5        0\n",
       "Shimmer:DDA         0\n",
       "NHR                 0\n",
       "HNR                 0\n",
       "status              0\n",
       "RPDE                0\n",
       "DFA                 0\n",
       "spread1             0\n",
       "spread2             0\n",
       "D2                  0\n",
       "PPE                 0\n",
       "dtype: int64"
      ]
     },
     "execution_count": 29,
     "metadata": {},
     "output_type": "execute_result"
    }
   ],
   "source": [
    "train_df.isnull().sum()"
   ]
  },
  {
   "cell_type": "code",
   "execution_count": 30,
   "metadata": {},
   "outputs": [
    {
     "data": {
      "text/plain": [
       "object    22\n",
       "dtype: int64"
      ]
     },
     "execution_count": 30,
     "metadata": {},
     "output_type": "execute_result"
    }
   ],
   "source": [
    "train_df.dtypes.value_counts()"
   ]
  },
  {
   "cell_type": "code",
   "execution_count": 38,
   "metadata": {},
   "outputs": [
    {
     "data": {
      "text/plain": [
       "MDVP:Fo(Hz)         196\n",
       "MDVP:Fhi(Hz)        196\n",
       "MDVP:Flo(Hz)        174\n",
       "MDVP:Jitter(%        21\n",
       "MDVP:Jitter(Abs)    156\n",
       "MDVP:RAP            166\n",
       "MDVP:PPQ            181\n",
       "Jitter:DDP          189\n",
       "MDVP:Shimmer        150\n",
       "MDVP:Shimmer(dB)    185\n",
       "Shimmer:APQ3        190\n",
       "Shimmer:APQ5        190\n",
       "Shimmer:DDA         190\n",
       "NHR                 186\n",
       "HNR                 196\n",
       "status                3\n",
       "RPDE                196\n",
       "DFA                 196\n",
       "spread1             196\n",
       "spread2             195\n",
       "D2                  196\n",
       "PPE                 196\n",
       "dtype: int64"
      ]
     },
     "execution_count": 38,
     "metadata": {},
     "output_type": "execute_result"
    }
   ],
   "source": [
    "#cuantos hay de distintos en cada columna\n",
    "train_df.select_dtypes('object').apply(pd.Series.nunique, axis=0) "
   ]
  },
  {
   "cell_type": "code",
   "execution_count": 42,
   "metadata": {},
   "outputs": [],
   "source": [
    "#entrenamiento\n",
    "train_df['status'] = train_df['status'].apply(lambda x: 0 if x == '<=50K' else 1)\n"
   ]
  },
  {
   "cell_type": "code",
   "execution_count": null,
   "metadata": {},
   "outputs": [],
   "source": []
  },
  {
   "cell_type": "code",
   "execution_count": null,
   "metadata": {},
   "outputs": [],
   "source": []
  },
  {
   "cell_type": "code",
   "execution_count": null,
   "metadata": {},
   "outputs": [],
   "source": []
  },
  {
   "cell_type": "code",
   "execution_count": null,
   "metadata": {},
   "outputs": [],
   "source": []
  }
 ],
 "metadata": {
  "kernelspec": {
   "display_name": "Python 3",
   "language": "python",
   "name": "python3"
  },
  "language_info": {
   "codemirror_mode": {
    "name": "ipython",
    "version": 3
   },
   "file_extension": ".py",
   "mimetype": "text/x-python",
   "name": "python",
   "nbconvert_exporter": "python",
   "pygments_lexer": "ipython3",
   "version": "3.7.4"
  }
 },
 "nbformat": 4,
 "nbformat_minor": 2
}
