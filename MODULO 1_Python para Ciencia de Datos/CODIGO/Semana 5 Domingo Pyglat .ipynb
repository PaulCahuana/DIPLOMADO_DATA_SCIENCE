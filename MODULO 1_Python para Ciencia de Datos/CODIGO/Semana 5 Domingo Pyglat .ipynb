{
 "cells": [
  {
   "cell_type": "code",
   "execution_count": 2,
   "metadata": {},
   "outputs": [],
   "source": [
    "# -*- coding: utf-8 -*-\n",
    "import pygal\n",
    "box_plot = pygal.Box()\n",
    "box_plot.title = 'Cost of Whole Milk in early 2014'\n",
    "box_plot.add('US Dollars', [2.08, 3.14, 3.89, 3.91, 3.94, 3.98])\n",
    "box_plot.add('Pound Sterling', [2.78, 3.84, 1.69, 4.71, 4.84, 4.92])\n",
    "box_plot.render_to_file('box_plot.svg')"
   ]
  },
  {
   "cell_type": "code",
   "execution_count": 3,
   "metadata": {},
   "outputs": [],
   "source": [
    "# -*- coding: utf-8 -*-\n",
    "import pygal\n",
    "xy_chart = pygal.XY()\n",
    "xy_chart.add('Value 1',  [(-50, -30), (100, 45)])\n",
    "xy_chart.add('Value 2',  [(-20, -20), (60, 35)])\n",
    "xy_chart.render_to_file(\"xy_chart.svg\")"
   ]
  },
  {
   "cell_type": "code",
   "execution_count": 22,
   "metadata": {},
   "outputs": [
    {
     "name": "stdout",
     "output_type": "stream",
     "text": [
      "Slept for greater than 4 seconds\n"
     ]
    }
   ],
   "source": [
    "# -*- coding: utf-8 -*-\n",
    "import pygal\n",
    "xy_chart = pygal.XY()\n",
    "xy_chart.add('Value 1',  [(-50, -30), (100, 45), (120, 56), (168, \n",
    "102), (211, 192), (279, 211)])\n",
    "xy_chart.add('Value 2',  [(-2, -14), (370, 444), (391, 464), (399, \n",
    "512), (412, 569), (789, 896)])\n",
    "xy_chart.add('Value 3',  [(2, 10), (142, 164), (184, 216), (203, 243), \n",
    "(208, 335), (243, 201)])\n",
    "xy_chart.render_to_file(\"xy_chart11.svg\")\n",
    "\n",
    "\n",
    "# -*- coding: utf-8 -*-\n",
    "import pygal\n",
    "xy_chart = pygal.XY(stroke=False)\n",
    "xy_chart.add('Value 1',  [(-50, -30), (100, 45), (120, 56), (168, \n",
    "102), (211, 192), (279, 211)])\n",
    "xy_chart.add('Value 2',  [(-2, -14), (370, 444), (391, 464), (399, \n",
    "512), (412, 569), (789, 896)])\n",
    "xy_chart.add('Value 3',  [(2, 10), (142, 164), (184, 216), (203, 243), \n",
    "(208, 335), (243, 201)])\n",
    "xy_chart.render_to_file(\"xy_chart22.svg\")\n",
    "\n",
    "#-------------------------------------------------------------------------\n",
    "# -*- coding: utf-8 -*-\n",
    "import datetime\n",
    "from time import sleep\n",
    "start = datetime.datetime.now()\n",
    "sleep(5) #delay the python script for 5 seconds.\n",
    "stop = datetime.datetime.now()\n",
    "elapsed = stop - start\n",
    "if elapsed > datetime.timedelta(minutes=4):\n",
    "    print (\"Slept for greater than 4 minutes\")\n",
    "if elapsed > datetime.timedelta(seconds=4):\n",
    "    print (\"Slept for greater than 4 seconds\")\n",
    "\n",
    "\n",
    "# -*- coding: utf-8 -*-\n",
    "import pygal\n",
    "from datetime import datetime, timedelta\n",
    "Date_Y = pygal.DateTimeLine()\n",
    "Date_Y.title = \"Flights and amount of passengers arriving from St.Louis.\"\n",
    "Date_Y.add(\"Arrival\", [\n",
    "    (datetime(2014, 1, 5), 42),\n",
    "    (datetime(2014, 1, 14), 123),\n",
    "    (datetime(2014, 2, 2), 97),\n",
    "    (datetime(2014, 3, 22), 164)\n",
    "])\n",
    "Date_Y.render_to_file('datey_chart.svg')"
   ]
  },
  {
   "cell_type": "code",
   "execution_count": 14,
   "metadata": {},
   "outputs": [],
   "source": [
    "# -*- coding: utf-8 -*-\n",
    "import pygal\n",
    "#create a new bar chart.\n",
    "bar = pygal.HorizontalBar()\n",
    "bar.title = 'Searches for term: sleep in April'\n",
    "bar.add('Searches', [81, 88, 88, 100])\n",
    "bar.render_to_file('bar_chart.svg')"
   ]
  },
  {
   "cell_type": "code",
   "execution_count": 15,
   "metadata": {},
   "outputs": [],
   "source": [
    "# -*- coding: utf-8 -*-\n",
    "import pygal\n",
    "#Create a new stacked bar chart.\n",
    "bar = pygal.StackedBar()\n",
    "bar.title = 'Searches for term: sleep'\n",
    "bar.x_labels = map(str, range(2011, 2015))\n",
    "bar.add('Men', [81, 88, 88, 100])\n",
    "bar.add('Women', [78, 84, 69, 92])\n",
    "bar.render_to_file('bar_chart.svg')"
   ]
  },
  {
   "cell_type": "code",
   "execution_count": 16,
   "metadata": {},
   "outputs": [],
   "source": [
    "# -*- coding: utf-8 -*-\n",
    "import pygal\n",
    "#create a new stacked line chart.\n",
    "line = pygal.StackedLine(fill=False) # Con relleno\n",
    "line.title = 'Web hits in the past 2 years' #set chart title\n",
    "line.x_labels = map(str, range(2012, 2014)) #set the x-axis labels.\n",
    "line.add('Site A', [None, 0, 12, 32, 72, 148]) #set values.\n",
    "line.add('Site B', [2, 16, 12, 87, 91, 342]) #set values.\n",
    "line.add('Site C', [42, 55, 84, 88, 90, 171]) #set values.\n",
    "line.render_to_file('linechart.svg') #set filename.\n",
    "    "
   ]
  },
  {
   "cell_type": "code",
   "execution_count": 18,
   "metadata": {},
   "outputs": [],
   "source": [
    "# -*- coding: utf-8 -*-\n",
    "import pygal\n",
    "#create a new line chart.\n",
    "line = pygal.Line()\n",
    "line.title = 'Website hits in the past 2 years' #set chart title\n",
    "line.x_labels = map(str, range(2012, 2014)) #set the x-axis labels.\n",
    "line.add('Page views', [None, 0, 12, 32, 72, 148]) #set values.\n",
    "#None para forzar a no empezar en 2012\n",
    "line.render_to_file('linechart2.svg') #set filename.\n",
    "\n",
    "#Clilck en la línea\n",
    "#Click en la leyenda, indica que dataset se esta dibujando\n",
    "#Resalta 50 y 100 para una mejor visibilidad"
   ]
  },
  {
   "cell_type": "code",
   "execution_count": 19,
   "metadata": {},
   "outputs": [
    {
     "name": "stdout",
     "output_type": "stream",
     "text": [
      "file://C:/Users/HUELPA~1/AppData/Local/Temp/tmprwwu0rpc.html\n",
      "file://C:/Users/HUELPA~1/AppData/Local/Temp/tmp6wfnb19s.html\n"
     ]
    }
   ],
   "source": [
    "\"\"\"\n",
    "Example of drawing line plots with Pygal.\n",
    "\"\"\"\n",
    "\n",
    "import pygal\n",
    "\n",
    "def draw_line(title, xvals, yvals):\n",
    "    \"\"\"\n",
    "    Draw line plot with given x and y values.\n",
    "    \"\"\"\n",
    "    lineplot = pygal.Line(height=400)\n",
    "    lineplot.title = title\n",
    "    lineplot.x_labels = xvals\n",
    "    lineplot.add(\"Data\", yvals)\n",
    "    lineplot.render_in_browser()\n",
    "\n",
    "xvals = [0, 1, 3, 5, 6, 7, 9, 11, 12, 15]\n",
    "yvals = [4, 3, 1, 2, 2, 4, 5, 2, 1, 4]\n",
    "\n",
    "draw_line(\"My Line Plot\", xvals, yvals)\n",
    "\n",
    "def draw_xy(title, xvals, yvals):\n",
    "    \"\"\"\n",
    "    Draw xy plot with given x and y values.\n",
    "    \"\"\"\n",
    "    coords = [(xval, yval) for xval, yval in zip(xvals, yvals)]\n",
    "    xyplot = pygal.XY(height=400)\n",
    "    xyplot.title = title\n",
    "    xyplot.add(\"Data\", coords)\n",
    "    xyplot.render_in_browser()\n",
    "\n",
    "draw_xy(\"My XY Plot\", xvals, yvals)"
   ]
  }
 ],
 "metadata": {
  "kernelspec": {
   "display_name": "Python 3",
   "language": "python",
   "name": "python3"
  },
  "language_info": {
   "codemirror_mode": {
    "name": "ipython",
    "version": 3
   },
   "file_extension": ".py",
   "mimetype": "text/x-python",
   "name": "python",
   "nbconvert_exporter": "python",
   "pygments_lexer": "ipython3",
   "version": "3.7.4"
  }
 },
 "nbformat": 4,
 "nbformat_minor": 2
}
