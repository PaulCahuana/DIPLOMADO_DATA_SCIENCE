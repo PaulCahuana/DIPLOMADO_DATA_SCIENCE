{
 "cells": [
  {
   "cell_type": "markdown",
   "metadata": {
    "colab_type": "text",
    "id": "6UMOXBYoYHx-"
   },
   "source": [
    "# Dataset\n"
   ]
  },
  {
   "cell_type": "markdown",
   "metadata": {
    "colab_type": "text",
    "id": "VpoV_fSLOisZ"
   },
   "source": [
    "Se usara el `Large Movie Review Dataset` (IMDB) desarrollado por [Andrew L. Maas](http://ai.stanford.edu/~amaas/), que contiene 50,000 reviews de películas, etiquetadas por sentimiento (positivo o negativo). Este es usado para tareas de procesamiento de lenguaje natural, o analisis de texto. Este dataset puede ser usado para clasificación binaria. Teniendo 25,000 datos para training y 25,000 datos para prueba. Para mayor información revisa el siguiente enlace: https://ai.stanford.edu/~amaas/data/sentiment/ \n",
    "\n",
    "**Nota**: Si vas utilizar este dataset para algún trabajo, no te olvide de citar al los autores "
   ]
  },
  {
   "cell_type": "code",
   "execution_count": 2,
   "metadata": {},
   "outputs": [
    {
     "name": "stdout",
     "output_type": "stream",
     "text": [
      "Collecting nltkNote: you may need to restart the kernel to use updated packages.\n",
      "  Downloading nltk-3.5.zip (1.4 MB)\n",
      "Requirement already satisfied: click in d:\\anaconda\\envs\\paul-gpu\\lib\\site-packages (from nltk) (7.1.2)\n",
      "Requirement already satisfied: joblib in d:\\anaconda\\envs\\paul-gpu\\lib\\site-packages (from nltk) (0.15.1)\n",
      "Collecting regex\n",
      "  Downloading regex-2020.7.14-cp37-cp37m-win_amd64.whl (268 kB)\n",
      "Requirement already satisfied: tqdm in d:\\anaconda\\envs\\paul-gpu\\lib\\site-packages (from nltk) (4.47.0)\n",
      "Building wheels for collected packages: nltk\n",
      "  Building wheel for nltk (setup.py): started\n",
      "  Building wheel for nltk (setup.py): finished with status 'done'\n",
      "  Created wheel for nltk: filename=nltk-3.5-py3-none-any.whl size=1434681 sha256=9565d384b6d0e47aeb97f5337fd0f94906f0d3ec98819314f2ba34e6ec31bd93\n",
      "  Stored in directory: c:\\users\\paul\\appdata\\local\\pip\\cache\\wheels\\45\\6c\\46\\a1865e7ba706b3817f5d1b2ff7ce8996aabdd0d03d47ba0266\n",
      "Successfully built nltk\n",
      "Installing collected packages: regex, nltk\n",
      "Successfully installed nltk-3.5 regex-2020.7.14\n",
      "\n"
     ]
    }
   ],
   "source": [
    "pip install nltk"
   ]
  },
  {
   "cell_type": "markdown",
   "metadata": {
    "colab_type": "text",
    "id": "mzmVEZgCP5PV"
   },
   "source": [
    "## Libreria & Load Dataset"
   ]
  },
  {
   "cell_type": "code",
   "execution_count": 1,
   "metadata": {
    "colab": {
     "base_uri": "https://localhost:8080/",
     "height": 34
    },
    "colab_type": "code",
    "executionInfo": {
     "elapsed": 2220,
     "status": "ok",
     "timestamp": 1595159974257,
     "user": {
      "displayName": "Marchelo Bragagnini",
      "photoUrl": "https://lh3.googleusercontent.com/a-/AOh14GiwqJ8TfMtaZO5tGKTw93K_q2UXX-xdE2JZXReM=s64",
      "userId": "12739426923871783271"
     },
     "user_tz": 300
    },
    "id": "OGmNRrDuYUwv",
    "outputId": "bbfa2f77-e96d-4d25-dafb-988e0482e026"
   },
   "outputs": [],
   "source": [
    "import tensorflow as tf\n",
    "from tensorflow import keras\n",
    "import os\n",
    "import re\n",
    "import pandas as pd\n",
    "import string\n",
    "import matplotlib.pyplot as plt\n",
    "from nltk.tokenize import TweetTokenizer\n",
    "from keras.preprocessing.text import Tokenizer\n",
    "from keras.preprocessing.sequence import pad_sequences"
   ]
  },
  {
   "cell_type": "code",
   "execution_count": 2,
   "metadata": {
    "colab": {},
    "colab_type": "code",
    "executionInfo": {
     "elapsed": 2868,
     "status": "ok",
     "timestamp": 1595159723455,
     "user": {
      "displayName": "Marchelo Bragagnini",
      "photoUrl": "https://lh3.googleusercontent.com/a-/AOh14GiwqJ8TfMtaZO5tGKTw93K_q2UXX-xdE2JZXReM=s64",
      "userId": "12739426923871783271"
     },
     "user_tz": 300
    },
    "id": "1hYGEcK7GOso"
   },
   "outputs": [],
   "source": [
    "# Load all files from a directory in a DataFrame.\n",
    "def load_directory_data(directory):\n",
    "  data = {}\n",
    "  data[\"sentence\"] = []\n",
    "  data[\"sentiment\"] = []\n",
    "  for file_path in os.listdir(directory):\n",
    "    with tf.io.gfile.GFile(os.path.join(directory, file_path), \"r\") as f:\n",
    "      data[\"sentence\"].append(f.read())\n",
    "      data[\"sentiment\"].append(re.match(\"\\d+_(\\d+)\\.txt\", file_path).group(1))\n",
    "  return pd.DataFrame.from_dict(data)\n",
    "\n",
    "# Merge positive and negative examples, add a polarity column and shuffle.\n",
    "def load_dataset(directory):\n",
    "  pos_df = load_directory_data(os.path.join(directory, \"pos\"))\n",
    "  neg_df = load_directory_data(os.path.join(directory, \"neg\"))\n",
    "  pos_df[\"polarity\"] = 1\n",
    "  neg_df[\"polarity\"] = 0\n",
    "  return pd.concat([pos_df, neg_df]).sample(frac=1).reset_index(drop=True)\n",
    "\n",
    "# Download and process the dataset files.\n",
    "def download_and_load_datasets(force_download=False):\n",
    "  dataset = tf.keras.utils.get_file(\n",
    "      fname=\"aclImdb.tar.gz\", \n",
    "      origin=\"http://ai.stanford.edu/~amaas/data/sentiment/aclImdb_v1.tar.gz\", \n",
    "      extract=True)\n",
    "  \n",
    "  train_df = load_dataset(os.path.join(os.path.dirname(dataset), \n",
    "                                       \"aclImdb\", \"train\"))\n",
    "  test_df = load_dataset(os.path.join(os.path.dirname(dataset), \n",
    "                                      \"aclImdb\", \"test\"))\n",
    "  \n",
    "  return train_df, test_df\n"
   ]
  },
  {
   "cell_type": "code",
   "execution_count": 3,
   "metadata": {
    "colab": {},
    "colab_type": "code",
    "executionInfo": {
     "elapsed": 40933,
     "status": "ok",
     "timestamp": 1595159761529,
     "user": {
      "displayName": "Marchelo Bragagnini",
      "photoUrl": "https://lh3.googleusercontent.com/a-/AOh14GiwqJ8TfMtaZO5tGKTw93K_q2UXX-xdE2JZXReM=s64",
      "userId": "12739426923871783271"
     },
     "user_tz": 300
    },
    "id": "TH2zYpBTWWyW"
   },
   "outputs": [],
   "source": [
    "train_raw, test_raw = download_and_load_datasets()"
   ]
  },
  {
   "cell_type": "markdown",
   "metadata": {
    "colab_type": "text",
    "id": "VX-Ubx4VQDUA"
   },
   "source": [
    "## Información del Train Set & Test Set"
   ]
  },
  {
   "cell_type": "code",
   "execution_count": 4,
   "metadata": {
    "colab": {
     "base_uri": "https://localhost:8080/",
     "height": 185
    },
    "colab_type": "code",
    "executionInfo": {
     "elapsed": 40929,
     "status": "ok",
     "timestamp": 1595159761540,
     "user": {
      "displayName": "Marchelo Bragagnini",
      "photoUrl": "https://lh3.googleusercontent.com/a-/AOh14GiwqJ8TfMtaZO5tGKTw93K_q2UXX-xdE2JZXReM=s64",
      "userId": "12739426923871783271"
     },
     "user_tz": 300
    },
    "id": "YcoFHjFz6PUx",
    "outputId": "82502e27-009c-4453-aa06-05a9b862c643"
   },
   "outputs": [
    {
     "name": "stdout",
     "output_type": "stream",
     "text": [
      "<class 'pandas.core.frame.DataFrame'>\n",
      "RangeIndex: 25000 entries, 0 to 24999\n",
      "Data columns (total 3 columns):\n",
      " #   Column     Non-Null Count  Dtype \n",
      "---  ------     --------------  ----- \n",
      " 0   sentence   25000 non-null  object\n",
      " 1   sentiment  25000 non-null  object\n",
      " 2   polarity   25000 non-null  int64 \n",
      "dtypes: int64(1), object(2)\n",
      "memory usage: 586.1+ KB\n"
     ]
    }
   ],
   "source": [
    "train_raw.info()\n",
    "#utilizaremos polaridad y sentence\n",
    "# sentiment es un dato del 1 al 10"
   ]
  },
  {
   "cell_type": "code",
   "execution_count": 5,
   "metadata": {
    "colab": {
     "base_uri": "https://localhost:8080/",
     "height": 185
    },
    "colab_type": "code",
    "executionInfo": {
     "elapsed": 40913,
     "status": "ok",
     "timestamp": 1595159761543,
     "user": {
      "displayName": "Marchelo Bragagnini",
      "photoUrl": "https://lh3.googleusercontent.com/a-/AOh14GiwqJ8TfMtaZO5tGKTw93K_q2UXX-xdE2JZXReM=s64",
      "userId": "12739426923871783271"
     },
     "user_tz": 300
    },
    "id": "fwXiCtwb6Zzi",
    "outputId": "c9b0474d-e539-4c96-fb52-95a2b70f7937"
   },
   "outputs": [
    {
     "name": "stdout",
     "output_type": "stream",
     "text": [
      "<class 'pandas.core.frame.DataFrame'>\n",
      "RangeIndex: 25000 entries, 0 to 24999\n",
      "Data columns (total 3 columns):\n",
      " #   Column     Non-Null Count  Dtype \n",
      "---  ------     --------------  ----- \n",
      " 0   sentence   25000 non-null  object\n",
      " 1   sentiment  25000 non-null  object\n",
      " 2   polarity   25000 non-null  int64 \n",
      "dtypes: int64(1), object(2)\n",
      "memory usage: 586.1+ KB\n"
     ]
    }
   ],
   "source": [
    "test_raw.info()"
   ]
  },
  {
   "cell_type": "code",
   "execution_count": 6,
   "metadata": {
    "colab": {
     "base_uri": "https://localhost:8080/",
     "height": 70
    },
    "colab_type": "code",
    "executionInfo": {
     "elapsed": 40897,
     "status": "ok",
     "timestamp": 1595159761547,
     "user": {
      "displayName": "Marchelo Bragagnini",
      "photoUrl": "https://lh3.googleusercontent.com/a-/AOh14GiwqJ8TfMtaZO5tGKTw93K_q2UXX-xdE2JZXReM=s64",
      "userId": "12739426923871783271"
     },
     "user_tz": 300
    },
    "id": "Yl9cAdZcgXwg",
    "outputId": "551127d9-336b-4f32-b7f1-4dbb31138c64"
   },
   "outputs": [
    {
     "name": "stdout",
     "output_type": "stream",
     "text": [
      "Imprimiendo una sentencia de prueba 15569\n",
      "||One more of extremely unprofessional movies about computer programmers.<br /><br />Looks authors of that movie don't know real specific of programmers world.<br /><br />20 top programmers in the world, program which have own satellites (for what?), program which using satellite freq., somebody kill somebody to steal the codes (why?) and much more of stupid moments at this movie.<br /><br />Peoples who not programmers not will see something awful at that movie, because not professionals on this. But peoples will see not real things.<br /><br />Programmers will find that movie odd and awful - because lots of moments inside movie is not RELATED real life (why movie not scifi in this case?).||\n"
     ]
    }
   ],
   "source": [
    "i_sent = 15569\n",
    "print(\"Imprimiendo una sentencia de prueba %d\"%(i_sent))\n",
    "print(\"||%s||\"%(train_raw['sentence'][i_sent]))"
   ]
  },
  {
   "cell_type": "code",
   "execution_count": 7,
   "metadata": {
    "colab": {
     "base_uri": "https://localhost:8080/",
     "height": 195
    },
    "colab_type": "code",
    "executionInfo": {
     "elapsed": 40882,
     "status": "ok",
     "timestamp": 1595159761549,
     "user": {
      "displayName": "Marchelo Bragagnini",
      "photoUrl": "https://lh3.googleusercontent.com/a-/AOh14GiwqJ8TfMtaZO5tGKTw93K_q2UXX-xdE2JZXReM=s64",
      "userId": "12739426923871783271"
     },
     "user_tz": 300
    },
    "id": "w1E8RxNjjL82",
    "outputId": "f9d9ba62-2dc2-4ab8-c181-4f6e4bc178e1"
   },
   "outputs": [
    {
     "data": {
      "text/html": [
       "<div>\n",
       "<style scoped>\n",
       "    .dataframe tbody tr th:only-of-type {\n",
       "        vertical-align: middle;\n",
       "    }\n",
       "\n",
       "    .dataframe tbody tr th {\n",
       "        vertical-align: top;\n",
       "    }\n",
       "\n",
       "    .dataframe thead th {\n",
       "        text-align: right;\n",
       "    }\n",
       "</style>\n",
       "<table border=\"1\" class=\"dataframe\">\n",
       "  <thead>\n",
       "    <tr style=\"text-align: right;\">\n",
       "      <th></th>\n",
       "      <th>sentence</th>\n",
       "      <th>sentiment</th>\n",
       "      <th>polarity</th>\n",
       "    </tr>\n",
       "  </thead>\n",
       "  <tbody>\n",
       "    <tr>\n",
       "      <th>0</th>\n",
       "      <td>I rented this movie and watched it 20 times be...</td>\n",
       "      <td>10</td>\n",
       "      <td>1</td>\n",
       "    </tr>\n",
       "    <tr>\n",
       "      <th>1</th>\n",
       "      <td>I just watched I. Q. again tonight and had for...</td>\n",
       "      <td>9</td>\n",
       "      <td>1</td>\n",
       "    </tr>\n",
       "    <tr>\n",
       "      <th>2</th>\n",
       "      <td>Having no knowledge of this film prior to seei...</td>\n",
       "      <td>9</td>\n",
       "      <td>1</td>\n",
       "    </tr>\n",
       "    <tr>\n",
       "      <th>3</th>\n",
       "      <td>Page 3 is most definitely a very enthralling a...</td>\n",
       "      <td>8</td>\n",
       "      <td>1</td>\n",
       "    </tr>\n",
       "    <tr>\n",
       "      <th>4</th>\n",
       "      <td>CAMILLE 2000 &lt;br /&gt;&lt;br /&gt;Aspect ratio: 2.35:1 ...</td>\n",
       "      <td>4</td>\n",
       "      <td>0</td>\n",
       "    </tr>\n",
       "  </tbody>\n",
       "</table>\n",
       "</div>"
      ],
      "text/plain": [
       "                                            sentence sentiment  polarity\n",
       "0  I rented this movie and watched it 20 times be...        10         1\n",
       "1  I just watched I. Q. again tonight and had for...         9         1\n",
       "2  Having no knowledge of this film prior to seei...         9         1\n",
       "3  Page 3 is most definitely a very enthralling a...         8         1\n",
       "4  CAMILLE 2000 <br /><br />Aspect ratio: 2.35:1 ...         4         0"
      ]
     },
     "execution_count": 7,
     "metadata": {},
     "output_type": "execute_result"
    }
   ],
   "source": [
    "train_raw.head()\n",
    "#tarea: crear un modelo de clasificación para análisis de sentimiento"
   ]
  },
  {
   "cell_type": "markdown",
   "metadata": {
    "colab_type": "text",
    "id": "VdUzzoczcWm5"
   },
   "source": [
    "# Limpieza del Dataset"
   ]
  },
  {
   "cell_type": "markdown",
   "metadata": {
    "colab_type": "text",
    "id": "-PaI0Dhue51S"
   },
   "source": [
    "Se debe realizar una limpieza a las oraciones, eliminando caracteres especiales (comas, puntos, puntos y comas, números, signo de interrogación, signo de adziración, comillas simples, comillas dobles, números, etc)"
   ]
  },
  {
   "cell_type": "code",
   "execution_count": 8,
   "metadata": {
    "colab": {},
    "colab_type": "code",
    "executionInfo": {
     "elapsed": 40869,
     "status": "ok",
     "timestamp": 1595159761551,
     "user": {
      "displayName": "Marchelo Bragagnini",
      "photoUrl": "https://lh3.googleusercontent.com/a-/AOh14GiwqJ8TfMtaZO5tGKTw93K_q2UXX-xdE2JZXReM=s64",
      "userId": "12739426923871783271"
     },
     "user_tz": 300
    },
    "id": "HX_6bKGBi5KH"
   },
   "outputs": [],
   "source": [
    "def remove_punct(text):\n",
    "  text = \"\".join([char for char in text if char not in string.punctuation])\n",
    "  text = re.sub('[0-9]+', '', text)\n",
    "  return text"
   ]
  },
  {
   "cell_type": "code",
   "execution_count": 9,
   "metadata": {
    "colab": {},
    "colab_type": "code",
    "executionInfo": {
     "elapsed": 48519,
     "status": "ok",
     "timestamp": 1595159769208,
     "user": {
      "displayName": "Marchelo Bragagnini",
      "photoUrl": "https://lh3.googleusercontent.com/a-/AOh14GiwqJ8TfMtaZO5tGKTw93K_q2UXX-xdE2JZXReM=s64",
      "userId": "12739426923871783271"
     },
     "user_tz": 300
    },
    "id": "P9mSzxgFjDmJ"
   },
   "outputs": [],
   "source": [
    "# remover numeros y simbolos de puntuación de las oraciones\n",
    "# columna \"sentence\" -> columna \"sentence_without_punctuation\"\n",
    "\n",
    "train_raw['sentence_without_punctuation'] = train_raw['sentence'].apply(lambda x: remove_punct(x))\n",
    "test_raw['sentence_without_punctuation'] = test_raw['sentence'].apply(lambda x: remove_punct(x))"
   ]
  },
  {
   "cell_type": "code",
   "execution_count": 10,
   "metadata": {
    "colab": {
     "base_uri": "https://localhost:8080/",
     "height": 195
    },
    "colab_type": "code",
    "executionInfo": {
     "elapsed": 48514,
     "status": "ok",
     "timestamp": 1595159769211,
     "user": {
      "displayName": "Marchelo Bragagnini",
      "photoUrl": "https://lh3.googleusercontent.com/a-/AOh14GiwqJ8TfMtaZO5tGKTw93K_q2UXX-xdE2JZXReM=s64",
      "userId": "12739426923871783271"
     },
     "user_tz": 300
    },
    "id": "L8HVRQG3jscS",
    "outputId": "b26de191-ffea-45a2-bad2-7729c0ce10f8"
   },
   "outputs": [
    {
     "data": {
      "text/html": [
       "<div>\n",
       "<style scoped>\n",
       "    .dataframe tbody tr th:only-of-type {\n",
       "        vertical-align: middle;\n",
       "    }\n",
       "\n",
       "    .dataframe tbody tr th {\n",
       "        vertical-align: top;\n",
       "    }\n",
       "\n",
       "    .dataframe thead th {\n",
       "        text-align: right;\n",
       "    }\n",
       "</style>\n",
       "<table border=\"1\" class=\"dataframe\">\n",
       "  <thead>\n",
       "    <tr style=\"text-align: right;\">\n",
       "      <th></th>\n",
       "      <th>sentence</th>\n",
       "      <th>sentiment</th>\n",
       "      <th>polarity</th>\n",
       "      <th>sentence_without_punctuation</th>\n",
       "    </tr>\n",
       "  </thead>\n",
       "  <tbody>\n",
       "    <tr>\n",
       "      <th>0</th>\n",
       "      <td>I rented this movie and watched it 20 times be...</td>\n",
       "      <td>10</td>\n",
       "      <td>1</td>\n",
       "      <td>I rented this movie and watched it  times befo...</td>\n",
       "    </tr>\n",
       "    <tr>\n",
       "      <th>1</th>\n",
       "      <td>I just watched I. Q. again tonight and had for...</td>\n",
       "      <td>9</td>\n",
       "      <td>1</td>\n",
       "      <td>I just watched I Q again tonight and had forgo...</td>\n",
       "    </tr>\n",
       "    <tr>\n",
       "      <th>2</th>\n",
       "      <td>Having no knowledge of this film prior to seei...</td>\n",
       "      <td>9</td>\n",
       "      <td>1</td>\n",
       "      <td>Having no knowledge of this film prior to seei...</td>\n",
       "    </tr>\n",
       "    <tr>\n",
       "      <th>3</th>\n",
       "      <td>Page 3 is most definitely a very enthralling a...</td>\n",
       "      <td>8</td>\n",
       "      <td>1</td>\n",
       "      <td>Page  is most definitely a very enthralling an...</td>\n",
       "    </tr>\n",
       "    <tr>\n",
       "      <th>4</th>\n",
       "      <td>CAMILLE 2000 &lt;br /&gt;&lt;br /&gt;Aspect ratio: 2.35:1 ...</td>\n",
       "      <td>4</td>\n",
       "      <td>0</td>\n",
       "      <td>CAMILLE  br br Aspect ratio  Panavisionbr br S...</td>\n",
       "    </tr>\n",
       "  </tbody>\n",
       "</table>\n",
       "</div>"
      ],
      "text/plain": [
       "                                            sentence sentiment  polarity  \\\n",
       "0  I rented this movie and watched it 20 times be...        10         1   \n",
       "1  I just watched I. Q. again tonight and had for...         9         1   \n",
       "2  Having no knowledge of this film prior to seei...         9         1   \n",
       "3  Page 3 is most definitely a very enthralling a...         8         1   \n",
       "4  CAMILLE 2000 <br /><br />Aspect ratio: 2.35:1 ...         4         0   \n",
       "\n",
       "                        sentence_without_punctuation  \n",
       "0  I rented this movie and watched it  times befo...  \n",
       "1  I just watched I Q again tonight and had forgo...  \n",
       "2  Having no knowledge of this film prior to seei...  \n",
       "3  Page  is most definitely a very enthralling an...  \n",
       "4  CAMILLE  br br Aspect ratio  Panavisionbr br S...  "
      ]
     },
     "execution_count": 10,
     "metadata": {},
     "output_type": "execute_result"
    }
   ],
   "source": [
    "train_raw.head()"
   ]
  },
  {
   "cell_type": "code",
   "execution_count": 11,
   "metadata": {
    "colab": {},
    "colab_type": "code",
    "executionInfo": {
     "elapsed": 50707,
     "status": "ok",
     "timestamp": 1595159771413,
     "user": {
      "displayName": "Marchelo Bragagnini",
      "photoUrl": "https://lh3.googleusercontent.com/a-/AOh14GiwqJ8TfMtaZO5tGKTw93K_q2UXX-xdE2JZXReM=s64",
      "userId": "12739426923871783271"
     },
     "user_tz": 300
    },
    "id": "WaRLj5JTjeVZ"
   },
   "outputs": [],
   "source": [
    "# remover stop words como \"http, www\" de las oraciones\n",
    "\n",
    "train_raw['sentence_without_stop_words'] = train_raw['sentence_without_punctuation'].str.replace('http\\S+|www.\\S+', '', case=False)\n",
    "test_raw['sentence_without_stop_words'] = test_raw['sentence_without_punctuation'].str.replace('http\\S+|www.\\S+', '', case=False)"
   ]
  },
  {
   "cell_type": "code",
   "execution_count": 12,
   "metadata": {
    "colab": {
     "base_uri": "https://localhost:8080/",
     "height": 246
    },
    "colab_type": "code",
    "executionInfo": {
     "elapsed": 50700,
     "status": "ok",
     "timestamp": 1595159771414,
     "user": {
      "displayName": "Marchelo Bragagnini",
      "photoUrl": "https://lh3.googleusercontent.com/a-/AOh14GiwqJ8TfMtaZO5tGKTw93K_q2UXX-xdE2JZXReM=s64",
      "userId": "12739426923871783271"
     },
     "user_tz": 300
    },
    "id": "3y9eoHRDmyMm",
    "outputId": "fb96994d-3898-4453-830e-24dae4771ce6"
   },
   "outputs": [
    {
     "data": {
      "text/html": [
       "<div>\n",
       "<style scoped>\n",
       "    .dataframe tbody tr th:only-of-type {\n",
       "        vertical-align: middle;\n",
       "    }\n",
       "\n",
       "    .dataframe tbody tr th {\n",
       "        vertical-align: top;\n",
       "    }\n",
       "\n",
       "    .dataframe thead th {\n",
       "        text-align: right;\n",
       "    }\n",
       "</style>\n",
       "<table border=\"1\" class=\"dataframe\">\n",
       "  <thead>\n",
       "    <tr style=\"text-align: right;\">\n",
       "      <th></th>\n",
       "      <th>sentence</th>\n",
       "      <th>sentiment</th>\n",
       "      <th>polarity</th>\n",
       "      <th>sentence_without_punctuation</th>\n",
       "      <th>sentence_without_stop_words</th>\n",
       "    </tr>\n",
       "  </thead>\n",
       "  <tbody>\n",
       "    <tr>\n",
       "      <th>0</th>\n",
       "      <td>I rented this movie and watched it 20 times be...</td>\n",
       "      <td>10</td>\n",
       "      <td>1</td>\n",
       "      <td>I rented this movie and watched it  times befo...</td>\n",
       "      <td>I rented this movie and watched it  times befo...</td>\n",
       "    </tr>\n",
       "    <tr>\n",
       "      <th>1</th>\n",
       "      <td>I just watched I. Q. again tonight and had for...</td>\n",
       "      <td>9</td>\n",
       "      <td>1</td>\n",
       "      <td>I just watched I Q again tonight and had forgo...</td>\n",
       "      <td>I just watched I Q again tonight and had forgo...</td>\n",
       "    </tr>\n",
       "    <tr>\n",
       "      <th>2</th>\n",
       "      <td>Having no knowledge of this film prior to seei...</td>\n",
       "      <td>9</td>\n",
       "      <td>1</td>\n",
       "      <td>Having no knowledge of this film prior to seei...</td>\n",
       "      <td>Having no knowledge of this film prior to seei...</td>\n",
       "    </tr>\n",
       "    <tr>\n",
       "      <th>3</th>\n",
       "      <td>Page 3 is most definitely a very enthralling a...</td>\n",
       "      <td>8</td>\n",
       "      <td>1</td>\n",
       "      <td>Page  is most definitely a very enthralling an...</td>\n",
       "      <td>Page  is most definitely a very enthralling an...</td>\n",
       "    </tr>\n",
       "    <tr>\n",
       "      <th>4</th>\n",
       "      <td>CAMILLE 2000 &lt;br /&gt;&lt;br /&gt;Aspect ratio: 2.35:1 ...</td>\n",
       "      <td>4</td>\n",
       "      <td>0</td>\n",
       "      <td>CAMILLE  br br Aspect ratio  Panavisionbr br S...</td>\n",
       "      <td>CAMILLE  br br Aspect ratio  Panavisionbr br S...</td>\n",
       "    </tr>\n",
       "  </tbody>\n",
       "</table>\n",
       "</div>"
      ],
      "text/plain": [
       "                                            sentence sentiment  polarity  \\\n",
       "0  I rented this movie and watched it 20 times be...        10         1   \n",
       "1  I just watched I. Q. again tonight and had for...         9         1   \n",
       "2  Having no knowledge of this film prior to seei...         9         1   \n",
       "3  Page 3 is most definitely a very enthralling a...         8         1   \n",
       "4  CAMILLE 2000 <br /><br />Aspect ratio: 2.35:1 ...         4         0   \n",
       "\n",
       "                        sentence_without_punctuation  \\\n",
       "0  I rented this movie and watched it  times befo...   \n",
       "1  I just watched I Q again tonight and had forgo...   \n",
       "2  Having no knowledge of this film prior to seei...   \n",
       "3  Page  is most definitely a very enthralling an...   \n",
       "4  CAMILLE  br br Aspect ratio  Panavisionbr br S...   \n",
       "\n",
       "                         sentence_without_stop_words  \n",
       "0  I rented this movie and watched it  times befo...  \n",
       "1  I just watched I Q again tonight and had forgo...  \n",
       "2  Having no knowledge of this film prior to seei...  \n",
       "3  Page  is most definitely a very enthralling an...  \n",
       "4  CAMILLE  br br Aspect ratio  Panavisionbr br S...  "
      ]
     },
     "execution_count": 12,
     "metadata": {},
     "output_type": "execute_result"
    }
   ],
   "source": [
    "train_raw.head()"
   ]
  },
  {
   "cell_type": "markdown",
   "metadata": {
    "colab_type": "text",
    "id": "t3PZX76diKPs"
   },
   "source": [
    "# Tokenization"
   ]
  },
  {
   "cell_type": "markdown",
   "metadata": {
    "colab_type": "text",
    "id": "TcfM3-Of2tDm"
   },
   "source": [
    "Tokenización es el proceso de generar una lista de palabras a partir de una oración. En general, consistiría, unicamente, en crear esta lista usando los espaciones en blanco como separadores. Por ejemplo:\n",
    "\n",
    "```\n",
    "'Viva el diplomado en data science' -> ['Viva', 'el, 'diplomado', 'en', 'data', 'science']\n",
    "```\n",
    "Pero, las oraciones pueden contener palabras extrañas e innecesarias para el aprendizaje como hashtags (*#CuidaTuSalud*, *#QuedateEnCasa*, etc) o nombres de usuario (*@VivaElPeru*, *@marbramen*, etc). Entonces estas palabras extrañas deben ser removidas. Por otro lado, para nosotros, palabras como: \"*Facebook*\", \"*facebook*\", \"*faCeBoOk*\" son indiferentes, pero para el modelo aprendizaje representaría tres palabras diferentes, por ende, tres word embeddings distintos. Por tanto, todas las palabras deben ser convertidas a minúsculas o mayúsculas. Otro detalle es que palabras como \"*juegaaaaaaa*\" y \"*juega*\" son lo mismo, pero el modelo las considera diferentes. Este tipo palabras también deben ser consideradas en el proceso.\n",
    "\n",
    "Para crear este proceso, existe distintas librerias. Para este trabajo se usa la librería [Natural Language Toolkit](http://www.nltk.org/), en especial, la función de tokenizador para tweets, llamada [TweetTokenizer](https://www.nltk.org/api/nltk.tokenize.html). Por ejemplo, en su manera más básica sería:\n",
    "\n",
    "```\n",
    ">>> from nltk.tokenize import TweetTokenizer\n",
    ">>> tknzr = TweetTokenizer()\n",
    ">>> s0 = \"This is a cooool #dummysmiley: :-) :-P <3 and some arrows < > -> <--\"\n",
    ">>> tknzr.tokenize(s0)\n",
    "['This', 'is', 'a', 'cooool', '#dummysmiley', ':', ':-)', ':-P', '<3', 'and', 'some', 'arrows', '<', '>', '->', '<--']\n",
    "```\n",
    "Pero para separar handles, reducir el tamaño de palabras (*juegaaaa* -> *juega*)y convertir mayúsculas a minúsculas, se usa *string_handles*, *reduce_len* y *preserve_case*. Para mayor detalle revisar \n",
    "la [clase TweetTokenizer](https://www.nltk.org/_modules/nltk/tokenize/casual.html#TweetTokenizer).\n",
    "\n",
    "```\n",
    ">>> tknzr = TweetTokenizer(strip_handles=True, reduce_len=True)\n",
    ">>> s1 = '@remy: This is waaaaayyyy too much for you!!!!!!'\n",
    ">>> tknzr.tokenize(s1)\n",
    "[':', 'This', 'is', 'waaayyy', 'too', 'much', 'for', 'you', '!', '!', '!']\n",
    "```\n",
    "\n"
   ]
  },
  {
   "cell_type": "code",
   "execution_count": 13,
   "metadata": {
    "colab": {},
    "colab_type": "code",
    "executionInfo": {
     "elapsed": 50692,
     "status": "ok",
     "timestamp": 1595159771415,
     "user": {
      "displayName": "Marchelo Bragagnini",
      "photoUrl": "https://lh3.googleusercontent.com/a-/AOh14GiwqJ8TfMtaZO5tGKTw93K_q2UXX-xdE2JZXReM=s64",
      "userId": "12739426923871783271"
     },
     "user_tz": 300
    },
    "id": "yEvvcsIYwKe5"
   },
   "outputs": [],
   "source": [
    "tt = TweetTokenizer(strip_handles=True, reduce_len=True, preserve_case=False)"
   ]
  },
  {
   "cell_type": "code",
   "execution_count": 14,
   "metadata": {
    "colab": {},
    "colab_type": "code",
    "executionInfo": {
     "elapsed": 96269,
     "status": "ok",
     "timestamp": 1595159816999,
     "user": {
      "displayName": "Marchelo Bragagnini",
      "photoUrl": "https://lh3.googleusercontent.com/a-/AOh14GiwqJ8TfMtaZO5tGKTw93K_q2UXX-xdE2JZXReM=s64",
      "userId": "12739426923871783271"
     },
     "user_tz": 300
    },
    "id": "nNGAQW3XxBWO"
   },
   "outputs": [],
   "source": [
    "train_raw['tokens'] = train_raw['sentence_without_stop_words'].apply(tt.tokenize)\n",
    "test_raw['tokens'] = test_raw['sentence_without_stop_words'].apply(tt.tokenize)"
   ]
  },
  {
   "cell_type": "code",
   "execution_count": 15,
   "metadata": {
    "colab": {
     "base_uri": "https://localhost:8080/",
     "height": 296
    },
    "colab_type": "code",
    "executionInfo": {
     "elapsed": 96266,
     "status": "ok",
     "timestamp": 1595159817002,
     "user": {
      "displayName": "Marchelo Bragagnini",
      "photoUrl": "https://lh3.googleusercontent.com/a-/AOh14GiwqJ8TfMtaZO5tGKTw93K_q2UXX-xdE2JZXReM=s64",
      "userId": "12739426923871783271"
     },
     "user_tz": 300
    },
    "id": "6HAdlw_QxNL3",
    "outputId": "ad935fed-e9b7-4eeb-b2be-986b45e34cef"
   },
   "outputs": [
    {
     "data": {
      "text/html": [
       "<div>\n",
       "<style scoped>\n",
       "    .dataframe tbody tr th:only-of-type {\n",
       "        vertical-align: middle;\n",
       "    }\n",
       "\n",
       "    .dataframe tbody tr th {\n",
       "        vertical-align: top;\n",
       "    }\n",
       "\n",
       "    .dataframe thead th {\n",
       "        text-align: right;\n",
       "    }\n",
       "</style>\n",
       "<table border=\"1\" class=\"dataframe\">\n",
       "  <thead>\n",
       "    <tr style=\"text-align: right;\">\n",
       "      <th></th>\n",
       "      <th>sentence</th>\n",
       "      <th>sentiment</th>\n",
       "      <th>polarity</th>\n",
       "      <th>sentence_without_punctuation</th>\n",
       "      <th>sentence_without_stop_words</th>\n",
       "      <th>tokens</th>\n",
       "    </tr>\n",
       "  </thead>\n",
       "  <tbody>\n",
       "    <tr>\n",
       "      <th>0</th>\n",
       "      <td>I rented this movie and watched it 20 times be...</td>\n",
       "      <td>10</td>\n",
       "      <td>1</td>\n",
       "      <td>I rented this movie and watched it  times befo...</td>\n",
       "      <td>I rented this movie and watched it  times befo...</td>\n",
       "      <td>[i, rented, this, movie, and, watched, it, tim...</td>\n",
       "    </tr>\n",
       "    <tr>\n",
       "      <th>1</th>\n",
       "      <td>I just watched I. Q. again tonight and had for...</td>\n",
       "      <td>9</td>\n",
       "      <td>1</td>\n",
       "      <td>I just watched I Q again tonight and had forgo...</td>\n",
       "      <td>I just watched I Q again tonight and had forgo...</td>\n",
       "      <td>[i, just, watched, i, q, again, tonight, and, ...</td>\n",
       "    </tr>\n",
       "    <tr>\n",
       "      <th>2</th>\n",
       "      <td>Having no knowledge of this film prior to seei...</td>\n",
       "      <td>9</td>\n",
       "      <td>1</td>\n",
       "      <td>Having no knowledge of this film prior to seei...</td>\n",
       "      <td>Having no knowledge of this film prior to seei...</td>\n",
       "      <td>[having, no, knowledge, of, this, film, prior,...</td>\n",
       "    </tr>\n",
       "    <tr>\n",
       "      <th>3</th>\n",
       "      <td>Page 3 is most definitely a very enthralling a...</td>\n",
       "      <td>8</td>\n",
       "      <td>1</td>\n",
       "      <td>Page  is most definitely a very enthralling an...</td>\n",
       "      <td>Page  is most definitely a very enthralling an...</td>\n",
       "      <td>[page, is, most, definitely, a, very, enthrall...</td>\n",
       "    </tr>\n",
       "    <tr>\n",
       "      <th>4</th>\n",
       "      <td>CAMILLE 2000 &lt;br /&gt;&lt;br /&gt;Aspect ratio: 2.35:1 ...</td>\n",
       "      <td>4</td>\n",
       "      <td>0</td>\n",
       "      <td>CAMILLE  br br Aspect ratio  Panavisionbr br S...</td>\n",
       "      <td>CAMILLE  br br Aspect ratio  Panavisionbr br S...</td>\n",
       "      <td>[camille, br, br, aspect, ratio, panavisionbr,...</td>\n",
       "    </tr>\n",
       "  </tbody>\n",
       "</table>\n",
       "</div>"
      ],
      "text/plain": [
       "                                            sentence sentiment  polarity  \\\n",
       "0  I rented this movie and watched it 20 times be...        10         1   \n",
       "1  I just watched I. Q. again tonight and had for...         9         1   \n",
       "2  Having no knowledge of this film prior to seei...         9         1   \n",
       "3  Page 3 is most definitely a very enthralling a...         8         1   \n",
       "4  CAMILLE 2000 <br /><br />Aspect ratio: 2.35:1 ...         4         0   \n",
       "\n",
       "                        sentence_without_punctuation  \\\n",
       "0  I rented this movie and watched it  times befo...   \n",
       "1  I just watched I Q again tonight and had forgo...   \n",
       "2  Having no knowledge of this film prior to seei...   \n",
       "3  Page  is most definitely a very enthralling an...   \n",
       "4  CAMILLE  br br Aspect ratio  Panavisionbr br S...   \n",
       "\n",
       "                         sentence_without_stop_words  \\\n",
       "0  I rented this movie and watched it  times befo...   \n",
       "1  I just watched I Q again tonight and had forgo...   \n",
       "2  Having no knowledge of this film prior to seei...   \n",
       "3  Page  is most definitely a very enthralling an...   \n",
       "4  CAMILLE  br br Aspect ratio  Panavisionbr br S...   \n",
       "\n",
       "                                              tokens  \n",
       "0  [i, rented, this, movie, and, watched, it, tim...  \n",
       "1  [i, just, watched, i, q, again, tonight, and, ...  \n",
       "2  [having, no, knowledge, of, this, film, prior,...  \n",
       "3  [page, is, most, definitely, a, very, enthrall...  \n",
       "4  [camille, br, br, aspect, ratio, panavisionbr,...  "
      ]
     },
     "execution_count": 15,
     "metadata": {},
     "output_type": "execute_result"
    }
   ],
   "source": [
    "train_raw.head()"
   ]
  },
  {
   "cell_type": "markdown",
   "metadata": {
    "colab_type": "text",
    "id": "RD5zzRIoQLWS"
   },
   "source": [
    "# Analisis"
   ]
  },
  {
   "cell_type": "markdown",
   "metadata": {
    "colab_type": "text",
    "id": "xSqHz0X-TBLp"
   },
   "source": [
    "En esta sección realizaras un breve analisis de los datos, considerando el tamaño de las oraciones y respondiendo algunas preguntas. **Nota**: En el modulo 1 aprendiste Pandas, así que te será fácil responder estas preguntas."
   ]
  },
  {
   "cell_type": "code",
   "execution_count": 16,
   "metadata": {
    "colab": {},
    "colab_type": "code",
    "executionInfo": {
     "elapsed": 96256,
     "status": "ok",
     "timestamp": 1595159817004,
     "user": {
      "displayName": "Marchelo Bragagnini",
      "photoUrl": "https://lh3.googleusercontent.com/a-/AOh14GiwqJ8TfMtaZO5tGKTw93K_q2UXX-xdE2JZXReM=s64",
      "userId": "12739426923871783271"
     },
     "user_tz": 300
    },
    "id": "ZT2UyFRe7IA5"
   },
   "outputs": [],
   "source": [
    "# esto aumentará una columna con el tamaño de cada oración \n",
    "train_raw['len_tokens'] = train_raw['tokens'].str.len() "
   ]
  },
  {
   "cell_type": "code",
   "execution_count": 17,
   "metadata": {
    "colab": {
     "base_uri": "https://localhost:8080/",
     "height": 363
    },
    "colab_type": "code",
    "executionInfo": {
     "elapsed": 96251,
     "status": "ok",
     "timestamp": 1595159817006,
     "user": {
      "displayName": "Marchelo Bragagnini",
      "photoUrl": "https://lh3.googleusercontent.com/a-/AOh14GiwqJ8TfMtaZO5tGKTw93K_q2UXX-xdE2JZXReM=s64",
      "userId": "12739426923871783271"
     },
     "user_tz": 300
    },
    "id": "_uLFj6q8Uo2I",
    "outputId": "5c007bbe-a693-4973-b4b6-71fe9aea27d2"
   },
   "outputs": [
    {
     "data": {
      "text/html": [
       "<div>\n",
       "<style scoped>\n",
       "    .dataframe tbody tr th:only-of-type {\n",
       "        vertical-align: middle;\n",
       "    }\n",
       "\n",
       "    .dataframe tbody tr th {\n",
       "        vertical-align: top;\n",
       "    }\n",
       "\n",
       "    .dataframe thead th {\n",
       "        text-align: right;\n",
       "    }\n",
       "</style>\n",
       "<table border=\"1\" class=\"dataframe\">\n",
       "  <thead>\n",
       "    <tr style=\"text-align: right;\">\n",
       "      <th></th>\n",
       "      <th>sentence</th>\n",
       "      <th>sentiment</th>\n",
       "      <th>polarity</th>\n",
       "      <th>sentence_without_punctuation</th>\n",
       "      <th>sentence_without_stop_words</th>\n",
       "      <th>tokens</th>\n",
       "      <th>len_tokens</th>\n",
       "    </tr>\n",
       "  </thead>\n",
       "  <tbody>\n",
       "    <tr>\n",
       "      <th>0</th>\n",
       "      <td>I rented this movie and watched it 20 times be...</td>\n",
       "      <td>10</td>\n",
       "      <td>1</td>\n",
       "      <td>I rented this movie and watched it  times befo...</td>\n",
       "      <td>I rented this movie and watched it  times befo...</td>\n",
       "      <td>[i, rented, this, movie, and, watched, it, tim...</td>\n",
       "      <td>95</td>\n",
       "    </tr>\n",
       "    <tr>\n",
       "      <th>1</th>\n",
       "      <td>I just watched I. Q. again tonight and had for...</td>\n",
       "      <td>9</td>\n",
       "      <td>1</td>\n",
       "      <td>I just watched I Q again tonight and had forgo...</td>\n",
       "      <td>I just watched I Q again tonight and had forgo...</td>\n",
       "      <td>[i, just, watched, i, q, again, tonight, and, ...</td>\n",
       "      <td>312</td>\n",
       "    </tr>\n",
       "    <tr>\n",
       "      <th>2</th>\n",
       "      <td>Having no knowledge of this film prior to seei...</td>\n",
       "      <td>9</td>\n",
       "      <td>1</td>\n",
       "      <td>Having no knowledge of this film prior to seei...</td>\n",
       "      <td>Having no knowledge of this film prior to seei...</td>\n",
       "      <td>[having, no, knowledge, of, this, film, prior,...</td>\n",
       "      <td>196</td>\n",
       "    </tr>\n",
       "    <tr>\n",
       "      <th>3</th>\n",
       "      <td>Page 3 is most definitely a very enthralling a...</td>\n",
       "      <td>8</td>\n",
       "      <td>1</td>\n",
       "      <td>Page  is most definitely a very enthralling an...</td>\n",
       "      <td>Page  is most definitely a very enthralling an...</td>\n",
       "      <td>[page, is, most, definitely, a, very, enthrall...</td>\n",
       "      <td>199</td>\n",
       "    </tr>\n",
       "    <tr>\n",
       "      <th>4</th>\n",
       "      <td>CAMILLE 2000 &lt;br /&gt;&lt;br /&gt;Aspect ratio: 2.35:1 ...</td>\n",
       "      <td>4</td>\n",
       "      <td>0</td>\n",
       "      <td>CAMILLE  br br Aspect ratio  Panavisionbr br S...</td>\n",
       "      <td>CAMILLE  br br Aspect ratio  Panavisionbr br S...</td>\n",
       "      <td>[camille, br, br, aspect, ratio, panavisionbr,...</td>\n",
       "      <td>232</td>\n",
       "    </tr>\n",
       "  </tbody>\n",
       "</table>\n",
       "</div>"
      ],
      "text/plain": [
       "                                            sentence sentiment  polarity  \\\n",
       "0  I rented this movie and watched it 20 times be...        10         1   \n",
       "1  I just watched I. Q. again tonight and had for...         9         1   \n",
       "2  Having no knowledge of this film prior to seei...         9         1   \n",
       "3  Page 3 is most definitely a very enthralling a...         8         1   \n",
       "4  CAMILLE 2000 <br /><br />Aspect ratio: 2.35:1 ...         4         0   \n",
       "\n",
       "                        sentence_without_punctuation  \\\n",
       "0  I rented this movie and watched it  times befo...   \n",
       "1  I just watched I Q again tonight and had forgo...   \n",
       "2  Having no knowledge of this film prior to seei...   \n",
       "3  Page  is most definitely a very enthralling an...   \n",
       "4  CAMILLE  br br Aspect ratio  Panavisionbr br S...   \n",
       "\n",
       "                         sentence_without_stop_words  \\\n",
       "0  I rented this movie and watched it  times befo...   \n",
       "1  I just watched I Q again tonight and had forgo...   \n",
       "2  Having no knowledge of this film prior to seei...   \n",
       "3  Page  is most definitely a very enthralling an...   \n",
       "4  CAMILLE  br br Aspect ratio  Panavisionbr br S...   \n",
       "\n",
       "                                              tokens  len_tokens  \n",
       "0  [i, rented, this, movie, and, watched, it, tim...          95  \n",
       "1  [i, just, watched, i, q, again, tonight, and, ...         312  \n",
       "2  [having, no, knowledge, of, this, film, prior,...         196  \n",
       "3  [page, is, most, definitely, a, very, enthrall...         199  \n",
       "4  [camille, br, br, aspect, ratio, panavisionbr,...         232  "
      ]
     },
     "execution_count": 17,
     "metadata": {},
     "output_type": "execute_result"
    }
   ],
   "source": [
    "train_raw.head(5)"
   ]
  },
  {
   "cell_type": "markdown",
   "metadata": {
    "colab_type": "text",
    "id": "fgYCqlx-UsKf"
   },
   "source": [
    "### Histograma de la longitud de oración (3 puntos)"
   ]
  },
  {
   "cell_type": "markdown",
   "metadata": {
    "colab_type": "text",
    "id": "DUYYKnv5U-Ew"
   },
   "source": [
    "Plotea un histograma del número de tokens por oraciones (columna 'len_sentence_tokenized'). Pandas, este brinda una función **hist()**, la puedes usar para mostrar un histograma de una columna en específico. Para mayor información revisar [pandas.DataFrame.hist](https://pandas.pydata.org/pandas-docs/stable/reference/api/pandas.DataFrame.hist.html)"
   ]
  },
  {
   "cell_type": "code",
   "execution_count": 18,
   "metadata": {
    "colab": {},
    "colab_type": "code",
    "executionInfo": {
     "elapsed": 96242,
     "status": "ok",
     "timestamp": 1595159817009,
     "user": {
      "displayName": "Marchelo Bragagnini",
      "photoUrl": "https://lh3.googleusercontent.com/a-/AOh14GiwqJ8TfMtaZO5tGKTw93K_q2UXX-xdE2JZXReM=s64",
      "userId": "12739426923871783271"
     },
     "user_tz": 300
    },
    "id": "-mJ_XgviUrSK"
   },
   "outputs": [
    {
     "data": {
      "text/html": [
       "<div>\n",
       "<style scoped>\n",
       "    .dataframe tbody tr th:only-of-type {\n",
       "        vertical-align: middle;\n",
       "    }\n",
       "\n",
       "    .dataframe tbody tr th {\n",
       "        vertical-align: top;\n",
       "    }\n",
       "\n",
       "    .dataframe thead th {\n",
       "        text-align: right;\n",
       "    }\n",
       "</style>\n",
       "<table border=\"1\" class=\"dataframe\">\n",
       "  <thead>\n",
       "    <tr style=\"text-align: right;\">\n",
       "      <th></th>\n",
       "      <th>sentence</th>\n",
       "      <th>sentiment</th>\n",
       "      <th>polarity</th>\n",
       "      <th>sentence_without_punctuation</th>\n",
       "      <th>sentence_without_stop_words</th>\n",
       "      <th>tokens</th>\n",
       "      <th>len_tokens</th>\n",
       "    </tr>\n",
       "  </thead>\n",
       "  <tbody>\n",
       "    <tr>\n",
       "      <th>12580</th>\n",
       "      <td>Match 1: Tag Team Table Match Bubba Ray and Sp...</td>\n",
       "      <td>9</td>\n",
       "      <td>1</td>\n",
       "      <td>Match  Tag Team Table Match Bubba Ray and Spik...</td>\n",
       "      <td>Match  Tag Team Table Match Bubba Ray and Spik...</td>\n",
       "      <td>[match, tag, team, table, match, bubba, ray, a...</td>\n",
       "      <td>2460</td>\n",
       "    </tr>\n",
       "    <tr>\n",
       "      <th>16473</th>\n",
       "      <td>Titanic directed by James Cameron presents a f...</td>\n",
       "      <td>9</td>\n",
       "      <td>1</td>\n",
       "      <td>Titanic directed by James Cameron presents a f...</td>\n",
       "      <td>Titanic directed by James Cameron presents a f...</td>\n",
       "      <td>[titanic, directed, by, james, cameron, presen...</td>\n",
       "      <td>1829</td>\n",
       "    </tr>\n",
       "    <tr>\n",
       "      <th>2948</th>\n",
       "      <td>**Attention Spoilers**&lt;br /&gt;&lt;br /&gt;First of all...</td>\n",
       "      <td>9</td>\n",
       "      <td>1</td>\n",
       "      <td>Attention Spoilersbr br First of all let me sa...</td>\n",
       "      <td>Attention Spoilersbr br First of all let me sa...</td>\n",
       "      <td>[attention, spoilersbr, br, first, of, all, le...</td>\n",
       "      <td>1822</td>\n",
       "    </tr>\n",
       "    <tr>\n",
       "      <th>24454</th>\n",
       "      <td>By now you've probably heard a bit about the n...</td>\n",
       "      <td>10</td>\n",
       "      <td>1</td>\n",
       "      <td>By now youve probably heard a bit about the ne...</td>\n",
       "      <td>By now youve probably heard a bit about the ne...</td>\n",
       "      <td>[by, now, youve, probably, heard, a, bit, abou...</td>\n",
       "      <td>1721</td>\n",
       "    </tr>\n",
       "    <tr>\n",
       "      <th>14281</th>\n",
       "      <td>*!!- SPOILERS - !!*&lt;br /&gt;&lt;br /&gt;Before I begin ...</td>\n",
       "      <td>10</td>\n",
       "      <td>1</td>\n",
       "      <td>SPOILERS  br br Before I begin this let me sa...</td>\n",
       "      <td>SPOILERS  br br Before I begin this let me sa...</td>\n",
       "      <td>[spoilers, br, br, before, i, begin, this, let...</td>\n",
       "      <td>1577</td>\n",
       "    </tr>\n",
       "  </tbody>\n",
       "</table>\n",
       "</div>"
      ],
      "text/plain": [
       "                                                sentence sentiment  polarity  \\\n",
       "12580  Match 1: Tag Team Table Match Bubba Ray and Sp...         9         1   \n",
       "16473  Titanic directed by James Cameron presents a f...         9         1   \n",
       "2948   **Attention Spoilers**<br /><br />First of all...         9         1   \n",
       "24454  By now you've probably heard a bit about the n...        10         1   \n",
       "14281  *!!- SPOILERS - !!*<br /><br />Before I begin ...        10         1   \n",
       "\n",
       "                            sentence_without_punctuation  \\\n",
       "12580  Match  Tag Team Table Match Bubba Ray and Spik...   \n",
       "16473  Titanic directed by James Cameron presents a f...   \n",
       "2948   Attention Spoilersbr br First of all let me sa...   \n",
       "24454  By now youve probably heard a bit about the ne...   \n",
       "14281   SPOILERS  br br Before I begin this let me sa...   \n",
       "\n",
       "                             sentence_without_stop_words  \\\n",
       "12580  Match  Tag Team Table Match Bubba Ray and Spik...   \n",
       "16473  Titanic directed by James Cameron presents a f...   \n",
       "2948   Attention Spoilersbr br First of all let me sa...   \n",
       "24454  By now youve probably heard a bit about the ne...   \n",
       "14281   SPOILERS  br br Before I begin this let me sa...   \n",
       "\n",
       "                                                  tokens  len_tokens  \n",
       "12580  [match, tag, team, table, match, bubba, ray, a...        2460  \n",
       "16473  [titanic, directed, by, james, cameron, presen...        1829  \n",
       "2948   [attention, spoilersbr, br, first, of, all, le...        1822  \n",
       "24454  [by, now, youve, probably, heard, a, bit, abou...        1721  \n",
       "14281  [spoilers, br, br, before, i, begin, this, let...        1577  "
      ]
     },
     "execution_count": 18,
     "metadata": {},
     "output_type": "execute_result"
    }
   ],
   "source": [
    "topTokens=train_raw.sort_values('len_tokens',ascending=False)\n",
    "topTokens.head()"
   ]
  },
  {
   "cell_type": "code",
   "execution_count": 19,
   "metadata": {},
   "outputs": [
    {
     "data": {
      "image/png": "[encoded data removed]",
      "text/plain": [
       "<Figure size 432x288 with 1 Axes>"
      ]
     },
     "metadata": {
      "needs_background": "light"
     },
     "output_type": "display_data"
    }
   ],
   "source": [
    "ax=topTokens[:10].plot.bar( y='len_tokens', rot=0)"
   ]
  },
  {
   "cell_type": "markdown",
   "metadata": {
    "colab_type": "text",
    "id": "TPMLjaTmVv_p"
   },
   "source": [
    "### Sentencia más/menos larga (3 puntos)"
   ]
  },
  {
   "cell_type": "markdown",
   "metadata": {
    "colab_type": "text",
    "id": "RP4yJoymV86g"
   },
   "source": [
    "Imprime la sentencia con el mayor/menor número de tokens (`sentence_max_len`/`sentence_min_len`). Estos valores `max_len` (máximo número de tokens), `min_len` (mínimo número de tokens), serán utiles para elegir la longitud de sentencia de entrada del modelo."
   ]
  },
  {
   "cell_type": "code",
   "execution_count": 20,
   "metadata": {},
   "outputs": [
    {
     "data": {
      "text/html": [
       "<div>\n",
       "<style scoped>\n",
       "    .dataframe tbody tr th:only-of-type {\n",
       "        vertical-align: middle;\n",
       "    }\n",
       "\n",
       "    .dataframe tbody tr th {\n",
       "        vertical-align: top;\n",
       "    }\n",
       "\n",
       "    .dataframe thead th {\n",
       "        text-align: right;\n",
       "    }\n",
       "</style>\n",
       "<table border=\"1\" class=\"dataframe\">\n",
       "  <thead>\n",
       "    <tr style=\"text-align: right;\">\n",
       "      <th></th>\n",
       "      <th>sentence</th>\n",
       "      <th>sentiment</th>\n",
       "      <th>polarity</th>\n",
       "      <th>sentence_without_punctuation</th>\n",
       "      <th>sentence_without_stop_words</th>\n",
       "      <th>tokens</th>\n",
       "      <th>len_tokens</th>\n",
       "    </tr>\n",
       "  </thead>\n",
       "  <tbody>\n",
       "    <tr>\n",
       "      <th>20784</th>\n",
       "      <td>I wouldn't rent this one even on dollar rental...</td>\n",
       "      <td>1</td>\n",
       "      <td>0</td>\n",
       "      <td>I wouldnt rent this one even on dollar rental ...</td>\n",
       "      <td>I wouldnt rent this one even on dollar rental ...</td>\n",
       "      <td>[i, wouldnt, rent, this, one, even, on, dollar...</td>\n",
       "      <td>10</td>\n",
       "    </tr>\n",
       "    <tr>\n",
       "      <th>4528</th>\n",
       "      <td>This movie is terrible but it has some good ef...</td>\n",
       "      <td>3</td>\n",
       "      <td>0</td>\n",
       "      <td>This movie is terrible but it has some good ef...</td>\n",
       "      <td>This movie is terrible but it has some good ef...</td>\n",
       "      <td>[this, movie, is, terrible, but, it, has, some...</td>\n",
       "      <td>10</td>\n",
       "    </tr>\n",
       "    <tr>\n",
       "      <th>3003</th>\n",
       "      <td>You'd better choose Paul Verhoeven's even if y...</td>\n",
       "      <td>3</td>\n",
       "      <td>0</td>\n",
       "      <td>Youd better choose Paul Verhoevens even if you...</td>\n",
       "      <td>Youd better choose Paul Verhoevens even if you...</td>\n",
       "      <td>[youd, better, choose, paul, verhoevens, even,...</td>\n",
       "      <td>11</td>\n",
       "    </tr>\n",
       "    <tr>\n",
       "      <th>24587</th>\n",
       "      <td>Ming The Merciless does a little Bardwork and ...</td>\n",
       "      <td>1</td>\n",
       "      <td>0</td>\n",
       "      <td>Ming The Merciless does a little Bardwork and ...</td>\n",
       "      <td>Ming The Merciless does a little Bardwork and ...</td>\n",
       "      <td>[ming, the, merciless, does, a, little, bardwo...</td>\n",
       "      <td>12</td>\n",
       "    </tr>\n",
       "    <tr>\n",
       "      <th>6576</th>\n",
       "      <td>Adrian Pasdar is excellent is this film. He ma...</td>\n",
       "      <td>9</td>\n",
       "      <td>1</td>\n",
       "      <td>Adrian Pasdar is excellent is this film He mak...</td>\n",
       "      <td>Adrian Pasdar is excellent is this film He mak...</td>\n",
       "      <td>[adrian, pasdar, is, excellent, is, this, film...</td>\n",
       "      <td>12</td>\n",
       "    </tr>\n",
       "  </tbody>\n",
       "</table>\n",
       "</div>"
      ],
      "text/plain": [
       "                                                sentence sentiment  polarity  \\\n",
       "20784  I wouldn't rent this one even on dollar rental...         1         0   \n",
       "4528   This movie is terrible but it has some good ef...         3         0   \n",
       "3003   You'd better choose Paul Verhoeven's even if y...         3         0   \n",
       "24587  Ming The Merciless does a little Bardwork and ...         1         0   \n",
       "6576   Adrian Pasdar is excellent is this film. He ma...         9         1   \n",
       "\n",
       "                            sentence_without_punctuation  \\\n",
       "20784  I wouldnt rent this one even on dollar rental ...   \n",
       "4528   This movie is terrible but it has some good ef...   \n",
       "3003   Youd better choose Paul Verhoevens even if you...   \n",
       "24587  Ming The Merciless does a little Bardwork and ...   \n",
       "6576   Adrian Pasdar is excellent is this film He mak...   \n",
       "\n",
       "                             sentence_without_stop_words  \\\n",
       "20784  I wouldnt rent this one even on dollar rental ...   \n",
       "4528   This movie is terrible but it has some good ef...   \n",
       "3003   Youd better choose Paul Verhoevens even if you...   \n",
       "24587  Ming The Merciless does a little Bardwork and ...   \n",
       "6576   Adrian Pasdar is excellent is this film He mak...   \n",
       "\n",
       "                                                  tokens  len_tokens  \n",
       "20784  [i, wouldnt, rent, this, one, even, on, dollar...          10  \n",
       "4528   [this, movie, is, terrible, but, it, has, some...          10  \n",
       "3003   [youd, better, choose, paul, verhoevens, even,...          11  \n",
       "24587  [ming, the, merciless, does, a, little, bardwo...          12  \n",
       "6576   [adrian, pasdar, is, excellent, is, this, film...          12  "
      ]
     },
     "execution_count": 20,
     "metadata": {},
     "output_type": "execute_result"
    }
   ],
   "source": [
    "#MENOR\n",
    "topTokens=train_raw.sort_values('len_tokens',ascending=True)\n",
    "topTokens.head()\n",
    "#topTokens['sentence'][0]"
   ]
  },
  {
   "cell_type": "code",
   "execution_count": 21,
   "metadata": {},
   "outputs": [
    {
     "data": {
      "text/html": [
       "<div>\n",
       "<style scoped>\n",
       "    .dataframe tbody tr th:only-of-type {\n",
       "        vertical-align: middle;\n",
       "    }\n",
       "\n",
       "    .dataframe tbody tr th {\n",
       "        vertical-align: top;\n",
       "    }\n",
       "\n",
       "    .dataframe thead th {\n",
       "        text-align: right;\n",
       "    }\n",
       "</style>\n",
       "<table border=\"1\" class=\"dataframe\">\n",
       "  <thead>\n",
       "    <tr style=\"text-align: right;\">\n",
       "      <th></th>\n",
       "      <th>sentence</th>\n",
       "      <th>sentiment</th>\n",
       "      <th>polarity</th>\n",
       "      <th>sentence_without_punctuation</th>\n",
       "      <th>sentence_without_stop_words</th>\n",
       "      <th>tokens</th>\n",
       "      <th>len_tokens</th>\n",
       "    </tr>\n",
       "  </thead>\n",
       "  <tbody>\n",
       "    <tr>\n",
       "      <th>12580</th>\n",
       "      <td>Match 1: Tag Team Table Match Bubba Ray and Sp...</td>\n",
       "      <td>9</td>\n",
       "      <td>1</td>\n",
       "      <td>Match  Tag Team Table Match Bubba Ray and Spik...</td>\n",
       "      <td>Match  Tag Team Table Match Bubba Ray and Spik...</td>\n",
       "      <td>[match, tag, team, table, match, bubba, ray, a...</td>\n",
       "      <td>2460</td>\n",
       "    </tr>\n",
       "    <tr>\n",
       "      <th>16473</th>\n",
       "      <td>Titanic directed by James Cameron presents a f...</td>\n",
       "      <td>9</td>\n",
       "      <td>1</td>\n",
       "      <td>Titanic directed by James Cameron presents a f...</td>\n",
       "      <td>Titanic directed by James Cameron presents a f...</td>\n",
       "      <td>[titanic, directed, by, james, cameron, presen...</td>\n",
       "      <td>1829</td>\n",
       "    </tr>\n",
       "    <tr>\n",
       "      <th>2948</th>\n",
       "      <td>**Attention Spoilers**&lt;br /&gt;&lt;br /&gt;First of all...</td>\n",
       "      <td>9</td>\n",
       "      <td>1</td>\n",
       "      <td>Attention Spoilersbr br First of all let me sa...</td>\n",
       "      <td>Attention Spoilersbr br First of all let me sa...</td>\n",
       "      <td>[attention, spoilersbr, br, first, of, all, le...</td>\n",
       "      <td>1822</td>\n",
       "    </tr>\n",
       "    <tr>\n",
       "      <th>24454</th>\n",
       "      <td>By now you've probably heard a bit about the n...</td>\n",
       "      <td>10</td>\n",
       "      <td>1</td>\n",
       "      <td>By now youve probably heard a bit about the ne...</td>\n",
       "      <td>By now youve probably heard a bit about the ne...</td>\n",
       "      <td>[by, now, youve, probably, heard, a, bit, abou...</td>\n",
       "      <td>1721</td>\n",
       "    </tr>\n",
       "    <tr>\n",
       "      <th>14281</th>\n",
       "      <td>*!!- SPOILERS - !!*&lt;br /&gt;&lt;br /&gt;Before I begin ...</td>\n",
       "      <td>10</td>\n",
       "      <td>1</td>\n",
       "      <td>SPOILERS  br br Before I begin this let me sa...</td>\n",
       "      <td>SPOILERS  br br Before I begin this let me sa...</td>\n",
       "      <td>[spoilers, br, br, before, i, begin, this, let...</td>\n",
       "      <td>1577</td>\n",
       "    </tr>\n",
       "  </tbody>\n",
       "</table>\n",
       "</div>"
      ],
      "text/plain": [
       "                                                sentence sentiment  polarity  \\\n",
       "12580  Match 1: Tag Team Table Match Bubba Ray and Sp...         9         1   \n",
       "16473  Titanic directed by James Cameron presents a f...         9         1   \n",
       "2948   **Attention Spoilers**<br /><br />First of all...         9         1   \n",
       "24454  By now you've probably heard a bit about the n...        10         1   \n",
       "14281  *!!- SPOILERS - !!*<br /><br />Before I begin ...        10         1   \n",
       "\n",
       "                            sentence_without_punctuation  \\\n",
       "12580  Match  Tag Team Table Match Bubba Ray and Spik...   \n",
       "16473  Titanic directed by James Cameron presents a f...   \n",
       "2948   Attention Spoilersbr br First of all let me sa...   \n",
       "24454  By now youve probably heard a bit about the ne...   \n",
       "14281   SPOILERS  br br Before I begin this let me sa...   \n",
       "\n",
       "                             sentence_without_stop_words  \\\n",
       "12580  Match  Tag Team Table Match Bubba Ray and Spik...   \n",
       "16473  Titanic directed by James Cameron presents a f...   \n",
       "2948   Attention Spoilersbr br First of all let me sa...   \n",
       "24454  By now youve probably heard a bit about the ne...   \n",
       "14281   SPOILERS  br br Before I begin this let me sa...   \n",
       "\n",
       "                                                  tokens  len_tokens  \n",
       "12580  [match, tag, team, table, match, bubba, ray, a...        2460  \n",
       "16473  [titanic, directed, by, james, cameron, presen...        1829  \n",
       "2948   [attention, spoilersbr, br, first, of, all, le...        1822  \n",
       "24454  [by, now, youve, probably, heard, a, bit, abou...        1721  \n",
       "14281  [spoilers, br, br, before, i, begin, this, let...        1577  "
      ]
     },
     "execution_count": 21,
     "metadata": {},
     "output_type": "execute_result"
    }
   ],
   "source": [
    "#MAYOR\n",
    "topTokens=train_raw.sort_values('len_tokens',ascending=False)\n",
    "topTokens.head()\n",
    "#topTokens['sentence'][0]"
   ]
  },
  {
   "cell_type": "code",
   "execution_count": 22,
   "metadata": {},
   "outputs": [],
   "source": [
    "mayorTokens=2460\n",
    "menorTokens=10"
   ]
  },
  {
   "cell_type": "code",
   "execution_count": 23,
   "metadata": {
    "colab": {
     "base_uri": "https://localhost:8080/",
     "height": 101
    },
    "colab_type": "code",
    "executionInfo": {
     "elapsed": 96238,
     "status": "ok",
     "timestamp": 1595159817011,
     "user": {
      "displayName": "Marchelo Bragagnini",
      "photoUrl": "https://lh3.googleusercontent.com/a-/AOh14GiwqJ8TfMtaZO5tGKTw93K_q2UXX-xdE2JZXReM=s64",
      "userId": "12739426923871783271"
     },
     "user_tz": 300
    },
    "id": "Nv9-b2dTV8iD",
    "outputId": "815cd34c-a140-462d-9f05-4d76e82a89c4"
   },
   "outputs": [
    {
     "name": "stdout",
     "output_type": "stream",
     "text": [
      "La sentencia más larga es:\n",
      "\n",
      "I wouldnt rent this one even on dollar rental...\t\n",
      "\n",
      "Conteniendo: 2469 tokens\n"
     ]
    }
   ],
   "source": [
    "## codifica aqui encuentra el valor de max_len y sentence_max_len\n",
    "max_len = 2469\n",
    "sentence_max_len = 'I wouldnt rent this one even on dollar rental...\t' \n",
    "\n",
    "print(\"La sentencia más larga es:\")\n",
    "print('\\n' + sentence_max_len + '\\n')\n",
    "print(\"Conteniendo: %d tokens\"%(max_len))\n"
   ]
  },
  {
   "cell_type": "code",
   "execution_count": 24,
   "metadata": {
    "colab": {
     "base_uri": "https://localhost:8080/",
     "height": 101
    },
    "colab_type": "code",
    "executionInfo": {
     "elapsed": 96210,
     "status": "ok",
     "timestamp": 1595159817013,
     "user": {
      "displayName": "Marchelo Bragagnini",
      "photoUrl": "https://lh3.googleusercontent.com/a-/AOh14GiwqJ8TfMtaZO5tGKTw93K_q2UXX-xdE2JZXReM=s64",
      "userId": "12739426923871783271"
     },
     "user_tz": 300
    },
    "id": "iqClb39GVtqo",
    "outputId": "fe250bd0-c96b-4168-a900-5ba2a56c3aaf"
   },
   "outputs": [
    {
     "name": "stdout",
     "output_type": "stream",
     "text": [
      "La sentencia mínima de tokens es:\n",
      "\n",
      "Match 1: Tag Team Table Match Bubba Ray and Sp...\n",
      "\n",
      "Conteniendo: 10 tokens\n"
     ]
    }
   ],
   "source": [
    "## codifica aqui encuentra el valor de min_len y sentence_min_len\n",
    "min_len = 10\n",
    "sentence_min_len = 'Match 1: Tag Team Table Match Bubba Ray and Sp...'\n",
    "\n",
    "print(\"La sentencia mínima de tokens es:\")\n",
    "print('\\n' + sentence_min_len + '\\n')\n",
    "print(\"Conteniendo: %d tokens\"%(min_len))\n"
   ]
  },
  {
   "cell_type": "markdown",
   "metadata": {
    "colab_type": "text",
    "id": "V0HRSE5ChPX-"
   },
   "source": [
    "# Definición del diccionario y de indices"
   ]
  },
  {
   "cell_type": "markdown",
   "metadata": {
    "colab_type": "text",
    "id": "TT5vw8Dm0eDb"
   },
   "source": [
    "Debido a que cualquier lenguaje contiene un número enorme de tokens, se debe limitar este valor. En general se elige las ***N*** tokens más frecuente, esta variable es: ***max_words***. Además, se debe elegir el tamaño de las oraciones de la entrada, se llama esta variable: ***max_len***. Por tanto, oraciones con un número de tokens mayor a ***max_len*** serán cortadas, y oraciones con un número de tokens menor a ***max_len***, se les aumentará padding. \n",
    "\n",
    "Por otro lado, cada token igual debe ser representada por un único número, que representa su entrada en la matriz de embeddings. El 0 representaría padding.\n",
    "\n",
    "```\n",
    "['padding', 'cuida', 'tu', 'salud'] -> [0, 69, 24, 12]\n",
    "```\n",
    "\n",
    "**Nota**: Recuerda tu elegir el valor de **max_words** y **max_len** usando la anterior sección.\n",
    "\n",
    "Recuerda sustentar tu respuesta."
   ]
  },
  {
   "cell_type": "markdown",
   "metadata": {
    "colab_type": "text",
    "id": "rr4fzqk8Pxv2"
   },
   "source": [
    " ESCRIBE AQUI PORQUE ELEGISTE EL VALOR DE max_len y max_words"
   ]
  },
  {
   "cell_type": "markdown",
   "metadata": {
    "colab_type": "text",
    "id": "vt1mPnAk5PDI"
   },
   "source": [
    "### Codigo (10 puntos)"
   ]
  },
  {
   "cell_type": "code",
   "execution_count": 88,
   "metadata": {
    "colab": {},
    "colab_type": "code",
    "executionInfo": {
     "elapsed": 786,
     "status": "ok",
     "timestamp": 1595160369421,
     "user": {
      "displayName": "Marchelo Bragagnini",
      "photoUrl": "https://lh3.googleusercontent.com/a-/AOh14GiwqJ8TfMtaZO5tGKTw93K_q2UXX-xdE2JZXReM=s64",
      "userId": "12739426923871783271"
     },
     "user_tz": 300
    },
    "id": "7EUG_xoP411S"
   },
   "outputs": [],
   "source": [
    "## CODEA AQUI, DEFINE TU ESTOS VALORES \n",
    "max_len = 500 # longitud de la secuencia\n",
    "max_words = 5000  # tamaño del diccionario \n",
    "\n",
    "max_review_length =max_len\n",
    "top_words =max_words\n",
    "X_train=0\n",
    "Y_train=0\n",
    "X_test=0\n",
    "Y_test=0"
   ]
  },
  {
   "cell_type": "markdown",
   "metadata": {
    "colab_type": "text",
    "id": "2cFcxmmE5Z0B"
   },
   "source": [
    "## Generación de Indices"
   ]
  },
  {
   "cell_type": "code",
   "execution_count": 89,
   "metadata": {
    "colab": {},
    "colab_type": "code",
    "executionInfo": {
     "elapsed": 787,
     "status": "ok",
     "timestamp": 1595160436790,
     "user": {
      "displayName": "Marchelo Bragagnini",
      "photoUrl": "https://lh3.googleusercontent.com/a-/AOh14GiwqJ8TfMtaZO5tGKTw93K_q2UXX-xdE2JZXReM=s64",
      "userId": "12739426923871783271"
     },
     "user_tz": 300
    },
    "id": "6de9qv4-3UKc"
   },
   "outputs": [],
   "source": [
    "# convertir a array numpy necesario para el procesamiento\n",
    "#X_train_temp = train_raw['tokens'].to_numpy()\n",
    "#X_test = train_raw['polarity'].to_numpy()\n",
    "\n",
    "#Y_train_temp = test_raw['tokens'].to_numpy()\n",
    "#Y_test = test_raw['polarity'].to_numpy()\n",
    "\n",
    "X_train_temp = train_raw['tokens'].to_numpy()\n",
    "Y_train= train_raw['polarity'].to_numpy()\n",
    "\n",
    "#X_test\n",
    "X_test = test_raw['tokens'].to_numpy()\n",
    "Y_test = test_raw['polarity'].to_numpy()"
   ]
  },
  {
   "cell_type": "code",
   "execution_count": 90,
   "metadata": {
    "colab": {},
    "colab_type": "code",
    "executionInfo": {
     "elapsed": 11413,
     "status": "ok",
     "timestamp": 1595160450624,
     "user": {
      "displayName": "Marchelo Bragagnini",
      "photoUrl": "https://lh3.googleusercontent.com/a-/AOh14GiwqJ8TfMtaZO5tGKTw93K_q2UXX-xdE2JZXReM=s64",
      "userId": "12739426923871783271"
     },
     "user_tz": 300
    },
    "id": "l7nB0cVt5CxY"
   },
   "outputs": [],
   "source": [
    "tokenizer = Tokenizer(num_words = max_words)\n",
    "tokenizer.fit_on_texts(X_train_temp)\n",
    "tokenizer.fit_on_texts(X_test)"
   ]
  },
  {
   "cell_type": "code",
   "execution_count": 91,
   "metadata": {},
   "outputs": [],
   "source": [
    "train_sequences = tokenizer.texts_to_sequences(X_train_temp)\n",
    "test_sequences = tokenizer.texts_to_sequences(X_test)"
   ]
  },
  {
   "cell_type": "code",
   "execution_count": 92,
   "metadata": {
    "colab": {
     "base_uri": "https://localhost:8080/",
     "height": 70,
     "output_embedded_package_id": "1M8x-FgTpH6PIplXMDnHDXTl2fgNDRPtn"
    },
    "colab_type": "code",
    "executionInfo": {
     "elapsed": 2420,
     "status": "ok",
     "timestamp": 1595160325832,
     "user": {
      "displayName": "Marchelo Bragagnini",
      "photoUrl": "https://lh3.googleusercontent.com/a-/AOh14GiwqJ8TfMtaZO5tGKTw93K_q2UXX-xdE2JZXReM=s64",
      "userId": "12739426923871783271"
     },
     "user_tz": 300
    },
    "id": "KF-UmT5D9IxN",
    "outputId": "6c727670-4056-4b37-f43d-9dcf92e39e06"
   },
   "outputs": [
    {
     "name": "stdout",
     "output_type": "stream",
     "text": [
      "Número único de tokens 175434\n"
     ]
    }
   ],
   "source": [
    "word_to_index = tokenizer.word_index\n",
    "print(\"Número único de tokens %s\" % len(word_to_index))"
   ]
  },
  {
   "cell_type": "code",
   "execution_count": 93,
   "metadata": {
    "colab": {},
    "colab_type": "code",
    "executionInfo": {
     "elapsed": 1218,
     "status": "ok",
     "timestamp": 1595160490188,
     "user": {
      "displayName": "Marchelo Bragagnini",
      "photoUrl": "https://lh3.googleusercontent.com/a-/AOh14GiwqJ8TfMtaZO5tGKTw93K_q2UXX-xdE2JZXReM=s64",
      "userId": "12739426923871783271"
     },
     "user_tz": 300
    },
    "id": "pwk9YxsS9uR6"
   },
   "outputs": [],
   "source": [
    "X_train = pad_sequences(train_sequences, maxlen = max_len)\n",
    "X_test = pad_sequences(test_sequences, maxlen = max_len)"
   ]
  },
  {
   "cell_type": "code",
   "execution_count": 94,
   "metadata": {
    "colab": {
     "base_uri": "https://localhost:8080/",
     "height": 202
    },
    "colab_type": "code",
    "executionInfo": {
     "elapsed": 795,
     "status": "ok",
     "timestamp": 1595160969901,
     "user": {
      "displayName": "Marchelo Bragagnini",
      "photoUrl": "https://lh3.googleusercontent.com/a-/AOh14GiwqJ8TfMtaZO5tGKTw93K_q2UXX-xdE2JZXReM=s64",
      "userId": "12739426923871783271"
     },
     "user_tz": 300
    },
    "id": "luETM2EA-Wsi",
    "outputId": "e6e0da42-5954-4519-ab24-c064cf144fe5"
   },
   "outputs": [
    {
     "name": "stdout",
     "output_type": "stream",
     "text": [
      "X_train.shape: (25000, 500)\n",
      "Y_train.shape: (25000,)\n",
      "X_test.shape: (25000, 500)\n",
      "Y_test.shape: (25000,)\n"
     ]
    }
   ],
   "source": [
    "print('X_train.shape: %s'%(str(X_train.shape)))\n",
    "print('Y_train.shape: %s'%(str(Y_train.shape)))\n",
    "print('X_test.shape: %s'%(str(X_test.shape)))\n",
    "print('Y_test.shape: %s'%(str(Y_test.shape)))\n",
    "#X_train\n"
   ]
  },
  {
   "cell_type": "markdown",
   "metadata": {
    "colab_type": "text",
    "id": "AhDsZFx6iP40"
   },
   "source": [
    "# Construcción del modelo"
   ]
  },
  {
   "cell_type": "markdown",
   "metadata": {
    "colab_type": "text",
    "id": "ABMbLm7HjN3R"
   },
   "source": [
    "## Inicialización del Modelo\n",
    "Para construir un modelo de clasificación usa [tf.keras.Sequential](https://www.tensorflow.org/api_docs/python/tf/keras/Sequential://)"
   ]
  },
  {
   "cell_type": "markdown",
   "metadata": {
    "colab_type": "text",
    "id": "0R97LjC7mHk5"
   },
   "source": [
    "### Codigo (01 punto)"
   ]
  },
  {
   "cell_type": "code",
   "execution_count": 99,
   "metadata": {
    "colab": {},
    "colab_type": "code",
    "executionInfo": {
     "elapsed": 96867,
     "status": "aborted",
     "timestamp": 1595159817706,
     "user": {
      "displayName": "Marchelo Bragagnini",
      "photoUrl": "https://lh3.googleusercontent.com/a-/AOh14GiwqJ8TfMtaZO5tGKTw93K_q2UXX-xdE2JZXReM=s64",
      "userId": "12739426923871783271"
     },
     "user_tz": 300
    },
    "id": "bSBlHa_5mD-8"
   },
   "outputs": [],
   "source": [
    "# codea aqui\n",
    "import numpy\n",
    "from keras.datasets import imdb\n",
    "from keras.models import Sequential\n",
    "from keras.layers import Dense\n",
    "from keras.layers import LSTM\n",
    "from keras.layers.convolutional import Conv1D\n",
    "from keras.layers.convolutional import MaxPooling1D\n",
    "from keras.layers.embeddings import Embedding\n",
    "from keras.preprocessing import sequence"
   ]
  },
  {
   "cell_type": "markdown",
   "metadata": {
    "colab_type": "text",
    "id": "TYFUFrxHmOxo"
   },
   "source": [
    "## Definición de la Arquitectura del Modelo"
   ]
  },
  {
   "cell_type": "markdown",
   "metadata": {
    "colab_type": "text",
    "id": "7w9E-300mQX5"
   },
   "source": [
    "Considera revisar [tf.keras.layers](https://www.tensorflow.org/api_docs/python/tf/keras/layers/Dense) las diferentes capas que usa TensorFlow. Se recomienda revisar la capa [tf.keras.layers.Conv2D](https://www.tensorflow.org/api_docs/python/tf/keras/layers/Conv2D), que recibe como parametros.\n",
    "\n",
    "\n",
    "* **units**: (integer), número de neuronas de salida.\n",
    "* **data_format**: (string), formato de los datos de entrada. \n",
    "* **input_shape**: (tuple), es la dimensión de los datos de entrada. Ojo si \n",
    "data_format='channels_first', los datos de entrada tienen la forma de (batch_size, previous_channels, rows, cols). Si data_format='channels_last', los datos tiene la forma de entrada (batch_size, rows, cols, previous_channel) \n",
    "* **filters** (integer), número de convoluciones (f,f,previous_channel). En la clase lo llamamos channel.\n",
    "* **kernel_size** (integer, tupla/lista de 2 elementos), determinar el tamaño de la convolución o kernel. Ejemplo si kernel_size=2 el kernel es (2,2), si se usa kernel_size=(2,3), el kernel es (2,3). Por defecto es (1,1)\n",
    "* **stride** (integer, tupla/list de 2 elementos), determina el valor del stride. En caso de ser stride=3, la convolución se mueve de 3 en 3 tanto en la altura, como en el ancho. \n",
    "* **padding** (string), determinar si se usa \"same\" o \"valid\" convolutional. Por defecto es \"valid\"\n",
    "* **dilation_rate** (integer), valor de dilatación en caso de usar convolucionales dilatadas, por defecto el valor es 1.\n",
    "* **activation**: (string o función), define función de activación, entre ellas: [elu](https://www.tensorflow.org/api_docs/python/tf/keras/activations/elu), [linear](https://www.tensorflow.org/api_docs/python/tf/keras/activations/linear) (es no aplicar una función activación no lineal. Z = WX+B), [relu](https://www.tensorflow.org/api_docs/python/tf/keras/activations/relu), [sigmoid](https://www.tensorflow.org/api_docs/python/tf/keras/activations/sigmoid), [softmax](https://www.tensorflow.org/api_docs/python/tf/keras/activations/softmax), [tanh](https://www.tensorflow.org/api_docs/python/tf/keras/activations/tanh). Para mayor detalle revisar: https://www.tensorflow.org/api_docs/python/tf/keras/activations \n",
    "* **use_bias**: (boolean), True para usar bias, False para no usar bias. En caso de False, se definiría la capa como: $funActi(w^{T}x^{(i)})$.\n",
    "* **kernel_initializer** (string o función), manera de inicializar los valores de la matriz de pesos. Esta matriz presenta la dimension: (**input_dim**, **units**) Para mayor detalle revisar: https://www.tensorflow.org/api_docs/python/tf/keras/initializers \n",
    "* **bias_initializer** (string o función), manera de inicialiar los valores del bias. Este vector presenta la dimensión: (**units**). Para mayor detalle revisar: https://www.tensorflow.org/api_docs/python/tf/keras/initializers\n",
    "\n",
    "Nota: considera que si data_format='channels_last', la dimensión de salida sera: (batch_size, new_rows, new_cols, filters). Para nosotros filters hace a refernecia a los 'channels'. Este es un ejemplo de codigo:\n",
    "\n",
    "```\n",
    "tf.keras.layers.Conv2D(\n",
    "  input_shape=(4, 28, 28, 3)   # dimensión de entrada\n",
    "  filters=2,                   # tamaño del filtro\n",
    "  kernel_size=3,               # dimensión de la convolución\n",
    "  strides=(1, 1),              # stride\n",
    "  padding='valid',             # padding\n",
    "  data_format='channels_last', # formato de los datos de entrada\n",
    "  activation='relu',           # función de activación\n",
    "  use_bias=True,\n",
    "  kernel_initializer='uniform', \n",
    "  bias_initializer='zeros')\n",
    "\n",
    "```\n",
    "Para las capas feed forward ($funActi(w^{T}x^{(i)}+b)$)se usa: [tf.keras.layers.Dense](https://www.tensorflow.org/api_docs/python/tf/keras/layers/Dense). Esta función recibe como parametros:\n",
    "\n",
    "\n",
    "* **units**: (integer), número de neuronas de salida.\n",
    "* **input_dim**: (integer), número de neuronas de entrada. Solo se define en la primera capa, en la siguientes TensorFlow define este valor, usando las **units** de la capa anterior.\n",
    "* **activation**: (string o función), define función de activación, entre ellas: [elu](https://www.tensorflow.org/api_docs/python/tf/keras/activations/elu), [linear](https://www.tensorflow.org/api_docs/python/tf/keras/activations/linear) (es no aplicar una función activación no lineal. Z = WX+B), [relu](https://www.tensorflow.org/api_docs/python/tf/keras/activations/relu), [sigmoid](https://www.tensorflow.org/api_docs/python/tf/keras/activations/sigmoid), [softmax](https://www.tensorflow.org/api_docs/python/tf/keras/activations/softmax), [tanh](https://www.tensorflow.org/api_docs/python/tf/keras/activations/tanh). Para mayor detalle revisar: https://www.tensorflow.org/api_docs/python/tf/keras/activations \n",
    "* **use_bias**: (boolean), True para usar bias, False para no usar bias. En caso de False, se definiría la capa como: $funActi(w^{T}x^{(i)})$.\n",
    "* **kernel_initializer** (string o función), manera de inicializar los valores de la matriz de pesos. Esta matriz presenta la dimension: (**input_dim**, **units**) Para mayor detalle revisar: https://www.tensorflow.org/api_docs/python/tf/keras/initializers \n",
    "* **bias_initializer** (string o función), manera de inicialiar los valores del bias. Este vector presenta la dimensión: (**units**). Para mayor detalle revisar: https://www.tensorflow.org/api_docs/python/tf/keras/initializers\n",
    "\n",
    "En general los parametros son los más usados. Pero también presenta otros como: **bias_regularizer**, **activity_regularizer**, **kernel_constraint**, **bias_constraint**. Para mayor detalle revisar: https://www.tensorflow.org/api_docs/python/tf/keras/layers/Dense Este es un ejemplo de codigo\n",
    "\n",
    "\n",
    "```\n",
    "tf.keras.layers.Dense(units=1,                      # numero de neuronas de salida\n",
    "                      activation='sigmoid',         # función de activación\n",
    "                      use_bias=True,                # True: se usa bias, false: no se usa bias\n",
    "                      kernel_initializer='uniform', # como se inicializa la matriz de pesos\n",
    "                      bias_initializer='zeros',     # como se inicializa el bias\n",
    "                      input_dim=2)                  # input_dim: número de neuronas entrada\n",
    "```\n",
    "\n",
    "Habra puntos extras si utilizas convolucionales dilatadas, pero debes de tener cuidado con las dimensiones resultantes. Ademas tu modelo debe ser lo suficientemente bueno"
   ]
  },
  {
   "cell_type": "markdown",
   "metadata": {
    "colab_type": "text",
    "id": "wkwlxQ2ACnwv"
   },
   "source": [
    "Para las capas recurrentes se usa: [tf.keras.layers.LSTM](https://www.tensorflow.org/api_docs/python/tf/keras/layers/LSTM), [tf.keras.layers.GRU](https://www.tensorflow.org/api_docs/python/tf/keras/layers/GRU), [tf.keras.layers.RNN](https://www.tensorflow.org/api_docs/python/tf/keras/layers/RNN) . Para una red LSTM, recibe como parametros:\n",
    "\n",
    "\n",
    "* **units**: (integer), número de neuronas en los estados ocultos, compuerta de olvido, entrada, salida y memoría.\n",
    "* **return_state**: (boolean), si es True se devuelve la memoria (vector c_max_len)\n",
    "* **return_sequence** (boolean), si es True por cada time step se devuelve el hidden state (vector h_t), por tanto por cada time step sería: [h_t]. En caso de **return_sequence=False** la única salida es: [h_max_len], y en caso de  **return_state=True** la salida es:[h_max_len, c_max_len]. Ojo en caso de **return_state=True** la salida sería **(batch_size, timesteps, units)**\n",
    "* **input_dim**: (integer), número de neuronas de entrada. Solo se define en la primera capa, en la siguientes TensorFlow define este valor, usando las **units** de la capa anterior.\n",
    "* **activation**: (string o función), define función de activación, entre ellas: [elu](https://www.tensorflow.org/api_docs/python/tf/keras/activations/elu), por defecto se usa **tanh**.\n",
    "* **recurrent_activation**: (string o función), define función de activación de recurrencia, entre ellas: [elu](https://www.tensorflow.org/api_docs/python/tf/keras/activations/elu), por defecto se usa **sigmoid**.\n",
    "* **use_bias**: (boolean), True para usar bias, False para no usar bias. En caso de False, se definiría la capa como: $funActi(w^{T}x^{(i)})$.\n",
    "* **kernel_initializer** (string o función), manera de inicializar los valores de la matriz de pesos. Esta matriz presenta la dimension: (**input_dim**, **units**) Para mayor detalle revisar: https://www.tensorflow.org/api_docs/python/tf/keras/initializers \n",
    "* **bias_initializer** (string o función), manera de inicialiar los valores del bias. Este vector presenta la dimensión: (**units**). Para mayor detalle revisar: https://www.tensorflow.org/api_docs/python/tf/keras/initializers. Este es un codigo de ejemplo:\n",
    "\n",
    "\n",
    "\n",
    "```\n",
    ">>>> inputs = tf.random.normal([32, 10, 8]) # esta podría ser la matriz de embeddings\n",
    ">>>> lstm = tf.keras.layers.LSTM(4)\n",
    ">>>> output = lstm(inputs)\n",
    ">>>> print(output.shape)\n",
    "(32, 4)\n",
    ">>>> lstm = tf.keras.layers.LSTM(4, return_sequences=True, return_state=True)\n",
    ">>>> whole_seq_output, final_memory_state, final_hidden_state = lstm(inputs)\n",
    ">>>> print(whole_seq_output.shape)\n",
    "(32, 10, 4)\n",
    ">>>> print(final_memory_state.shape)\n",
    "(32, 4)\n",
    ">>>> print(final_hidden_state.shape)\n",
    "(32, 4)\n",
    "```\n",
    "\n",
    "Para usar bidirectional RNN, se usa [keras.layers.Bidirectional](https://www.tensorflow.org/api_docs/python/tf/keras/layers/Bidirectional). Este es un codigo\n",
    "de ejemplo:\n",
    "\n",
    "```\n",
    ">>>> model.add(\n",
    "              layers.Bidirectional(\n",
    "                layers.LSTM(64, return_sequences=True), \n",
    "                input_shape=(5, 10))\n",
    "```\n",
    "\n"
   ]
  },
  {
   "cell_type": "markdown",
   "metadata": {
    "colab_type": "text",
    "id": "V0Aeo-fMnDlF"
   },
   "source": [
    "### Conversión de los datos a word embedding (5 puntos)\n"
   ]
  },
  {
   "cell_type": "markdown",
   "metadata": {
    "colab_type": "text",
    "id": "xgQlSSBNof3A"
   },
   "source": [
    "\n",
    "Recuerda que cada token del diccionario es representado por un número entero dentro. Por tanto para cada token debemos generar un word embedding, resultando que en el modelo la primera capa sea una *capa embedding.* Recuerda definir el tamaño de este embedding usando la variable: **num_embeddings**. Para crear un capa de embeddings se usa [tf.nn.embedding_lookup](https://www.tensorflow.org/api_docs/python/tf/nn/embedding_lookup), que tiene como mínimo 2 parametros una matriz de embeddings y los datos que de entrada que serán mapeados a esta matriz de embeddings. Este es un código de ejemplo:\n",
    "\n",
    "\n",
    "\n",
    "```\n",
    ">>>> numEmbeddings = 300\n",
    ">>>> maxFeatures = 1000\n",
    ">>>> embedding_matrix = tf.Variable(tf.random_uniform([maxFeatures, numEmbeddings], \n",
    "                                                 -1.0, \n",
    "                                                 1.0))\n",
    ">>>> embedding_layer = tf.nn.embedding_lookup(embedding_matrix, input_data)\n",
    ">>>> print(embedding_layer.get_shape())\n",
    "32 100 300\n",
    "```\n",
    "\n"
   ]
  },
  {
   "cell_type": "code",
   "execution_count": 100,
   "metadata": {
    "colab": {},
    "colab_type": "code",
    "executionInfo": {
     "elapsed": 96861,
     "status": "aborted",
     "timestamp": 1595159817708,
     "user": {
      "displayName": "Marchelo Bragagnini",
      "photoUrl": "https://lh3.googleusercontent.com/a-/AOh14GiwqJ8TfMtaZO5tGKTw93K_q2UXX-xdE2JZXReM=s64",
      "userId": "12739426923871783271"
     },
     "user_tz": 300
    },
    "id": "9-GdhD88obb6"
   },
   "outputs": [],
   "source": [
    "# codea aqui\n",
    "embedding_vecor_length = 32\n",
    "model = Sequential()"
   ]
  },
  {
   "cell_type": "code",
   "execution_count": 305,
   "metadata": {},
   "outputs": [
    {
     "data": {
      "text/plain": [
       "500"
      ]
     },
     "execution_count": 305,
     "metadata": {},
     "output_type": "execute_result"
    }
   ],
   "source": [
    "max_len"
   ]
  },
  {
   "cell_type": "markdown",
   "metadata": {
    "colab_type": "text",
    "id": "vQM5Q0apmlwf"
   },
   "source": [
    "### Modelo (80 puntos)"
   ]
  },
  {
   "cell_type": "code",
   "execution_count": 101,
   "metadata": {
    "colab": {},
    "colab_type": "code",
    "executionInfo": {
     "elapsed": 96855,
     "status": "aborted",
     "timestamp": 1595159817709,
     "user": {
      "displayName": "Marchelo Bragagnini",
      "photoUrl": "https://lh3.googleusercontent.com/a-/AOh14GiwqJ8TfMtaZO5tGKTw93K_q2UXX-xdE2JZXReM=s64",
      "userId": "12739426923871783271"
     },
     "user_tz": 300
    },
    "id": "lbnQiTLamgms"
   },
   "outputs": [],
   "source": [
    "# codea aqui\n",
    "\n",
    "model.add(Embedding(max_words, embedding_vecor_length, input_length=max_len))\n",
    "model.add(Conv1D(filters=32, kernel_size=3, padding='same', activation='relu'))\n",
    "model.add(MaxPooling1D(pool_size=2))\n",
    "model.add(LSTM(100))\n",
    "model.add(Dense(1, activation='sigmoid'))\n"
   ]
  },
  {
   "cell_type": "markdown",
   "metadata": {
    "colab_type": "text",
    "id": "_gOqtQ8emu8g"
   },
   "source": [
    "## Función de Perdida & Optimizador"
   ]
  },
  {
   "cell_type": "markdown",
   "metadata": {
    "colab_type": "text",
    "id": "5kLLkIlomxj_"
   },
   "source": [
    "\n",
    "Para definir la función a optimizar (función de perdida), y el optimizador se usa: [model.compile](https://www.tensorflow.org/api_docs/python/tf/keras/Model#compile). Esta función presenta como parametros:\n",
    "* **loss** (string o función), define la función de perdida entre ellas: [binary cross entropy](https://www.tensorflow.org/api_docs/python/tf/keras/losses/BinaryCrossentropy), [multi class classification](https://www.tensorflow.org/api_docs/python/tf/keras/losses/CategoricalCrossentropy), [Mean Absolute Error](https://www.tensorflow.org/api_docs/python/tf/keras/losses/MeanAbsoluteError) usada para regresión. Para mayor detalle revisar: https://www.tensorflow.org/api_docs/python/tf/keras/losses\n",
    "* **optimizer** (string o función), define el optimizar, entre ellos: \n",
    "* **metrics** (array de string o función), se define las metricas de evaluacióna, entre ellas [accuracy](https://www.tensorflow.org/api_docs/python/tf/keras/metrics/Accuracy), [area under curve](https://www.tensorflow.org/api_docs/python/tf/keras/metrics/AUC), [mean absolute error](https://www.tensorflow.org/api_docs/python/tf/keras/metrics/MeanAbsoluteError), etc. Para mayor detalle revisar: https://www.tensorflow.org/api_docs/python/tf/keras/metrics/Accuracy\n",
    "\n",
    "**Nota**: Considera que es en este escenario estamos haciendo un problema de clasificación binaria"
   ]
  },
  {
   "cell_type": "markdown",
   "metadata": {
    "colab_type": "text",
    "id": "d4ccKTrDoobe"
   },
   "source": [
    "### Codigo (05 puntos)"
   ]
  },
  {
   "cell_type": "code",
   "execution_count": 102,
   "metadata": {
    "colab": {},
    "colab_type": "code",
    "executionInfo": {
     "elapsed": 96848,
     "status": "aborted",
     "timestamp": 1595159817710,
     "user": {
      "displayName": "Marchelo Bragagnini",
      "photoUrl": "https://lh3.googleusercontent.com/a-/AOh14GiwqJ8TfMtaZO5tGKTw93K_q2UXX-xdE2JZXReM=s64",
      "userId": "12739426923871783271"
     },
     "user_tz": 300
    },
    "id": "E-eHb1pzoko4"
   },
   "outputs": [
    {
     "name": "stdout",
     "output_type": "stream",
     "text": [
      "Model: \"sequential\"\n",
      "_________________________________________________________________\n",
      "Layer (type)                 Output Shape              Param #   \n",
      "=================================================================\n",
      "embedding (Embedding)        (None, 500, 32)           160000    \n",
      "_________________________________________________________________\n",
      "conv1d (Conv1D)              (None, 500, 32)           3104      \n",
      "_________________________________________________________________\n",
      "max_pooling1d (MaxPooling1D) (None, 250, 32)           0         \n",
      "_________________________________________________________________\n",
      "lstm (LSTM)                  (None, 100)               53200     \n",
      "_________________________________________________________________\n",
      "dense (Dense)                (None, 1)                 101       \n",
      "=================================================================\n",
      "Total params: 216,405\n",
      "Trainable params: 216,405\n",
      "Non-trainable params: 0\n",
      "_________________________________________________________________\n"
     ]
    }
   ],
   "source": [
    "# codea aqui\n",
    "model.compile(loss='binary_crossentropy', optimizer='adam', metrics=['accuracy'])\n",
    "\n",
    "model.summary()\n"
   ]
  },
  {
   "cell_type": "markdown",
   "metadata": {
    "colab_type": "text",
    "id": "RB83uh6VovRj"
   },
   "source": [
    "## Entrenamiento"
   ]
  },
  {
   "cell_type": "markdown",
   "metadata": {
    "colab_type": "text",
    "id": "dfwn72bpoyKm"
   },
   "source": [
    "\n",
    "Al igual que se hace en [scikit-learn](https://scikit-learn.org/stable/) se usa la función [model.fit](https://www.tensorflow.org/api_docs/python/tf/keras/Model#fit), donde model es el modelo previamente definido. Entre sus parametros se tiene: \n",
    "* **x** (array, list, tensor) que representa los datos entrada. Para el ejemplo en este iPython, se tiene la dimensión de (**m**, **n**). Donde **m** es la cantidad de datos entrenamiento, y **n** es el número de features de cada dato entrenamiento.\n",
    "* **y** (array, list, tensor) representa el target. En caso de clasificación binaria se tiene la dimensión de (**m**, **1**). Donde **m** es la cantidad de datos de entrenamiento.\n",
    "* **batch_size** (integer), tamaño del batch, por default es 32.\n",
    "* **epochs** (integer), número de épocas de entrenamiento.\n",
    "* **verbose** (boolean), en caso de **True** se imprime por cada época finalizada el valor de perdida y las métricas escogidas. Si es **False** no se imprime nada.\n",
    "\n",
    "La función **model.fit** retorna un objeto **History**. Donde **History.history** es el registro de los valor de la función perdidas, y las distintas metricas elegidas en **model.compile(..., metrics=\\[...\\])**. \n",
    "\n",
    "Nota: Considera si debes usa one_hot_encoding en de caso de usar codea tu función(**Puntos extras si codificas esta función**). También debes de pensar que son 60,000 datos de entrenamiento, considera como debes partir el data set para realizar tus pruebas."
   ]
  },
  {
   "cell_type": "markdown",
   "metadata": {
    "colab_type": "text",
    "id": "xQBsy44Jo0Oc"
   },
   "source": [
    "### Codigo (01 puntos) "
   ]
  },
  {
   "cell_type": "code",
   "execution_count": 103,
   "metadata": {},
   "outputs": [
    {
     "name": "stdout",
     "output_type": "stream",
     "text": [
      "X_train.shape: (25000, 500)\n",
      "Y_train.shape: (25000,)\n",
      "X_test.shape: (25000, 500)\n",
      "Y_test.shape: (25000,)\n"
     ]
    }
   ],
   "source": [
    "print('X_train.shape: %s'%(str(X_train.shape)))\n",
    "print('Y_train.shape: %s'%(str(Y_train.shape)))\n",
    "print('X_test.shape: %s'%(str(X_test.shape)))\n",
    "print('Y_test.shape: %s'%(str(Y_test.shape)))"
   ]
  },
  {
   "cell_type": "code",
   "execution_count": 108,
   "metadata": {},
   "outputs": [
    {
     "name": "stdout",
     "output_type": "stream",
     "text": [
      "Epoch 1/2\n",
      "196/196 - 7s - loss: 0.2195 - accuracy: 0.9140 - val_loss: 0.4096 - val_accuracy: 0.8243\n",
      "Epoch 2/2\n",
      "196/196 - 7s - loss: 0.1977 - accuracy: 0.9247 - val_loss: 0.3159 - val_accuracy: 0.8733\n"
     ]
    }
   ],
   "source": [
    "history=model.fit(X_train, Y_train, validation_data=(X_test, Y_test), epochs=2, batch_size=128, verbose=2)"
   ]
  },
  {
   "cell_type": "code",
   "execution_count": 109,
   "metadata": {
    "colab": {},
    "colab_type": "code",
    "executionInfo": {
     "elapsed": 96843,
     "status": "aborted",
     "timestamp": 1595159817711,
     "user": {
      "displayName": "Marchelo Bragagnini",
      "photoUrl": "https://lh3.googleusercontent.com/a-/AOh14GiwqJ8TfMtaZO5tGKTw93K_q2UXX-xdE2JZXReM=s64",
      "userId": "12739426923871783271"
     },
     "user_tz": 300
    },
    "id": "dptchxbNo2nF"
   },
   "outputs": [
    {
     "data": {
      "text/plain": [
       "dict_keys(['loss', 'accuracy', 'val_loss', 'val_accuracy'])"
      ]
     },
     "execution_count": 109,
     "metadata": {},
     "output_type": "execute_result"
    }
   ],
   "source": [
    "history.history.keys()"
   ]
  },
  {
   "cell_type": "code",
   "execution_count": 115,
   "metadata": {},
   "outputs": [],
   "source": [
    "scores = model.evaluate(X_test, Y_test, verbose=0)"
   ]
  },
  {
   "cell_type": "code",
   "execution_count": 116,
   "metadata": {},
   "outputs": [
    {
     "data": {
      "text/plain": [
       "[0.3158608675003052, 0.8732799887657166]"
      ]
     },
     "execution_count": 116,
     "metadata": {},
     "output_type": "execute_result"
    }
   ],
   "source": [
    "scores"
   ]
  },
  {
   "cell_type": "markdown",
   "metadata": {
    "colab_type": "text",
    "id": "fHLMJhg7pP4q"
   },
   "source": [
    "## Predicción y plotea"
   ]
  },
  {
   "cell_type": "markdown",
   "metadata": {
    "colab_type": "text",
    "id": "rKuPO-F5pRQJ"
   },
   "source": [
    "Usa el modelo entrenado y codea gráficas de \"**num_epochs vs loss**\", y \"**num_epochs vs accuracy**\""
   ]
  },
  {
   "cell_type": "markdown",
   "metadata": {
    "colab_type": "text",
    "id": "TL6FZfh7pU-8"
   },
   "source": [
    "### Codigo (03 puntos)"
   ]
  },
  {
   "cell_type": "code",
   "execution_count": 120,
   "metadata": {},
   "outputs": [
    {
     "data": {
      "text/plain": [
       "[<matplotlib.lines.Line2D at 0x1df927f2408>]"
      ]
     },
     "execution_count": 120,
     "metadata": {},
     "output_type": "execute_result"
    },
    {
     "data": {
      "image/png": "[encoded data removed]",
      "text/plain": [
       "<Figure size 432x288 with 1 Axes>"
      ]
     },
     "metadata": {
      "needs_background": "light"
     },
     "output_type": "display_data"
    }
   ],
   "source": [
    "plt.plot(history.history['accuracy'])"
   ]
  },
  {
   "cell_type": "code",
   "execution_count": 119,
   "metadata": {
    "colab": {},
    "colab_type": "code",
    "executionInfo": {
     "elapsed": 96785,
     "status": "aborted",
     "timestamp": 1595159817712,
     "user": {
      "displayName": "Marchelo Bragagnini",
      "photoUrl": "https://lh3.googleusercontent.com/a-/AOh14GiwqJ8TfMtaZO5tGKTw93K_q2UXX-xdE2JZXReM=s64",
      "userId": "12739426923871783271"
     },
     "user_tz": 300
    },
    "id": "VNPZ-0PkpYxl"
   },
   "outputs": [
    {
     "data": {
      "text/plain": [
       "[<matplotlib.lines.Line2D at 0x1df92635048>]"
      ]
     },
     "execution_count": 119,
     "metadata": {},
     "output_type": "execute_result"
    },
    {
     "data": {
      "image/png": "[encoded data removed]",
      "text/plain": [
       "<Figure size 432x288 with 1 Axes>"
      ]
     },
     "metadata": {
      "needs_background": "light"
     },
     "output_type": "display_data"
    }
   ],
   "source": [
    "# codea aqui\n",
    "plt1.plot(history.history['loss'])"
   ]
  },
  {
   "cell_type": "markdown",
   "metadata": {
    "colab_type": "text",
    "id": "8k3oGrhqpdln"
   },
   "source": [
    "### Analisis y discusión (20 puntos)\n",
    "Realiza un analisis y explicación del ¿porque de tu modelo escogido?, ¿porque consideras que es bueno?, ¿en que piensas que falla?, ¿por que elgistes tal arquitectura?, ¿que recomendarías usar?"
   ]
  },
  {
   "cell_type": "markdown",
   "metadata": {
    "colab_type": "text",
    "id": "k4S-DtCfpgFv"
   },
   "source": [
    "*** Hubo complicaciones porque en el tokenizer estaba mal la función para obtener el Y train, en donde daba 500 columnas, esto se arreglo y después se pudo hacer el entrenamiento, por otro lado la gráfica no se ve bien a mi parecer, sin embargo en la consola de accuracy y loss se muestra bien...***"
   ]
  },
  {
   "cell_type": "markdown",
   "metadata": {
    "colab_type": "text",
    "id": "sC4DQGYcpiIT"
   },
   "source": [
    "# Arquitectura y Número de Parametros (30 puntos)\n",
    "Sube una foto o escribe tu arquitectura. Además, por cada capa describe las dimensiones de entrada y de salida, las dimensiones de los parámetros, e hiperparametros. Guiate de la clase del sábado semana 05, y clase domingo semana 06. Después, calcula el número de parametros (no uses la misma libreria tensorflow, usa tu propio puño y letra) La siguientes imagenes  muestra un ejemplo: \n",
    "![picture](https://drive.google.com/uc?id=1ESAO1AuGLJjhfdhianQ8e4POcFFd40-v)\n",
    "![picture](https://drive.google.com/uc?id=1UdcKArDgUYgJPVMlF9Cmpc-0rjGIrH5y)"
   ]
  },
  {
   "attachments": {
    "0f62298d-9ea7-48e4-a8a4-e16b94358991.jpeg": {
     "image/jpeg": "[encoded data removed]"
    }
   },
   "cell_type": "markdown",
   "metadata": {},
   "source": [
    "![model1.jpeg](attachment:0f62298d-9ea7-48e4-a8a4-e16b94358991.jpeg)"
   ]
  }
 ],
 "metadata": {
  "colab": {
   "authorship_tag": "ABX9TyOB2cG2MkMPjvLI2c4tWP3U",
   "name": "Tarea 06 - Sentiment Analysis",
   "provenance": [],
   "toc_visible": true
  },
  "kernelspec": {
   "display_name": "Python 3",
   "language": "python",
   "name": "python3"
  },
  "language_info": {
   "codemirror_mode": {
    "name": "ipython",
    "version": 3
   },
   "file_extension": ".py",
   "mimetype": "text/x-python",
   "name": "python",
   "nbconvert_exporter": "python",
   "pygments_lexer": "ipython3",
   "version": "3.7.7"
  }
 },
 "nbformat": 4,
 "nbformat_minor": 4
}
