{
 "cells": [
  {
   "cell_type": "code",
   "execution_count": 1,
   "metadata": {
    "colab": {},
    "colab_type": "code",
    "id": "4tnmgiMYD_t1"
   },
   "outputs": [],
   "source": [
    "import numpy as np\n",
    "import matplotlib.pyplot as plt\n",
    "import os\n",
    "import cv2\n",
    "import pandas as pd"
   ]
  },
  {
   "cell_type": "markdown",
   "metadata": {
    "colab_type": "text",
    "id": "0CSKGoS0J3LE"
   },
   "source": [
    "# Data Toy\n",
    "<table>\n",
    "<thead>\n",
    "  <tr>\n",
    "    <th colspan=\"3\">X</th>\n",
    "    <th>Y</th>\n",
    "  </tr>\n",
    "</thead>\n",
    "<tbody>\n",
    "  <tr>\n",
    "    <td>0</td>\n",
    "    <td>0</td>\n",
    "    <td>1</td>\n",
    "    <td>0</td>\n",
    "  </tr>\n",
    "  <tr>\n",
    "    <td>1</td>\n",
    "    <td>1</td>\n",
    "    <td>1</td>\n",
    "    <td>1</td>\n",
    "  </tr>\n",
    "  <tr>\n",
    "    <td>1</td>\n",
    "    <td>0</td>\n",
    "    <td>1</td>\n",
    "    <td>1</td>\n",
    "  </tr>\n",
    "  <tr>\n",
    "    <td>0</td>\n",
    "    <td>1</td>\n",
    "    <td>1</td>\n",
    "    <td>0</td>\n",
    "  </tr>\n",
    "</tbody>\n",
    "</table>"
   ]
  },
  {
   "cell_type": "markdown",
   "metadata": {
    "colab_type": "text",
    "id": "gO4lP9WsJfUj"
   },
   "source": [
    "# Red neuronal en solo 12 líneas\n",
    "\n",
    "\n"
   ]
  },
  {
   "cell_type": "code",
   "execution_count": null,
   "metadata": {
    "colab": {
     "base_uri": "https://localhost:8080/",
     "height": 221
    },
    "colab_type": "code",
    "id": "pUBNS6GHFjPx",
    "outputId": "d77f604f-fbe9-4067-c4f9-97fbfcf9672a"
   },
   "outputs": [
    {
     "name": "stdout",
     "output_type": "stream",
     "text": [
      "(4, 3)\n",
      "(4, 1)\n",
      "costo 0.552681\n",
      "costo 0.046617\n",
      "costo 0.023279\n",
      "costo 0.015442\n",
      "costo 0.011536\n",
      "costo 0.009202\n",
      "costo 0.007651\n",
      "costo 0.006546\n",
      "costo 0.005719\n",
      "costo 0.005077\n"
     ]
    }
   ],
   "source": [
    "X = np.array([ [0,0,1],[1,1,1],[1,0,1],[0,1,1] ])\n",
    "print(X.shape)\n",
    "y = np.array([[0,1,1,0]]).T\n",
    "print(y.shape)\n",
    "w = 2*np.random.random((3,1)) - 1\n",
    "b = 2*np.random.random((1,1)) - 1\n",
    "for j in range(20000):\n",
    "    y_hat = 1/(1+np.exp(-(np.dot(X,w)+b)))\n",
    "    #print(\"Y_hat\" + str(y_hat.shape))\n",
    "\n",
    "      # forward\n",
    "    cost = (1/y_hat.shape[0])*np.sum(-1*(y * np.log(y_hat) +  (1-y) * np.log(1- y_hat)), axis=0)     \n",
    "    if j % 2000 == 0:\n",
    "      print(\"costo %f\"%(cost))\n",
    "      # backward\n",
    "    w_delta = (1/y_hat.shape[0])*np.dot(X.T, y_hat-y)\n",
    "    b_delta = (1/y_hat.shape[0])*np.sum(y_hat-y, axis=0, keepdims=True)   \n",
    "      # optimización por gradiente descendente\n",
    "    w = w - 0.05*w_delta\n",
    "    b = b - 0.05*b_delta"
   ]
  },
  {
   "cell_type": "code",
   "execution_count": null,
   "metadata": {
    "colab": {
     "base_uri": "https://localhost:8080/",
     "height": 51
    },
    "colab_type": "code",
    "id": "zXzRt3FPpzxz",
    "outputId": "77276ddf-edec-4a3e-d14f-57c21b92069c"
   },
   "outputs": [
    {
     "name": "stdout",
     "output_type": "stream",
     "text": [
      "[0 0 1]\n",
      "[[0.]]\n"
     ]
    }
   ],
   "source": [
    "z = np.dot(X[0], w) + b\n",
    "y_hat = 1 / (1 + np.exp(-z))\n",
    "print(X[0])\n",
    "print(np.round(y_hat))"
   ]
  },
  {
   "cell_type": "code",
   "execution_count": null,
   "metadata": {
    "colab": {},
    "colab_type": "code",
    "id": "eZabm8c0GMwJ"
   },
   "outputs": [],
   "source": []
  }
 ],
 "metadata": {
  "colab": {
   "collapsed_sections": [],
   "name": "Introduction to Neural Network 01.ipynb",
   "provenance": []
  },
  "kernelspec": {
   "display_name": "Python 3",
   "language": "python",
   "name": "python3"
  },
  "language_info": {
   "codemirror_mode": {
    "name": "ipython",
    "version": 3
   },
   "file_extension": ".py",
   "mimetype": "text/x-python",
   "name": "python",
   "nbconvert_exporter": "python",
   "pygments_lexer": "ipython3",
   "version": "3.7.6"
  }
 },
 "nbformat": 4,
 "nbformat_minor": 4
}
